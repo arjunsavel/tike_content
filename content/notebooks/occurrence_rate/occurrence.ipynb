{
 "cells": [
  {
   "cell_type": "markdown",
   "id": "bd2ec48c-cadd-4b6e-9661-4c526e6b8e37",
   "metadata": {},
   "source": [
    "#step 1: import the packages"
   ]
  },
  {
   "cell_type": "markdown",
   "id": "69e826c9-066b-4349-bab3-91bd2631e7c0",
   "metadata": {},
   "source": [
    "reference: beleznay and kunimoto 2022.\n",
    "https://watermark.silverchair.com/stac2179.pdf?token=AQECAHi208BE49Ooan9kkhW_Ercy7Dm3ZL_9Cf3qfKAc485ysgAAA3cwggNzBgkqhkiG9w0BBwagggNkMIIDYAIBADCCA1kGCSqGSIb3DQEHATAeBglghkgBZQMEAS4wEQQMYyqk1AoUGPE-9vZ2AgEQgIIDKu5552AYlV37zh55o1_erXyASdtBoCoVqmN9t2MpBDfJcEoEf3P0Er30gxwvtg8yooVf217n5Fe_3ga7oxjo89vdh5VPN058z-RehjM7AFTskvjSxdqPfKxZ7UulYRI0TdCJFDdvtuSl2qp2RC5Y75NHt7snAGoT6vqcL4OjUmhw5QlsOBRDq_f-ONO0bzS4cCj328sRXiX4WaHT7N_SplaN6MtRsNhUQRT54sLZBFaz48KIv2D0QoRV_E-uo2Yz1NhNkZ6LjYSAsKsfsGGrxfd57CfLupSa-J0c3I6RKMnphMEH3HZva0lE8_6RxdlqW7BUHoaRxrtfvSwdebHuj2LJGsWQkxSYV_3FGzS8sVpzAySOADYB_VEU9IlRpd0mT9NYAbtwjtPESZE7o_qGqCtl5EQw6bfPAqDpEbg_tpK6bqWQSKkX61eV8fPMPPK1rbxd_vy5kj824NE4yh4VG6yPnqp6PB23bQHSCG80MhycB0hGPcnXpvad7JDV2wPILBWBAV4dH_ducmW9VZtSW34sNGtQguqMpu_BHKUOefFvV55YEht3tU1Wona5s37MHfQepljDEMomtZ4FAcM2NlP_jlUD0mGl5cOBacO_dD9FjvJtJQPAny4ROlLQxbAsUvS9j24Dr67P_BtX6JkoVbGxE617yzt_ILXVKGA1A1okIA5VFkKUJsnxNHyO6ugtaExW-xyNfmj62h1NzgrUoeM4mvMgYsrHXYLpY-UO7wvFUCBP_22_Pegg0BQq9LR30QThV-M_vyjHsDTjLJwMMSJS86an0q0tzTQY3pFNznPcnguQG0EQ0RMZAowmkQ3AR-gPCHwrgdlWM9S-FK35NI5hKP3snpN6nxwQzz8YW-LEY7YNR9U407qaPZUV_x_8jc3EjMzRfD9W9sbyR3TAcVuHkD7i1A8D0l5SuozJHtwbxbSjJVDIw58cR4MXntw5nao6fzv8EvTpRqOySofM6tasgnMJikU2gCDdnQyzCrnfz3V2pvscqA-_srMh_L6YR54VFRxdTKN2M-giL7V5NrvJ5Csu31FOCO0tkwmgzOhRVsTnZfd7GG6ioA"
   ]
  },
  {
   "cell_type": "code",
   "execution_count": 1,
   "id": "0a683311-b2fb-4da6-a7fc-330ed603ddc8",
   "metadata": {},
   "outputs": [],
   "source": []
  },
  {
   "cell_type": "code",
   "execution_count": 1,
   "id": "e87f492f-9f1c-4b09-8d80-5715c6541181",
   "metadata": {},
   "outputs": [
    {
     "ename": "ModuleNotFoundError",
     "evalue": "No module named 'jax'",
     "output_type": "error",
     "traceback": [
      "\u001b[0;31m---------------------------------------------------------------------------\u001b[0m",
      "\u001b[0;31mModuleNotFoundError\u001b[0m                       Traceback (most recent call last)",
      "Cell \u001b[0;32mIn[1], line 1\u001b[0m\n\u001b[0;32m----> 1\u001b[0m \u001b[38;5;28;01mimport\u001b[39;00m \u001b[38;5;21;01mjax\u001b[39;00m\n",
      "\u001b[0;31mModuleNotFoundError\u001b[0m: No module named 'jax'"
     ]
    }
   ],
   "source": [
    "import jax"
   ]
  },
  {
   "cell_type": "code",
   "execution_count": 2,
   "id": "c5b1bd09-3347-443a-bebb-f7f9a49537f8",
   "metadata": {},
   "outputs": [
    {
     "ename": "ModuleNotFoundError",
     "evalue": "No module named 'pymultinest'",
     "output_type": "error",
     "traceback": [
      "\u001b[0;31m---------------------------------------------------------------------------\u001b[0m",
      "\u001b[0;31mModuleNotFoundError\u001b[0m                       Traceback (most recent call last)",
      "Cell \u001b[0;32mIn[2], line 1\u001b[0m\n\u001b[0;32m----> 1\u001b[0m \u001b[38;5;28;01mimport\u001b[39;00m \u001b[38;5;21;01mpymultinest\u001b[39;00m\n",
      "\u001b[0;31mModuleNotFoundError\u001b[0m: No module named 'pymultinest'"
     ]
    }
   ],
   "source": [
    "import pymultinest"
   ]
  },
  {
   "cell_type": "code",
   "execution_count": 3,
   "id": "0b531635-7273-4c3e-a7e8-fd38c5539139",
   "metadata": {},
   "outputs": [
    {
     "ename": "ModuleNotFoundError",
     "evalue": "No module named 'ultranest'",
     "output_type": "error",
     "traceback": [
      "\u001b[0;31m---------------------------------------------------------------------------\u001b[0m",
      "\u001b[0;31mModuleNotFoundError\u001b[0m                       Traceback (most recent call last)",
      "Cell \u001b[0;32mIn[3], line 1\u001b[0m\n\u001b[0;32m----> 1\u001b[0m \u001b[38;5;28;01mimport\u001b[39;00m \u001b[38;5;21;01multranest\u001b[39;00m\n",
      "\u001b[0;31mModuleNotFoundError\u001b[0m: No module named 'ultranest'"
     ]
    }
   ],
   "source": [
    "import ultranest"
   ]
  },
  {
   "cell_type": "code",
   "execution_count": 1,
   "id": "65a98eb3-3b4e-4ae9-bd0a-ec88c53fff57",
   "metadata": {},
   "outputs": [
    {
     "ename": "ModuleNotFoundError",
     "evalue": "No module named 'dynesty'",
     "output_type": "error",
     "traceback": [
      "\u001b[0;31m---------------------------------------------------------------------------\u001b[0m",
      "\u001b[0;31mModuleNotFoundError\u001b[0m                       Traceback (most recent call last)",
      "Cell \u001b[0;32mIn[1], line 1\u001b[0m\n\u001b[0;32m----> 1\u001b[0m \u001b[38;5;28;01mimport\u001b[39;00m \u001b[38;5;21;01mdynesty\u001b[39;00m\n",
      "\u001b[0;31mModuleNotFoundError\u001b[0m: No module named 'dynesty'"
     ]
    }
   ],
   "source": [
    "import dynesty"
   ]
  },
  {
   "cell_type": "markdown",
   "id": "7c4dc794-b0e2-4df3-90da-afa4d2782bc3",
   "metadata": {},
   "source": [
    "# First: find stars."
   ]
  },
  {
   "cell_type": "code",
   "execution_count": 1,
   "id": "659fd8c8-8545-49d7-b80b-b36bd05414dc",
   "metadata": {},
   "outputs": [
    {
     "name": "stdout",
     "output_type": "stream",
     "text": [
      "INFO: Using the S3 STScI public dataset [astroquery.mast.cloud]\n"
     ]
    }
   ],
   "source": [
    "from astropy.io import fits\n",
    "from astropy.table import Table\n",
    "\n",
    "from astroquery.mast import Observations\n",
    "from astroquery.mast import Tesscut\n",
    "\n",
    "import numpy as np\n",
    "import matplotlib.pyplot as plt\n",
    "import pandas as pd\n",
    "from astroquery.mast import Catalogs\n",
    "# Observations.enable_cloud_dataset()\n",
    "\n",
    "import numpy as np\n",
    "import astropy.units as u\n",
    "from astropy.coordinates import SkyCoord\n",
    "from astroquery.gaia import Gaia\n",
    "import lightkurve\n",
    "\n",
    "from tqdm import tqdm\n",
    "from astroquery.exceptions import InvalidQueryError\n",
    "\n",
    "# Important: ensure files are retrieved from AWS \n",
    "Observations.enable_cloud_dataset(provider='AWS')"
   ]
  },
  {
   "cell_type": "code",
   "execution_count": 52,
   "id": "23fde599-1224-44df-9c4a-ea712ab123a6",
   "metadata": {},
   "outputs": [],
   "source": [
    "# note: below I'm testing how long it takes to download from the Ctl"
   ]
  },
  {
   "cell_type": "code",
   "execution_count": 53,
   "id": "0509937f-0064-4acb-ab88-9ce01fde09ed",
   "metadata": {},
   "outputs": [],
   "source": [
    "# we want to make some cuts on the Tess Candidate Target List to find bright main-sequence stars. to-do: motivate the cuts."
   ]
  },
  {
   "cell_type": "code",
   "execution_count": 2,
   "id": "a51a6f8f-5ae6-4c4b-80cc-b6ca1ebdfd4b",
   "metadata": {},
   "outputs": [
    {
     "name": "stdout",
     "output_type": "stream",
     "text": [
      "CPU times: user 8.33 s, sys: 1.07 s, total: 9.39 s\n",
      "Wall time: 24.4 s\n"
     ]
    }
   ],
   "source": [
    "%%time\n",
    "\n",
    "catalog_data = Catalogs.query_criteria(catalog=\"Ctl\",\n",
    "                                       Tmag=[0, 10.5], \n",
    "                                      logg=[4.1,400],\n",
    "                                      mass=[0.8, 1.05])"
   ]
  },
  {
   "cell_type": "code",
   "execution_count": 3,
   "id": "0d474635-ff00-492c-9b50-f4fdda79b8fe",
   "metadata": {},
   "outputs": [
    {
     "data": {
      "text/html": [
       "<div><i>Table length=53056</i>\n",
       "<table id=\"table140689164608592\" class=\"table-striped table-bordered table-condensed\">\n",
       "<thead><tr><th>ID</th><th>version</th><th>HIP</th><th>TYC</th><th>UCAC</th><th>TWOMASS</th><th>SDSS</th><th>ALLWISE</th><th>GAIA</th><th>APASS</th><th>KIC</th><th>objType</th><th>typeSrc</th><th>ra</th><th>dec</th><th>POSflag</th><th>pmRA</th><th>e_pmRA</th><th>pmDEC</th><th>e_pmDEC</th><th>PMflag</th><th>plx</th><th>e_plx</th><th>PARflag</th><th>gallong</th><th>gallat</th><th>eclong</th><th>eclat</th><th>Bmag</th><th>e_Bmag</th><th>Vmag</th><th>e_Vmag</th><th>umag</th><th>e_umag</th><th>gmag</th><th>e_gmag</th><th>rmag</th><th>e_rmag</th><th>imag</th><th>e_imag</th><th>zmag</th><th>e_zmag</th><th>Jmag</th><th>e_Jmag</th><th>Hmag</th><th>e_Hmag</th><th>Kmag</th><th>e_Kmag</th><th>TWOMflag</th><th>prox</th><th>w1mag</th><th>e_w1mag</th><th>w2mag</th><th>e_w2mag</th><th>w3mag</th><th>e_w3mag</th><th>w4mag</th><th>e_w4mag</th><th>GAIAmag</th><th>e_GAIAmag</th><th>Tmag</th><th>e_Tmag</th><th>TESSflag</th><th>SPFlag</th><th>Teff</th><th>e_Teff</th><th>logg</th><th>e_logg</th><th>MH</th><th>e_MH</th><th>rad</th><th>e_rad</th><th>mass</th><th>e_mass</th><th>rho</th><th>e_rho</th><th>lumclass</th><th>lum</th><th>e_lum</th><th>d</th><th>e_d</th><th>ebv</th><th>e_ebv</th><th>numcont</th><th>contratio</th><th>disposition</th><th>duplicate_id</th><th>priority</th><th>eneg_EBV</th><th>epos_EBV</th><th>EBVflag</th><th>eneg_Mass</th><th>epos_Mass</th><th>eneg_Rad</th><th>epos_Rad</th><th>eneg_rho</th><th>epos_rho</th><th>eneg_logg</th><th>epos_logg</th><th>eneg_lum</th><th>epos_lum</th><th>eneg_dist</th><th>epos_dist</th><th>distflag</th><th>eneg_Teff</th><th>epos_Teff</th><th>TeffFlag</th><th>gaiabp</th><th>e_gaiabp</th><th>gaiarp</th><th>e_gaiarp</th><th>gaiaqflag</th><th>starchareFlag</th><th>VmagFlag</th><th>BmagFlag</th><th>splists</th><th>e_RA</th><th>e_Dec</th><th>RA_orig</th><th>Dec_orig</th><th>e_RA_orig</th><th>e_Dec_orig</th><th>raddflag</th><th>wdflag</th><th>objID</th></tr></thead>\n",
       "<thead><tr><th>str10</th><th>str8</th><th>int64</th><th>str12</th><th>str10</th><th>str16</th><th>str19</th><th>str19</th><th>str19</th><th>str8</th><th>int64</th><th>str4</th><th>str7</th><th>float64</th><th>float64</th><th>str7</th><th>float64</th><th>float64</th><th>float64</th><th>float64</th><th>str5</th><th>float64</th><th>float64</th><th>str5</th><th>float64</th><th>float64</th><th>float64</th><th>float64</th><th>float64</th><th>float64</th><th>float64</th><th>float64</th><th>float64</th><th>float64</th><th>float64</th><th>float64</th><th>float64</th><th>float64</th><th>float64</th><th>float64</th><th>float64</th><th>float64</th><th>float64</th><th>float64</th><th>float64</th><th>float64</th><th>float64</th><th>float64</th><th>str19</th><th>float64</th><th>float64</th><th>float64</th><th>float64</th><th>float64</th><th>float64</th><th>float64</th><th>float64</th><th>float64</th><th>float64</th><th>float64</th><th>float64</th><th>float64</th><th>str5</th><th>str5</th><th>float64</th><th>float64</th><th>float64</th><th>float64</th><th>float64</th><th>float64</th><th>float64</th><th>float64</th><th>float64</th><th>float64</th><th>float64</th><th>float64</th><th>str5</th><th>float64</th><th>float64</th><th>float64</th><th>float64</th><th>float64</th><th>float64</th><th>int64</th><th>float64</th><th>str1</th><th>str9</th><th>float64</th><th>float64</th><th>float64</th><th>str9</th><th>float64</th><th>float64</th><th>float64</th><th>float64</th><th>float64</th><th>float64</th><th>float64</th><th>float64</th><th>float64</th><th>float64</th><th>float64</th><th>float64</th><th>str6</th><th>float64</th><th>float64</th><th>str6</th><th>float64</th><th>float64</th><th>float64</th><th>float64</th><th>int64</th><th>str1</th><th>str8</th><th>str8</th><th>str15</th><th>float64</th><th>float64</th><th>float64</th><th>float64</th><th>float64</th><th>float64</th><th>int64</th><th>int64</th><th>str10</th></tr></thead>\n",
       "<tr><td>257486953</td><td>20190415</td><td>--</td><td>0004-01211-1</td><td>470-000036</td><td>00012257+0348137</td><td>1237678660350443525</td><td>J000122.66+034813.6</td><td>2740122790489701376</td><td>36101679</td><td>--</td><td>STAR</td><td>tmgaia2</td><td>0.344014992249018</td><td>3.80382001946707</td><td>tmgaia2</td><td>146.948</td><td>0.0785775</td><td>-2.18292</td><td>0.0365631</td><td>gaia2</td><td>8.86194</td><td>0.0507367</td><td>gaia2</td><td>99.6790809499965</td><td>-56.7907190407385</td><td>1.83033674668151</td><td>3.35274204776744</td><td>11.505</td><td>0.143</td><td>10.942</td><td>0.01</td><td>14.3561</td><td>0.00539245</td><td>11.5687</td><td>0.000667307</td><td>10.7394</td><td>0.000559878</td><td>10.5503</td><td>0.000599356</td><td>12.8011</td><td>0.0102534</td><td>9.525</td><td>0.026</td><td>9.107</td><td>0.024</td><td>9.042</td><td>0.021</td><td>AAA-222-111-000-0-0</td><td>nan</td><td>8.983</td><td>0.023</td><td>9.047</td><td>0.019</td><td>9.005</td><td>0.033</td><td>8.635</td><td>0.379</td><td>10.6881</td><td>0.00022</td><td>10.1918</td><td>0.006</td><td>rered</td><td>spect</td><td>5341.65</td><td>143.697</td><td>4.54113</td><td>0.0907658</td><td>-0.201</td><td>0.015</td><td>0.853239</td><td>0.0557889</td><td>0.923</td><td>0.117416</td><td>1.4859</td><td>0.389627</td><td>DWARF</td><td>0.5339956</td><td>0.01659735</td><td>112.48</td><td>0.647</td><td>0.0101352</td><td>0.0038456</td><td>27</td><td>0.03483629</td><td>--</td><td>--</td><td>0.0</td><td>0.00244247</td><td>0.00524873</td><td>panstarrs</td><td>0.10486</td><td>0.129972</td><td>0.0621553</td><td>0.0494226</td><td>0.31747</td><td>0.461784</td><td>0.0833452</td><td>0.0981863</td><td>0.0125266</td><td>0.0206681</td><td>0.643</td><td>0.651</td><td>bj2018</td><td>150.666</td><td>136.728</td><td>spect</td><td>11.0949</td><td>0.000455</td><td>10.1404</td><td>0.000426</td><td>1</td><td>--</td><td>tycho2v3</td><td>tycho2b3</td><td>planetcandidate</td><td>1.21935322296911</td><td>0.567092439365747</td><td>0.34464908190135</td><td>3.80381062101592</td><td>0.0422055151724629</td><td>0.0203261439774303</td><td>1</td><td>0</td><td>95867</td></tr>\n",
       "<tr><td>388583226</td><td>20190415</td><td>--</td><td>4500-00124-1</td><td>849-000014</td><td>00004121+7940398</td><td>--</td><td>J000041.30+794039.9</td><td>564638150446547200</td><td>60652017</td><td>--</td><td>STAR</td><td>tmgaia2</td><td>0.171723066040282</td><td>79.6777485493965</td><td>tmgaia2</td><td>23.2049</td><td>0.0463689</td><td>0.752656</td><td>0.0441405</td><td>gaia2</td><td>6.3842</td><td>0.0331064</td><td>gaia2</td><td>120.572822336236</td><td>17.0392128647769</td><td>65.4255217247576</td><td>64.4779480185437</td><td>11.001</td><td>0.072</td><td>10.244</td><td>0.005</td><td>nan</td><td>nan</td><td>nan</td><td>nan</td><td>nan</td><td>nan</td><td>nan</td><td>nan</td><td>nan</td><td>nan</td><td>8.922</td><td>0.027</td><td>8.612</td><td>0.033</td><td>8.523</td><td>0.021</td><td>AAA-122-111-000-0-0</td><td>nan</td><td>8.454</td><td>0.022</td><td>8.48</td><td>0.02</td><td>8.395</td><td>0.022</td><td>8.311</td><td>0.211</td><td>10.0725</td><td>0.001459</td><td>9.6085</td><td>0.0083</td><td>rered</td><td>gaia2</td><td>5655.0</td><td>121.218</td><td>4.14638</td><td>0.0746591</td><td>nan</td><td>nan</td><td>1.39908</td><td>0.066985</td><td>1.0</td><td>0.125138</td><td>0.365152</td><td>0.0760686</td><td>DWARF</td><td>1.80347264</td><td>0.0588778</td><td>155.936</td><td>0.811</td><td>0.0217066</td><td>0.008248645</td><td>157</td><td>0.0207567867</td><td>--</td><td>--</td><td>0.0025412635165229</td><td>0.00913321</td><td>0.00736408</td><td>panstarrs</td><td>0.0875932</td><td>0.162682</td><td>0.079991</td><td>0.0539789</td><td>0.0629468</td><td>0.0891903</td><td>0.074668</td><td>0.0746503</td><td>0.0552031</td><td>0.0625525</td><td>0.807</td><td>0.815</td><td>bj2018</td><td>134.725</td><td>107.712</td><td>dered</td><td>10.4504</td><td>0.004713</td><td>9.56295</td><td>0.00391</td><td>1</td><td>--</td><td>tycho2v3</td><td>tycho2b3</td><td>planetcandidate</td><td>0.936393976453562</td><td>0.684649721171938</td><td>0.172280648286862</td><td>79.677751790477</td><td>0.0266482483131485</td><td>0.025417456712859</td><td>1</td><td>0</td><td>275918</td></tr>\n",
       "<tr><td>432485132</td><td>20190415</td><td>--</td><td>2781-00863-1</td><td>646-000012</td><td>00001518+3902504</td><td>--</td><td>J000015.37+390251.1</td><td>2881755246950572032</td><td>50158137</td><td>--</td><td>STAR</td><td>tmgaia2</td><td>0.063276435470113</td><td>39.0473691613597</td><td>tmgaia2</td><td>210.962</td><td>0.050801</td><td>62.6718</td><td>0.0315856</td><td>gaia2</td><td>10.8723</td><td>0.0393027</td><td>gaia2</td><td>112.181810286813</td><td>-22.7535599054828</td><td>17.9353046943269</td><td>35.2846007414883</td><td>11.517</td><td>0.104</td><td>10.703</td><td>0.007</td><td>nan</td><td>nan</td><td>nan</td><td>nan</td><td>nan</td><td>nan</td><td>nan</td><td>nan</td><td>nan</td><td>nan</td><td>9.264</td><td>0.024</td><td>8.872</td><td>0.032</td><td>8.763</td><td>0.023</td><td>AAA-122-111-000-0-0</td><td>nan</td><td>8.717</td><td>0.023</td><td>8.768</td><td>0.019</td><td>8.711</td><td>0.026</td><td>8.37</td><td>0.266</td><td>10.5168</td><td>0.000296</td><td>10.0002</td><td>0.006</td><td>gbprp</td><td>gaia2</td><td>5265.0</td><td>118.348</td><td>4.62026</td><td>0.0802021</td><td>nan</td><td>nan</td><td>0.769179</td><td>0.041804</td><td>0.9</td><td>0.112514</td><td>1.9777</td><td>0.442537</td><td>DWARF</td><td>0.4095836</td><td>0.00975965</td><td>91.7342</td><td>0.33325</td><td>0.0</td><td>0.0</td><td>121</td><td>0.0216499064</td><td>--</td><td>--</td><td>0.0033319995272082</td><td>0.0</td><td>0.0</td><td>--</td><td>0.092875</td><td>0.132153</td><td>0.0297261</td><td>0.0538819</td><td>0.435281</td><td>0.449792</td><td>0.0788729</td><td>0.0815313</td><td>0.0080634</td><td>0.0114559</td><td>0.3321</td><td>0.3344</td><td>bj2018</td><td>149.218</td><td>87.477</td><td>dered0</td><td>10.9485</td><td>0.001004</td><td>9.95052</td><td>0.000984</td><td>1</td><td>--</td><td>tycho2v3</td><td>tycho2b3</td><td>planetcandidate</td><td>0.835928653935751</td><td>0.490001106971712</td><td>0.0644459936775772</td><td>39.0476390041186</td><td>0.0282319070737578</td><td>0.0203872934756772</td><td>1</td><td>0</td><td>378353</td></tr>\n",
       "<tr><td>238305136</td><td>20190415</td><td>--</td><td>1729-00866-1</td><td>564-000149</td><td>00042955+2244061</td><td>--</td><td>J000429.54+224406.1</td><td>2847357575430420992</td><td>44877465</td><td>--</td><td>STAR</td><td>tmgaia2</td><td>1.12319636500125</td><td>22.7351182578426</td><td>tmgaia2</td><td>3.45582</td><td>0.120984</td><td>13.2973</td><td>0.0739822</td><td>gaia2</td><td>9.62559</td><td>0.0641052</td><td>gaia2</td><td>108.990375016054</td><td>-38.8624038556943</td><td>10.4646233861769</td><td>20.3277010376484</td><td>11.167</td><td>0.09</td><td>10.36</td><td>0.006</td><td>nan</td><td>nan</td><td>nan</td><td>nan</td><td>nan</td><td>nan</td><td>nan</td><td>nan</td><td>nan</td><td>nan</td><td>8.953</td><td>0.019</td><td>8.539</td><td>0.017</td><td>8.581</td><td>0.029</td><td>AAE-112-111-000-0-0</td><td>nan</td><td>8.392</td><td>0.022</td><td>8.431</td><td>0.02</td><td>8.395</td><td>0.03</td><td>8.229</td><td>0.328</td><td>10.2709</td><td>0.00034</td><td>9.79833</td><td>0.0061</td><td>rered</td><td>gaia2</td><td>5550.0</td><td>126.665</td><td>4.54841</td><td>0.0844041</td><td>nan</td><td>nan</td><td>0.870511</td><td>0.0456031</td><td>0.977</td><td>0.130423</td><td>1.48106</td><td>0.34403</td><td>DWARF</td><td>0.6477617</td><td>0.0194796</td><td>103.586</td><td>0.693</td><td>0.00879884</td><td>0.005834875</td><td>38</td><td>0.128319621</td><td>--</td><td>--</td><td>0.00272550129039011</td><td>0.00398818</td><td>0.00768157</td><td>panstarrs</td><td>0.115482</td><td>0.145364</td><td>0.0373312</td><td>0.0538749</td><td>0.275242</td><td>0.412818</td><td>0.0738798</td><td>0.0949285</td><td>0.0143611</td><td>0.0245981</td><td>0.689</td><td>0.697</td><td>bj2018</td><td>164.788</td><td>88.543</td><td>dered</td><td>10.6536</td><td>0.001208</td><td>9.74811</td><td>0.002207</td><td>1</td><td>--</td><td>tycho2v3</td><td>tycho2b3</td><td>planetcandidate</td><td>1.91332394696455</td><td>1.1475086101316</td><td>1.12321249771599</td><td>22.7351755101078</td><td>0.0458189537297122</td><td>0.0424246249876592</td><td>1</td><td>0</td><td>1104482</td></tr>\n",
       "<tr><td>238390058</td><td>20190415</td><td>--</td><td>1729-01226-1</td><td>572-000173</td><td>00041754+2422409</td><td>--</td><td>J000417.61+242241.1</td><td>2849970216920699776</td><td>46058452</td><td>--</td><td>STAR</td><td>tmgaia2</td><td>1.0731219207276</td><td>24.3779952144411</td><td>tmgaia2</td><td>85.9615</td><td>0.15478</td><td>27.1693</td><td>0.122947</td><td>gaia2</td><td>7.57166</td><td>0.0608685</td><td>gaia2</td><td>109.414444604012</td><td>-37.2531562328982</td><td>11.1706542860936</td><td>21.8334224162039</td><td>11.294</td><td>0.118</td><td>10.671</td><td>0.008</td><td>nan</td><td>nan</td><td>nan</td><td>nan</td><td>nan</td><td>nan</td><td>nan</td><td>nan</td><td>nan</td><td>nan</td><td>9.247</td><td>0.02</td><td>8.847</td><td>0.038</td><td>8.732</td><td>0.019</td><td>AAA-212-111-000-0-0</td><td>nan</td><td>8.66</td><td>0.023</td><td>8.699</td><td>0.02</td><td>8.662</td><td>0.026</td><td>8.671</td><td>0.45</td><td>10.4733</td><td>0.000346</td><td>9.97464</td><td>0.006</td><td>rered</td><td>gaia2</td><td>5409.0</td><td>129.807</td><td>4.351</td><td>0.0804795</td><td>nan</td><td>nan</td><td>1.07233</td><td>0.0594246</td><td>0.941</td><td>0.116028</td><td>0.763131</td><td>0.175553</td><td>DWARF</td><td>0.8867948</td><td>0.02882455</td><td>131.582</td><td>1.062</td><td>0.0117189</td><td>0.007487435</td><td>57</td><td>1.17408848</td><td>--</td><td>--</td><td>0.00149848181820634</td><td>0.00559912</td><td>0.00937575</td><td>panstarrs</td><td>0.0999787</td><td>0.132077</td><td>0.0638372</td><td>0.0550121</td><td>0.194395</td><td>0.156711</td><td>0.0923162</td><td>0.0686428</td><td>0.0274515</td><td>0.0301976</td><td>1.054</td><td>1.07</td><td>bj2018</td><td>111.042</td><td>148.572</td><td>dered</td><td>10.8814</td><td>0.000581</td><td>9.92215</td><td>0.000586</td><td>1</td><td>--</td><td>tycho2v3</td><td>tycho2b3</td><td>planetcandidate</td><td>2.45587238458119</td><td>1.90722103774065</td><td>1.07352826113517</td><td>24.3781121939123</td><td>0.0843919646473501</td><td>0.0766912083506929</td><td>1</td><td>0</td><td>1104967</td></tr>\n",
       "<tr><td>238390147</td><td>20190415</td><td>--</td><td>1729-01496-1</td><td>574-000190</td><td>00044651+2442057</td><td>--</td><td>J000446.50+244205.8</td><td>2849986026696774784</td><td>--</td><td>--</td><td>STAR</td><td>tmgaia2</td><td>1.19378596811218</td><td>24.7015965723314</td><td>tmgaia2</td><td>2.98436</td><td>0.0574275</td><td>-0.995527</td><td>0.0549338</td><td>gaia2</td><td>8.98921</td><td>0.0358636</td><td>gaia2</td><td>109.640524845519</td><td>-36.9628828746685</td><td>11.4271818703802</td><td>22.0786966158514</td><td>10.109</td><td>0.049</td><td>9.463</td><td>0.003</td><td>nan</td><td>nan</td><td>nan</td><td>nan</td><td>nan</td><td>nan</td><td>nan</td><td>nan</td><td>nan</td><td>nan</td><td>8.228</td><td>0.035</td><td>7.928</td><td>0.027</td><td>7.884</td><td>0.034</td><td>AAA-111-111-000-0-0</td><td>nan</td><td>7.806</td><td>0.026</td><td>7.874</td><td>0.019</td><td>7.849</td><td>0.021</td><td>7.974</td><td>0.195</td><td>9.26845</td><td>0.000132</td><td>8.8254</td><td>0.006</td><td>rered</td><td>gaia2</td><td>5780.0</td><td>148.26</td><td>4.17991</td><td>0.0804019</td><td>nan</td><td>nan</td><td>1.37012</td><td>0.0701231</td><td>1.036</td><td>0.13664</td><td>0.402794</td><td>0.0923259</td><td>DWARF</td><td>1.8876617</td><td>0.0838636</td><td>110.89</td><td>0.4445</td><td>0.0201465</td><td>0.0134368353</td><td>60</td><td>0.00103134476</td><td>--</td><td>--</td><td>0.00244041039010092</td><td>0.00891157</td><td>0.0179621</td><td>panstarrs</td><td>0.102982</td><td>0.170297</td><td>0.0690457</td><td>0.0712005</td><td>0.0893373</td><td>0.0953145</td><td>0.0904043</td><td>0.0703994</td><td>0.0767651</td><td>0.0909621</td><td>0.443</td><td>0.446</td><td>bj2018</td><td>171.685</td><td>124.834</td><td>dered</td><td>9.62591</td><td>0.000648</td><td>8.78065</td><td>0.000656</td><td>1</td><td>--</td><td>tycho2v3</td><td>tycho2b3</td><td>planetcandidate</td><td>0.911736623521192</td><td>0.852110268608909</td><td>1.19380011162007</td><td>24.7015922860352</td><td>0.0308330202391595</td><td>0.0329257875765638</td><td>1</td><td>0</td><td>1105056</td></tr>\n",
       "<tr><td>293221159</td><td>20190415</td><td>--</td><td>0004-01109-1</td><td>472-000153</td><td>00061608+0415356</td><td>--</td><td>J000616.15+041535.1</td><td>2741626922395261056</td><td>37333328</td><td>--</td><td>STAR</td><td>tmgaia2</td><td>1.56701801993433</td><td>4.25995584358783</td><td>tmgaia2</td><td>93.2991</td><td>0.114094</td><td>-51.9516</td><td>0.0856794</td><td>gaia2</td><td>9.74019</td><td>0.0547347</td><td>gaia2</td><td>102.056285429432</td><td>-56.769825445035</td><td>3.13322140802109</td><td>3.28510301989999</td><td>12.018</td><td>0.217</td><td>11.152</td><td>0.016</td><td>nan</td><td>nan</td><td>nan</td><td>nan</td><td>nan</td><td>nan</td><td>nan</td><td>nan</td><td>nan</td><td>nan</td><td>9.524</td><td>0.024</td><td>9.102</td><td>0.027</td><td>9.005</td><td>0.023</td><td>AAA-222-111-000-0-0</td><td>nan</td><td>8.931</td><td>0.022</td><td>8.986</td><td>0.019</td><td>8.908</td><td>0.031</td><td>8.683</td><td>0.362</td><td>10.8234</td><td>0.000925</td><td>10.2729</td><td>0.0063</td><td>rered</td><td>spect</td><td>5173.36</td><td>142.659</td><td>4.58808</td><td>0.0940177</td><td>0.18</td><td>0.023</td><td>0.787487</td><td>0.0538995</td><td>0.876</td><td>0.105043</td><td>1.7938</td><td>0.48305</td><td>DWARF</td><td>0.400195658</td><td>0.01339255</td><td>102.368</td><td>0.5775</td><td>0.010022</td><td>0.00562644</td><td>36</td><td>0.00109536527</td><td>--</td><td>--</td><td>0.0</td><td>0.00391114</td><td>0.00734174</td><td>panstarrs</td><td>0.099299</td><td>0.110787</td><td>0.0434588</td><td>0.0643402</td><td>0.444451</td><td>0.521648</td><td>0.0923954</td><td>0.09564</td><td>0.0152993</td><td>0.0114858</td><td>0.574</td><td>0.581</td><td>bj2018</td><td>185.194</td><td>100.124</td><td>spect</td><td>11.2937</td><td>0.00294</td><td>10.2244</td><td>0.002669</td><td>1</td><td>--</td><td>tycho2v3</td><td>tycho2b3</td><td>planetcandidate</td><td>1.77021089474323</td><td>1.32851856754622</td><td>1.56742083726228</td><td>4.25973216319089</td><td>0.0433684991742019</td><td>0.0360006135026246</td><td>1</td><td>0</td><td>1139818</td></tr>\n",
       "<tr><td>293257379</td><td>20190415</td><td>--</td><td>0007-01101-1</td><td>479-000194</td><td>00072240+0545085</td><td>1237678778478952451</td><td>J000722.44+054508.8</td><td>2742481792685664512</td><td>38114019</td><td>--</td><td>STAR</td><td>tmgaia2</td><td>1.84330147435932</td><td>5.75234598748059</td><td>tmgaia2</td><td>77.3138</td><td>0.0834531</td><td>44.4886</td><td>0.0529502</td><td>gaia2</td><td>6.11686</td><td>0.0421365</td><td>gaia2</td><td>103.352257898543</td><td>-55.4353706633655</td><td>3.98241477882546</td><td>4.54416468082194</td><td>11.635</td><td>0.135</td><td>10.877</td><td>0.009</td><td>14.9581</td><td>0.00618612</td><td>11.3637</td><td>0.00068201</td><td>10.6743</td><td>0.000570526</td><td>10.5754</td><td>0.00107483</td><td>11.0982</td><td>0.00195381</td><td>9.6</td><td>0.022</td><td>9.364</td><td>0.025</td><td>9.229</td><td>0.019</td><td>AAA-222-111-000-0-0</td><td>nan</td><td>9.192</td><td>0.022</td><td>9.271</td><td>0.019</td><td>9.224</td><td>0.034</td><td>8.554</td><td>nan</td><td>10.6843</td><td>0.000298</td><td>10.2336</td><td>0.006</td><td>rered</td><td>gaia2</td><td>5779.0</td><td>134.501</td><td>4.40023</td><td>0.0788594</td><td>nan</td><td>nan</td><td>1.06316</td><td>0.0541206</td><td>1.036</td><td>0.132066</td><td>0.862104</td><td>0.192596</td><td>DWARF</td><td>1.13580918</td><td>0.0419232</td><td>162.723</td><td>1.124</td><td>0.0313672</td><td>0.00849754</td><td>35</td><td>0.0007846031</td><td>--</td><td>--</td><td>0.0</td><td>0.0102693</td><td>0.00672578</td><td>panstarrs</td><td>0.115001</td><td>0.14913</td><td>0.0432869</td><td>0.0649543</td><td>0.188954</td><td>0.196239</td><td>0.0788188</td><td>0.0788999</td><td>0.0456677</td><td>0.0381787</td><td>1.116</td><td>1.132</td><td>bj2018</td><td>142.982</td><td>126.019</td><td>dered</td><td>11.0471</td><td>0.001104</td><td>10.1866</td><td>0.000527</td><td>1</td><td>--</td><td>tycho2v3</td><td>tycho2b3</td><td>planetcandidate</td><td>1.29562225839288</td><td>0.821193700515997</td><td>1.84363603794646</td><td>5.75253753571845</td><td>0.0348060951442214</td><td>0.0276492248995643</td><td>1</td><td>0</td><td>1142861</td></tr>\n",
       "<tr><td>326675379</td><td>20190415</td><td>--</td><td>3656-00114-1</td><td>728-001341</td><td>00063740+5527218</td><td>--</td><td>J000637.37+552721.7</td><td>420818529143481088</td><td>56841532</td><td>--</td><td>STAR</td><td>tmgaia2</td><td>1.65575603452202</td><td>55.4560346537012</td><td>tmgaia2</td><td>-8.8845</td><td>0.166211</td><td>-3.73739</td><td>0.124448</td><td>gaia2</td><td>13.6455</td><td>0.107213</td><td>gaia2</td><td>116.560748457845</td><td>-6.86036497583765</td><td>31.1563704170876</td><td>48.5215371342246</td><td>10.272</td><td>0.039</td><td>9.408</td><td>0.003</td><td>nan</td><td>nan</td><td>nan</td><td>nan</td><td>nan</td><td>nan</td><td>nan</td><td>nan</td><td>nan</td><td>nan</td><td>7.624</td><td>0.019</td><td>7.226</td><td>0.021</td><td>7.103</td><td>0.021</td><td>AAA-111-111-000-0-0</td><td>nan</td><td>7.102</td><td>0.037</td><td>7.218</td><td>0.02</td><td>7.121</td><td>0.017</td><td>6.817</td><td>0.071</td><td>9.13025</td><td>0.005555</td><td>8.582</td><td>0.0082</td><td>gbprp</td><td>gaia2</td><td>5098.0</td><td>138.236</td><td>4.17428</td><td>0.0942165</td><td>nan</td><td>nan</td><td>1.25644</td><td>0.0844826</td><td>0.86</td><td>0.103783</td><td>0.433583</td><td>0.115842</td><td>DWARF</td><td>0.960678</td><td>0.03039735</td><td>73.1373</td><td>0.57785</td><td>0.0</td><td>0.0</td><td>513</td><td>0.004536777</td><td>--</td><td>--</td><td>0.00037795037887048</td><td>0.0</td><td>0.0</td><td>--</td><td>0.0989695</td><td>0.108597</td><td>0.100917</td><td>0.0680482</td><td>0.121502</td><td>0.110181</td><td>0.11201</td><td>0.0764231</td><td>0.0375597</td><td>0.023235</td><td>0.5734</td><td>0.5823</td><td>bj2018</td><td>118.434</td><td>158.037</td><td>dered0</td><td>9.59568</td><td>0.015069</td><td>8.52989</td><td>0.016492</td><td>1</td><td>--</td><td>tycho2v3</td><td>tycho2b3</td><td>planetcandidate</td><td>2.91165604008504</td><td>1.93019072734412</td><td>1.65568857400272</td><td>55.4560185621793</td><td>0.0822621758814142</td><td>0.0693634542770245</td><td>1</td><td>0</td><td>1161510</td></tr>\n",
       "<tr><td>...</td><td>...</td><td>...</td><td>...</td><td>...</td><td>...</td><td>...</td><td>...</td><td>...</td><td>...</td><td>...</td><td>...</td><td>...</td><td>...</td><td>...</td><td>...</td><td>...</td><td>...</td><td>...</td><td>...</td><td>...</td><td>...</td><td>...</td><td>...</td><td>...</td><td>...</td><td>...</td><td>...</td><td>...</td><td>...</td><td>...</td><td>...</td><td>...</td><td>...</td><td>...</td><td>...</td><td>...</td><td>...</td><td>...</td><td>...</td><td>...</td><td>...</td><td>...</td><td>...</td><td>...</td><td>...</td><td>...</td><td>...</td><td>...</td><td>...</td><td>...</td><td>...</td><td>...</td><td>...</td><td>...</td><td>...</td><td>...</td><td>...</td><td>...</td><td>...</td><td>...</td><td>...</td><td>...</td><td>...</td><td>...</td><td>...</td><td>...</td><td>...</td><td>...</td><td>...</td><td>...</td><td>...</td><td>...</td><td>...</td><td>...</td><td>...</td><td>...</td><td>...</td><td>...</td><td>...</td><td>...</td><td>...</td><td>...</td><td>...</td><td>...</td><td>...</td><td>...</td><td>...</td><td>...</td><td>...</td><td>...</td><td>...</td><td>...</td><td>...</td><td>...</td><td>...</td><td>...</td><td>...</td><td>...</td><td>...</td><td>...</td><td>...</td><td>...</td><td>...</td><td>...</td><td>...</td><td>...</td><td>...</td><td>...</td><td>...</td><td>...</td><td>...</td><td>...</td><td>...</td><td>...</td><td>...</td><td>...</td><td>...</td><td>...</td><td>...</td><td>...</td><td>...</td><td>...</td><td>...</td><td>...</td></tr>\n",
       "<tr><td>248603232</td><td>20190415</td><td>--</td><td>5256-00166-1</td><td>435-121514</td><td>23524411-0310203</td><td>--</td><td>J235244.11-031020.3</td><td>2448907240267079424</td><td>1024124</td><td>--</td><td>STAR</td><td>tmgaia2</td><td>358.183796594321</td><td>-3.17232635735145</td><td>tmgaia2</td><td>1.05718</td><td>0.0886931</td><td>12.9213</td><td>0.0396803</td><td>gaia2</td><td>11.1527</td><td>0.039998</td><td>gaia2</td><td>90.0429469626907</td><td>-62.2351620150031</td><td>357.071856913745</td><td>-2.18838768678533</td><td>11.145</td><td>0.121</td><td>10.169</td><td>0.01</td><td>nan</td><td>nan</td><td>nan</td><td>nan</td><td>nan</td><td>nan</td><td>nan</td><td>nan</td><td>nan</td><td>nan</td><td>8.991</td><td>0.027</td><td>8.655</td><td>0.031</td><td>8.564</td><td>0.023</td><td>AAA-112-111-000-0-0</td><td>nan</td><td>8.48</td><td>0.022</td><td>8.519</td><td>0.02</td><td>8.508</td><td>0.025</td><td>8.132</td><td>0.297</td><td>10.076</td><td>0.000521</td><td>9.5997</td><td>0.006</td><td>gbprp</td><td>gaia2</td><td>5494.0</td><td>126.052</td><td>4.57999</td><td>0.0826392</td><td>nan</td><td>nan</td><td>0.8321</td><td>0.0435779</td><td>0.96</td><td>0.129809</td><td>1.66627</td><td>0.381283</td><td>DWARF</td><td>0.5683298</td><td>0.01361925</td><td>89.4335</td><td>0.3223</td><td>0.0</td><td>0.0</td><td>30</td><td>0.0159356017</td><td>--</td><td>--</td><td>0.0</td><td>0.0</td><td>0.0</td><td>--</td><td>0.107134</td><td>0.152485</td><td>0.0395151</td><td>0.0476407</td><td>0.445826</td><td>0.31674</td><td>0.0967615</td><td>0.0685168</td><td>0.0151543</td><td>0.0120842</td><td>0.3212</td><td>0.3234</td><td>bj2018</td><td>129.724</td><td>122.381</td><td>dered0</td><td>10.466</td><td>0.000761</td><td>9.55243</td><td>0.000827</td><td>1</td><td>--</td><td>tycho2v3</td><td>tycho2b3</td><td>planetcandidate</td><td>1.37575903749173</td><td>0.615343117807817</td><td>358.183801153054</td><td>-3.17227072397601</td><td>0.0366792764692036</td><td>0.0191632758113648</td><td>1</td><td>0</td><td>1725953351</td></tr>\n",
       "<tr><td>270622530</td><td>20190415</td><td>--</td><td>7516-01015-1</td><td>289-217937</td><td>23553010-3222253</td><td>--</td><td>J235530.11-322225.4</td><td>2314159616383050496</td><td>17440959</td><td>--</td><td>STAR</td><td>tmgaia2</td><td>358.875432658132</td><td>-32.373699712181</td><td>tmgaia2</td><td>12.7943</td><td>0.066789</td><td>-13.3933</td><td>0.0515757</td><td>gaia2</td><td>4.56386</td><td>0.0453198</td><td>gaia2</td><td>6.18979432880694</td><td>-76.7890567901686</td><td>344.877631749323</td><td>-28.9903635771876</td><td>11.556</td><td>0.078</td><td>10.773</td><td>0.006</td><td>nan</td><td>nan</td><td>nan</td><td>nan</td><td>nan</td><td>nan</td><td>nan</td><td>nan</td><td>nan</td><td>nan</td><td>9.745</td><td>0.024</td><td>9.413</td><td>0.025</td><td>9.332</td><td>0.023</td><td>AAA-222-111-000-0-0</td><td>nan</td><td>9.292</td><td>0.023</td><td>9.352</td><td>0.02</td><td>9.277</td><td>0.031</td><td>8.289</td><td>nan</td><td>10.7648</td><td>0.000359</td><td>10.3363</td><td>0.006</td><td>rered</td><td>gaia2</td><td>5833.0</td><td>133.633</td><td>4.22591</td><td>0.0826612</td><td>nan</td><td>nan</td><td>1.3082</td><td>0.0648995</td><td>1.05</td><td>0.138122</td><td>0.468989</td><td>0.105719</td><td>DWARF</td><td>1.7848984</td><td>0.07386435</td><td>217.762</td><td>2.1655</td><td>0.0102659</td><td>0.01018742</td><td>31</td><td>0.419946283</td><td>--</td><td>--</td><td>0.00106070407495058</td><td>0.00849194</td><td>0.0118829</td><td>schlegel</td><td>0.106887</td><td>0.169357</td><td>0.0514995</td><td>0.0782995</td><td>0.116655</td><td>0.0947836</td><td>0.0839907</td><td>0.0813317</td><td>0.0541456</td><td>0.0935831</td><td>2.144</td><td>2.187</td><td>bj2018</td><td>102.011</td><td>165.254</td><td>dered</td><td>11.1026</td><td>0.000741</td><td>10.2865</td><td>0.000667</td><td>1</td><td>--</td><td>tycho2v3</td><td>tycho2b3</td><td>planetcandidate</td><td>1.07846715926977</td><td>0.799856347801713</td><td>358.875497882237</td><td>-32.3737573777954</td><td>0.0329860669449056</td><td>0.0263151020038246</td><td>1</td><td>0</td><td>1725964292</td></tr>\n",
       "<tr><td>9790705</td><td>20190415</td><td>--</td><td>5831-00891-1</td><td>406-142344</td><td>23585546-0854253</td><td>1237653442988802194</td><td>J235855.50-085425.6</td><td>2441049958377620352</td><td>5034004</td><td>--</td><td>STAR</td><td>tmgaia2</td><td>359.731158337176</td><td>-8.90705750329321</td><td>tmgaia2</td><td>47.4634</td><td>0.0786101</td><td>-26.8703</td><td>0.0643065</td><td>gaia2</td><td>6.78645</td><td>0.0578566</td><td>gaia2</td><td>86.2196268886282</td><td>-67.9529720396723</td><td>356.187099218173</td><td>-8.06010484404077</td><td>11.699</td><td>0.125</td><td>10.961</td><td>0.009</td><td>14.524</td><td>0.00585773</td><td>11.4745</td><td>0.000519883</td><td>10.9457</td><td>0.000498569</td><td>10.7713</td><td>0.000578856</td><td>13.0828</td><td>0.0109663</td><td>9.822</td><td>0.026</td><td>9.495</td><td>0.023</td><td>9.427</td><td>0.023</td><td>AAA-222-111-000-0-0</td><td>nan</td><td>9.374</td><td>0.023</td><td>9.424</td><td>0.02</td><td>9.397</td><td>0.044</td><td>8.379</td><td>nan</td><td>10.9012</td><td>0.000622</td><td>10.4481</td><td>0.006</td><td>rered</td><td>spect</td><td>5354.4</td><td>128.703</td><td>4.4003</td><td>0.0830166</td><td>-0.38</td><td>0.09</td><td>1.00505</td><td>0.0573468</td><td>0.926</td><td>0.11322</td><td>0.912107</td><td>0.213451</td><td>DWARF</td><td>0.7480229</td><td>0.02243155</td><td>146.743</td><td>1.2555</td><td>0.0114707</td><td>0.002537635</td><td>23</td><td>0.00267125783</td><td>--</td><td>--</td><td>0.00132943758908799</td><td>0.00298908</td><td>0.00208619</td><td>panstarrs</td><td>0.0814032</td><td>0.145037</td><td>0.0477518</td><td>0.0669417</td><td>0.162972</td><td>0.26393</td><td>0.0763998</td><td>0.0896334</td><td>0.0237345</td><td>0.0211286</td><td>1.245</td><td>1.266</td><td>bj2018</td><td>140.604</td><td>116.802</td><td>spect</td><td>11.2666</td><td>0.000683</td><td>10.401</td><td>0.000565</td><td>1</td><td>--</td><td>tycho2v3</td><td>tycho2b3</td><td>planetcandidate</td><td>1.22280366057852</td><td>0.997178555900173</td><td>359.731365187936</td><td>-8.90717319491982</td><td>0.0400764906984078</td><td>0.0292064157607974</td><td>1</td><td>0</td><td>1726119365</td></tr>\n",
       "<tr><td>65259100</td><td>20190415</td><td>--</td><td>6988-00276-1</td><td>307-275316</td><td>23562636-2844183</td><td>--</td><td>J235626.41-284418.7</td><td>2333225732124076416</td><td>12953939</td><td>--</td><td>STAR</td><td>tmgaia2</td><td>359.109914116357</td><td>-28.7384365302219</td><td>tmgaia2</td><td>46.0438</td><td>0.0687296</td><td>-32.0626</td><td>0.0654522</td><td>gaia2</td><td>9.55738</td><td>0.0780085</td><td>gaia2</td><td>22.1845403260642</td><td>-77.7532034053442</td><td>346.916487250966</td><td>-25.8310079529807</td><td>11.628</td><td>0.106</td><td>10.89</td><td>0.007</td><td>nan</td><td>nan</td><td>nan</td><td>nan</td><td>nan</td><td>nan</td><td>nan</td><td>nan</td><td>nan</td><td>nan</td><td>9.543</td><td>0.024</td><td>9.158</td><td>0.025</td><td>9.049</td><td>0.019</td><td>AAA-222-111-000-0-0</td><td>nan</td><td>9.005</td><td>0.023</td><td>9.039</td><td>0.02</td><td>9.021</td><td>0.031</td><td>8.424</td><td>0.344</td><td>10.6975</td><td>0.000354</td><td>10.2077</td><td>0.006</td><td>rered</td><td>spect</td><td>5064.2</td><td>101.661</td><td>4.46186</td><td>0.0800592</td><td>-0.99</td><td>0.11</td><td>0.894933</td><td>0.0464321</td><td>0.846</td><td>0.105176</td><td>1.18032</td><td>0.259714</td><td>DWARF</td><td>0.47459048</td><td>0.01482065</td><td>104.327</td><td>0.8555</td><td>0.00857132</td><td>0.00448918</td><td>20</td><td>0.00191477768</td><td>--</td><td>--</td><td>0.00215924557072079</td><td>0.00303746</td><td>0.0059409</td><td>panstarrs</td><td>0.109636</td><td>0.100715</td><td>0.0464186</td><td>0.0464457</td><td>0.204609</td><td>0.314818</td><td>0.0941888</td><td>0.0659296</td><td>0.01653</td><td>0.0131113</td><td>0.849</td><td>0.862</td><td>bj2018</td><td>110.637</td><td>92.6859</td><td>spect</td><td>11.0977</td><td>0.000934</td><td>10.1566</td><td>0.000637</td><td>1</td><td>--</td><td>tycho2v3</td><td>tycho2b3</td><td>planetcandidate</td><td>1.10090186693956</td><td>1.0149777756107</td><td>359.11014020983</td><td>-28.7385745777166</td><td>0.0511742302904313</td><td>0.0308410603067349</td><td>1</td><td>0</td><td>1726125109</td></tr>\n",
       "<tr><td>114804968</td><td>20190415</td><td>--</td><td>6411-01265-1</td><td>344-202341</td><td>23584324-2118407</td><td>--</td><td>J235843.36-211841.3</td><td>2341406442232336384</td><td>12498519</td><td>--</td><td>STAR</td><td>tmgaia2</td><td>359.680246032769</td><td>-21.3113480737252</td><td>tmgaia2</td><td>143.022</td><td>0.0647958</td><td>-50.522</td><td>0.056424</td><td>gaia2</td><td>12.6547</td><td>0.0426548</td><td>gaia2</td><td>55.9318424527192</td><td>-76.6587260051504</td><td>350.892951496894</td><td>-19.3524247288114</td><td>11.391</td><td>0.1</td><td>10.422</td><td>0.008</td><td>nan</td><td>nan</td><td>nan</td><td>nan</td><td>nan</td><td>nan</td><td>nan</td><td>nan</td><td>nan</td><td>nan</td><td>8.891</td><td>0.024</td><td>8.49</td><td>0.042</td><td>8.367</td><td>0.023</td><td>AAA-112-111-000-0-0</td><td>nan</td><td>8.306</td><td>0.021</td><td>8.386</td><td>0.019</td><td>8.342</td><td>0.022</td><td>8.714</td><td>0.458</td><td>10.2246</td><td>0.000419</td><td>9.6585</td><td>0.006</td><td>gbprp</td><td>gaia2</td><td>5007.0</td><td>128.152</td><td>4.49207</td><td>0.0877822</td><td>nan</td><td>nan</td><td>0.85613</td><td>0.0555603</td><td>0.83</td><td>0.0985676</td><td>1.32269</td><td>0.343344</td><td>DWARF</td><td>0.415034384</td><td>0.01234855</td><td>78.8428</td><td>0.26715</td><td>0.0</td><td>0.0</td><td>46</td><td>0.000373000163</td><td>--</td><td>--</td><td>0.00312410935948618</td><td>0.0</td><td>0.0</td><td>--</td><td>0.0893761</td><td>0.107759</td><td>0.0529176</td><td>0.058203</td><td>0.306381</td><td>0.380307</td><td>0.0752514</td><td>0.100313</td><td>0.0121143</td><td>0.0125828</td><td>0.2662</td><td>0.2681</td><td>bj2018</td><td>131.745</td><td>124.56</td><td>dered0</td><td>10.7178</td><td>0.000688</td><td>9.61319</td><td>0.000864</td><td>1</td><td>--</td><td>tycho2v3</td><td>tycho2b3</td><td>planetcandidate</td><td>1.02247914100136</td><td>0.874915746374735</td><td>359.680907020777</td><td>-21.311565600292</td><td>0.0326486216926085</td><td>0.0245230518178077</td><td>1</td><td>0</td><td>1726137053</td></tr>\n",
       "<tr><td>144436638</td><td>20190415</td><td>--</td><td>8457-01039-1</td><td>221-189094</td><td>23560150-4559262</td><td>--</td><td>J235601.46-455926.6</td><td>6530857833562712192</td><td>24620674</td><td>--</td><td>STAR</td><td>tmgaia2</td><td>359.006288678827</td><td>-45.9906098982379</td><td>tmgaia2</td><td>-18.5094</td><td>0.0369387</td><td>-41.3747</td><td>0.0350894</td><td>gaia2</td><td>12.7486</td><td>0.0352159</td><td>gaia2</td><td>329.510513128326</td><td>-68.1731782359219</td><td>336.841134858141</td><td>-40.9260271003831</td><td>10.346</td><td>0.041</td><td>9.53</td><td>0.003</td><td>nan</td><td>nan</td><td>nan</td><td>nan</td><td>nan</td><td>nan</td><td>nan</td><td>nan</td><td>nan</td><td>nan</td><td>8.281</td><td>0.019</td><td>7.923</td><td>0.036</td><td>7.872</td><td>0.034</td><td>AAA-111-111-000-0-0</td><td>nan</td><td>7.815</td><td>0.027</td><td>7.903</td><td>0.018</td><td>7.845</td><td>0.018</td><td>7.97</td><td>0.224</td><td>9.39845</td><td>0.000128</td><td>8.922</td><td>0.006</td><td>gbprp</td><td>gaia2</td><td>5492.0</td><td>121.336</td><td>4.42422</td><td>0.0788357</td><td>nan</td><td>nan</td><td>0.995536</td><td>0.0510754</td><td>0.96</td><td>0.120107</td><td>0.972972</td><td>0.217178</td><td>DWARF</td><td>0.8123268</td><td>0.01904635</td><td>78.2628</td><td>0.2173</td><td>0.0</td><td>0.0</td><td>39</td><td>0.0111634014</td><td>--</td><td>--</td><td>0.00425032825508636</td><td>0.0</td><td>0.0</td><td>--</td><td>0.0896753</td><td>0.150539</td><td>0.0510266</td><td>0.0511241</td><td>0.210584</td><td>0.223773</td><td>0.0993432</td><td>0.0583281</td><td>0.0185141</td><td>0.0195786</td><td>0.2167</td><td>0.2179</td><td>bj2018</td><td>129.871</td><td>112.801</td><td>dered0</td><td>9.78971</td><td>0.000523</td><td>8.87569</td><td>0.000497</td><td>1</td><td>--</td><td>tycho2v3</td><td>tycho2b3</td><td>planetcandidate</td><td>0.622244937535742</td><td>0.544236709139125</td><td>359.006173975352</td><td>-45.9907880393662</td><td>0.0183518106366342</td><td>0.0195433085759539</td><td>1</td><td>0</td><td>1726142233</td></tr>\n",
       "<tr><td>183528944</td><td>20190415</td><td>118143</td><td>7516-00931-1</td><td>298-247792</td><td>23575014-3026525</td><td>--</td><td>J235750.06-302654.6</td><td>2326822176403978112</td><td>17441930</td><td>--</td><td>STAR</td><td>tmgaia2</td><td>359.458916088188</td><td>-30.4479411422404</td><td>tmgaia2</td><td>-88.8421</td><td>0.0683034</td><td>-197.43</td><td>0.0473468</td><td>gaia2</td><td>18.6805</td><td>0.0377465</td><td>gaia2</td><td>13.9794813598263</td><td>-77.8045117507727</td><td>346.369063504367</td><td>-27.4968999933707</td><td>9.548</td><td>0.021</td><td>8.84</td><td>0.03</td><td>nan</td><td>nan</td><td>nan</td><td>nan</td><td>nan</td><td>nan</td><td>nan</td><td>nan</td><td>nan</td><td>nan</td><td>7.593</td><td>0.039</td><td>7.203</td><td>0.033</td><td>7.147</td><td>0.021</td><td>AAA-111-111-000-0-0</td><td>nan</td><td>6.985</td><td>0.04</td><td>7.148</td><td>0.02</td><td>7.142</td><td>0.018</td><td>7.025</td><td>0.09</td><td>8.66375</td><td>0.000338</td><td>8.1917</td><td>0.006</td><td>gbprp</td><td>spect</td><td>5531.24</td><td>137.579</td><td>4.48044</td><td>0.0855745</td><td>0.080566</td><td>0.0437079</td><td>0.93799</td><td>0.054108</td><td>0.97</td><td>0.125495</td><td>1.17538</td><td>0.281779</td><td>DWARF</td><td>0.7419605</td><td>0.01815735</td><td>53.4491</td><td>0.10865</td><td>0.0</td><td>0.0</td><td>25</td><td>0.0001020624</td><td>--</td><td>--</td><td>0.00570852731956861</td><td>0.0</td><td>0.0</td><td>--</td><td>0.119101</td><td>0.131889</td><td>0.0421523</td><td>0.0660638</td><td>0.204979</td><td>0.358578</td><td>0.0956466</td><td>0.0755024</td><td>0.0197711</td><td>0.0165436</td><td>0.1085</td><td>0.1088</td><td>bj2018</td><td>153.597</td><td>121.562</td><td>spect</td><td>9.05421</td><td>0.001123</td><td>8.14938</td><td>0.001069</td><td>1</td><td>--</td><td>hipvmag</td><td>apassdr9</td><td>planetcandidate</td><td>1.09773291263247</td><td>0.734203905340061</td><td>359.458472382061</td><td>-30.4487911888182</td><td>0.033894002288815</td><td>0.0219606896849117</td><td>1</td><td>0</td><td>1726151262</td></tr>\n",
       "<tr><td>183532609</td><td>20190415</td><td>--</td><td>7522-00505-1</td><td>275-215468</td><td>23593607-3501530</td><td>--</td><td>J235936.16-350153.1</td><td>2312679845530628096</td><td>19671522</td><td>--</td><td>STAR</td><td>tmgaia2</td><td>359.900296605672</td><td>-35.0313676342491</td><td>tmgaia2</td><td>109.747</td><td>0.0601081</td><td>7.6142</td><td>0.0601857</td><td>gaia2</td><td>11.0873</td><td>0.0445525</td><td>gaia2</td><td>354.25228248587</td><td>-76.3950374699126</td><td>344.333949440163</td><td>-31.741704160301</td><td>10.519</td><td>0.043</td><td>9.789</td><td>0.003</td><td>nan</td><td>nan</td><td>nan</td><td>nan</td><td>nan</td><td>nan</td><td>nan</td><td>nan</td><td>nan</td><td>nan</td><td>8.501</td><td>0.027</td><td>8.218</td><td>0.049</td><td>8.086</td><td>0.023</td><td>AAA-111-111-0dd-0-0</td><td>nan</td><td>7.908</td><td>0.021</td><td>7.921</td><td>0.018</td><td>7.965</td><td>0.019</td><td>7.898</td><td>0.17</td><td>9.61249</td><td>0.000415</td><td>9.1468</td><td>0.006</td><td>gbprp</td><td>spect</td><td>5589.0</td><td>144.391</td><td>4.43663</td><td>0.0845952</td><td>0.24</td><td>0.1</td><td>0.996641</td><td>0.0580502</td><td>0.99</td><td>0.124742</td><td>1.00004</td><td>0.237114</td><td>DWARF</td><td>0.873189867</td><td>0.0217027</td><td>89.9606</td><td>0.3633</td><td>0.0</td><td>0.0</td><td>41</td><td>0.03600202</td><td>--</td><td>--</td><td>0.00355099800479193</td><td>0.0</td><td>0.0</td><td>--</td><td>0.0893932</td><td>0.16009</td><td>0.0634965</td><td>0.052604</td><td>0.17991</td><td>0.294317</td><td>0.0731925</td><td>0.095998</td><td>0.0262067</td><td>0.0171987</td><td>0.3618</td><td>0.3648</td><td>bj2018</td><td>114.96</td><td>173.821</td><td>spect</td><td>9.99676</td><td>0.001704</td><td>9.10507</td><td>0.001927</td><td>1</td><td>--</td><td>tycho2v3</td><td>tycho2b3</td><td>planetcandidate</td><td>0.977573655768021</td><td>0.933278424153082</td><td>359.900873669589</td><td>-35.0313348522536</td><td>0.034257213550143</td><td>0.02732400210325</td><td>1</td><td>0</td><td>1726154921</td></tr>\n",
       "<tr><td>322010266</td><td>20190415</td><td>--</td><td>8457-00689-1</td><td>218-198203</td><td>23594387-4633272</td><td>--</td><td>J235943.86-463327.6</td><td>6530407343032835328</td><td>24621879</td><td>--</td><td>STAR</td><td>tmgaia2</td><td>359.93280037087</td><td>-46.5575651694636</td><td>tmgaia2</td><td>-9.63654</td><td>0.0348112</td><td>-35.6326</td><td>0.0342336</td><td>gaia2</td><td>8.09735</td><td>0.0374999</td><td>gaia2</td><td>327.237841125077</td><td>-68.055044814822</td><td>337.164517864889</td><td>-41.7461458102135</td><td>11.588</td><td>0.114</td><td>10.872</td><td>0.008</td><td>nan</td><td>nan</td><td>nan</td><td>nan</td><td>nan</td><td>nan</td><td>nan</td><td>nan</td><td>nan</td><td>nan</td><td>9.537</td><td>0.023</td><td>9.212</td><td>0.023</td><td>9.115</td><td>0.023</td><td>AAA-222-111-000-0-0</td><td>nan</td><td>9.063</td><td>0.023</td><td>9.114</td><td>0.019</td><td>9.068</td><td>0.03</td><td>9.031</td><td>0.445</td><td>10.672</td><td>0.000237</td><td>10.1829</td><td>0.006</td><td>rered</td><td>gaia2</td><td>5448.0</td><td>124.155</td><td>4.51174</td><td>0.0804382</td><td>nan</td><td>nan</td><td>0.895422</td><td>0.0451055</td><td>0.95</td><td>0.122863</td><td>1.32324</td><td>0.299819</td><td>DWARF</td><td>0.6363541</td><td>0.0210739</td><td>123.061</td><td>0.5725</td><td>0.00759002</td><td>0.01021441</td><td>34</td><td>0.0008550352</td><td>--</td><td>--</td><td>0.00251956724507628</td><td>0.0124004</td><td>0.00802842</td><td>schlegel</td><td>0.118919</td><td>0.126806</td><td>0.0423256</td><td>0.0478854</td><td>0.278073</td><td>0.321566</td><td>0.081586</td><td>0.0792905</td><td>0.0185661</td><td>0.0235817</td><td>0.57</td><td>0.575</td><td>bj2018</td><td>145.106</td><td>103.203</td><td>dered</td><td>11.0749</td><td>0.000917</td><td>10.1352</td><td>0.0005</td><td>1</td><td>--</td><td>tycho2v3</td><td>tycho2b3</td><td>planetcandidate</td><td>0.58774383854276</td><td>0.530990792206039</td><td>359.932740031831</td><td>-46.5577185876196</td><td>0.0203381771295161</td><td>0.0198188802649512</td><td>1</td><td>0</td><td>1726182066</td></tr>\n",
       "<tr><td>322048177</td><td>20190415</td><td>--</td><td>8021-00443-1</td><td>235-189471</td><td>23592385-4302141</td><td>--</td><td>J235923.93-430213.7</td><td>6533045105787089280</td><td>22103891</td><td>--</td><td>STAR</td><td>tmgaia2</td><td>359.849405798572</td><td>-43.0372702080348</td><td>tmgaia2</td><td>77.3815</td><td>0.0741621</td><td>39.4011</td><td>0.0684012</td><td>gaia2</td><td>6.31651</td><td>0.0462601</td><td>gaia2</td><td>333.136274784482</td><td>-70.9089728038819</td><td>339.502755728248</td><td>-38.7110797246425</td><td>11.367</td><td>0.083</td><td>10.68</td><td>0.006</td><td>nan</td><td>nan</td><td>nan</td><td>nan</td><td>nan</td><td>nan</td><td>nan</td><td>nan</td><td>nan</td><td>nan</td><td>9.65</td><td>0.024</td><td>9.329</td><td>0.022</td><td>9.255</td><td>0.019</td><td>AAA-222-111-000-0-0</td><td>nan</td><td>9.207</td><td>0.023</td><td>9.252</td><td>0.021</td><td>9.179</td><td>0.033</td><td>8.378</td><td>nan</td><td>10.6334</td><td>0.000267</td><td>10.2073</td><td>0.006</td><td>rered</td><td>gaia2</td><td>5836.0</td><td>131.554</td><td>4.45789</td><td>0.0780964</td><td>nan</td><td>nan</td><td>1.00157</td><td>0.0491959</td><td>1.05</td><td>0.135521</td><td>1.04505</td><td>0.224958</td><td>DWARF</td><td>1.04838979</td><td>0.0409627</td><td>157.606</td><td>1.1575</td><td>0.00766297</td><td>0.01055355</td><td>36</td><td>0.00218853261</td><td>--</td><td>--</td><td>0.00204180538045341</td><td>0.0104064</td><td>0.0107007</td><td>schlegel</td><td>0.113963</td><td>0.157079</td><td>0.0464633</td><td>0.0519286</td><td>0.213129</td><td>0.236788</td><td>0.0805696</td><td>0.0756233</td><td>0.0402748</td><td>0.0416506</td><td>1.149</td><td>1.166</td><td>bj2018</td><td>134.209</td><td>128.899</td><td>dered</td><td>10.9692</td><td>0.000663</td><td>10.1577</td><td>0.000676</td><td>1</td><td>--</td><td>tycho2v3</td><td>tycho2b3</td><td>planetcandidate</td><td>1.23655862391317</td><td>1.06067421786513</td><td>359.849861628128</td><td>-43.0371005653167</td><td>0.0477081798069058</td><td>0.031085634268081</td><td>1</td><td>0</td><td>1726182783</td></tr>\n",
       "</table></div>"
      ],
      "text/plain": [
       "<Table length=53056>\n",
       "    ID    version   HIP       TYC      ... raddflag wdflag   objID   \n",
       "  str10     str8   int64     str12     ...  int64   int64    str10   \n",
       "--------- -------- ------ ------------ ... -------- ------ ----------\n",
       "257486953 20190415     -- 0004-01211-1 ...        1      0      95867\n",
       "388583226 20190415     -- 4500-00124-1 ...        1      0     275918\n",
       "432485132 20190415     -- 2781-00863-1 ...        1      0     378353\n",
       "238305136 20190415     -- 1729-00866-1 ...        1      0    1104482\n",
       "238390058 20190415     -- 1729-01226-1 ...        1      0    1104967\n",
       "238390147 20190415     -- 1729-01496-1 ...        1      0    1105056\n",
       "293221159 20190415     -- 0004-01109-1 ...        1      0    1139818\n",
       "293257379 20190415     -- 0007-01101-1 ...        1      0    1142861\n",
       "326675379 20190415     -- 3656-00114-1 ...        1      0    1161510\n",
       "      ...      ...    ...          ... ...      ...    ...        ...\n",
       "248603232 20190415     -- 5256-00166-1 ...        1      0 1725953351\n",
       "270622530 20190415     -- 7516-01015-1 ...        1      0 1725964292\n",
       "  9790705 20190415     -- 5831-00891-1 ...        1      0 1726119365\n",
       " 65259100 20190415     -- 6988-00276-1 ...        1      0 1726125109\n",
       "114804968 20190415     -- 6411-01265-1 ...        1      0 1726137053\n",
       "144436638 20190415     -- 8457-01039-1 ...        1      0 1726142233\n",
       "183528944 20190415 118143 7516-00931-1 ...        1      0 1726151262\n",
       "183532609 20190415     -- 7522-00505-1 ...        1      0 1726154921\n",
       "322010266 20190415     -- 8457-00689-1 ...        1      0 1726182066\n",
       "322048177 20190415     -- 8021-00443-1 ...        1      0 1726182783"
      ]
     },
     "execution_count": 3,
     "metadata": {},
     "output_type": "execute_result"
    }
   ],
   "source": [
    "catalog_data"
   ]
  },
  {
   "cell_type": "code",
   "execution_count": 4,
   "id": "823dabae-7ea8-48c9-a6f8-076f3fed7800",
   "metadata": {},
   "outputs": [],
   "source": [
    "# next, download a single star from this catalog to inspect the data type we're working with."
   ]
  },
  {
   "cell_type": "code",
   "execution_count": 5,
   "id": "b20ccd8a-f350-4f7d-ac7c-08ce1d4b4b69",
   "metadata": {},
   "outputs": [
    {
     "name": "stdout",
     "output_type": "stream",
     "text": [
      "CPU times: user 29.8 ms, sys: 1.95 ms, total: 31.8 ms\n",
      "Wall time: 10.7 s\n"
     ]
    }
   ],
   "source": [
    "%%time\n",
    "TESS_table = Observations.query_criteria(objectname='TIC ' + catalog_data['ID'][0]\n",
    "                                         , obs_collection=\"TESS\"\n",
    "                                         , dataproduct_type='timeseries'\n",
    "                                         ) \n",
    "\n",
    "data_products = Observations.get_product_list(TESS_table) \n"
   ]
  },
  {
   "cell_type": "code",
   "execution_count": 6,
   "id": "c633b014-4f24-428f-abbe-4d6ac34247ac",
   "metadata": {},
   "outputs": [
    {
     "data": {
      "text/html": [
       "<div><i>Table masked=True length=4</i>\n",
       "<table id=\"table140689158868752\" class=\"table-striped table-bordered table-condensed\">\n",
       "<thead><tr><th>obsID</th><th>obs_collection</th><th>dataproduct_type</th><th>obs_id</th><th>description</th><th>type</th><th>dataURI</th><th>productType</th><th>productGroupDescription</th><th>productSubGroupDescription</th><th>productDocumentationURL</th><th>project</th><th>prvversion</th><th>proposal_id</th><th>productFilename</th><th>size</th><th>parent_obsid</th><th>dataRights</th><th>calib_level</th><th>filters</th></tr></thead>\n",
       "<thead><tr><th>str8</th><th>str4</th><th>str10</th><th>str47</th><th>str18</th><th>str1</th><th>str73</th><th>str7</th><th>str28</th><th>str2</th><th>str1</th><th>str4</th><th>str20</th><th>str6</th><th>str55</th><th>int64</th><th>str8</th><th>str6</th><th>int64</th><th>str4</th></tr></thead>\n",
       "<tr><td>63404332</td><td>TESS</td><td>timeseries</td><td>tess2021232031932-s0042-0000000257486953-0213-s</td><td>Light curves</td><td>S</td><td>mast:TESS/product/tess2021232031932-s0042-0000000257486953-0213-s_lc.fits</td><td>SCIENCE</td><td>Minimum Recommended Products</td><td>LC</td><td>--</td><td>SPOC</td><td>spoc-5.0.43-20210918</td><td>N/A</td><td>tess2021232031932-s0042-0000000257486953-0213-s_lc.fits</td><td>1863360</td><td>63404332</td><td>PUBLIC</td><td>3</td><td>TESS</td></tr>\n",
       "<tr><td>63404332</td><td>TESS</td><td>timeseries</td><td>tess2021232031932-s0042-0000000257486953-0213-s</td><td>Target pixel files</td><td>S</td><td>mast:TESS/product/tess2021232031932-s0042-0000000257486953-0213-s_tp.fits</td><td>SCIENCE</td><td>Minimum Recommended Products</td><td>TP</td><td>--</td><td>SPOC</td><td>spoc-5.0.43-20210918</td><td>N/A</td><td>tess2021232031932-s0042-0000000257486953-0213-s_tp.fits</td><td>44939520</td><td>63404332</td><td>PUBLIC</td><td>2</td><td>TESS</td></tr>\n",
       "<tr><td>63404336</td><td>TESS</td><td>timeseries</td><td>tess2021232031932-s0042-0000000257488401-0213-s</td><td>Light curves</td><td>S</td><td>mast:TESS/product/tess2021232031932-s0042-0000000257488401-0213-s_lc.fits</td><td>SCIENCE</td><td>Minimum Recommended Products</td><td>LC</td><td>--</td><td>SPOC</td><td>spoc-5.0.43-20210918</td><td>G04191</td><td>tess2021232031932-s0042-0000000257488401-0213-s_lc.fits</td><td>1863360</td><td>63404336</td><td>PUBLIC</td><td>3</td><td>TESS</td></tr>\n",
       "<tr><td>63404336</td><td>TESS</td><td>timeseries</td><td>tess2021232031932-s0042-0000000257488401-0213-s</td><td>Target pixel files</td><td>S</td><td>mast:TESS/product/tess2021232031932-s0042-0000000257488401-0213-s_tp.fits</td><td>SCIENCE</td><td>Minimum Recommended Products</td><td>TP</td><td>--</td><td>SPOC</td><td>spoc-5.0.43-20210918</td><td>G04191</td><td>tess2021232031932-s0042-0000000257488401-0213-s_tp.fits</td><td>44939520</td><td>63404336</td><td>PUBLIC</td><td>2</td><td>TESS</td></tr>\n",
       "</table></div>"
      ],
      "text/plain": [
       "<Table masked=True length=4>\n",
       " obsID   obs_collection dataproduct_type ... dataRights calib_level filters\n",
       "  str8        str4           str10       ...    str6       int64      str4 \n",
       "-------- -------------- ---------------- ... ---------- ----------- -------\n",
       "63404332           TESS       timeseries ...     PUBLIC           3    TESS\n",
       "63404332           TESS       timeseries ...     PUBLIC           2    TESS\n",
       "63404336           TESS       timeseries ...     PUBLIC           3    TESS\n",
       "63404336           TESS       timeseries ...     PUBLIC           2    TESS"
      ]
     },
     "execution_count": 6,
     "metadata": {},
     "output_type": "execute_result"
    }
   ],
   "source": [
    "data_products"
   ]
  },
  {
   "cell_type": "code",
   "execution_count": 16,
   "id": "81448a28-563f-40c9-b8cd-c52a7ebe8623",
   "metadata": {},
   "outputs": [
    {
     "name": "stdout",
     "output_type": "stream",
     "text": [
      "Filename: <class 's3fs.core.S3File'>\n",
      "No.    Name      Ver    Type      Cards   Dimensions   Format\n",
      "  0  PRIMARY       1 PrimaryHDU      44   ()      \n",
      "  1  LIGHTCURVE    1 BinTableHDU    167   18342R x 20C   [D, E, J, E, E, E, E, E, E, J, D, E, D, E, D, E, D, E, E, E]   \n",
      "  2  APERTURE      1 ImageHDU        49   (11, 11)   int32   \n"
     ]
    }
   ],
   "source": [
    "# Keep only the science products\n",
    "filtered = Observations.filter_products(data_products, productType=\"SCIENCE\")\n",
    "\n",
    "# Be selective about the columns we display\n",
    "cols = ['obs_id', 'description', 'productSubGroupDescription']\n",
    "\n",
    "# Look at the first five rows of the filtered results\n",
    "filtered[0:10][cols]\n",
    "ex_id = filtered[filtered['productSubGroupDescription']=='LC']['obs_id'][0]\n",
    "# ex_id = filtered['obs_id'][0]\n",
    "\n",
    "lc_prod = Observations.filter_products(data_products\n",
    "                                      , obs_id = ex_id\n",
    "                                      , productSubGroupDescription = \"LC\"\n",
    "                                      )\n",
    "# Get the cloud URI\n",
    "lc_uri = Observations.get_cloud_uris(lc_prod)[0]\n",
    "\n",
    "# open the cloud fits file\n",
    "lc_fits = fits.open(lc_uri, use_fsspec=True, fsspec_kwargs={\"anon\": True})\n",
    "\n",
    "# take a peek at our fits file\n",
    "lc_fits.info()"
   ]
  },
  {
   "cell_type": "code",
   "execution_count": 10,
   "id": "d3f54e36-1a4c-4e58-b0c5-fde79067c7f5",
   "metadata": {},
   "outputs": [
    {
     "data": {
      "text/plain": [
       "ColDefs(\n",
       "    name = 'TIME'; format = 'D'; unit = 'BJD - 2457000, days'; disp = 'D14.7'\n",
       "    name = 'TIMECORR'; format = 'E'; unit = 'd'; disp = 'E14.7'\n",
       "    name = 'CADENCENO'; format = 'J'; disp = 'I10'\n",
       "    name = 'SAP_FLUX'; format = 'E'; unit = 'e-/s'; disp = 'E14.7'\n",
       "    name = 'SAP_FLUX_ERR'; format = 'E'; unit = 'e-/s'; disp = 'E14.7'\n",
       "    name = 'SAP_BKG'; format = 'E'; unit = 'e-/s'; disp = 'E14.7'\n",
       "    name = 'SAP_BKG_ERR'; format = 'E'; unit = 'e-/s'; disp = 'E14.7'\n",
       "    name = 'PDCSAP_FLUX'; format = 'E'; unit = 'e-/s'; disp = 'E14.7'\n",
       "    name = 'PDCSAP_FLUX_ERR'; format = 'E'; unit = 'e-/s'; disp = 'E14.7'\n",
       "    name = 'QUALITY'; format = 'J'; disp = 'B16.16'\n",
       "    name = 'PSF_CENTR1'; format = 'D'; unit = 'pixel'; disp = 'F10.5'\n",
       "    name = 'PSF_CENTR1_ERR'; format = 'E'; unit = 'pixel'; disp = 'E14.7'\n",
       "    name = 'PSF_CENTR2'; format = 'D'; unit = 'pixel'; disp = 'F10.5'\n",
       "    name = 'PSF_CENTR2_ERR'; format = 'E'; unit = 'pixel'; disp = 'E14.7'\n",
       "    name = 'MOM_CENTR1'; format = 'D'; unit = 'pixel'; disp = 'F10.5'\n",
       "    name = 'MOM_CENTR1_ERR'; format = 'E'; unit = 'pixel'; disp = 'E14.7'\n",
       "    name = 'MOM_CENTR2'; format = 'D'; unit = 'pixel'; disp = 'F10.5'\n",
       "    name = 'MOM_CENTR2_ERR'; format = 'E'; unit = 'pixel'; disp = 'E14.7'\n",
       "    name = 'POS_CORR1'; format = 'E'; unit = 'pixels'; disp = 'E14.7'\n",
       "    name = 'POS_CORR2'; format = 'E'; unit = 'pixels'; disp = 'E14.7'\n",
       ")"
      ]
     },
     "execution_count": 10,
     "metadata": {},
     "output_type": "execute_result"
    }
   ],
   "source": [
    "lc = lc_fits[1].data\n",
    "lc.columns"
   ]
  },
  {
   "cell_type": "code",
   "execution_count": 11,
   "id": "a82ac177-eabc-45fe-8aaa-86c7d5471d52",
   "metadata": {},
   "outputs": [
    {
     "data": {
      "text/plain": [
       "Text(0.5, 0, 'TIME  (BJD-2457000)')"
      ]
     },
     "execution_count": 11,
     "metadata": {},
     "output_type": "execute_result"
    },
    {
     "data": {
      "image/png": "[encoded data removed]",
      "text/plain": [
       "<Figure size 1100x400 with 2 Axes>"
      ]
     },
     "metadata": {},
     "output_type": "display_data"
    }
   ],
   "source": [
    "sapflux = lc['SAP_FLUX'] #SAP flux column\n",
    "pdcflux = lc['PDCSAP_FLUX'] #PDCSAP flux column\n",
    "time_lc = lc['TIME'] #time column\n",
    "\n",
    "fig = plt.figure(figsize = (11,4))\n",
    "\n",
    "fig.add_subplot(211)\n",
    "plt.plot(time_lc, sapflux,'.', label = 'SAP', color = \"gold\")\n",
    "plt.legend(loc = 'lower left')\n",
    "plt.ylabel(\"FLUX (e-/s)\")\n",
    "\n",
    "fig.add_subplot(212)\n",
    "plt.plot(time_lc, pdcflux,'.', label = 'PDC', color = \"red\")\n",
    "plt.legend(loc = 'lower left')\n",
    "plt.ylabel(\"FLUX (e-/s)\")\n",
    "plt.xlabel('TIME  (BJD-2457000)')"
   ]
  },
  {
   "cell_type": "markdown",
   "id": "746bd355-fba3-467f-baa8-1bfe846d9886",
   "metadata": {},
   "source": [
    "# Then: loop over and download all the files (clear TIKE angle)"
   ]
  },
  {
   "cell_type": "code",
   "execution_count": 12,
   "id": "54417639-3368-45ba-8436-a356d7a6bbdf",
   "metadata": {},
   "outputs": [],
   "source": [
    "# explain that we're writing a function here. and lay out what each step does. first, here's the slow version."
   ]
  },
  {
   "cell_type": "code",
   "execution_count": 10,
   "id": "dd997642-7a74-4251-87de-a8bea5a116d8",
   "metadata": {},
   "outputs": [],
   "source": [
    "def download_data(catalog_id):\n",
    "\n",
    "\n",
    "    TESS_table = Observations.query_criteria(target_name=catalog_id\n",
    "                                             , obs_collection=\"TESS\"\n",
    "                                             , dataproduct_type='timeseries'\n",
    "                                             ) \n",
    "    try:\n",
    "        data_products = Observations.get_product_list(TESS_table) \n",
    "    except InvalidQueryError:\n",
    "        print('nothing found.')\n",
    "        return [], []\n",
    "        \n",
    "    # Keep only the science products\n",
    "    filtered = Observations.filter_products(data_products, productType=\"SCIENCE\")\n",
    "    \n",
    "    # Be selective about the columns we display\n",
    "    cols = ['obs_id', 'description', 'productSubGroupDescription']\n",
    "    \n",
    "    # Look at the first five rows of the filtered results\n",
    "    filtered[0:10][cols]\n",
    "    ex_id = filtered[filtered['productSubGroupDescription']=='LC']['obs_id'][0]\n",
    "    \n",
    "    lc_prod = Observations.filter_products(data_products\n",
    "                                          , obs_id = ex_id   \n",
    "                                          , productSubGroupDescription = \"LC\")\n",
    "    \n",
    "    # Get the cloud URI\n",
    "    lc_uri = Observations.get_cloud_uris(lc_prod)\n",
    "\n",
    "\n",
    "    lc_fits = fits.open(lc_uri, use_fsspec=True, fsspec_kwargs={\"anon\": True})\n",
    "    \n",
    "    #Take a peek at the FITS file we downloaded\n",
    "    #lc_fits = fits.open(lc_file)\n",
    "    lc = lc_fits[1].data\n",
    "    sapflux = lc['SAP_FLUX'] #SAP flux column\n",
    "    pdcflux = lc['PDCSAP_FLUX'] #PDCSAP flux column\n",
    "    time_lc = lc['TIME'] #time column\n",
    "    return time_lc, pdcflux\n"
   ]
  },
  {
   "cell_type": "code",
   "execution_count": 44,
   "id": "e4a3808b-51ec-42b4-bc78-4902f88acb7f",
   "metadata": {},
   "outputs": [],
   "source": [
    "# todo: bulk query. multithreading and target_name each did a factor of 10 speedup. can i do one more factor of 10?"
   ]
  },
  {
   "cell_type": "code",
   "execution_count": null,
   "id": "d6b01bd1-fc79-4425-9e77-a91866c80b29",
   "metadata": {},
   "outputs": [],
   "source": [
    "# todo: explain all this cool multithreading that we're doing."
   ]
  },
  {
   "cell_type": "code",
   "execution_count": 37,
   "id": "08a8681d-b49e-4635-9c00-052bb829d260",
   "metadata": {},
   "outputs": [],
   "source": [
    "from concurrent.futures import ThreadPoolExecutor, as_completed\n",
    "\n",
    "# todo: turn off printing, benchmark the function, what's the slow part?\n",
    "\n",
    "def fetch_and_save_data(catalog_id):\n",
    "    TESS_table = Observations.query_criteria(target_name=catalog_id\n",
    "                                             , obs_collection=\"TESS\"\n",
    "                                             , dataproduct_type='timeseries'\n",
    "                                             ) \n",
    "    try:\n",
    "        data_products = Observations.get_product_list(TESS_table) \n",
    "    except InvalidQueryError:\n",
    "        print('nothing found.')\n",
    "        return [], []\n",
    "    # Keep only the science products\n",
    "    filtered = Observations.filter_products(data_products, productType=\"SCIENCE\")\n",
    "    \n",
    "    # Be selective about the columns we display\n",
    "    cols = ['obs_id', 'description', 'productSubGroupDescription']\n",
    "    \n",
    "    # Look at the first five rows of the filtered results\n",
    "    filtered[0:10][cols]\n",
    "    ex_id = filtered[filtered['productSubGroupDescription']=='LC']['obs_id'][0]\n",
    "    \n",
    "    lc_prod = Observations.filter_products(data_products\n",
    "                                          , obs_id = ex_id   \n",
    "                                          , productSubGroupDescription = \"LC\")\n",
    "    \n",
    "    # Get the cloud uris for these files\n",
    "    lc_uri = Observations.get_cloud_uris(lc_prod)[0]\n",
    "\n",
    "    #open the lc file\n",
    "    lc_fits = fits.open(lc_uri, use_fsspec=True, fsspec_kwargs={\"anon\": True})\n",
    "    \n",
    "    # Download the lc file\n",
    "    #lc_file = Observations.download_products(lc_prod, cloud_only=True)['Local Path'][0]\n",
    "    \n",
    "    #Take a peek at the FITS file we downloaded\n",
    "    lc = lc_fits[1].data\n",
    "    sapflux = lc['SAP_FLUX'] #SAP flux column\n",
    "    pdcflux = lc['PDCSAP_FLUX'] #PDCSAP flux column\n",
    "    pdcflux_err = lc['PDCSAP_FLUX_ERR']\n",
    "    time_lc = lc['TIME'] #time column\n",
    "\n",
    "    if not os.path.exists(\"lc_data\"):\n",
    "        os.mkdir(\"lc_data\")\n",
    "    np.save(f'lc_data/{catalog_id}.npy', [time_lc, pdcflux, pdcflux_err])\n",
    "\n"
   ]
  },
  {
   "cell_type": "code",
   "execution_count": 70,
   "id": "b6113022-2312-4525-90e9-f0f39aca827b",
   "metadata": {},
   "outputs": [
    {
     "name": "stdout",
     "output_type": "stream",
     "text": [
      "293465600.npy  423524428.npy  450639274.npy\n",
      "411691437.npy  443613858.npy  85282612.npy\n"
     ]
    }
   ],
   "source": [
    "ls lc_data"
   ]
  },
  {
   "cell_type": "code",
   "execution_count": 27,
   "id": "2d26a1a7-b94f-4d3e-b91d-dc26c27078b0",
   "metadata": {},
   "outputs": [
    {
     "data": {
      "text/plain": [
       "'288549115'"
      ]
     },
     "execution_count": 27,
     "metadata": {},
     "output_type": "execute_result"
    }
   ],
   "source": [
    "catalog_data['ID'][40000]"
   ]
  },
  {
   "cell_type": "code",
   "execution_count": 33,
   "id": "a6a9ed3a-68dc-43b5-ad3b-8f3c4541b64d",
   "metadata": {},
   "outputs": [],
   "source": [
    "import os"
   ]
  },
  {
   "cell_type": "code",
   "execution_count": 36,
   "id": "51ab47f3-eb82-4702-bb3f-1ae7f2b0aa4a",
   "metadata": {},
   "outputs": [
    {
     "data": {
      "text/plain": [
       "False"
      ]
     },
     "execution_count": 36,
     "metadata": {},
     "output_type": "execute_result"
    }
   ],
   "source": [
    "os.path.exists(\"lc_data\")"
   ]
  },
  {
   "cell_type": "code",
   "execution_count": 18,
   "id": "853c27af-0a53-48ed-bae5-7b117cfe227b",
   "metadata": {},
   "outputs": [
    {
     "name": "stdout",
     "output_type": "stream",
     "text": [
      "Collecting line_profiler\n",
      "  Downloading line_profiler-4.1.3-cp311-cp311-manylinux_2_17_x86_64.manylinux2014_x86_64.whl.metadata (34 kB)\n",
      "Downloading line_profiler-4.1.3-cp311-cp311-manylinux_2_17_x86_64.manylinux2014_x86_64.whl (748 kB)\n",
      "\u001b[2K   \u001b[90m━━━━━━━━━━━━━━━━━━━━━━━━━━━━━━━━━━━━━━━━\u001b[0m \u001b[32m748.4/748.4 kB\u001b[0m \u001b[31m8.6 MB/s\u001b[0m eta \u001b[36m0:00:00\u001b[0m:00:01\u001b[0m\n",
      "\u001b[?25hInstalling collected packages: line_profiler\n",
      "Successfully installed line_profiler-4.1.3\n"
     ]
    }
   ],
   "source": [
    "!pip install line_profiler"
   ]
  },
  {
   "cell_type": "code",
   "execution_count": 20,
   "id": "aa04987a-e874-4535-8ed6-ec22dcb40466",
   "metadata": {},
   "outputs": [],
   "source": [
    "%load_ext line_profiler"
   ]
  },
  {
   "cell_type": "code",
   "execution_count": 66,
   "id": "84faba43-0ce0-4af6-97a3-473a8082c98b",
   "metadata": {},
   "outputs": [
    {
     "data": {
      "text/plain": [
       "53056"
      ]
     },
     "execution_count": 66,
     "metadata": {},
     "output_type": "execute_result"
    }
   ],
   "source": [
    "len(catalog_data['ID'])"
   ]
  },
  {
   "cell_type": "code",
   "execution_count": 38,
   "id": "45863018-d90f-4e47-b8ec-a99fe2941517",
   "metadata": {},
   "outputs": [],
   "source": [
    "fetch_and_save_data(catalog_data['ID'][40000])"
   ]
  },
  {
   "cell_type": "code",
   "execution_count": 39,
   "id": "dd0002d0-6415-48a4-a727-d5494222f0a0",
   "metadata": {},
   "outputs": [
    {
     "data": {
      "text/plain": [
       "Timer unit: 1e-09 s\n",
       "\n",
       "Total time: 0.663822 s\n",
       "File: /tmp/ipykernel_629/3891653983.py\n",
       "Function: fetch_and_save_data at line 5\n",
       "\n",
       "Line #      Hits         Time  Per Hit   % Time  Line Contents\n",
       "==============================================================\n",
       "     5                                           def fetch_and_save_data(catalog_id):\n",
       "     6         2   62469159.0    3e+07      9.4      TESS_table = Observations.query_criteria(target_name=catalog_id\n",
       "     7         1        236.0    236.0      0.0                                               , obs_collection=\"TESS\"\n",
       "     8         1        167.0    167.0      0.0                                               , dataproduct_type='timeseries'\n",
       "     9                                                                                        ) \n",
       "    10         1        273.0    273.0      0.0      try:\n",
       "    11         1  216721071.0    2e+08     32.6          data_products = Observations.get_product_list(TESS_table) \n",
       "    12                                               except InvalidQueryError:\n",
       "    13                                                   print('nothing found.')\n",
       "    14                                                   return [], []\n",
       "    15                                               # Keep only the science products\n",
       "    16         1    4133659.0    4e+06      0.6      filtered = Observations.filter_products(data_products, productType=\"SCIENCE\")\n",
       "    17                                               \n",
       "    18                                               # Be selective about the columns we display\n",
       "    19         1        760.0    760.0      0.0      cols = ['obs_id', 'description', 'productSubGroupDescription']\n",
       "    20                                               \n",
       "    21                                               # Look at the first five rows of the filtered results\n",
       "    22         1    4671990.0    5e+06      0.7      filtered[0:10][cols]\n",
       "    23         1    3834696.0    4e+06      0.6      ex_id = filtered[filtered['productSubGroupDescription']=='LC']['obs_id'][0]\n",
       "    24                                               \n",
       "    25         2    4080186.0    2e+06      0.6      lc_prod = Observations.filter_products(data_products\n",
       "    26         1        188.0    188.0      0.0                                            , obs_id = ex_id   \n",
       "    27         1        269.0    269.0      0.0                                            , productSubGroupDescription = \"LC\")\n",
       "    28                                               \n",
       "    29                                               # Get the cloud uris for these files\n",
       "    30         1  185009007.0    2e+08     27.9      lc_uri = Observations.get_cloud_uris(lc_prod)[0]\n",
       "    31                                           \n",
       "    32                                               #open the lc file\n",
       "    33         1  121052348.0    1e+08     18.2      lc_fits = fits.open(lc_uri, use_fsspec=True, fsspec_kwargs={\"anon\": True})\n",
       "    34                                               \n",
       "    35                                               # Download the lc file\n",
       "    36                                               #lc_file = Observations.download_products(lc_prod, cloud_only=True)['Local Path'][0]\n",
       "    37                                               \n",
       "    38                                               #Take a peek at the FITS file we downloaded\n",
       "    39         1   21416283.0    2e+07      3.2      lc = lc_fits[1].data\n",
       "    40         1     121939.0 121939.0      0.0      sapflux = lc['SAP_FLUX'] #SAP flux column\n",
       "    41         1      58638.0  58638.0      0.0      pdcflux = lc['PDCSAP_FLUX'] #PDCSAP flux column\n",
       "    42         1      54533.0  54533.0      0.0      pdcflux_err = lc['PDCSAP_FLUX_ERR']\n",
       "    43         1      53645.0  53645.0      0.0      time_lc = lc['TIME'] #time column\n",
       "    44                                           \n",
       "    45         1      23543.0  23543.0      0.0      if not os.path.exists(\"lc_data\"):\n",
       "    46                                                   os.mkdir(\"lc_data\")\n",
       "    47         1   40119524.0    4e+07      6.0      np.save(f'lc_data/{catalog_id}.npy', [time_lc, pdcflux, pdcflux_err])"
      ]
     },
     "metadata": {},
     "output_type": "display_data"
    }
   ],
   "source": [
    "%lprun -f fetch_and_save_data fetch_and_save_data(catalog_data['ID'][40000])"
   ]
  },
  {
   "cell_type": "code",
   "execution_count": null,
   "id": "93a89a37-1247-492b-b1ba-82533bb43954",
   "metadata": {},
   "outputs": [],
   "source": [
    "\n",
    "# Use ThreadPoolExecutor to download files in parallel\n",
    "total_tasks = len(catalog_data['ID'])\n",
    "progress_bar = tqdm(total=total_tasks)\n",
    "# for catalog_id in tqdm(catalog_data['ID'])\n",
    "max_workers = 32  # Adjust this based on your system's capabilities\n",
    "with ThreadPoolExecutor(max_workers=max_workers) as executor:\n",
    "    futures = [executor.submit(fetch_and_save_data, catalog_id) for catalog_id in catalog_data['ID']]\n",
    "    for future in as_completed(futures):\n",
    "        progress_bar.update(1)\n",
    "\n",
    "# Optionally wait for all futures to complete\n",
    "for future in futures:\n",
    "    future.result()"
   ]
  },
  {
   "cell_type": "code",
   "execution_count": 41,
   "id": "4d99d70c-6324-43d0-b720-d7b40e25a871",
   "metadata": {},
   "outputs": [
    {
     "name": "stderr",
     "output_type": "stream",
     "text": [
      "  0%|          | 1/53056 [00:00<8:25:43,  1.75it/s]"
     ]
    },
    {
     "name": "stdout",
     "output_type": "stream",
     "text": [
      "INFO: Found cached file ./mastDownload/TESS/tess2021232031932-s0042-0000000257486953-0213-s/tess2021232031932-s0042-0000000257486953-0213-s_lc.fits with expected size 1863360. [astroquery.mast.cloud]\n"
     ]
    },
    {
     "name": "stderr",
     "output_type": "stream",
     "text": [
      "  0%|          | 2/53056 [00:01<8:29:55,  1.73it/s]"
     ]
    },
    {
     "name": "stdout",
     "output_type": "stream",
     "text": [
      "INFO: Found cached file ./mastDownload/TESS/tess2020106103520-s0024-0000000388583226-0180-s/tess2020106103520-s0024-0000000388583226-0180-s_lc.fits with expected size 1938240. [astroquery.mast.cloud]\n",
      "Downloading URL s3://stpubdata/tess/public/tid/s0017/0000/0004/3248/5132/tess2019279210107-s0017-0000000432485132-0161-s_lc.fits to ./mastDownload/TESS/tess2019279210107-s0017-0000000432485132-0161-s/tess2019279210107-s0017-0000000432485132-0161-s_lc.fits ... [Done]\n"
     ]
    },
    {
     "name": "stderr",
     "output_type": "stream",
     "text": [
      "  0%|          | 3/53056 [00:02<11:02:45,  1.33it/s]WARNING: NoResultsWarning: Query returned no results. [astroquery.mast.discovery_portal]\n"
     ]
    },
    {
     "name": "stdout",
     "output_type": "stream",
     "text": [
      "nothing found.\n",
      "Downloading URL s3://stpubdata/tess/public/tid/s0057/0000/0002/3839/0058/tess2022273165103-s0057-0000000238390058-0245-s_lc.fits to ./mastDownload/TESS/tess2022273165103-s0057-0000000238390058-0245-s/tess2022273165103-s0057-0000000238390058-0245-s_lc.fits ... [Done]\n"
     ]
    },
    {
     "name": "stderr",
     "output_type": "stream",
     "text": [
      "  0%|          | 5/53056 [00:03<8:47:54,  1.67it/s] "
     ]
    },
    {
     "name": "stdout",
     "output_type": "stream",
     "text": [
      "Downloading URL s3://stpubdata/tess/public/tid/s0057/0000/0002/3839/0147/tess2022273165103-s0057-0000000238390147-0245-s_lc.fits to ./mastDownload/TESS/tess2022273165103-s0057-0000000238390147-0245-s/tess2022273165103-s0057-0000000238390147-0245-s_lc.fits ... [Done]\n"
     ]
    },
    {
     "name": "stderr",
     "output_type": "stream",
     "text": [
      "  0%|          | 6/53056 [00:03<9:29:58,  1.55it/s]"
     ]
    },
    {
     "name": "stdout",
     "output_type": "stream",
     "text": [
      "Downloading URL s3://stpubdata/tess/public/tid/s0042/0000/0002/9322/1159/tess2021232031932-s0042-0000000293221159-0213-s_lc.fits to ./mastDownload/TESS/tess2021232031932-s0042-0000000293221159-0213-s/tess2021232031932-s0042-0000000293221159-0213-s_lc.fits ... [Done]\n"
     ]
    },
    {
     "name": "stderr",
     "output_type": "stream",
     "text": [
      "  0%|          | 8/53056 [00:05<9:17:57,  1.58it/s]"
     ]
    },
    {
     "name": "stdout",
     "output_type": "stream",
     "text": [
      "INFO: Found cached file ./mastDownload/TESS/tess2021232031932-s0042-0000000293257379-0213-s/tess2021232031932-s0042-0000000293257379-0213-s_lc.fits with expected size 1863360. [astroquery.mast.cloud]\n",
      "Downloading URL s3://stpubdata/tess/public/tid/s0024/0000/0003/2667/5379/tess2020106103520-s0024-0000000326675379-0180-s_lc.fits to ./mastDownload/TESS/tess2020106103520-s0024-0000000326675379-0180-s/tess2020106103520-s0024-0000000326675379-0180-s_lc.fits ... [Done]\n"
     ]
    },
    {
     "name": "stderr",
     "output_type": "stream",
     "text": [
      "  0%|          | 9/53056 [00:05<9:56:25,  1.48it/s]"
     ]
    },
    {
     "name": "stdout",
     "output_type": "stream",
     "text": [
      "Downloading URL s3://stpubdata/tess/public/tid/s0057/0000/0003/4730/4330/tess2022273165103-s0057-0000000347304330-0245-s_lc.fits to ./mastDownload/TESS/tess2022273165103-s0057-0000000347304330-0245-s/tess2022273165103-s0057-0000000347304330-0245-s_lc.fits ... [Done]\n"
     ]
    },
    {
     "name": "stderr",
     "output_type": "stream",
     "text": [
      "  0%|          | 10/53056 [00:06<10:29:20,  1.40it/s]"
     ]
    },
    {
     "name": "stdout",
     "output_type": "stream",
     "text": [
      "Downloading URL s3://stpubdata/tess/public/tid/s0017/0000/0003/5459/4978/tess2019279210107-s0017-0000000354594978-0161-s_lc.fits to ./mastDownload/TESS/tess2019279210107-s0017-0000000354594978-0161-s/tess2019279210107-s0017-0000000354594978-0161-s_lc.fits ... [Done]\n"
     ]
    },
    {
     "name": "stderr",
     "output_type": "stream",
     "text": [
      "  0%|          | 11/53056 [00:07<10:50:15,  1.36it/s]"
     ]
    },
    {
     "name": "stdout",
     "output_type": "stream",
     "text": [
      "nothing found."
     ]
    },
    {
     "name": "stderr",
     "output_type": "stream",
     "text": [
      "WARNING: NoResultsWarning: Query returned no results. [astroquery.mast.discovery_portal]\n",
      "  0%|          | 12/53056 [00:07<8:10:50,  1.80it/s] "
     ]
    },
    {
     "name": "stdout",
     "output_type": "stream",
     "text": [
      "\n"
     ]
    },
    {
     "name": "stderr",
     "output_type": "stream",
     "text": [
      "  0%|          | 13/53056 [00:07<6:26:44,  2.29it/s]"
     ]
    },
    {
     "name": "stdout",
     "output_type": "stream",
     "text": [
      "nothing found.\n"
     ]
    },
    {
     "name": "stderr",
     "output_type": "stream",
     "text": [
      "  0%|          | 14/53056 [00:07<5:17:49,  2.78it/s]"
     ]
    },
    {
     "name": "stdout",
     "output_type": "stream",
     "text": [
      "nothing found.\n"
     ]
    },
    {
     "name": "stderr",
     "output_type": "stream",
     "text": [
      "  0%|          | 15/53056 [00:08<6:37:15,  2.23it/s]"
     ]
    },
    {
     "name": "stdout",
     "output_type": "stream",
     "text": [
      "INFO: Found cached file ./mastDownload/TESS/tess2021232031932-s0042-0000000418755864-0213-s/tess2021232031932-s0042-0000000418755864-0213-s_lc.fits with expected size 1863360. [astroquery.mast.cloud]\n",
      "Downloading URL s3://stpubdata/tess/public/tid/s0017/0000/0004/3773/1913/tess2019279210107-s0017-0000000437731913-0161-s_lc.fits to ./mastDownload/TESS/tess2019279210107-s0017-0000000437731913-0161-s/tess2019279210107-s0017-0000000437731913-0161-s_lc.fits ... [Done]\n"
     ]
    },
    {
     "name": "stderr",
     "output_type": "stream",
     "text": [
      "  0%|          | 16/53056 [00:09<7:52:32,  1.87it/s]"
     ]
    },
    {
     "name": "stdout",
     "output_type": "stream",
     "text": [
      "nothing found.\n"
     ]
    },
    {
     "name": "stderr",
     "output_type": "stream",
     "text": [
      "WARNING: NoResultsWarning: Query returned no results. [astroquery.mast.discovery_portal]\n"
     ]
    },
    {
     "name": "stdout",
     "output_type": "stream",
     "text": [
      "Downloading URL s3://stpubdata/tess/public/tid/s0017/0000/0004/3996/3405/tess2019279210107-s0017-0000000439963405-0161-s_lc.fits to ./mastDownload/TESS/tess2019279210107-s0017-0000000439963405-0161-s/tess2019279210107-s0017-0000000439963405-0161-s_lc.fits ... [Done]\n"
     ]
    },
    {
     "name": "stderr",
     "output_type": "stream",
     "text": [
      "  0%|          | 19/53056 [00:10<7:45:26,  1.90it/s]"
     ]
    },
    {
     "name": "stdout",
     "output_type": "stream",
     "text": [
      "INFO: Found cached file ./mastDownload/TESS/tess2019279210107-s0017-0000000022527304-0161-s/tess2019279210107-s0017-0000000022527304-0161-s_lc.fits with expected size 1831680. [astroquery.mast.cloud]\n",
      "Downloading URL s3://stpubdata/tess/public/tid/s0017/0000/0002/0186/3564/tess2019279210107-s0017-0000000201863564-0161-s_lc.fits to ./mastDownload/TESS/tess2019279210107-s0017-0000000201863564-0161-s/tess2019279210107-s0017-0000000201863564-0161-s_lc.fits ... [Done]\n"
     ]
    },
    {
     "name": "stderr",
     "output_type": "stream",
     "text": [
      "  0%|          | 20/53056 [00:11<8:41:17,  1.70it/s]WARNING: NoResultsWarning: Query returned no results. [astroquery.mast.discovery_portal]\n",
      "  0%|          | 21/53056 [00:11<6:46:00,  2.18it/s]"
     ]
    },
    {
     "name": "stdout",
     "output_type": "stream",
     "text": [
      "nothing found.\n"
     ]
    },
    {
     "name": "stderr",
     "output_type": "stream",
     "text": [
      "  0%|          | 22/53056 [00:11<5:35:36,  2.63it/s]"
     ]
    },
    {
     "name": "stdout",
     "output_type": "stream",
     "text": [
      "nothing found.\n"
     ]
    },
    {
     "name": "stderr",
     "output_type": "stream",
     "text": [
      "  0%|          | 23/53056 [00:12<4:48:12,  3.07it/s]"
     ]
    },
    {
     "name": "stdout",
     "output_type": "stream",
     "text": [
      "nothing found.\n",
      "Downloading URL s3://stpubdata/tess/public/tid/s0018/0000/0003/8863/7626/tess2019306063752-s0018-0000000388637626-0162-s_lc.fits to ./mastDownload/TESS/tess2019306063752-s0018-0000000388637626-0162-s/tess2019306063752-s0018-0000000388637626-0162-s_lc.fits ... [Done]\n"
     ]
    },
    {
     "name": "stderr",
     "output_type": "stream",
     "text": [
      "  0%|          | 24/53056 [00:13<8:08:24,  1.81it/s]"
     ]
    },
    {
     "name": "stdout",
     "output_type": "stream",
     "text": [
      "Downloading URL s3://stpubdata/tess/public/tid/s0057/0000/0004/2695/6831/tess2022273165103-s0057-0000000426956831-0245-s_lc.fits to ./mastDownload/TESS/tess2022273165103-s0057-0000000426956831-0245-s/tess2022273165103-s0057-0000000426956831-0245-s_lc.fits ... [Done]\n"
     ]
    },
    {
     "name": "stderr",
     "output_type": "stream",
     "text": [
      "  0%|          | 25/53056 [00:14<9:35:33,  1.54it/s]"
     ]
    },
    {
     "name": "stdout",
     "output_type": "stream",
     "text": [
      "Downloading URL s3://stpubdata/tess/public/tid/s0017/0000/0004/3773/7149/tess2019279210107-s0017-0000000437737149-0161-s_lc.fits to ./mastDownload/TESS/tess2019279210107-s0017-0000000437737149-0161-s/tess2019279210107-s0017-0000000437737149-0161-s_lc.fits ... [Done]\n"
     ]
    },
    {
     "name": "stderr",
     "output_type": "stream",
     "text": [
      "  0%|          | 27/53056 [00:15<9:35:06,  1.54it/s] "
     ]
    },
    {
     "name": "stdout",
     "output_type": "stream",
     "text": [
      "INFO: Found cached file ./mastDownload/TESS/tess2019279210107-s0017-0000000439970703-0161-s/tess2019279210107-s0017-0000000439970703-0161-s_lc.fits with expected size 1831680. [astroquery.mast.cloud]\n"
     ]
    },
    {
     "name": "stderr",
     "output_type": "stream",
     "text": [
      "  0%|          | 28/53056 [00:15<8:55:39,  1.65it/s]"
     ]
    },
    {
     "name": "stdout",
     "output_type": "stream",
     "text": [
      "INFO: Found cached file ./mastDownload/TESS/tess2020106103520-s0024-0000000461342461-0180-s/tess2020106103520-s0024-0000000461342461-0180-s_lc.fits with expected size 1938240. [astroquery.mast.cloud]\n",
      "Downloading URL s3://stpubdata/tess/public/tid/s0057/0000/0000/5194/2255/tess2022273165103-s0057-0000000051942255-0245-s_lc.fits to ./mastDownload/TESS/tess2022273165103-s0057-0000000051942255-0245-s/tess2022273165103-s0057-0000000051942255-0245-s_lc.fits ... [Done]\n"
     ]
    },
    {
     "name": "stderr",
     "output_type": "stream",
     "text": [
      "  0%|          | 30/53056 [00:17<9:21:12,  1.57it/s]"
     ]
    },
    {
     "name": "stdout",
     "output_type": "stream",
     "text": [
      "INFO: Found cached file ./mastDownload/TESS/tess2022273165103-s0057-0000000150861292-0245-s/tess2022273165103-s0057-0000000150861292-0245-s_lc.fits with expected size 2102400. [astroquery.mast.cloud]\n"
     ]
    },
    {
     "name": "stderr",
     "output_type": "stream",
     "text": [
      "  0%|          | 31/53056 [00:17<9:03:09,  1.63it/s]"
     ]
    },
    {
     "name": "stdout",
     "output_type": "stream",
     "text": [
      "INFO: Found cached file ./mastDownload/TESS/tess2019279210107-s0017-0000000365962274-0161-s/tess2019279210107-s0017-0000000365962274-0161-s_lc.fits with expected size 1831680. [astroquery.mast.cloud]\n",
      "nothing found.\n"
     ]
    },
    {
     "name": "stderr",
     "output_type": "stream",
     "text": [
      "WARNING: NoResultsWarning: Query returned no results. [astroquery.mast.discovery_portal]\n",
      "  0%|          | 33/53056 [00:18<5:49:52,  2.53it/s]"
     ]
    },
    {
     "name": "stdout",
     "output_type": "stream",
     "text": [
      "nothing found.\n",
      "Downloading URL s3://stpubdata/tess/public/tid/s0017/0000/0004/3774/6031/tess2019279210107-s0017-0000000437746031-0161-s_lc.fits to ./mastDownload/TESS/tess2019279210107-s0017-0000000437746031-0161-s/tess2019279210107-s0017-0000000437746031-0161-s_lc.fits ... [Done]\n"
     ]
    },
    {
     "name": "stderr",
     "output_type": "stream",
     "text": [
      "  0%|          | 35/53056 [00:19<7:48:30,  1.89it/s]"
     ]
    },
    {
     "name": "stdout",
     "output_type": "stream",
     "text": [
      "INFO: Found cached file ./mastDownload/TESS/tess2019279210107-s0017-0000000440067680-0161-s/tess2019279210107-s0017-0000000440067680-0161-s_lc.fits with expected size 1831680. [astroquery.mast.cloud]\n",
      "nothing found.\n"
     ]
    },
    {
     "name": "stderr",
     "output_type": "stream",
     "text": [
      "WARNING: NoResultsWarning: Query returned no results. [astroquery.mast.discovery_portal]\n"
     ]
    },
    {
     "name": "stdout",
     "output_type": "stream",
     "text": [
      "Downloading URL s3://stpubdata/tess/public/tid/s0017/0000/0000/5795/7881/tess2019279210107-s0017-0000000057957881-0161-s_lc.fits to ./mastDownload/TESS/tess2019279210107-s0017-0000000057957881-0161-s/tess2019279210107-s0017-0000000057957881-0161-s_lc.fits ... [Done]\n"
     ]
    },
    {
     "name": "stderr",
     "output_type": "stream",
     "text": [
      "  0%|          | 38/53056 [00:21<7:48:17,  1.89it/s]"
     ]
    },
    {
     "name": "stdout",
     "output_type": "stream",
     "text": [
      "INFO: Found cached file ./mastDownload/TESS/tess2019279210107-s0017-0000000057958375-0161-s/tess2019279210107-s0017-0000000057958375-0161-s_lc.fits with expected size 1831680. [astroquery.mast.cloud]\n"
     ]
    },
    {
     "name": "stderr",
     "output_type": "stream",
     "text": [
      "  0%|          | 39/53056 [00:21<7:52:45,  1.87it/s]"
     ]
    },
    {
     "name": "stdout",
     "output_type": "stream",
     "text": [
      "INFO: Found cached file ./mastDownload/TESS/tess2019279210107-s0017-0000000057962744-0161-s/tess2019279210107-s0017-0000000057962744-0161-s_lc.fits with expected size 1831680. [astroquery.mast.cloud]\n",
      "nothing found.\n"
     ]
    },
    {
     "name": "stderr",
     "output_type": "stream",
     "text": [
      "WARNING: NoResultsWarning: Query returned no results. [astroquery.mast.discovery_portal]\n",
      "  0%|          | 41/53056 [00:22<6:56:09,  2.12it/s]"
     ]
    },
    {
     "name": "stdout",
     "output_type": "stream",
     "text": [
      "INFO: Found cached file ./mastDownload/TESS/tess2019279210107-s0017-0000000202084725-0161-s/tess2019279210107-s0017-0000000202084725-0161-s_lc.fits with expected size 1831680. [astroquery.mast.cloud]\n",
      "Downloading URL s3://stpubdata/tess/public/tid/s0017/0000/0003/0606/8331/tess2019279210107-s0017-0000000306068331-0161-s_lc.fits to ./mastDownload/TESS/tess2019279210107-s0017-0000000306068331-0161-s/tess2019279210107-s0017-0000000306068331-0161-s_lc.fits ... [Done]\n"
     ]
    },
    {
     "name": "stderr",
     "output_type": "stream",
     "text": [
      "  0%|          | 42/53056 [00:23<7:51:08,  1.88it/s]"
     ]
    },
    {
     "name": "stdout",
     "output_type": "stream",
     "text": [
      "INFO: Found cached file ./mastDownload/TESS/tess2019279210107-s0017-0000000306121572-0161-s/tess2019279210107-s0017-0000000306121572-0161-s_lc.fits with expected size 1831680. [astroquery.mast.cloud]\n"
     ]
    },
    {
     "name": "stderr",
     "output_type": "stream",
     "text": [
      "  0%|          | 44/53056 [00:24<9:01:02,  1.63it/s]"
     ]
    },
    {
     "name": "stdout",
     "output_type": "stream",
     "text": [
      "INFO: Found cached file ./mastDownload/TESS/tess2019279210107-s0017-0000000365965128-0161-s/tess2019279210107-s0017-0000000365965128-0161-s_lc.fits with expected size 1831680. [astroquery.mast.cloud]\n",
      "nothing found.\n"
     ]
    },
    {
     "name": "stderr",
     "output_type": "stream",
     "text": [
      "WARNING: NoResultsWarning: Query returned no results. [astroquery.mast.discovery_portal]\n"
     ]
    },
    {
     "name": "stdout",
     "output_type": "stream",
     "text": [
      "Downloading URL s3://stpubdata/tess/public/tid/s0017/0000/0004/1954/8998/tess2019279210107-s0017-0000000419548998-0161-s_lc.fits to ./mastDownload/TESS/tess2019279210107-s0017-0000000419548998-0161-s/tess2019279210107-s0017-0000000419548998-0161-s_lc.fits ... [Done]\n"
     ]
    },
    {
     "name": "stderr",
     "output_type": "stream",
     "text": [
      "  0%|          | 46/53056 [00:25<8:26:29,  1.74it/s]"
     ]
    },
    {
     "name": "stdout",
     "output_type": "stream",
     "text": [
      "Downloading URL s3://stpubdata/tess/public/tid/s0057/0000/0004/4007/6425/tess2022273165103-s0057-0000000440076425-0245-s_lc.fits to ./mastDownload/TESS/tess2022273165103-s0057-0000000440076425-0245-s/tess2022273165103-s0057-0000000440076425-0245-s_lc.fits ... [Done]\n"
     ]
    },
    {
     "name": "stderr",
     "output_type": "stream",
     "text": [
      "  0%|          | 47/53056 [00:26<9:04:34,  1.62it/s]"
     ]
    },
    {
     "name": "stdout",
     "output_type": "stream",
     "text": [
      "Downloading URL s3://stpubdata/tess/public/tid/s0017/0000/0000/8043/4659/tess2019279210107-s0017-0000000080434659-0161-s_lc.fits to ./mastDownload/TESS/tess2019279210107-s0017-0000000080434659-0161-s/tess2019279210107-s0017-0000000080434659-0161-s_lc.fits ... [Done]\n"
     ]
    },
    {
     "name": "stderr",
     "output_type": "stream",
     "text": [
      "  0%|          | 48/53056 [00:27<9:44:51,  1.51it/s]"
     ]
    },
    {
     "name": "stdout",
     "output_type": "stream",
     "text": [
      "nothing found.\n"
     ]
    },
    {
     "name": "stderr",
     "output_type": "stream",
     "text": [
      "WARNING: NoResultsWarning: Query returned no results. [astroquery.mast.discovery_portal]\n"
     ]
    },
    {
     "name": "stdout",
     "output_type": "stream",
     "text": [
      "Downloading URL s3://stpubdata/tess/public/tid/s0017/0000/0002/8829/7166/tess2019279210107-s0017-0000000288297166-0161-s_lc.fits to ./mastDownload/TESS/tess2019279210107-s0017-0000000288297166-0161-s/tess2019279210107-s0017-0000000288297166-0161-s_lc.fits ... [Done]\n"
     ]
    },
    {
     "name": "stderr",
     "output_type": "stream",
     "text": [
      "  0%|          | 51/53056 [00:28<8:27:56,  1.74it/s]"
     ]
    },
    {
     "name": "stdout",
     "output_type": "stream",
     "text": [
      "INFO: Found cached file ./mastDownload/TESS/tess2021232031932-s0042-0000000293405740-0213-s/tess2021232031932-s0042-0000000293405740-0213-s_lc.fits with expected size 1863360. [astroquery.mast.cloud]\n",
      "nothing found.\n"
     ]
    },
    {
     "name": "stderr",
     "output_type": "stream",
     "text": [
      "WARNING: NoResultsWarning: Query returned no results. [astroquery.mast.discovery_portal]\n"
     ]
    },
    {
     "name": "stdout",
     "output_type": "stream",
     "text": [
      "Downloading URL s3://stpubdata/tess/public/tid/s0052/0000/0004/0711/7158/tess2022138205153-s0052-0000000407117158-0224-s_lc.fits to ./mastDownload/TESS/tess2022138205153-s0052-0000000407117158-0224-s/tess2022138205153-s0052-0000000407117158-0224-s_lc.fits ... [Done]\n"
     ]
    },
    {
     "name": "stderr",
     "output_type": "stream",
     "text": [
      "  0%|          | 53/53056 [00:29<8:06:00,  1.82it/s]"
     ]
    },
    {
     "name": "stdout",
     "output_type": "stream",
     "text": [
      "Downloading URL s3://stpubdata/tess/public/tid/s0017/0000/0004/3775/8624/tess2019279210107-s0017-0000000437758624-0161-s_lc.fits to ./mastDownload/TESS/tess2019279210107-s0017-0000000437758624-0161-s/tess2019279210107-s0017-0000000437758624-0161-s_lc.fits ... [Done]\n"
     ]
    },
    {
     "name": "stderr",
     "output_type": "stream",
     "text": [
      "  0%|          | 54/53056 [00:30<9:03:46,  1.62it/s]"
     ]
    },
    {
     "name": "stdout",
     "output_type": "stream",
     "text": [
      "Downloading URL s3://stpubdata/tess/public/tid/s0017/0000/0000/5810/0517/tess2019279210107-s0017-0000000058100517-0161-s_lc.fits to ./mastDownload/TESS/tess2019279210107-s0017-0000000058100517-0161-s/tess2019279210107-s0017-0000000058100517-0161-s_lc.fits ... [Done]\n"
     ]
    },
    {
     "name": "stderr",
     "output_type": "stream",
     "text": [
      "  0%|          | 55/53056 [00:31<9:31:53,  1.54it/s]"
     ]
    },
    {
     "name": "stdout",
     "output_type": "stream",
     "text": [
      "Downloading URL s3://stpubdata/tess/public/tid/s0017/0000/0000/5810/0737/tess2019279210107-s0017-0000000058100737-0161-s_lc.fits to ./mastDownload/TESS/tess2019279210107-s0017-0000000058100737-0161-s/tess2019279210107-s0017-0000000058100737-0161-s_lc.fits ... [Done]\n"
     ]
    },
    {
     "name": "stderr",
     "output_type": "stream",
     "text": [
      "  0%|          | 57/53056 [00:32<9:29:12,  1.55it/s]"
     ]
    },
    {
     "name": "stdout",
     "output_type": "stream",
     "text": [
      "INFO: Found cached file ./mastDownload/TESS/tess2019279210107-s0017-0000000127502664-0161-s/tess2019279210107-s0017-0000000127502664-0161-s_lc.fits with expected size 1831680. [astroquery.mast.cloud]\n"
     ]
    },
    {
     "name": "stderr",
     "output_type": "stream",
     "text": [
      "  0%|          | 58/53056 [00:33<8:59:47,  1.64it/s]"
     ]
    },
    {
     "name": "stdout",
     "output_type": "stream",
     "text": [
      "INFO: Found cached file ./mastDownload/TESS/tess2021232031932-s0042-0000000257203315-0213-s/tess2021232031932-s0042-0000000257203315-0213-s_lc.fits with expected size 1863360. [astroquery.mast.cloud]\n",
      "Downloading URL s3://stpubdata/tess/public/tid/s0017/0000/0004/1152/4787/tess2019279210107-s0017-0000000411524787-0161-s_lc.fits to ./mastDownload/TESS/tess2019279210107-s0017-0000000411524787-0161-s/tess2019279210107-s0017-0000000411524787-0161-s_lc.fits ... [Done]\n"
     ]
    },
    {
     "name": "stderr",
     "output_type": "stream",
     "text": [
      "  0%|          | 59/53056 [00:34<9:40:32,  1.52it/s]"
     ]
    },
    {
     "name": "stdout",
     "output_type": "stream",
     "text": [
      "Downloading URL s3://stpubdata/tess/public/tid/s0017/0000/0004/1152/7645/tess2019279210107-s0017-0000000411527645-0161-s_lc.fits to ./mastDownload/TESS/tess2019279210107-s0017-0000000411527645-0161-s/tess2019279210107-s0017-0000000411527645-0161-s_lc.fits ... [Done]\n"
     ]
    },
    {
     "name": "stderr",
     "output_type": "stream",
     "text": [
      "  0%|          | 60/53056 [00:34<10:21:40,  1.42it/s]WARNING: NoResultsWarning: Query returned no results. [astroquery.mast.discovery_portal]\n",
      "  0%|          | 61/53056 [00:34<7:53:53,  1.86it/s] "
     ]
    },
    {
     "name": "stdout",
     "output_type": "stream",
     "text": [
      "nothing found.\n",
      "Downloading URL s3://stpubdata/tess/public/tid/s0042/0000/0004/6643/8502/tess2021232031932-s0042-0000000466438502-0213-s_lc.fits to ./mastDownload/TESS/tess2021232031932-s0042-0000000466438502-0213-s/tess2021232031932-s0042-0000000466438502-0213-s_lc.fits ... [Done]\n"
     ]
    },
    {
     "name": "stderr",
     "output_type": "stream",
     "text": [
      "  0%|          | 63/53056 [00:36<8:49:13,  1.67it/s]"
     ]
    },
    {
     "name": "stdout",
     "output_type": "stream",
     "text": [
      "INFO: Found cached file ./mastDownload/TESS/tess2019279210107-s0017-0000000044521831-0161-s/tess2019279210107-s0017-0000000044521831-0161-s_lc.fits with expected size 1831680. [astroquery.mast.cloud]\n",
      "Downloading URL s3://stpubdata/tess/public/tid/s0017/0000/0000/4452/1997/tess2019279210107-s0017-0000000044521997-0161-s_lc.fits to ./mastDownload/TESS/tess2019279210107-s0017-0000000044521997-0161-s/tess2019279210107-s0017-0000000044521997-0161-s_lc.fits ... [Done]\n"
     ]
    },
    {
     "name": "stderr",
     "output_type": "stream",
     "text": [
      "  0%|          | 65/53056 [00:37<9:38:53,  1.53it/s] "
     ]
    },
    {
     "name": "stdout",
     "output_type": "stream",
     "text": [
      "INFO: Found cached file ./mastDownload/TESS/tess2019279210107-s0017-0000000190993948-0161-s/tess2019279210107-s0017-0000000190993948-0161-s_lc.fits with expected size 1831680. [astroquery.mast.cloud]\n"
     ]
    },
    {
     "name": "stderr",
     "output_type": "stream",
     "text": [
      "  0%|          | 66/53056 [00:38<9:09:20,  1.61it/s]"
     ]
    },
    {
     "name": "stdout",
     "output_type": "stream",
     "text": [
      "INFO: Found cached file ./mastDownload/TESS/tess2021258175143-s0043-0000000257203178-0214-s/tess2021258175143-s0043-0000000257203178-0214-s_lc.fits with expected size 1811520. [astroquery.mast.cloud]\n"
     ]
    },
    {
     "name": "stderr",
     "output_type": "stream",
     "text": [
      "  0%|          | 67/53056 [00:38<8:53:13,  1.66it/s]"
     ]
    },
    {
     "name": "stdout",
     "output_type": "stream",
     "text": [
      "INFO: Found cached file ./mastDownload/TESS/tess2021232031932-s0042-0000000257322198-0213-s/tess2021232031932-s0042-0000000257322198-0213-s_lc.fits with expected size 1863360. [astroquery.mast.cloud]\n",
      "nothing found.\n"
     ]
    },
    {
     "name": "stderr",
     "output_type": "stream",
     "text": [
      "WARNING: NoResultsWarning: Query returned no results. [astroquery.mast.discovery_portal]\n",
      "  0%|          | 69/53056 [00:39<7:15:14,  2.03it/s]"
     ]
    },
    {
     "name": "stdout",
     "output_type": "stream",
     "text": [
      "INFO: Found cached file ./mastDownload/TESS/tess2019279210107-s0017-0000000440662856-0161-s/tess2019279210107-s0017-0000000440662856-0161-s_lc.fits with expected size 1831680. [astroquery.mast.cloud]\n"
     ]
    },
    {
     "name": "stderr",
     "output_type": "stream",
     "text": [
      "  0%|          | 70/53056 [00:40<7:24:57,  1.98it/s]"
     ]
    },
    {
     "name": "stdout",
     "output_type": "stream",
     "text": [
      "INFO: Found cached file ./mastDownload/TESS/tess2019279210107-s0017-0000000440664131-0161-s/tess2019279210107-s0017-0000000440664131-0161-s_lc.fits with expected size 1831680. [astroquery.mast.cloud]\n"
     ]
    },
    {
     "name": "stderr",
     "output_type": "stream",
     "text": [
      "  0%|          | 71/53056 [00:40<7:39:32,  1.92it/s]WARNING: NoResultsWarning: Query returned no results. [astroquery.mast.discovery_portal]\n",
      "  0%|          | 72/53056 [00:40<6:01:33,  2.44it/s]"
     ]
    },
    {
     "name": "stdout",
     "output_type": "stream",
     "text": [
      "INFO: Found cached file ./mastDownload/TESS/tess2019279210107-s0017-0000000080469384-0161-s/tess2019279210107-s0017-0000000080469384-0161-s_lc.fits with expected size 1831680. [astroquery.mast.cloud]\n",
      "nothing found.\n"
     ]
    },
    {
     "name": "stderr",
     "output_type": "stream",
     "text": [
      "  0%|          | 73/53056 [00:41<6:54:24,  2.13it/s]"
     ]
    },
    {
     "name": "stdout",
     "output_type": "stream",
     "text": [
      "INFO: Found cached file ./mastDownload/TESS/tess2019279210107-s0017-0000000191184460-0161-s/tess2019279210107-s0017-0000000191184460-0161-s_lc.fits with expected size 1831680. [astroquery.mast.cloud]\n"
     ]
    },
    {
     "name": "stderr",
     "output_type": "stream",
     "text": [
      "  0%|          | 74/53056 [00:42<7:10:47,  2.05it/s]"
     ]
    },
    {
     "name": "stdout",
     "output_type": "stream",
     "text": [
      "INFO: Found cached file ./mastDownload/TESS/tess2019279210107-s0017-0000000191204685-0161-s/tess2019279210107-s0017-0000000191204685-0161-s_lc.fits with expected size 1831680. [astroquery.mast.cloud]\n",
      "nothing found.\n"
     ]
    },
    {
     "name": "stderr",
     "output_type": "stream",
     "text": [
      "WARNING: NoResultsWarning: Query returned no results. [astroquery.mast.discovery_portal]\n"
     ]
    },
    {
     "name": "stdout",
     "output_type": "stream",
     "text": [
      "Downloading URL s3://stpubdata/tess/public/tid/s0057/0000/0002/4274/5432/tess2022273165103-s0057-0000000242745432-0245-s_lc.fits to ./mastDownload/TESS/tess2022273165103-s0057-0000000242745432-0245-s/tess2022273165103-s0057-0000000242745432-0245-s_lc.fits ... [Done]\n"
     ]
    },
    {
     "name": "stderr",
     "output_type": "stream",
     "text": [
      "  0%|          | 77/53056 [00:43<7:29:17,  1.97it/s]"
     ]
    },
    {
     "name": "stdout",
     "output_type": "stream",
     "text": [
      "INFO: Found cached file ./mastDownload/TESS/tess2019279210107-s0017-0000000242801176-0161-s/tess2019279210107-s0017-0000000242801176-0161-s_lc.fits with expected size 1831680. [astroquery.mast.cloud]\n",
      "Downloading URL s3://stpubdata/tess/public/tid/s0017/0000/0003/8072/7195/tess2019279210107-s0017-0000000380727195-0161-s_lc.fits to ./mastDownload/TESS/tess2019279210107-s0017-0000000380727195-0161-s/tess2019279210107-s0017-0000000380727195-0161-s_lc.fits ... [Done]\n"
     ]
    },
    {
     "name": "stderr",
     "output_type": "stream",
     "text": [
      "  0%|          | 78/53056 [00:44<8:28:52,  1.74it/s]"
     ]
    },
    {
     "name": "stdout",
     "output_type": "stream",
     "text": [
      "Downloading URL s3://stpubdata/tess/public/tid/s0042/0000/0004/0142/9438/tess2021232031932-s0042-0000000401429438-0213-s_lc.fits to ./mastDownload/TESS/tess2021232031932-s0042-0000000401429438-0213-s/tess2021232031932-s0042-0000000401429438-0213-s_lc.fits ... [Done]\n"
     ]
    },
    {
     "name": "stderr",
     "output_type": "stream",
     "text": [
      "  0%|          | 80/53056 [00:45<9:23:47,  1.57it/s]"
     ]
    },
    {
     "name": "stdout",
     "output_type": "stream",
     "text": [
      "INFO: Found cached file ./mastDownload/TESS/tess2022273165103-s0057-0000000115716302-0245-s/tess2022273165103-s0057-0000000115716302-0245-s_lc.fits with expected size 2102400. [astroquery.mast.cloud]\n"
     ]
    },
    {
     "name": "stderr",
     "output_type": "stream",
     "text": [
      "  0%|          | 81/53056 [00:46<8:53:15,  1.66it/s]"
     ]
    },
    {
     "name": "stdout",
     "output_type": "stream",
     "text": [
      "INFO: Found cached file ./mastDownload/TESS/tess2019279210107-s0017-0000000115720764-0161-s/tess2019279210107-s0017-0000000115720764-0161-s_lc.fits with expected size 1831680. [astroquery.mast.cloud]\n"
     ]
    },
    {
     "name": "stderr",
     "output_type": "stream",
     "text": [
      "  0%|          | 82/53056 [00:46<8:40:46,  1.70it/s]"
     ]
    },
    {
     "name": "stdout",
     "output_type": "stream",
     "text": [
      "INFO: Found cached file ./mastDownload/TESS/tess2019279210107-s0017-0000000240688062-0161-s/tess2019279210107-s0017-0000000240688062-0161-s_lc.fits with expected size 1831680. [astroquery.mast.cloud]\n"
     ]
    },
    {
     "name": "stderr",
     "output_type": "stream",
     "text": [
      "  0%|          | 83/53056 [00:47<8:49:25,  1.67it/s]"
     ]
    },
    {
     "name": "stdout",
     "output_type": "stream",
     "text": [
      "INFO: Found cached file ./mastDownload/TESS/tess2019279210107-s0017-0000000267569132-0161-s/tess2019279210107-s0017-0000000267569132-0161-s_lc.fits with expected size 1831680. [astroquery.mast.cloud]\n"
     ]
    },
    {
     "name": "stderr",
     "output_type": "stream",
     "text": [
      "  0%|          | 84/53056 [00:48<8:35:29,  1.71it/s]"
     ]
    },
    {
     "name": "stdout",
     "output_type": "stream",
     "text": [
      "INFO: Found cached file ./mastDownload/TESS/tess2020106103520-s0024-0000000275059193-0180-s/tess2020106103520-s0024-0000000275059193-0180-s_lc.fits with expected size 1938240. [astroquery.mast.cloud]\n",
      "Downloading URL s3://stpubdata/tess/public/tid/s0042/0000/0004/2903/5781/tess2021232031932-s0042-0000000429035781-0213-s_lc.fits to ./mastDownload/TESS/tess2021232031932-s0042-0000000429035781-0213-s/tess2021232031932-s0042-0000000429035781-0213-s_lc.fits ... [Done]\n"
     ]
    },
    {
     "name": "stderr",
     "output_type": "stream",
     "text": [
      "  0%|          | 86/53056 [00:49<9:03:53,  1.62it/s]"
     ]
    },
    {
     "name": "stdout",
     "output_type": "stream",
     "text": [
      "INFO: Found cached file ./mastDownload/TESS/tess2019279210107-s0017-0000000191408320-0161-s/tess2019279210107-s0017-0000000191408320-0161-s_lc.fits with expected size 1831680. [astroquery.mast.cloud]\n"
     ]
    },
    {
     "name": "stderr",
     "output_type": "stream",
     "text": [
      "  0%|          | 87/53056 [00:49<8:45:39,  1.68it/s]"
     ]
    },
    {
     "name": "stdout",
     "output_type": "stream",
     "text": [
      "INFO: Found cached file ./mastDownload/TESS/tess2022273165103-s0057-0000000247333008-0245-s/tess2022273165103-s0057-0000000247333008-0245-s_lc.fits with expected size 2102400. [astroquery.mast.cloud]\n",
      "nothing found.\n"
     ]
    },
    {
     "name": "stderr",
     "output_type": "stream",
     "text": [
      "WARNING: NoResultsWarning: Query returned no results. [astroquery.mast.discovery_portal]\n"
     ]
    },
    {
     "name": "stdout",
     "output_type": "stream",
     "text": [
      "Downloading URL s3://stpubdata/tess/public/tid/s0070/0000/0002/5755/9437/tess2023263165758-s0070-0000000257559437-0265-s_lc.fits to ./mastDownload/TESS/tess2023263165758-s0070-0000000257559437-0265-s/tess2023263165758-s0070-0000000257559437-0265-s_lc.fits ... [Done]\n"
     ]
    },
    {
     "name": "stderr",
     "output_type": "stream",
     "text": [
      "  0%|          | 89/53056 [00:51<8:20:51,  1.76it/s]"
     ]
    },
    {
     "name": "stdout",
     "output_type": "stream",
     "text": [
      "nothing found.\n"
     ]
    },
    {
     "name": "stderr",
     "output_type": "stream",
     "text": [
      "WARNING: NoResultsWarning: Query returned no results. [astroquery.mast.discovery_portal]\n"
     ]
    },
    {
     "name": "stdout",
     "output_type": "stream",
     "text": [
      "Downloading URL s3://stpubdata/tess/public/tid/s0017/0000/0002/6812/7217/tess2019279210107-s0017-0000000268127217-0161-s_lc.fits to ./mastDownload/TESS/tess2019279210107-s0017-0000000268127217-0161-s/tess2019279210107-s0017-0000000268127217-0161-s_lc.fits ... [Done]\n"
     ]
    },
    {
     "name": "stderr",
     "output_type": "stream",
     "text": [
      "  0%|          | 92/53056 [00:52<7:49:18,  1.88it/s]"
     ]
    },
    {
     "name": "stdout",
     "output_type": "stream",
     "text": [
      "INFO: Found cached file ./mastDownload/TESS/tess2020106103520-s0024-0000000275260654-0180-s/tess2020106103520-s0024-0000000275260654-0180-s_lc.fits with expected size 1938240. [astroquery.mast.cloud]\n"
     ]
    },
    {
     "name": "stderr",
     "output_type": "stream",
     "text": [
      "  0%|          | 93/53056 [00:53<8:03:15,  1.83it/s]WARNING: NoResultsWarning: Query returned no results. [astroquery.mast.discovery_portal]\n",
      "  0%|          | 94/53056 [00:53<6:26:16,  2.29it/s]"
     ]
    },
    {
     "name": "stdout",
     "output_type": "stream",
     "text": [
      "INFO: Found cached file ./mastDownload/TESS/tess2019279210107-s0017-0000000435855821-0161-s/tess2019279210107-s0017-0000000435855821-0161-s_lc.fits with expected size 1831680. [astroquery.mast.cloud]\n",
      "nothing found.\n",
      "Downloading URL s3://stpubdata/tess/public/tid/s0017/0000/0000/1386/3687/tess2019279210107-s0017-0000000013863687-0161-s_lc.fits to ./mastDownload/TESS/tess2019279210107-s0017-0000000013863687-0161-s/tess2019279210107-s0017-0000000013863687-0161-s_lc.fits ... [Done]\n"
     ]
    },
    {
     "name": "stderr",
     "output_type": "stream",
     "text": [
      "  0%|          | 96/53056 [00:54<8:06:31,  1.81it/s]"
     ]
    },
    {
     "name": "stdout",
     "output_type": "stream",
     "text": [
      "INFO: Found cached file ./mastDownload/TESS/tess2019279210107-s0017-0000000053676141-0161-s/tess2019279210107-s0017-0000000053676141-0161-s_lc.fits with expected size 1831680. [astroquery.mast.cloud]\n"
     ]
    },
    {
     "name": "stderr",
     "output_type": "stream",
     "text": [
      "  0%|          | 97/53056 [00:55<8:08:26,  1.81it/s]"
     ]
    },
    {
     "name": "stdout",
     "output_type": "stream",
     "text": [
      "INFO: Found cached file ./mastDownload/TESS/tess2019279210107-s0017-0000000053678091-0161-s/tess2019279210107-s0017-0000000053678091-0161-s_lc.fits with expected size 1831680. [astroquery.mast.cloud]\n"
     ]
    },
    {
     "name": "stderr",
     "output_type": "stream",
     "text": [
      "  0%|          | 98/53056 [00:55<8:11:07,  1.80it/s]"
     ]
    },
    {
     "name": "stdout",
     "output_type": "stream",
     "text": [
      "INFO: Found cached file ./mastDownload/TESS/tess2019279210107-s0017-0000000058824842-0161-s/tess2019279210107-s0017-0000000058824842-0161-s_lc.fits with expected size 1831680. [astroquery.mast.cloud]\n",
      "nothing found.\n"
     ]
    },
    {
     "name": "stderr",
     "output_type": "stream",
     "text": [
      "WARNING: NoResultsWarning: Query returned no results. [astroquery.mast.discovery_portal]\n"
     ]
    },
    {
     "name": "stdout",
     "output_type": "stream",
     "text": [
      "Downloading URL s3://stpubdata/tess/public/tid/s0017/0000/0002/4079/0065/tess2019279210107-s0017-0000000240790065-0161-s_lc.fits to ./mastDownload/TESS/tess2019279210107-s0017-0000000240790065-0161-s/tess2019279210107-s0017-0000000240790065-0161-s_lc.fits ... [Done]\n"
     ]
    },
    {
     "name": "stderr",
     "output_type": "stream",
     "text": [
      "  0%|          | 101/53056 [00:57<7:53:38,  1.86it/s]"
     ]
    },
    {
     "name": "stdout",
     "output_type": "stream",
     "text": [
      "INFO: Found cached file ./mastDownload/TESS/tess2021232031932-s0042-0000000266012206-0213-s/tess2021232031932-s0042-0000000266012206-0213-s_lc.fits with expected size 1863360. [astroquery.mast.cloud]\n",
      "Downloading URL s3://stpubdata/tess/public/tid/s0017/0000/0002/8342/4526/tess2019279210107-s0017-0000000283424526-0161-s_lc.fits to ./mastDownload/TESS/tess2019279210107-s0017-0000000283424526-0161-s/tess2019279210107-s0017-0000000283424526-0161-s_lc.fits ... [Done]\n"
     ]
    },
    {
     "name": "stderr",
     "output_type": "stream",
     "text": [
      "  0%|          | 102/53056 [00:58<9:00:39,  1.63it/s]"
     ]
    },
    {
     "name": "stdout",
     "output_type": "stream",
     "text": [
      "Downloading URL s3://stpubdata/tess/public/tid/s0017/0000/0004/3586/5614/tess2019279210107-s0017-0000000435865614-0161-s_lc.fits to ./mastDownload/TESS/tess2019279210107-s0017-0000000435865614-0161-s/tess2019279210107-s0017-0000000435865614-0161-s_lc.fits ... [Done]\n"
     ]
    },
    {
     "name": "stderr",
     "output_type": "stream",
     "text": [
      "  0%|          | 103/53056 [00:58<9:58:40,  1.47it/s]"
     ]
    },
    {
     "name": "stdout",
     "output_type": "stream",
     "text": [
      "Downloading URL s3://stpubdata/tess/public/tid/s0018/0000/0004/6835/1153/tess2019306063752-s0018-0000000468351153-0162-s_lc.fits to ./mastDownload/TESS/tess2019306063752-s0018-0000000468351153-0162-s/tess2019306063752-s0018-0000000468351153-0162-s_lc.fits ... [Done]\n"
     ]
    },
    {
     "name": "stderr",
     "output_type": "stream",
     "text": [
      "  0%|          | 105/53056 [01:00<9:46:56,  1.50it/s] "
     ]
    },
    {
     "name": "stdout",
     "output_type": "stream",
     "text": [
      "INFO: Found cached file ./mastDownload/TESS/tess2019279210107-s0017-0000000013961725-0161-s/tess2019279210107-s0017-0000000013961725-0161-s_lc.fits with expected size 1831680. [astroquery.mast.cloud]\n"
     ]
    },
    {
     "name": "stderr",
     "output_type": "stream",
     "text": [
      "  0%|          | 106/53056 [01:00<9:22:20,  1.57it/s]"
     ]
    },
    {
     "name": "stdout",
     "output_type": "stream",
     "text": [
      "INFO: Found cached file ./mastDownload/TESS/tess2019279210107-s0017-0000000053827592-0161-s/tess2019279210107-s0017-0000000053827592-0161-s_lc.fits with expected size 1831680. [astroquery.mast.cloud]\n",
      "nothing found.\n"
     ]
    },
    {
     "name": "stderr",
     "output_type": "stream",
     "text": [
      "WARNING: NoResultsWarning: Query returned no results. [astroquery.mast.discovery_portal]\n"
     ]
    },
    {
     "name": "stdout",
     "output_type": "stream",
     "text": [
      "Downloading URL s3://stpubdata/tess/public/tid/s0017/0000/0003/3676/7572/tess2019279210107-s0017-0000000336767572-0161-s_lc.fits to ./mastDownload/TESS/tess2019279210107-s0017-0000000336767572-0161-s/tess2019279210107-s0017-0000000336767572-0161-s_lc.fits ... [Done]\n"
     ]
    },
    {
     "name": "stderr",
     "output_type": "stream",
     "text": [
      "  0%|          | 108/53056 [01:01<8:30:37,  1.73it/s]"
     ]
    },
    {
     "name": "stdout",
     "output_type": "stream",
     "text": [
      "nothing found.\n"
     ]
    },
    {
     "name": "stderr",
     "output_type": "stream",
     "text": [
      "WARNING: NoResultsWarning: Query returned no results. [astroquery.mast.discovery_portal]\n",
      "  0%|          | 110/53056 [01:02<7:21:11,  2.00it/s]"
     ]
    },
    {
     "name": "stdout",
     "output_type": "stream",
     "text": [
      "INFO: Found cached file ./mastDownload/TESS/tess2019306063752-s0018-0000000428751997-0162-s/tess2019306063752-s0018-0000000428751997-0162-s_lc.fits with expected size 1785600. [astroquery.mast.cloud]\n",
      "nothing found.\n"
     ]
    },
    {
     "name": "stderr",
     "output_type": "stream",
     "text": [
      "WARNING: NoResultsWarning: Query returned no results. [astroquery.mast.discovery_portal]\n",
      "  0%|          | 112/53056 [01:02<5:29:30,  2.68it/s]"
     ]
    },
    {
     "name": "stdout",
     "output_type": "stream",
     "text": [
      "nothing found.\n"
     ]
    },
    {
     "name": "stderr",
     "output_type": "stream",
     "text": [
      "  0%|          | 113/53056 [01:03<6:23:17,  2.30it/s]"
     ]
    },
    {
     "name": "stdout",
     "output_type": "stream",
     "text": [
      "INFO: Found cached file ./mastDownload/TESS/tess2019279210107-s0017-0000000053874284-0161-s/tess2019279210107-s0017-0000000053874284-0161-s_lc.fits with expected size 1831680. [astroquery.mast.cloud]\n",
      "Downloading URL s3://stpubdata/tess/public/tid/s0057/0000/0000/5387/5171/tess2022273165103-s0057-0000000053875171-0245-s_lc.fits to ./mastDownload/TESS/tess2022273165103-s0057-0000000053875171-0245-s/tess2022273165103-s0057-0000000053875171-0245-s_lc.fits ... [Done]\n"
     ]
    },
    {
     "name": "stderr",
     "output_type": "stream",
     "text": [
      "  0%|          | 114/53056 [01:04<7:28:39,  1.97it/s]"
     ]
    },
    {
     "name": "stdout",
     "output_type": "stream",
     "text": [
      "Downloading URL s3://stpubdata/tess/public/tid/s0017/0000/0002/5877/9266/tess2019279210107-s0017-0000000258779266-0161-s_lc.fits to ./mastDownload/TESS/tess2019279210107-s0017-0000000258779266-0161-s/tess2019279210107-s0017-0000000258779266-0161-s_lc.fits ... [Done]\n"
     ]
    },
    {
     "name": "stderr",
     "output_type": "stream",
     "text": [
      "  0%|          | 115/53056 [01:05<9:09:54,  1.60it/s]"
     ]
    },
    {
     "name": "stdout",
     "output_type": "stream",
     "text": [
      "nothing found.\n"
     ]
    },
    {
     "name": "stderr",
     "output_type": "stream",
     "text": [
      "WARNING: NoResultsWarning: Query returned no results. [astroquery.mast.discovery_portal]\n",
      "  0%|          | 117/53056 [01:06<7:49:41,  1.88it/s]"
     ]
    },
    {
     "name": "stdout",
     "output_type": "stream",
     "text": [
      "INFO: Found cached file ./mastDownload/TESS/tess2020133194932-s0025-0000000408705105-0182-s/tess2020133194932-s0025-0000000408705105-0182-s_lc.fits with expected size 1877760. [astroquery.mast.cloud]\n",
      "nothing found.\n"
     ]
    },
    {
     "name": "stderr",
     "output_type": "stream",
     "text": [
      "WARNING: NoResultsWarning: Query returned no results. [astroquery.mast.discovery_portal]\n"
     ]
    },
    {
     "name": "stdout",
     "output_type": "stream",
     "text": [
      "Downloading URL s3://stpubdata/tess/public/tid/s0057/0000/0000/1553/2703/tess2022273165103-s0057-0000000015532703-0245-s_lc.fits to ./mastDownload/TESS/tess2022273165103-s0057-0000000015532703-0245-s/tess2022273165103-s0057-0000000015532703-0245-s_lc.fits ... [Done]\n"
     ]
    },
    {
     "name": "stderr",
     "output_type": "stream",
     "text": [
      "  0%|          | 119/53056 [01:07<7:32:37,  1.95it/s]WARNING: NoResultsWarning: Query returned no results. [astroquery.mast.discovery_portal]\n",
      "  0%|          | 120/53056 [01:07<6:16:48,  2.34it/s]"
     ]
    },
    {
     "name": "stdout",
     "output_type": "stream",
     "text": [
      "nothing found.\n"
     ]
    },
    {
     "name": "stderr",
     "output_type": "stream",
     "text": [
      "  0%|          | 121/53056 [01:07<5:25:55,  2.71it/s]"
     ]
    },
    {
     "name": "stdout",
     "output_type": "stream",
     "text": [
      "nothing found.\n"
     ]
    },
    {
     "name": "stderr",
     "output_type": "stream",
     "text": [
      "  0%|          | 122/53056 [01:07<4:56:33,  2.97it/s]"
     ]
    },
    {
     "name": "stdout",
     "output_type": "stream",
     "text": [
      "nothing found.\n",
      "Downloading URL s3://stpubdata/tess/public/tid/s0058/0000/0002/5620/6519/tess2022302161335-s0058-0000000256206519-0247-s_lc.fits to ./mastDownload/TESS/tess2022302161335-s0058-0000000256206519-0247-s/tess2022302161335-s0058-0000000256206519-0247-s_lc.fits ... [Done]\n"
     ]
    },
    {
     "name": "stderr",
     "output_type": "stream",
     "text": [
      "  0%|          | 123/53056 [01:08<7:13:30,  2.04it/s]"
     ]
    },
    {
     "name": "stdout",
     "output_type": "stream",
     "text": [
      "nothing found.\n"
     ]
    },
    {
     "name": "stderr",
     "output_type": "stream",
     "text": [
      "WARNING: NoResultsWarning: Query returned no results. [astroquery.mast.discovery_portal]\n"
     ]
    },
    {
     "name": "stdout",
     "output_type": "stream",
     "text": [
      "Downloading URL s3://stpubdata/tess/public/tid/s0042/0000/0003/4471/2699/tess2021232031932-s0042-0000000344712699-0213-s_lc.fits to ./mastDownload/TESS/tess2021232031932-s0042-0000000344712699-0213-s/tess2021232031932-s0042-0000000344712699-0213-s_lc.fits ... [Done]\n"
     ]
    },
    {
     "name": "stderr",
     "output_type": "stream",
     "text": [
      "  0%|          | 126/53056 [01:10<7:25:09,  1.98it/s]"
     ]
    },
    {
     "name": "stdout",
     "output_type": "stream",
     "text": [
      "INFO: Found cached file ./mastDownload/TESS/tess2019279210107-s0017-0000000352412748-0161-s/tess2019279210107-s0017-0000000352412748-0161-s_lc.fits with expected size 1831680. [astroquery.mast.cloud]\n"
     ]
    },
    {
     "name": "stderr",
     "output_type": "stream",
     "text": [
      "  0%|          | 127/53056 [01:10<7:31:29,  1.95it/s]"
     ]
    },
    {
     "name": "stdout",
     "output_type": "stream",
     "text": [
      "INFO: Found cached file ./mastDownload/TESS/tess2021232031932-s0042-0000000369472967-0213-s/tess2021232031932-s0042-0000000369472967-0213-s_lc.fits with expected size 1863360. [astroquery.mast.cloud]\n",
      "Downloading URL s3://stpubdata/tess/public/tid/s0058/0000/0003/7916/3992/tess2022302161335-s0058-0000000379163992-0247-s_lc.fits to ./mastDownload/TESS/tess2022302161335-s0058-0000000379163992-0247-s/tess2022302161335-s0058-0000000379163992-0247-s_lc.fits ... [Done]\n"
     ]
    },
    {
     "name": "stderr",
     "output_type": "stream",
     "text": [
      "  0%|          | 129/53056 [01:12<8:44:48,  1.68it/s]"
     ]
    },
    {
     "name": "stdout",
     "output_type": "stream",
     "text": [
      "INFO: Found cached file ./mastDownload/TESS/tess2019279210107-s0017-0000000405547496-0161-s/tess2019279210107-s0017-0000000405547496-0161-s_lc.fits with expected size 1831680. [astroquery.mast.cloud]\n"
     ]
    },
    {
     "name": "stderr",
     "output_type": "stream",
     "text": [
      "  0%|          | 130/53056 [01:12<8:41:06,  1.69it/s]"
     ]
    },
    {
     "name": "stdout",
     "output_type": "stream",
     "text": [
      "INFO: Found cached file ./mastDownload/TESS/tess2021232031932-s0042-0000000414944411-0213-s/tess2021232031932-s0042-0000000414944411-0213-s_lc.fits with expected size 1863360. [astroquery.mast.cloud]\n",
      "Downloading URL s3://stpubdata/tess/public/tid/s0042/0000/0004/2905/2944/tess2021232031932-s0042-0000000429052944-0213-s_lc.fits to ./mastDownload/TESS/tess2021232031932-s0042-0000000429052944-0213-s/tess2021232031932-s0042-0000000429052944-0213-s_lc.fits ... [Done]\n"
     ]
    },
    {
     "name": "stderr",
     "output_type": "stream",
     "text": [
      "  0%|          | 132/53056 [01:14<9:16:54,  1.58it/s]"
     ]
    },
    {
     "name": "stdout",
     "output_type": "stream",
     "text": [
      "INFO: Found cached file ./mastDownload/TESS/tess2019279210107-s0017-0000000436561089-0161-s/tess2019279210107-s0017-0000000436561089-0161-s_lc.fits with expected size 1831680. [astroquery.mast.cloud]\n",
      "nothing found.\n"
     ]
    },
    {
     "name": "stderr",
     "output_type": "stream",
     "text": [
      "WARNING: NoResultsWarning: Query returned no results. [astroquery.mast.discovery_portal]\n",
      "  0%|          | 134/53056 [01:14<7:32:16,  1.95it/s]"
     ]
    },
    {
     "name": "stdout",
     "output_type": "stream",
     "text": [
      "INFO: Found cached file ./mastDownload/TESS/tess2019279210107-s0017-0000000259103558-0161-s/tess2019279210107-s0017-0000000259103558-0161-s_lc.fits with expected size 1831680. [astroquery.mast.cloud]\n"
     ]
    },
    {
     "name": "stderr",
     "output_type": "stream",
     "text": [
      "  0%|          | 135/53056 [01:15<7:37:28,  1.93it/s]"
     ]
    },
    {
     "name": "stdout",
     "output_type": "stream",
     "text": [
      "INFO: Found cached file ./mastDownload/TESS/tess2020266004630-s0030-0000000344719838-0195-s/tess2020266004630-s0030-0000000344719838-0195-s_lc.fits with expected size 1998720. [astroquery.mast.cloud]\n"
     ]
    },
    {
     "name": "stderr",
     "output_type": "stream",
     "text": [
      "  0%|          | 136/53056 [01:15<7:45:25,  1.90it/s]"
     ]
    },
    {
     "name": "stdout",
     "output_type": "stream",
     "text": [
      "INFO: Found cached file ./mastDownload/TESS/tess2021232031932-s0042-0000000344770035-0213-s/tess2021232031932-s0042-0000000344770035-0213-s_lc.fits with expected size 1863360. [astroquery.mast.cloud]\n"
     ]
    },
    {
     "name": "stderr",
     "output_type": "stream",
     "text": [
      "  0%|          | 137/53056 [01:16<7:50:13,  1.88it/s]"
     ]
    },
    {
     "name": "stdout",
     "output_type": "stream",
     "text": [
      "INFO: Found cached file ./mastDownload/TESS/tess2019279210107-s0017-0000000384882897-0161-s/tess2019279210107-s0017-0000000384882897-0161-s_lc.fits with expected size 1831680. [astroquery.mast.cloud]\n"
     ]
    },
    {
     "name": "stderr",
     "output_type": "stream",
     "text": [
      "  0%|          | 138/53056 [01:16<7:53:44,  1.86it/s]"
     ]
    },
    {
     "name": "stdout",
     "output_type": "stream",
     "text": [
      "INFO: Found cached file ./mastDownload/TESS/tess2019279210107-s0017-0000000422880573-0161-s/tess2019279210107-s0017-0000000422880573-0161-s_lc.fits with expected size 1831680. [astroquery.mast.cloud]\n"
     ]
    },
    {
     "name": "stderr",
     "output_type": "stream",
     "text": [
      "  0%|          | 139/53056 [01:17<7:54:40,  1.86it/s]"
     ]
    },
    {
     "name": "stdout",
     "output_type": "stream",
     "text": [
      "INFO: Found cached file ./mastDownload/TESS/tess2019279210107-s0017-0000000422894521-0161-s/tess2019279210107-s0017-0000000422894521-0161-s_lc.fits with expected size 1831680. [astroquery.mast.cloud]\n",
      "Downloading URL s3://stpubdata/tess/public/tid/s0017/0000/0002/4322/5983/tess2019279210107-s0017-0000000243225983-0161-s_lc.fits to ./mastDownload/TESS/tess2019279210107-s0017-0000000243225983-0161-s/tess2019279210107-s0017-0000000243225983-0161-s_lc.fits ... [Done]\n"
     ]
    },
    {
     "name": "stderr",
     "output_type": "stream",
     "text": [
      "  0%|          | 141/53056 [01:18<8:40:45,  1.69it/s]WARNING: NoResultsWarning: Query returned no results. [astroquery.mast.discovery_portal]\n",
      "  0%|          | 142/53056 [01:18<6:33:56,  2.24it/s]"
     ]
    },
    {
     "name": "stdout",
     "output_type": "stream",
     "text": [
      "INFO: Found cached file ./mastDownload/TESS/tess2021232031932-s0042-0000000257884205-0213-s/tess2021232031932-s0042-0000000257884205-0213-s_lc.fits with expected size 1863360. [astroquery.mast.cloud]\n",
      "nothing found.\n"
     ]
    },
    {
     "name": "stderr",
     "output_type": "stream",
     "text": [
      "  0%|          | 143/53056 [01:19<7:30:32,  1.96it/s]"
     ]
    },
    {
     "name": "stdout",
     "output_type": "stream",
     "text": [
      "INFO: Found cached file ./mastDownload/TESS/tess2021232031932-s0042-0000000336890243-0213-s/tess2021232031932-s0042-0000000336890243-0213-s_lc.fits with expected size 1863360. [astroquery.mast.cloud]\n"
     ]
    },
    {
     "name": "stderr",
     "output_type": "stream",
     "text": [
      "  0%|          | 144/53056 [01:20<7:40:59,  1.91it/s]"
     ]
    },
    {
     "name": "stdout",
     "output_type": "stream",
     "text": [
      "INFO: Found cached file ./mastDownload/TESS/tess2021232031932-s0042-0000000344775105-0213-s/tess2021232031932-s0042-0000000344775105-0213-s_lc.fits with expected size 1863360. [astroquery.mast.cloud]\n",
      "nothing found.\n"
     ]
    },
    {
     "name": "stderr",
     "output_type": "stream",
     "text": [
      "WARNING: NoResultsWarning: Query returned no results. [astroquery.mast.discovery_portal]\n",
      "  0%|          | 146/53056 [01:20<6:50:15,  2.15it/s]"
     ]
    },
    {
     "name": "stdout",
     "output_type": "stream",
     "text": [
      "INFO: Found cached file ./mastDownload/TESS/tess2019279210107-s0017-0000000408239040-0161-s/tess2019279210107-s0017-0000000408239040-0161-s_lc.fits with expected size 1831680. [astroquery.mast.cloud]\n",
      "Downloading URL s3://stpubdata/tess/public/tid/s0017/0000/0006/0042/9782/tess2019279210107-s0017-0000000600429782-0161-s_lc.fits to ./mastDownload/TESS/tess2019279210107-s0017-0000000600429782-0161-s/tess2019279210107-s0017-0000000600429782-0161-s_lc.fits ... [Done]\n"
     ]
    },
    {
     "name": "stderr",
     "output_type": "stream",
     "text": [
      "  0%|          | 147/53056 [01:21<7:48:58,  1.88it/s]"
     ]
    },
    {
     "name": "stdout",
     "output_type": "stream",
     "text": [
      "Downloading URL s3://stpubdata/tess/public/tid/s0057/0000/0000/1688/2023/tess2022273165103-s0057-0000000016882023-0245-s_lc.fits to ./mastDownload/TESS/tess2022273165103-s0057-0000000016882023-0245-s/tess2022273165103-s0057-0000000016882023-0245-s_lc.fits ... [Done]\n"
     ]
    },
    {
     "name": "stderr",
     "output_type": "stream",
     "text": [
      "  0%|          | 149/53056 [01:23<8:45:27,  1.68it/s]"
     ]
    },
    {
     "name": "stdout",
     "output_type": "stream",
     "text": [
      "INFO: Found cached file ./mastDownload/TESS/tess2019279210107-s0017-0000000239555803-0161-s/tess2019279210107-s0017-0000000239555803-0161-s_lc.fits with expected size 1831680. [astroquery.mast.cloud]\n",
      "Downloading URL s3://stpubdata/tess/public/tid/s0003/0000/0003/3689/1721/tess2018263035959-s0003-0000000336891721-0123-s_lc.fits to ./mastDownload/TESS/tess2018263035959-s0003-0000000336891721-0123-s/tess2018263035959-s0003-0000000336891721-0123-s_lc.fits ... [Done]\n"
     ]
    },
    {
     "name": "stderr",
     "output_type": "stream",
     "text": [
      "  0%|          | 150/53056 [01:23<9:14:36,  1.59it/s]"
     ]
    },
    {
     "name": "stdout",
     "output_type": "stream",
     "text": [
      "nothing found.\n"
     ]
    },
    {
     "name": "stderr",
     "output_type": "stream",
     "text": [
      "WARNING: NoResultsWarning: Query returned no results. [astroquery.mast.discovery_portal]\n"
     ]
    },
    {
     "name": "stdout",
     "output_type": "stream",
     "text": [
      "Downloading URL s3://stpubdata/tess/public/tid/s0042/0000/0004/0826/1725/tess2021232031932-s0042-0000000408261725-0213-s_lc.fits to ./mastDownload/TESS/tess2021232031932-s0042-0000000408261725-0213-s/tess2021232031932-s0042-0000000408261725-0213-s_lc.fits ... [Done]\n"
     ]
    },
    {
     "name": "stderr",
     "output_type": "stream",
     "text": [
      "  0%|          | 153/53056 [01:25<9:00:37,  1.63it/s]"
     ]
    },
    {
     "name": "stdout",
     "output_type": "stream",
     "text": [
      "INFO: Found cached file ./mastDownload/TESS/tess2019279210107-s0017-0000000408263470-0161-s/tess2019279210107-s0017-0000000408263470-0161-s_lc.fits with expected size 1831680. [astroquery.mast.cloud]\n",
      "nothing found.\n"
     ]
    },
    {
     "name": "stderr",
     "output_type": "stream",
     "text": [
      "WARNING: NoResultsWarning: Query returned no results. [astroquery.mast.discovery_portal]\n",
      "  0%|          | 155/53056 [01:26<7:42:21,  1.91it/s]"
     ]
    },
    {
     "name": "stdout",
     "output_type": "stream",
     "text": [
      "INFO: Found cached file ./mastDownload/TESS/tess2019279210107-s0017-0000000186452098-0161-s/tess2019279210107-s0017-0000000186452098-0161-s_lc.fits with expected size 1831680. [astroquery.mast.cloud]\n"
     ]
    },
    {
     "name": "stderr",
     "output_type": "stream",
     "text": [
      "  0%|          | 156/53056 [01:26<7:55:13,  1.86it/s]"
     ]
    },
    {
     "name": "stdout",
     "output_type": "stream",
     "text": [
      "INFO: Found cached file ./mastDownload/TESS/tess2019279210107-s0017-0000000186453714-0161-s/tess2019279210107-s0017-0000000186453714-0161-s_lc.fits with expected size 1831680. [astroquery.mast.cloud]\n"
     ]
    },
    {
     "name": "stderr",
     "output_type": "stream",
     "text": [
      "  0%|          | 157/53056 [01:27<7:59:19,  1.84it/s]"
     ]
    },
    {
     "name": "stdout",
     "output_type": "stream",
     "text": [
      "INFO: Found cached file ./mastDownload/TESS/tess2019279210107-s0017-0000000186456611-0161-s/tess2019279210107-s0017-0000000186456611-0161-s_lc.fits with expected size 1831680. [astroquery.mast.cloud]\n",
      "Downloading URL s3://stpubdata/tess/public/tid/s0042/0000/0003/7694/0662/tess2021232031932-s0042-0000000376940662-0213-s_lc.fits to ./mastDownload/TESS/tess2021232031932-s0042-0000000376940662-0213-s/tess2021232031932-s0042-0000000376940662-0213-s_lc.fits ... [Done]\n"
     ]
    },
    {
     "name": "stderr",
     "output_type": "stream",
     "text": [
      "  0%|          | 158/53056 [01:28<8:52:04,  1.66it/s]WARNING: NoResultsWarning: Query returned no results. [astroquery.mast.discovery_portal]\n",
      "  0%|          | 159/53056 [01:28<6:57:47,  2.11it/s]"
     ]
    },
    {
     "name": "stdout",
     "output_type": "stream",
     "text": [
      "nothing found.\n",
      "Downloading URL s3://stpubdata/tess/public/tid/s0030/0000/0003/8094/1208/tess2020266004630-s0030-0000000380941208-0195-s_lc.fits to ./mastDownload/TESS/tess2020266004630-s0030-0000000380941208-0195-s/tess2020266004630-s0030-0000000380941208-0195-s_lc.fits ... [Done]\n"
     ]
    },
    {
     "name": "stderr",
     "output_type": "stream",
     "text": [
      "  0%|          | 160/53056 [01:29<8:31:45,  1.72it/s]"
     ]
    },
    {
     "name": "stdout",
     "output_type": "stream",
     "text": [
      "Downloading URL s3://stpubdata/tess/public/tid/s0030/0000/0003/8094/3265/tess2020266004630-s0030-0000000380943265-0195-s_lc.fits to ./mastDownload/TESS/tess2020266004630-s0030-0000000380943265-0195-s/tess2020266004630-s0030-0000000380943265-0195-s_lc.fits ... [Done]\n"
     ]
    },
    {
     "name": "stderr",
     "output_type": "stream",
     "text": [
      "  0%|          | 162/53056 [01:30<9:00:35,  1.63it/s]WARNING: NoResultsWarning: Query returned no results. [astroquery.mast.discovery_portal]\n",
      "  0%|          | 163/53056 [01:30<6:49:26,  2.15it/s]"
     ]
    },
    {
     "name": "stdout",
     "output_type": "stream",
     "text": [
      "INFO: Found cached file ./mastDownload/TESS/tess2019279210107-s0017-0000000411608989-0161-s/tess2019279210107-s0017-0000000411608989-0161-s_lc.fits with expected size 1831680. [astroquery.mast.cloud]\n",
      "nothing found.\n"
     ]
    },
    {
     "name": "stderr",
     "output_type": "stream",
     "text": [
      "  0%|          | 164/53056 [01:31<7:32:49,  1.95it/s]"
     ]
    },
    {
     "name": "stdout",
     "output_type": "stream",
     "text": [
      "INFO: Found cached file ./mastDownload/TESS/tess2019279210107-s0017-0000000016995147-0161-s/tess2019279210107-s0017-0000000016995147-0161-s_lc.fits with expected size 1831680. [astroquery.mast.cloud]\n",
      "nothing found.\n"
     ]
    },
    {
     "name": "stderr",
     "output_type": "stream",
     "text": [
      "WARNING: NoResultsWarning: Query returned no results. [astroquery.mast.discovery_portal]\n",
      "  0%|          | 166/53056 [01:32<6:42:04,  2.19it/s]"
     ]
    },
    {
     "name": "stdout",
     "output_type": "stream",
     "text": [
      "INFO: Found cached file ./mastDownload/TESS/tess2022302161335-s0058-0000000332686045-0247-s/tess2022302161335-s0058-0000000332686045-0247-s_lc.fits with expected size 2027520. [astroquery.mast.cloud]\n"
     ]
    },
    {
     "name": "stderr",
     "output_type": "stream",
     "text": [
      "  0%|          | 167/53056 [01:32<7:05:25,  2.07it/s]"
     ]
    },
    {
     "name": "stdout",
     "output_type": "stream",
     "text": [
      "INFO: Found cached file ./mastDownload/TESS/tess2019279210107-s0017-0000000018112867-0161-s/tess2019279210107-s0017-0000000018112867-0161-s_lc.fits with expected size 1831680. [astroquery.mast.cloud]\n"
     ]
    },
    {
     "name": "stderr",
     "output_type": "stream",
     "text": [
      "  0%|          | 168/53056 [01:33<7:29:56,  1.96it/s]"
     ]
    },
    {
     "name": "stdout",
     "output_type": "stream",
     "text": [
      "INFO: Found cached file ./mastDownload/TESS/tess2019279210107-s0017-0000000080532557-0161-s/tess2019279210107-s0017-0000000080532557-0161-s_lc.fits with expected size 1831680. [astroquery.mast.cloud]\n"
     ]
    },
    {
     "name": "stderr",
     "output_type": "stream",
     "text": [
      "  0%|          | 169/53056 [01:33<7:30:50,  1.96it/s]"
     ]
    },
    {
     "name": "stdout",
     "output_type": "stream",
     "text": [
      "INFO: Found cached file ./mastDownload/TESS/tess2019279210107-s0017-0000000186537992-0161-s/tess2019279210107-s0017-0000000186537992-0161-s_lc.fits with expected size 1831680. [astroquery.mast.cloud]\n",
      "Downloading URL s3://stpubdata/tess/public/tid/s0017/0000/0002/8796/9949/tess2019279210107-s0017-0000000287969949-0161-s_lc.fits to ./mastDownload/TESS/tess2019279210107-s0017-0000000287969949-0161-s/tess2019279210107-s0017-0000000287969949-0161-s_lc.fits ... [Done]\n"
     ]
    },
    {
     "name": "stderr",
     "output_type": "stream",
     "text": [
      "  0%|          | 171/53056 [01:35<8:30:10,  1.73it/s]"
     ]
    },
    {
     "name": "stdout",
     "output_type": "stream",
     "text": [
      "INFO: Found cached file ./mastDownload/TESS/tess2021232031932-s0042-0000000365109496-0213-s/tess2021232031932-s0042-0000000365109496-0213-s_lc.fits with expected size 1863360. [astroquery.mast.cloud]\n"
     ]
    },
    {
     "name": "stderr",
     "output_type": "stream",
     "text": [
      "  0%|          | 172/53056 [01:35<8:20:41,  1.76it/s]"
     ]
    },
    {
     "name": "stdout",
     "output_type": "stream",
     "text": [
      "INFO: Found cached file ./mastDownload/TESS/tess2019279210107-s0017-0000000385143456-0161-s/tess2019279210107-s0017-0000000385143456-0161-s_lc.fits with expected size 1831680. [astroquery.mast.cloud]\n",
      "Downloading URL s3://stpubdata/tess/public/tid/s0042/0000/0003/9972/4276/tess2021232031932-s0042-0000000399724276-0213-s_lc.fits to ./mastDownload/TESS/tess2021232031932-s0042-0000000399724276-0213-s/tess2021232031932-s0042-0000000399724276-0213-s_lc.fits ... [Done]\n"
     ]
    },
    {
     "name": "stderr",
     "output_type": "stream",
     "text": [
      "  0%|          | 174/53056 [01:36<8:51:37,  1.66it/s]"
     ]
    },
    {
     "name": "stdout",
     "output_type": "stream",
     "text": [
      "INFO: Found cached file ./mastDownload/TESS/tess2019279210107-s0017-0000000400023154-0161-s/tess2019279210107-s0017-0000000400023154-0161-s_lc.fits with expected size 1831680. [astroquery.mast.cloud]\n",
      "Downloading URL s3://stpubdata/tess/public/tid/s0042/0000/0004/5686/8672/tess2021232031932-s0042-0000000456868672-0213-s_lc.fits to ./mastDownload/TESS/tess2021232031932-s0042-0000000456868672-0213-s/tess2021232031932-s0042-0000000456868672-0213-s_lc.fits ... [Done]\n"
     ]
    },
    {
     "name": "stderr",
     "output_type": "stream",
     "text": [
      "  0%|          | 176/53056 [01:38<9:16:22,  1.58it/s]"
     ]
    },
    {
     "name": "stdout",
     "output_type": "stream",
     "text": [
      "INFO: Found cached file ./mastDownload/TESS/tess2019279210107-s0017-0000000456886165-0161-s/tess2019279210107-s0017-0000000456886165-0161-s_lc.fits with expected size 1831680. [astroquery.mast.cloud]\n",
      "nothing found.\n"
     ]
    },
    {
     "name": "stderr",
     "output_type": "stream",
     "text": [
      "WARNING: NoResultsWarning: Query returned no results. [astroquery.mast.discovery_portal]\n",
      "  0%|          | 178/53056 [01:38<6:03:28,  2.42it/s]"
     ]
    },
    {
     "name": "stdout",
     "output_type": "stream",
     "text": [
      "nothing found.\n",
      "Downloading URL s3://stpubdata/tess/public/tid/s0017/0000/0003/2685/5162/tess2019279210107-s0017-0000000326855162-0161-s_lc.fits to ./mastDownload/TESS/tess2019279210107-s0017-0000000326855162-0161-s/tess2019279210107-s0017-0000000326855162-0161-s_lc.fits ... [Done]\n"
     ]
    },
    {
     "name": "stderr",
     "output_type": "stream",
     "text": [
      "  0%|          | 179/53056 [01:39<7:37:55,  1.92it/s]"
     ]
    },
    {
     "name": "stdout",
     "output_type": "stream",
     "text": [
      "nothing found.\n"
     ]
    },
    {
     "name": "stderr",
     "output_type": "stream",
     "text": [
      "WARNING: NoResultsWarning: Query returned no results. [astroquery.mast.discovery_portal]\n"
     ]
    },
    {
     "name": "stdout",
     "output_type": "stream",
     "text": [
      "Downloading URL s3://stpubdata/tess/public/tid/s0030/0000/0003/4427/9048/tess2020266004630-s0030-0000000344279048-0195-s_lc.fits to ./mastDownload/TESS/tess2020266004630-s0030-0000000344279048-0195-s/tess2020266004630-s0030-0000000344279048-0195-s_lc.fits ... [Done]\n"
     ]
    },
    {
     "name": "stderr",
     "output_type": "stream",
     "text": [
      "  0%|          | 181/53056 [01:40<7:25:13,  1.98it/s]"
     ]
    },
    {
     "name": "stdout",
     "output_type": "stream",
     "text": [
      "nothing found.\n"
     ]
    },
    {
     "name": "stderr",
     "output_type": "stream",
     "text": [
      "WARNING: NoResultsWarning: Query returned no results. [astroquery.mast.discovery_portal]\n",
      "  0%|          | 183/53056 [01:41<6:40:43,  2.20it/s]"
     ]
    },
    {
     "name": "stdout",
     "output_type": "stream",
     "text": [
      "INFO: Found cached file ./mastDownload/TESS/tess2021232031932-s0042-0000000365151928-0213-s/tess2021232031932-s0042-0000000365151928-0213-s_lc.fits with expected size 1863360. [astroquery.mast.cloud]\n",
      "Downloading URL s3://stpubdata/tess/public/tid/s0043/0000/0004/0534/0904/tess2021258175143-s0043-0000000405340904-0214-s_lc.fits to ./mastDownload/TESS/tess2021258175143-s0043-0000000405340904-0214-s/tess2021258175143-s0043-0000000405340904-0214-s_lc.fits ... [Done]\n"
     ]
    },
    {
     "name": "stderr",
     "output_type": "stream",
     "text": [
      "  0%|          | 184/53056 [01:41<7:38:27,  1.92it/s]"
     ]
    },
    {
     "name": "stdout",
     "output_type": "stream",
     "text": [
      "nothing found.\n"
     ]
    },
    {
     "name": "stderr",
     "output_type": "stream",
     "text": [
      "WARNING: NoResultsWarning: Query returned no results. [astroquery.mast.discovery_portal]\n",
      "  0%|          | 186/53056 [01:42<5:38:48,  2.60it/s]"
     ]
    },
    {
     "name": "stdout",
     "output_type": "stream",
     "text": [
      "nothing found.\n",
      "Downloading URL s3://stpubdata/tess/public/tid/s0017/0000/0000/1827/8446/tess2019279210107-s0017-0000000018278446-0161-s_lc.fits to ./mastDownload/TESS/tess2019279210107-s0017-0000000018278446-0161-s/tess2019279210107-s0017-0000000018278446-0161-s_lc.fits ... [Done]\n"
     ]
    },
    {
     "name": "stderr",
     "output_type": "stream",
     "text": [
      "  0%|          | 188/53056 [01:43<7:59:32,  1.84it/s]"
     ]
    },
    {
     "name": "stdout",
     "output_type": "stream",
     "text": [
      "INFO: Found cached file ./mastDownload/TESS/tess2019279210107-s0017-0000000047094931-0161-s/tess2019279210107-s0017-0000000047094931-0161-s_lc.fits with expected size 1831680. [astroquery.mast.cloud]\n"
     ]
    },
    {
     "name": "stderr",
     "output_type": "stream",
     "text": [
      "  0%|          | 189/53056 [01:44<8:05:49,  1.81it/s]"
     ]
    },
    {
     "name": "stdout",
     "output_type": "stream",
     "text": [
      "INFO: Found cached file ./mastDownload/TESS/tess2019279210107-s0017-0000000061287459-0161-s/tess2019279210107-s0017-0000000061287459-0161-s_lc.fits with expected size 1831680. [astroquery.mast.cloud]\n"
     ]
    },
    {
     "name": "stderr",
     "output_type": "stream",
     "text": [
      "  0%|          | 190/53056 [01:45<8:07:20,  1.81it/s]"
     ]
    },
    {
     "name": "stdout",
     "output_type": "stream",
     "text": [
      "INFO: Found cached file ./mastDownload/TESS/tess2019279210107-s0017-0000000061288380-0161-s/tess2019279210107-s0017-0000000061288380-0161-s_lc.fits with expected size 1831680. [astroquery.mast.cloud]\n",
      "Downloading URL s3://stpubdata/tess/public/tid/s0017/0000/0000/6128/8745/tess2019279210107-s0017-0000000061288745-0161-s_lc.fits to ./mastDownload/TESS/tess2019279210107-s0017-0000000061288745-0161-s/tess2019279210107-s0017-0000000061288745-0161-s_lc.fits ... [Done]\n"
     ]
    },
    {
     "name": "stderr",
     "output_type": "stream",
     "text": [
      "  0%|          | 191/53056 [01:45<9:01:45,  1.63it/s]"
     ]
    },
    {
     "name": "stdout",
     "output_type": "stream",
     "text": [
      "Downloading URL s3://stpubdata/tess/public/tid/s0017/0000/0001/2699/9617/tess2019279210107-s0017-0000000126999617-0161-s_lc.fits to ./mastDownload/TESS/tess2019279210107-s0017-0000000126999617-0161-s/tess2019279210107-s0017-0000000126999617-0161-s_lc.fits ... [Done]\n"
     ]
    },
    {
     "name": "stderr",
     "output_type": "stream",
     "text": [
      "  0%|          | 193/53056 [01:47<9:07:42,  1.61it/s]"
     ]
    },
    {
     "name": "stdout",
     "output_type": "stream",
     "text": [
      "INFO: Found cached file ./mastDownload/TESS/tess2019279210107-s0017-0000000127000150-0161-s/tess2019279210107-s0017-0000000127000150-0161-s_lc.fits with expected size 1831680. [astroquery.mast.cloud]\n",
      "nothing found.\n"
     ]
    },
    {
     "name": "stderr",
     "output_type": "stream",
     "text": [
      "WARNING: NoResultsWarning: Query returned no results. [astroquery.mast.discovery_portal]\n"
     ]
    },
    {
     "name": "stdout",
     "output_type": "stream",
     "text": [
      "Downloading URL s3://stpubdata/tess/public/tid/s0070/0000/0003/4687/2159/tess2023263165758-s0070-0000000346872159-0265-s_lc.fits to ./mastDownload/TESS/tess2023263165758-s0070-0000000346872159-0265-s/tess2023263165758-s0070-0000000346872159-0265-s_lc.fits ... [Done]\n"
     ]
    },
    {
     "name": "stderr",
     "output_type": "stream",
     "text": [
      "  0%|          | 196/53056 [01:48<8:14:55,  1.78it/s]"
     ]
    },
    {
     "name": "stdout",
     "output_type": "stream",
     "text": [
      "INFO: Found cached file ./mastDownload/TESS/tess2021232031932-s0042-0000000346875963-0213-s/tess2021232031932-s0042-0000000346875963-0213-s_lc.fits with expected size 1863360. [astroquery.mast.cloud]\n"
     ]
    },
    {
     "name": "stderr",
     "output_type": "stream",
     "text": [
      "  0%|          | 197/53056 [01:49<8:13:35,  1.78it/s]"
     ]
    },
    {
     "name": "stdout",
     "output_type": "stream",
     "text": [
      "INFO: Found cached file ./mastDownload/TESS/tess2019306063752-s0018-0000000422839848-0162-s/tess2019306063752-s0018-0000000422839848-0162-s_lc.fits with expected size 1785600. [astroquery.mast.cloud]\n"
     ]
    },
    {
     "name": "stderr",
     "output_type": "stream",
     "text": [
      "  0%|          | 198/53056 [01:49<8:10:02,  1.80it/s]"
     ]
    },
    {
     "name": "stdout",
     "output_type": "stream",
     "text": [
      "INFO: Found cached file ./mastDownload/TESS/tess2019279210107-s0017-0000000061471504-0161-s/tess2019279210107-s0017-0000000061471504-0161-s_lc.fits with expected size 1831680. [astroquery.mast.cloud]\n",
      "Downloading URL s3://stpubdata/tess/public/tid/s0017/0000/0001/5097/5665/tess2019279210107-s0017-0000000150975665-0161-s_lc.fits to ./mastDownload/TESS/tess2019279210107-s0017-0000000150975665-0161-s/tess2019279210107-s0017-0000000150975665-0161-s_lc.fits ... [Done]\n"
     ]
    },
    {
     "name": "stderr",
     "output_type": "stream",
     "text": [
      "  0%|          | 199/53056 [01:50<8:58:28,  1.64it/s]"
     ]
    },
    {
     "name": "stdout",
     "output_type": "stream",
     "text": [
      "Downloading URL s3://stpubdata/tess/public/tid/s0017/0000/0001/5097/8303/tess2019279210107-s0017-0000000150978303-0161-s_lc.fits to ./mastDownload/TESS/tess2019279210107-s0017-0000000150978303-0161-s/tess2019279210107-s0017-0000000150978303-0161-s_lc.fits ... [Done]\n"
     ]
    },
    {
     "name": "stderr",
     "output_type": "stream",
     "text": [
      "  0%|          | 201/53056 [01:51<8:59:44,  1.63it/s]"
     ]
    },
    {
     "name": "stdout",
     "output_type": "stream",
     "text": [
      "INFO: Found cached file ./mastDownload/TESS/tess2019279210107-s0017-0000000150988756-0161-s/tess2019279210107-s0017-0000000150988756-0161-s_lc.fits with expected size 1831680. [astroquery.mast.cloud]\n"
     ]
    },
    {
     "name": "stderr",
     "output_type": "stream",
     "text": [
      "  0%|          | 202/53056 [01:52<8:48:18,  1.67it/s]"
     ]
    },
    {
     "name": "stdout",
     "output_type": "stream",
     "text": [
      "INFO: Found cached file ./mastDownload/TESS/tess2019306063752-s0018-0000000308715591-0162-s/tess2019306063752-s0018-0000000308715591-0162-s_lc.fits with expected size 1785600. [astroquery.mast.cloud]\n",
      "nothing found.\n"
     ]
    },
    {
     "name": "stderr",
     "output_type": "stream",
     "text": [
      "WARNING: NoResultsWarning: Query returned no results. [astroquery.mast.discovery_portal]\n"
     ]
    },
    {
     "name": "stdout",
     "output_type": "stream",
     "text": [
      "Downloading URL s3://stpubdata/tess/public/tid/s0042/0000/0003/8701/2505/tess2021232031932-s0042-0000000387012505-0213-s_lc.fits to ./mastDownload/TESS/tess2021232031932-s0042-0000000387012505-0213-s/tess2021232031932-s0042-0000000387012505-0213-s_lc.fits ... [Done]\n"
     ]
    },
    {
     "name": "stderr",
     "output_type": "stream",
     "text": [
      "  0%|          | 204/53056 [01:53<7:48:28,  1.88it/s]"
     ]
    },
    {
     "name": "stdout",
     "output_type": "stream",
     "text": [
      "Downloading URL s3://stpubdata/tess/public/tid/s0042/0000/0004/0537/5840/tess2021232031932-s0042-0000000405375840-0213-s_lc.fits to ./mastDownload/TESS/tess2021232031932-s0042-0000000405375840-0213-s/tess2021232031932-s0042-0000000405375840-0213-s_lc.fits ... [Done]\n"
     ]
    },
    {
     "name": "stderr",
     "output_type": "stream",
     "text": [
      "  0%|          | 205/53056 [01:53<8:39:28,  1.70it/s]WARNING: NoResultsWarning: Query returned no results. [astroquery.mast.discovery_portal]\n",
      "  0%|          | 206/53056 [01:54<6:50:57,  2.14it/s]"
     ]
    },
    {
     "name": "stdout",
     "output_type": "stream",
     "text": [
      "nothing found.\n"
     ]
    },
    {
     "name": "stderr",
     "output_type": "stream",
     "text": [
      "  0%|          | 206/53056 [01:54<8:08:04,  1.80it/s]\n"
     ]
    },
    {
     "ename": "KeyboardInterrupt",
     "evalue": "",
     "output_type": "error",
     "traceback": [
      "\u001b[0;31m---------------------------------------------------------------------------\u001b[0m",
      "\u001b[0;31mKeyboardInterrupt\u001b[0m                         Traceback (most recent call last)",
      "Cell \u001b[0;32mIn[41], line 2\u001b[0m\n\u001b[1;32m      1\u001b[0m \u001b[38;5;28;01mfor\u001b[39;00m catalog_id \u001b[38;5;129;01min\u001b[39;00m tqdm(catalog_data[\u001b[38;5;124m'\u001b[39m\u001b[38;5;124mID\u001b[39m\u001b[38;5;124m'\u001b[39m]):\n\u001b[0;32m----> 2\u001b[0m     time, flux \u001b[38;5;241m=\u001b[39m \u001b[43mdownload_data\u001b[49m\u001b[43m(\u001b[49m\u001b[43mcatalog_id\u001b[49m\u001b[43m)\u001b[49m\n",
      "Cell \u001b[0;32mIn[40], line 4\u001b[0m, in \u001b[0;36mdownload_data\u001b[0;34m(catalog_id)\u001b[0m\n\u001b[1;32m      1\u001b[0m \u001b[38;5;28;01mdef\u001b[39;00m \u001b[38;5;21mdownload_data\u001b[39m(catalog_id):\n\u001b[0;32m----> 4\u001b[0m     TESS_table \u001b[38;5;241m=\u001b[39m \u001b[43mObservations\u001b[49m\u001b[38;5;241;43m.\u001b[39;49m\u001b[43mquery_criteria\u001b[49m\u001b[43m(\u001b[49m\u001b[43mtarget_name\u001b[49m\u001b[38;5;241;43m=\u001b[39;49m\u001b[43mcatalog_id\u001b[49m\n\u001b[1;32m      5\u001b[0m \u001b[43m                                             \u001b[49m\u001b[43m,\u001b[49m\u001b[43m \u001b[49m\u001b[43mobs_collection\u001b[49m\u001b[38;5;241;43m=\u001b[39;49m\u001b[38;5;124;43m\"\u001b[39;49m\u001b[38;5;124;43mTESS\u001b[39;49m\u001b[38;5;124;43m\"\u001b[39;49m\n\u001b[1;32m      6\u001b[0m \u001b[43m                                             \u001b[49m\u001b[43m,\u001b[49m\u001b[43m \u001b[49m\u001b[43mdataproduct_type\u001b[49m\u001b[38;5;241;43m=\u001b[39;49m\u001b[38;5;124;43m'\u001b[39;49m\u001b[38;5;124;43mtimeseries\u001b[39;49m\u001b[38;5;124;43m'\u001b[39;49m\n\u001b[1;32m      7\u001b[0m \u001b[43m                                             \u001b[49m\u001b[43m)\u001b[49m \n\u001b[1;32m      8\u001b[0m     \u001b[38;5;28;01mtry\u001b[39;00m:\n\u001b[1;32m      9\u001b[0m         data_products \u001b[38;5;241m=\u001b[39m Observations\u001b[38;5;241m.\u001b[39mget_product_list(TESS_table) \n",
      "File \u001b[0;32m/opt/conda/envs/tess/lib/python3.11/site-packages/astroquery/utils/class_or_instance.py:25\u001b[0m, in \u001b[0;36mclass_or_instance.__get__.<locals>.f\u001b[0;34m(*args, **kwds)\u001b[0m\n\u001b[1;32m     23\u001b[0m \u001b[38;5;28;01mdef\u001b[39;00m \u001b[38;5;21mf\u001b[39m(\u001b[38;5;241m*\u001b[39margs, \u001b[38;5;241m*\u001b[39m\u001b[38;5;241m*\u001b[39mkwds):\n\u001b[1;32m     24\u001b[0m     \u001b[38;5;28;01mif\u001b[39;00m obj \u001b[38;5;129;01mis\u001b[39;00m \u001b[38;5;129;01mnot\u001b[39;00m \u001b[38;5;28;01mNone\u001b[39;00m:\n\u001b[0;32m---> 25\u001b[0m         \u001b[38;5;28;01mreturn\u001b[39;00m \u001b[38;5;28;43mself\u001b[39;49m\u001b[38;5;241;43m.\u001b[39;49m\u001b[43mfn\u001b[49m\u001b[43m(\u001b[49m\u001b[43mobj\u001b[49m\u001b[43m,\u001b[49m\u001b[43m \u001b[49m\u001b[38;5;241;43m*\u001b[39;49m\u001b[43margs\u001b[49m\u001b[43m,\u001b[49m\u001b[43m \u001b[49m\u001b[38;5;241;43m*\u001b[39;49m\u001b[38;5;241;43m*\u001b[39;49m\u001b[43mkwds\u001b[49m\u001b[43m)\u001b[49m\n\u001b[1;32m     26\u001b[0m     \u001b[38;5;28;01melse\u001b[39;00m:\n\u001b[1;32m     27\u001b[0m         \u001b[38;5;28;01mreturn\u001b[39;00m \u001b[38;5;28mself\u001b[39m\u001b[38;5;241m.\u001b[39mfn(\u001b[38;5;28mcls\u001b[39m, \u001b[38;5;241m*\u001b[39margs, \u001b[38;5;241m*\u001b[39m\u001b[38;5;241m*\u001b[39mkwds)\n",
      "File \u001b[0;32m/opt/conda/envs/tess/lib/python3.11/site-packages/astroquery/utils/process_asyncs.py:26\u001b[0m, in \u001b[0;36masync_to_sync.<locals>.create_method.<locals>.newmethod\u001b[0;34m(self, *args, **kwargs)\u001b[0m\n\u001b[1;32m     22\u001b[0m \u001b[38;5;129m@class_or_instance\u001b[39m\n\u001b[1;32m     23\u001b[0m \u001b[38;5;28;01mdef\u001b[39;00m \u001b[38;5;21mnewmethod\u001b[39m(\u001b[38;5;28mself\u001b[39m, \u001b[38;5;241m*\u001b[39margs, \u001b[38;5;241m*\u001b[39m\u001b[38;5;241m*\u001b[39mkwargs):\n\u001b[1;32m     24\u001b[0m     verbose \u001b[38;5;241m=\u001b[39m kwargs\u001b[38;5;241m.\u001b[39mpop(\u001b[38;5;124m'\u001b[39m\u001b[38;5;124mverbose\u001b[39m\u001b[38;5;124m'\u001b[39m, \u001b[38;5;28;01mFalse\u001b[39;00m)\n\u001b[0;32m---> 26\u001b[0m     response \u001b[38;5;241m=\u001b[39m \u001b[38;5;28;43mgetattr\u001b[39;49m\u001b[43m(\u001b[49m\u001b[38;5;28;43mself\u001b[39;49m\u001b[43m,\u001b[49m\u001b[43m \u001b[49m\u001b[43masync_method_name\u001b[49m\u001b[43m)\u001b[49m\u001b[43m(\u001b[49m\u001b[38;5;241;43m*\u001b[39;49m\u001b[43margs\u001b[49m\u001b[43m,\u001b[49m\u001b[43m \u001b[49m\u001b[38;5;241;43m*\u001b[39;49m\u001b[38;5;241;43m*\u001b[39;49m\u001b[43mkwargs\u001b[49m\u001b[43m)\u001b[49m\n\u001b[1;32m     27\u001b[0m     \u001b[38;5;28;01mif\u001b[39;00m kwargs\u001b[38;5;241m.\u001b[39mget(\u001b[38;5;124m'\u001b[39m\u001b[38;5;124mget_query_payload\u001b[39m\u001b[38;5;124m'\u001b[39m) \u001b[38;5;129;01mor\u001b[39;00m kwargs\u001b[38;5;241m.\u001b[39mget(\u001b[38;5;124m'\u001b[39m\u001b[38;5;124mfield_help\u001b[39m\u001b[38;5;124m'\u001b[39m):\n\u001b[1;32m     28\u001b[0m         \u001b[38;5;28;01mreturn\u001b[39;00m response\n",
      "File \u001b[0;32m/opt/conda/envs/tess/lib/python3.11/site-packages/astroquery/utils/class_or_instance.py:25\u001b[0m, in \u001b[0;36mclass_or_instance.__get__.<locals>.f\u001b[0;34m(*args, **kwds)\u001b[0m\n\u001b[1;32m     23\u001b[0m \u001b[38;5;28;01mdef\u001b[39;00m \u001b[38;5;21mf\u001b[39m(\u001b[38;5;241m*\u001b[39margs, \u001b[38;5;241m*\u001b[39m\u001b[38;5;241m*\u001b[39mkwds):\n\u001b[1;32m     24\u001b[0m     \u001b[38;5;28;01mif\u001b[39;00m obj \u001b[38;5;129;01mis\u001b[39;00m \u001b[38;5;129;01mnot\u001b[39;00m \u001b[38;5;28;01mNone\u001b[39;00m:\n\u001b[0;32m---> 25\u001b[0m         \u001b[38;5;28;01mreturn\u001b[39;00m \u001b[38;5;28;43mself\u001b[39;49m\u001b[38;5;241;43m.\u001b[39;49m\u001b[43mfn\u001b[49m\u001b[43m(\u001b[49m\u001b[43mobj\u001b[49m\u001b[43m,\u001b[49m\u001b[43m \u001b[49m\u001b[38;5;241;43m*\u001b[39;49m\u001b[43margs\u001b[49m\u001b[43m,\u001b[49m\u001b[43m \u001b[49m\u001b[38;5;241;43m*\u001b[39;49m\u001b[38;5;241;43m*\u001b[39;49m\u001b[43mkwds\u001b[49m\u001b[43m)\u001b[49m\n\u001b[1;32m     26\u001b[0m     \u001b[38;5;28;01melse\u001b[39;00m:\n\u001b[1;32m     27\u001b[0m         \u001b[38;5;28;01mreturn\u001b[39;00m \u001b[38;5;28mself\u001b[39m\u001b[38;5;241m.\u001b[39mfn(\u001b[38;5;28mcls\u001b[39m, \u001b[38;5;241m*\u001b[39margs, \u001b[38;5;241m*\u001b[39m\u001b[38;5;241m*\u001b[39mkwds)\n",
      "File \u001b[0;32m/opt/conda/envs/tess/lib/python3.11/site-packages/astroquery/mast/observations.py:294\u001b[0m, in \u001b[0;36mObservationsClass.query_criteria_async\u001b[0;34m(self, pagesize, page, **criteria)\u001b[0m\n\u001b[1;32m    290\u001b[0m     service \u001b[38;5;241m=\u001b[39m \u001b[38;5;28mself\u001b[39m\u001b[38;5;241m.\u001b[39m_caom_filtered\n\u001b[1;32m    291\u001b[0m     params \u001b[38;5;241m=\u001b[39m {\u001b[38;5;124m\"\u001b[39m\u001b[38;5;124mcolumns\u001b[39m\u001b[38;5;124m\"\u001b[39m: \u001b[38;5;124m\"\u001b[39m\u001b[38;5;124m*\u001b[39m\u001b[38;5;124m\"\u001b[39m,\n\u001b[1;32m    292\u001b[0m               \u001b[38;5;124m\"\u001b[39m\u001b[38;5;124mfilters\u001b[39m\u001b[38;5;124m\"\u001b[39m: mashup_filters}\n\u001b[0;32m--> 294\u001b[0m \u001b[38;5;28;01mreturn\u001b[39;00m \u001b[38;5;28;43mself\u001b[39;49m\u001b[38;5;241;43m.\u001b[39;49m\u001b[43m_portal_api_connection\u001b[49m\u001b[38;5;241;43m.\u001b[39;49m\u001b[43mservice_request_async\u001b[49m\u001b[43m(\u001b[49m\u001b[43mservice\u001b[49m\u001b[43m,\u001b[49m\u001b[43m \u001b[49m\u001b[43mparams\u001b[49m\u001b[43m,\u001b[49m\u001b[43m \u001b[49m\u001b[43mpagesize\u001b[49m\u001b[38;5;241;43m=\u001b[39;49m\u001b[43mpagesize\u001b[49m\u001b[43m,\u001b[49m\u001b[43m \u001b[49m\u001b[43mpage\u001b[49m\u001b[38;5;241;43m=\u001b[39;49m\u001b[43mpage\u001b[49m\u001b[43m)\u001b[49m\n",
      "File \u001b[0;32m/opt/conda/envs/tess/lib/python3.11/site-packages/astroquery/utils/class_or_instance.py:25\u001b[0m, in \u001b[0;36mclass_or_instance.__get__.<locals>.f\u001b[0;34m(*args, **kwds)\u001b[0m\n\u001b[1;32m     23\u001b[0m \u001b[38;5;28;01mdef\u001b[39;00m \u001b[38;5;21mf\u001b[39m(\u001b[38;5;241m*\u001b[39margs, \u001b[38;5;241m*\u001b[39m\u001b[38;5;241m*\u001b[39mkwds):\n\u001b[1;32m     24\u001b[0m     \u001b[38;5;28;01mif\u001b[39;00m obj \u001b[38;5;129;01mis\u001b[39;00m \u001b[38;5;129;01mnot\u001b[39;00m \u001b[38;5;28;01mNone\u001b[39;00m:\n\u001b[0;32m---> 25\u001b[0m         \u001b[38;5;28;01mreturn\u001b[39;00m \u001b[38;5;28;43mself\u001b[39;49m\u001b[38;5;241;43m.\u001b[39;49m\u001b[43mfn\u001b[49m\u001b[43m(\u001b[49m\u001b[43mobj\u001b[49m\u001b[43m,\u001b[49m\u001b[43m \u001b[49m\u001b[38;5;241;43m*\u001b[39;49m\u001b[43margs\u001b[49m\u001b[43m,\u001b[49m\u001b[43m \u001b[49m\u001b[38;5;241;43m*\u001b[39;49m\u001b[38;5;241;43m*\u001b[39;49m\u001b[43mkwds\u001b[49m\u001b[43m)\u001b[49m\n\u001b[1;32m     26\u001b[0m     \u001b[38;5;28;01melse\u001b[39;00m:\n\u001b[1;32m     27\u001b[0m         \u001b[38;5;28;01mreturn\u001b[39;00m \u001b[38;5;28mself\u001b[39m\u001b[38;5;241m.\u001b[39mfn(\u001b[38;5;28mcls\u001b[39m, \u001b[38;5;241m*\u001b[39margs, \u001b[38;5;241m*\u001b[39m\u001b[38;5;241m*\u001b[39mkwds)\n",
      "File \u001b[0;32m/opt/conda/envs/tess/lib/python3.11/site-packages/astroquery/mast/discovery_portal.py:362\u001b[0m, in \u001b[0;36mPortalAPI.service_request_async\u001b[0;34m(self, service, params, pagesize, page, **kwargs)\u001b[0m\n\u001b[1;32m    359\u001b[0m     mashup_request[prop] \u001b[38;5;241m=\u001b[39m value\n\u001b[1;32m    361\u001b[0m req_string \u001b[38;5;241m=\u001b[39m _prepare_service_request_string(mashup_request)\n\u001b[0;32m--> 362\u001b[0m response \u001b[38;5;241m=\u001b[39m \u001b[38;5;28;43mself\u001b[39;49m\u001b[38;5;241;43m.\u001b[39;49m\u001b[43m_request\u001b[49m\u001b[43m(\u001b[49m\u001b[38;5;124;43m\"\u001b[39;49m\u001b[38;5;124;43mPOST\u001b[39;49m\u001b[38;5;124;43m\"\u001b[39;49m\u001b[43m,\u001b[49m\u001b[43m \u001b[49m\u001b[38;5;28;43mself\u001b[39;49m\u001b[38;5;241;43m.\u001b[39;49m\u001b[43mMAST_REQUEST_URL\u001b[49m\u001b[43m,\u001b[49m\u001b[43m \u001b[49m\u001b[43mdata\u001b[49m\u001b[38;5;241;43m=\u001b[39;49m\u001b[43mreq_string\u001b[49m\u001b[43m,\u001b[49m\u001b[43m \u001b[49m\u001b[43mheaders\u001b[49m\u001b[38;5;241;43m=\u001b[39;49m\u001b[43mheaders\u001b[49m\u001b[43m,\u001b[49m\n\u001b[1;32m    363\u001b[0m \u001b[43m                         \u001b[49m\u001b[43mretrieve_all\u001b[49m\u001b[38;5;241;43m=\u001b[39;49m\u001b[43mretrieve_all\u001b[49m\u001b[43m)\u001b[49m\n\u001b[1;32m    365\u001b[0m \u001b[38;5;28;01mreturn\u001b[39;00m response\n",
      "File \u001b[0;32m/opt/conda/envs/tess/lib/python3.11/site-packages/astroquery/mast/discovery_portal.py:181\u001b[0m, in \u001b[0;36mPortalAPI._request\u001b[0;34m(self, method, url, params, data, headers, files, stream, auth, retrieve_all)\u001b[0m\n\u001b[1;32m    178\u001b[0m status \u001b[38;5;241m=\u001b[39m \u001b[38;5;124m\"\u001b[39m\u001b[38;5;124mEXECUTING\u001b[39m\u001b[38;5;124m\"\u001b[39m\n\u001b[1;32m    180\u001b[0m \u001b[38;5;28;01mwhile\u001b[39;00m status \u001b[38;5;241m==\u001b[39m \u001b[38;5;124m\"\u001b[39m\u001b[38;5;124mEXECUTING\u001b[39m\u001b[38;5;124m\"\u001b[39m:\n\u001b[0;32m--> 181\u001b[0m     response \u001b[38;5;241m=\u001b[39m \u001b[38;5;28;43msuper\u001b[39;49m\u001b[43m(\u001b[49m\u001b[43mPortalAPI\u001b[49m\u001b[43m,\u001b[49m\u001b[43m \u001b[49m\u001b[38;5;28;43mself\u001b[39;49m\u001b[43m)\u001b[49m\u001b[38;5;241;43m.\u001b[39;49m\u001b[43m_request\u001b[49m\u001b[43m(\u001b[49m\u001b[43mmethod\u001b[49m\u001b[43m,\u001b[49m\u001b[43m \u001b[49m\u001b[43murl\u001b[49m\u001b[43m,\u001b[49m\u001b[43m \u001b[49m\u001b[43mparams\u001b[49m\u001b[38;5;241;43m=\u001b[39;49m\u001b[43mparams\u001b[49m\u001b[43m,\u001b[49m\u001b[43m \u001b[49m\u001b[43mdata\u001b[49m\u001b[38;5;241;43m=\u001b[39;49m\u001b[43mdata\u001b[49m\u001b[43m,\u001b[49m\n\u001b[1;32m    182\u001b[0m \u001b[43m                                               \u001b[49m\u001b[43mheaders\u001b[49m\u001b[38;5;241;43m=\u001b[39;49m\u001b[43mheaders\u001b[49m\u001b[43m,\u001b[49m\u001b[43m \u001b[49m\u001b[43mfiles\u001b[49m\u001b[38;5;241;43m=\u001b[39;49m\u001b[43mfiles\u001b[49m\u001b[43m,\u001b[49m\u001b[43m \u001b[49m\u001b[43mcache\u001b[49m\u001b[38;5;241;43m=\u001b[39;49m\u001b[38;5;28;43;01mFalse\u001b[39;49;00m\u001b[43m,\u001b[49m\n\u001b[1;32m    183\u001b[0m \u001b[43m                                               \u001b[49m\u001b[43mstream\u001b[49m\u001b[38;5;241;43m=\u001b[39;49m\u001b[43mstream\u001b[49m\u001b[43m,\u001b[49m\u001b[43m \u001b[49m\u001b[43mauth\u001b[49m\u001b[38;5;241;43m=\u001b[39;49m\u001b[43mauth\u001b[49m\u001b[43m)\u001b[49m\n\u001b[1;32m    185\u001b[0m     \u001b[38;5;28;01mif\u001b[39;00m (time\u001b[38;5;241m.\u001b[39mtime() \u001b[38;5;241m-\u001b[39m start_time) \u001b[38;5;241m>\u001b[39m\u001b[38;5;241m=\u001b[39m \u001b[38;5;28mself\u001b[39m\u001b[38;5;241m.\u001b[39mTIMEOUT:\n\u001b[1;32m    186\u001b[0m         \u001b[38;5;28;01mraise\u001b[39;00m \u001b[38;5;167;01mTimeoutError\u001b[39;00m(\u001b[38;5;124m\"\u001b[39m\u001b[38;5;124mTimeout limit of \u001b[39m\u001b[38;5;132;01m{}\u001b[39;00m\u001b[38;5;124m exceeded.\u001b[39m\u001b[38;5;124m\"\u001b[39m\u001b[38;5;241m.\u001b[39mformat(\u001b[38;5;28mself\u001b[39m\u001b[38;5;241m.\u001b[39mTIMEOUT))\n",
      "File \u001b[0;32m/opt/conda/envs/tess/lib/python3.11/site-packages/astroquery/query.py:368\u001b[0m, in \u001b[0;36mBaseQuery._request\u001b[0;34m(self, method, url, params, data, headers, files, save, savedir, timeout, cache, stream, auth, continuation, verify, allow_redirects, json, return_response_on_save)\u001b[0m\n\u001b[1;32m    366\u001b[0m \u001b[38;5;28;01mif\u001b[39;00m \u001b[38;5;129;01mnot\u001b[39;00m cache:\n\u001b[1;32m    367\u001b[0m     \u001b[38;5;28;01mwith\u001b[39;00m cache_conf\u001b[38;5;241m.\u001b[39mset_temp(\u001b[38;5;124m\"\u001b[39m\u001b[38;5;124mcache_active\u001b[39m\u001b[38;5;124m\"\u001b[39m, \u001b[38;5;28;01mFalse\u001b[39;00m):\n\u001b[0;32m--> 368\u001b[0m         response \u001b[38;5;241m=\u001b[39m \u001b[43mquery\u001b[49m\u001b[38;5;241;43m.\u001b[39;49m\u001b[43mrequest\u001b[49m\u001b[43m(\u001b[49m\u001b[38;5;28;43mself\u001b[39;49m\u001b[38;5;241;43m.\u001b[39;49m\u001b[43m_session\u001b[49m\u001b[43m,\u001b[49m\u001b[43m \u001b[49m\u001b[43mstream\u001b[49m\u001b[38;5;241;43m=\u001b[39;49m\u001b[43mstream\u001b[49m\u001b[43m,\u001b[49m\n\u001b[1;32m    369\u001b[0m \u001b[43m                                 \u001b[49m\u001b[43mauth\u001b[49m\u001b[38;5;241;43m=\u001b[39;49m\u001b[43mauth\u001b[49m\u001b[43m,\u001b[49m\u001b[43m \u001b[49m\u001b[43mverify\u001b[49m\u001b[38;5;241;43m=\u001b[39;49m\u001b[43mverify\u001b[49m\u001b[43m,\u001b[49m\n\u001b[1;32m    370\u001b[0m \u001b[43m                                 \u001b[49m\u001b[43mallow_redirects\u001b[49m\u001b[38;5;241;43m=\u001b[39;49m\u001b[43mallow_redirects\u001b[49m\u001b[43m,\u001b[49m\n\u001b[1;32m    371\u001b[0m \u001b[43m                                 \u001b[49m\u001b[43mjson\u001b[49m\u001b[38;5;241;43m=\u001b[39;49m\u001b[43mjson\u001b[49m\u001b[43m)\u001b[49m\n\u001b[1;32m    372\u001b[0m \u001b[38;5;28;01melse\u001b[39;00m:\n\u001b[1;32m    373\u001b[0m     response \u001b[38;5;241m=\u001b[39m query\u001b[38;5;241m.\u001b[39mfrom_cache(\u001b[38;5;28mself\u001b[39m\u001b[38;5;241m.\u001b[39mcache_location, cache_conf\u001b[38;5;241m.\u001b[39mcache_timeout)\n",
      "File \u001b[0;32m/opt/conda/envs/tess/lib/python3.11/site-packages/astroquery/query.py:77\u001b[0m, in \u001b[0;36mAstroQuery.request\u001b[0;34m(self, session, cache_location, stream, auth, verify, allow_redirects, json)\u001b[0m\n\u001b[1;32m     74\u001b[0m \u001b[38;5;28;01mdef\u001b[39;00m \u001b[38;5;21mrequest\u001b[39m(\u001b[38;5;28mself\u001b[39m, session, cache_location\u001b[38;5;241m=\u001b[39m\u001b[38;5;28;01mNone\u001b[39;00m, stream\u001b[38;5;241m=\u001b[39m\u001b[38;5;28;01mFalse\u001b[39;00m,\n\u001b[1;32m     75\u001b[0m             auth\u001b[38;5;241m=\u001b[39m\u001b[38;5;28;01mNone\u001b[39;00m, verify\u001b[38;5;241m=\u001b[39m\u001b[38;5;28;01mTrue\u001b[39;00m, allow_redirects\u001b[38;5;241m=\u001b[39m\u001b[38;5;28;01mTrue\u001b[39;00m,\n\u001b[1;32m     76\u001b[0m             json\u001b[38;5;241m=\u001b[39m\u001b[38;5;28;01mNone\u001b[39;00m):\n\u001b[0;32m---> 77\u001b[0m     \u001b[38;5;28;01mreturn\u001b[39;00m \u001b[43msession\u001b[49m\u001b[38;5;241;43m.\u001b[39;49m\u001b[43mrequest\u001b[49m\u001b[43m(\u001b[49m\u001b[38;5;28;43mself\u001b[39;49m\u001b[38;5;241;43m.\u001b[39;49m\u001b[43mmethod\u001b[49m\u001b[43m,\u001b[49m\u001b[43m \u001b[49m\u001b[38;5;28;43mself\u001b[39;49m\u001b[38;5;241;43m.\u001b[39;49m\u001b[43murl\u001b[49m\u001b[43m,\u001b[49m\u001b[43m \u001b[49m\u001b[43mparams\u001b[49m\u001b[38;5;241;43m=\u001b[39;49m\u001b[38;5;28;43mself\u001b[39;49m\u001b[38;5;241;43m.\u001b[39;49m\u001b[43mparams\u001b[49m\u001b[43m,\u001b[49m\n\u001b[1;32m     78\u001b[0m \u001b[43m                           \u001b[49m\u001b[43mdata\u001b[49m\u001b[38;5;241;43m=\u001b[39;49m\u001b[38;5;28;43mself\u001b[39;49m\u001b[38;5;241;43m.\u001b[39;49m\u001b[43mdata\u001b[49m\u001b[43m,\u001b[49m\u001b[43m \u001b[49m\u001b[43mheaders\u001b[49m\u001b[38;5;241;43m=\u001b[39;49m\u001b[38;5;28;43mself\u001b[39;49m\u001b[38;5;241;43m.\u001b[39;49m\u001b[43mheaders\u001b[49m\u001b[43m,\u001b[49m\n\u001b[1;32m     79\u001b[0m \u001b[43m                           \u001b[49m\u001b[43mfiles\u001b[49m\u001b[38;5;241;43m=\u001b[39;49m\u001b[38;5;28;43mself\u001b[39;49m\u001b[38;5;241;43m.\u001b[39;49m\u001b[43mfiles\u001b[49m\u001b[43m,\u001b[49m\u001b[43m \u001b[49m\u001b[43mtimeout\u001b[49m\u001b[38;5;241;43m=\u001b[39;49m\u001b[38;5;28;43mself\u001b[39;49m\u001b[38;5;241;43m.\u001b[39;49m\u001b[43mtimeout\u001b[49m\u001b[43m,\u001b[49m\n\u001b[1;32m     80\u001b[0m \u001b[43m                           \u001b[49m\u001b[43mstream\u001b[49m\u001b[38;5;241;43m=\u001b[39;49m\u001b[43mstream\u001b[49m\u001b[43m,\u001b[49m\u001b[43m \u001b[49m\u001b[43mauth\u001b[49m\u001b[38;5;241;43m=\u001b[39;49m\u001b[43mauth\u001b[49m\u001b[43m,\u001b[49m\u001b[43m \u001b[49m\u001b[43mverify\u001b[49m\u001b[38;5;241;43m=\u001b[39;49m\u001b[43mverify\u001b[49m\u001b[43m,\u001b[49m\n\u001b[1;32m     81\u001b[0m \u001b[43m                           \u001b[49m\u001b[43mallow_redirects\u001b[49m\u001b[38;5;241;43m=\u001b[39;49m\u001b[43mallow_redirects\u001b[49m\u001b[43m,\u001b[49m\n\u001b[1;32m     82\u001b[0m \u001b[43m                           \u001b[49m\u001b[43mjson\u001b[49m\u001b[38;5;241;43m=\u001b[39;49m\u001b[43mjson\u001b[49m\u001b[43m)\u001b[49m\n",
      "File \u001b[0;32m/opt/conda/envs/tess/lib/python3.11/site-packages/requests/sessions.py:589\u001b[0m, in \u001b[0;36mSession.request\u001b[0;34m(self, method, url, params, data, headers, cookies, files, auth, timeout, allow_redirects, proxies, hooks, stream, verify, cert, json)\u001b[0m\n\u001b[1;32m    584\u001b[0m send_kwargs \u001b[38;5;241m=\u001b[39m {\n\u001b[1;32m    585\u001b[0m     \u001b[38;5;124m\"\u001b[39m\u001b[38;5;124mtimeout\u001b[39m\u001b[38;5;124m\"\u001b[39m: timeout,\n\u001b[1;32m    586\u001b[0m     \u001b[38;5;124m\"\u001b[39m\u001b[38;5;124mallow_redirects\u001b[39m\u001b[38;5;124m\"\u001b[39m: allow_redirects,\n\u001b[1;32m    587\u001b[0m }\n\u001b[1;32m    588\u001b[0m send_kwargs\u001b[38;5;241m.\u001b[39mupdate(settings)\n\u001b[0;32m--> 589\u001b[0m resp \u001b[38;5;241m=\u001b[39m \u001b[38;5;28;43mself\u001b[39;49m\u001b[38;5;241;43m.\u001b[39;49m\u001b[43msend\u001b[49m\u001b[43m(\u001b[49m\u001b[43mprep\u001b[49m\u001b[43m,\u001b[49m\u001b[43m \u001b[49m\u001b[38;5;241;43m*\u001b[39;49m\u001b[38;5;241;43m*\u001b[39;49m\u001b[43msend_kwargs\u001b[49m\u001b[43m)\u001b[49m\n\u001b[1;32m    591\u001b[0m \u001b[38;5;28;01mreturn\u001b[39;00m resp\n",
      "File \u001b[0;32m/opt/conda/envs/tess/lib/python3.11/site-packages/requests/sessions.py:703\u001b[0m, in \u001b[0;36mSession.send\u001b[0;34m(self, request, **kwargs)\u001b[0m\n\u001b[1;32m    700\u001b[0m start \u001b[38;5;241m=\u001b[39m preferred_clock()\n\u001b[1;32m    702\u001b[0m \u001b[38;5;66;03m# Send the request\u001b[39;00m\n\u001b[0;32m--> 703\u001b[0m r \u001b[38;5;241m=\u001b[39m \u001b[43madapter\u001b[49m\u001b[38;5;241;43m.\u001b[39;49m\u001b[43msend\u001b[49m\u001b[43m(\u001b[49m\u001b[43mrequest\u001b[49m\u001b[43m,\u001b[49m\u001b[43m \u001b[49m\u001b[38;5;241;43m*\u001b[39;49m\u001b[38;5;241;43m*\u001b[39;49m\u001b[43mkwargs\u001b[49m\u001b[43m)\u001b[49m\n\u001b[1;32m    705\u001b[0m \u001b[38;5;66;03m# Total elapsed time of the request (approximately)\u001b[39;00m\n\u001b[1;32m    706\u001b[0m elapsed \u001b[38;5;241m=\u001b[39m preferred_clock() \u001b[38;5;241m-\u001b[39m start\n",
      "File \u001b[0;32m/opt/conda/envs/tess/lib/python3.11/site-packages/requests/adapters.py:667\u001b[0m, in \u001b[0;36mHTTPAdapter.send\u001b[0;34m(self, request, stream, timeout, verify, cert, proxies)\u001b[0m\n\u001b[1;32m    664\u001b[0m     timeout \u001b[38;5;241m=\u001b[39m TimeoutSauce(connect\u001b[38;5;241m=\u001b[39mtimeout, read\u001b[38;5;241m=\u001b[39mtimeout)\n\u001b[1;32m    666\u001b[0m \u001b[38;5;28;01mtry\u001b[39;00m:\n\u001b[0;32m--> 667\u001b[0m     resp \u001b[38;5;241m=\u001b[39m \u001b[43mconn\u001b[49m\u001b[38;5;241;43m.\u001b[39;49m\u001b[43murlopen\u001b[49m\u001b[43m(\u001b[49m\n\u001b[1;32m    668\u001b[0m \u001b[43m        \u001b[49m\u001b[43mmethod\u001b[49m\u001b[38;5;241;43m=\u001b[39;49m\u001b[43mrequest\u001b[49m\u001b[38;5;241;43m.\u001b[39;49m\u001b[43mmethod\u001b[49m\u001b[43m,\u001b[49m\n\u001b[1;32m    669\u001b[0m \u001b[43m        \u001b[49m\u001b[43murl\u001b[49m\u001b[38;5;241;43m=\u001b[39;49m\u001b[43murl\u001b[49m\u001b[43m,\u001b[49m\n\u001b[1;32m    670\u001b[0m \u001b[43m        \u001b[49m\u001b[43mbody\u001b[49m\u001b[38;5;241;43m=\u001b[39;49m\u001b[43mrequest\u001b[49m\u001b[38;5;241;43m.\u001b[39;49m\u001b[43mbody\u001b[49m\u001b[43m,\u001b[49m\n\u001b[1;32m    671\u001b[0m \u001b[43m        \u001b[49m\u001b[43mheaders\u001b[49m\u001b[38;5;241;43m=\u001b[39;49m\u001b[43mrequest\u001b[49m\u001b[38;5;241;43m.\u001b[39;49m\u001b[43mheaders\u001b[49m\u001b[43m,\u001b[49m\n\u001b[1;32m    672\u001b[0m \u001b[43m        \u001b[49m\u001b[43mredirect\u001b[49m\u001b[38;5;241;43m=\u001b[39;49m\u001b[38;5;28;43;01mFalse\u001b[39;49;00m\u001b[43m,\u001b[49m\n\u001b[1;32m    673\u001b[0m \u001b[43m        \u001b[49m\u001b[43massert_same_host\u001b[49m\u001b[38;5;241;43m=\u001b[39;49m\u001b[38;5;28;43;01mFalse\u001b[39;49;00m\u001b[43m,\u001b[49m\n\u001b[1;32m    674\u001b[0m \u001b[43m        \u001b[49m\u001b[43mpreload_content\u001b[49m\u001b[38;5;241;43m=\u001b[39;49m\u001b[38;5;28;43;01mFalse\u001b[39;49;00m\u001b[43m,\u001b[49m\n\u001b[1;32m    675\u001b[0m \u001b[43m        \u001b[49m\u001b[43mdecode_content\u001b[49m\u001b[38;5;241;43m=\u001b[39;49m\u001b[38;5;28;43;01mFalse\u001b[39;49;00m\u001b[43m,\u001b[49m\n\u001b[1;32m    676\u001b[0m \u001b[43m        \u001b[49m\u001b[43mretries\u001b[49m\u001b[38;5;241;43m=\u001b[39;49m\u001b[38;5;28;43mself\u001b[39;49m\u001b[38;5;241;43m.\u001b[39;49m\u001b[43mmax_retries\u001b[49m\u001b[43m,\u001b[49m\n\u001b[1;32m    677\u001b[0m \u001b[43m        \u001b[49m\u001b[43mtimeout\u001b[49m\u001b[38;5;241;43m=\u001b[39;49m\u001b[43mtimeout\u001b[49m\u001b[43m,\u001b[49m\n\u001b[1;32m    678\u001b[0m \u001b[43m        \u001b[49m\u001b[43mchunked\u001b[49m\u001b[38;5;241;43m=\u001b[39;49m\u001b[43mchunked\u001b[49m\u001b[43m,\u001b[49m\n\u001b[1;32m    679\u001b[0m \u001b[43m    \u001b[49m\u001b[43m)\u001b[49m\n\u001b[1;32m    681\u001b[0m \u001b[38;5;28;01mexcept\u001b[39;00m (ProtocolError, \u001b[38;5;167;01mOSError\u001b[39;00m) \u001b[38;5;28;01mas\u001b[39;00m err:\n\u001b[1;32m    682\u001b[0m     \u001b[38;5;28;01mraise\u001b[39;00m \u001b[38;5;167;01mConnectionError\u001b[39;00m(err, request\u001b[38;5;241m=\u001b[39mrequest)\n",
      "File \u001b[0;32m/opt/conda/envs/tess/lib/python3.11/site-packages/urllib3/connectionpool.py:793\u001b[0m, in \u001b[0;36mHTTPConnectionPool.urlopen\u001b[0;34m(self, method, url, body, headers, retries, redirect, assert_same_host, timeout, pool_timeout, release_conn, chunked, body_pos, preload_content, decode_content, **response_kw)\u001b[0m\n\u001b[1;32m    790\u001b[0m response_conn \u001b[38;5;241m=\u001b[39m conn \u001b[38;5;28;01mif\u001b[39;00m \u001b[38;5;129;01mnot\u001b[39;00m release_conn \u001b[38;5;28;01melse\u001b[39;00m \u001b[38;5;28;01mNone\u001b[39;00m\n\u001b[1;32m    792\u001b[0m \u001b[38;5;66;03m# Make the request on the HTTPConnection object\u001b[39;00m\n\u001b[0;32m--> 793\u001b[0m response \u001b[38;5;241m=\u001b[39m \u001b[38;5;28;43mself\u001b[39;49m\u001b[38;5;241;43m.\u001b[39;49m\u001b[43m_make_request\u001b[49m\u001b[43m(\u001b[49m\n\u001b[1;32m    794\u001b[0m \u001b[43m    \u001b[49m\u001b[43mconn\u001b[49m\u001b[43m,\u001b[49m\n\u001b[1;32m    795\u001b[0m \u001b[43m    \u001b[49m\u001b[43mmethod\u001b[49m\u001b[43m,\u001b[49m\n\u001b[1;32m    796\u001b[0m \u001b[43m    \u001b[49m\u001b[43murl\u001b[49m\u001b[43m,\u001b[49m\n\u001b[1;32m    797\u001b[0m \u001b[43m    \u001b[49m\u001b[43mtimeout\u001b[49m\u001b[38;5;241;43m=\u001b[39;49m\u001b[43mtimeout_obj\u001b[49m\u001b[43m,\u001b[49m\n\u001b[1;32m    798\u001b[0m \u001b[43m    \u001b[49m\u001b[43mbody\u001b[49m\u001b[38;5;241;43m=\u001b[39;49m\u001b[43mbody\u001b[49m\u001b[43m,\u001b[49m\n\u001b[1;32m    799\u001b[0m \u001b[43m    \u001b[49m\u001b[43mheaders\u001b[49m\u001b[38;5;241;43m=\u001b[39;49m\u001b[43mheaders\u001b[49m\u001b[43m,\u001b[49m\n\u001b[1;32m    800\u001b[0m \u001b[43m    \u001b[49m\u001b[43mchunked\u001b[49m\u001b[38;5;241;43m=\u001b[39;49m\u001b[43mchunked\u001b[49m\u001b[43m,\u001b[49m\n\u001b[1;32m    801\u001b[0m \u001b[43m    \u001b[49m\u001b[43mretries\u001b[49m\u001b[38;5;241;43m=\u001b[39;49m\u001b[43mretries\u001b[49m\u001b[43m,\u001b[49m\n\u001b[1;32m    802\u001b[0m \u001b[43m    \u001b[49m\u001b[43mresponse_conn\u001b[49m\u001b[38;5;241;43m=\u001b[39;49m\u001b[43mresponse_conn\u001b[49m\u001b[43m,\u001b[49m\n\u001b[1;32m    803\u001b[0m \u001b[43m    \u001b[49m\u001b[43mpreload_content\u001b[49m\u001b[38;5;241;43m=\u001b[39;49m\u001b[43mpreload_content\u001b[49m\u001b[43m,\u001b[49m\n\u001b[1;32m    804\u001b[0m \u001b[43m    \u001b[49m\u001b[43mdecode_content\u001b[49m\u001b[38;5;241;43m=\u001b[39;49m\u001b[43mdecode_content\u001b[49m\u001b[43m,\u001b[49m\n\u001b[1;32m    805\u001b[0m \u001b[43m    \u001b[49m\u001b[38;5;241;43m*\u001b[39;49m\u001b[38;5;241;43m*\u001b[39;49m\u001b[43mresponse_kw\u001b[49m\u001b[43m,\u001b[49m\n\u001b[1;32m    806\u001b[0m \u001b[43m\u001b[49m\u001b[43m)\u001b[49m\n\u001b[1;32m    808\u001b[0m \u001b[38;5;66;03m# Everything went great!\u001b[39;00m\n\u001b[1;32m    809\u001b[0m clean_exit \u001b[38;5;241m=\u001b[39m \u001b[38;5;28;01mTrue\u001b[39;00m\n",
      "File \u001b[0;32m/opt/conda/envs/tess/lib/python3.11/site-packages/urllib3/connectionpool.py:537\u001b[0m, in \u001b[0;36mHTTPConnectionPool._make_request\u001b[0;34m(self, conn, method, url, body, headers, retries, timeout, chunked, response_conn, preload_content, decode_content, enforce_content_length)\u001b[0m\n\u001b[1;32m    535\u001b[0m \u001b[38;5;66;03m# Receive the response from the server\u001b[39;00m\n\u001b[1;32m    536\u001b[0m \u001b[38;5;28;01mtry\u001b[39;00m:\n\u001b[0;32m--> 537\u001b[0m     response \u001b[38;5;241m=\u001b[39m \u001b[43mconn\u001b[49m\u001b[38;5;241;43m.\u001b[39;49m\u001b[43mgetresponse\u001b[49m\u001b[43m(\u001b[49m\u001b[43m)\u001b[49m\n\u001b[1;32m    538\u001b[0m \u001b[38;5;28;01mexcept\u001b[39;00m (BaseSSLError, \u001b[38;5;167;01mOSError\u001b[39;00m) \u001b[38;5;28;01mas\u001b[39;00m e:\n\u001b[1;32m    539\u001b[0m     \u001b[38;5;28mself\u001b[39m\u001b[38;5;241m.\u001b[39m_raise_timeout(err\u001b[38;5;241m=\u001b[39me, url\u001b[38;5;241m=\u001b[39murl, timeout_value\u001b[38;5;241m=\u001b[39mread_timeout)\n",
      "File \u001b[0;32m/opt/conda/envs/tess/lib/python3.11/site-packages/urllib3/connection.py:466\u001b[0m, in \u001b[0;36mHTTPConnection.getresponse\u001b[0;34m(self)\u001b[0m\n\u001b[1;32m    463\u001b[0m \u001b[38;5;28;01mfrom\u001b[39;00m \u001b[38;5;21;01m.\u001b[39;00m\u001b[38;5;21;01mresponse\u001b[39;00m \u001b[38;5;28;01mimport\u001b[39;00m HTTPResponse\n\u001b[1;32m    465\u001b[0m \u001b[38;5;66;03m# Get the response from http.client.HTTPConnection\u001b[39;00m\n\u001b[0;32m--> 466\u001b[0m httplib_response \u001b[38;5;241m=\u001b[39m \u001b[38;5;28;43msuper\u001b[39;49m\u001b[43m(\u001b[49m\u001b[43m)\u001b[49m\u001b[38;5;241;43m.\u001b[39;49m\u001b[43mgetresponse\u001b[49m\u001b[43m(\u001b[49m\u001b[43m)\u001b[49m\n\u001b[1;32m    468\u001b[0m \u001b[38;5;28;01mtry\u001b[39;00m:\n\u001b[1;32m    469\u001b[0m     assert_header_parsing(httplib_response\u001b[38;5;241m.\u001b[39mmsg)\n",
      "File \u001b[0;32m/opt/conda/envs/tess/lib/python3.11/http/client.py:1395\u001b[0m, in \u001b[0;36mHTTPConnection.getresponse\u001b[0;34m(self)\u001b[0m\n\u001b[1;32m   1393\u001b[0m \u001b[38;5;28;01mtry\u001b[39;00m:\n\u001b[1;32m   1394\u001b[0m     \u001b[38;5;28;01mtry\u001b[39;00m:\n\u001b[0;32m-> 1395\u001b[0m         \u001b[43mresponse\u001b[49m\u001b[38;5;241;43m.\u001b[39;49m\u001b[43mbegin\u001b[49m\u001b[43m(\u001b[49m\u001b[43m)\u001b[49m\n\u001b[1;32m   1396\u001b[0m     \u001b[38;5;28;01mexcept\u001b[39;00m \u001b[38;5;167;01mConnectionError\u001b[39;00m:\n\u001b[1;32m   1397\u001b[0m         \u001b[38;5;28mself\u001b[39m\u001b[38;5;241m.\u001b[39mclose()\n",
      "File \u001b[0;32m/opt/conda/envs/tess/lib/python3.11/http/client.py:325\u001b[0m, in \u001b[0;36mHTTPResponse.begin\u001b[0;34m(self)\u001b[0m\n\u001b[1;32m    323\u001b[0m \u001b[38;5;66;03m# read until we get a non-100 response\u001b[39;00m\n\u001b[1;32m    324\u001b[0m \u001b[38;5;28;01mwhile\u001b[39;00m \u001b[38;5;28;01mTrue\u001b[39;00m:\n\u001b[0;32m--> 325\u001b[0m     version, status, reason \u001b[38;5;241m=\u001b[39m \u001b[38;5;28;43mself\u001b[39;49m\u001b[38;5;241;43m.\u001b[39;49m\u001b[43m_read_status\u001b[49m\u001b[43m(\u001b[49m\u001b[43m)\u001b[49m\n\u001b[1;32m    326\u001b[0m     \u001b[38;5;28;01mif\u001b[39;00m status \u001b[38;5;241m!=\u001b[39m CONTINUE:\n\u001b[1;32m    327\u001b[0m         \u001b[38;5;28;01mbreak\u001b[39;00m\n",
      "File \u001b[0;32m/opt/conda/envs/tess/lib/python3.11/http/client.py:286\u001b[0m, in \u001b[0;36mHTTPResponse._read_status\u001b[0;34m(self)\u001b[0m\n\u001b[1;32m    285\u001b[0m \u001b[38;5;28;01mdef\u001b[39;00m \u001b[38;5;21m_read_status\u001b[39m(\u001b[38;5;28mself\u001b[39m):\n\u001b[0;32m--> 286\u001b[0m     line \u001b[38;5;241m=\u001b[39m \u001b[38;5;28mstr\u001b[39m(\u001b[38;5;28mself\u001b[39m\u001b[38;5;241m.\u001b[39mfp\u001b[38;5;241m.\u001b[39mreadline(_MAXLINE \u001b[38;5;241m+\u001b[39m \u001b[38;5;241m1\u001b[39m), \u001b[38;5;124m\"\u001b[39m\u001b[38;5;124miso-8859-1\u001b[39m\u001b[38;5;124m\"\u001b[39m)\n\u001b[1;32m    287\u001b[0m     \u001b[38;5;28;01mif\u001b[39;00m \u001b[38;5;28mlen\u001b[39m(line) \u001b[38;5;241m>\u001b[39m _MAXLINE:\n\u001b[1;32m    288\u001b[0m         \u001b[38;5;28;01mraise\u001b[39;00m LineTooLong(\u001b[38;5;124m\"\u001b[39m\u001b[38;5;124mstatus line\u001b[39m\u001b[38;5;124m\"\u001b[39m)\n",
      "File \u001b[0;32m/opt/conda/envs/tess/lib/python3.11/socket.py:706\u001b[0m, in \u001b[0;36mSocketIO.readinto\u001b[0;34m(self, b)\u001b[0m\n\u001b[1;32m    704\u001b[0m \u001b[38;5;28;01mwhile\u001b[39;00m \u001b[38;5;28;01mTrue\u001b[39;00m:\n\u001b[1;32m    705\u001b[0m     \u001b[38;5;28;01mtry\u001b[39;00m:\n\u001b[0;32m--> 706\u001b[0m         \u001b[38;5;28;01mreturn\u001b[39;00m \u001b[38;5;28;43mself\u001b[39;49m\u001b[38;5;241;43m.\u001b[39;49m\u001b[43m_sock\u001b[49m\u001b[38;5;241;43m.\u001b[39;49m\u001b[43mrecv_into\u001b[49m\u001b[43m(\u001b[49m\u001b[43mb\u001b[49m\u001b[43m)\u001b[49m\n\u001b[1;32m    707\u001b[0m     \u001b[38;5;28;01mexcept\u001b[39;00m timeout:\n\u001b[1;32m    708\u001b[0m         \u001b[38;5;28mself\u001b[39m\u001b[38;5;241m.\u001b[39m_timeout_occurred \u001b[38;5;241m=\u001b[39m \u001b[38;5;28;01mTrue\u001b[39;00m\n",
      "File \u001b[0;32m/opt/conda/envs/tess/lib/python3.11/ssl.py:1314\u001b[0m, in \u001b[0;36mSSLSocket.recv_into\u001b[0;34m(self, buffer, nbytes, flags)\u001b[0m\n\u001b[1;32m   1310\u001b[0m     \u001b[38;5;28;01mif\u001b[39;00m flags \u001b[38;5;241m!=\u001b[39m \u001b[38;5;241m0\u001b[39m:\n\u001b[1;32m   1311\u001b[0m         \u001b[38;5;28;01mraise\u001b[39;00m \u001b[38;5;167;01mValueError\u001b[39;00m(\n\u001b[1;32m   1312\u001b[0m           \u001b[38;5;124m\"\u001b[39m\u001b[38;5;124mnon-zero flags not allowed in calls to recv_into() on \u001b[39m\u001b[38;5;132;01m%s\u001b[39;00m\u001b[38;5;124m\"\u001b[39m \u001b[38;5;241m%\u001b[39m\n\u001b[1;32m   1313\u001b[0m           \u001b[38;5;28mself\u001b[39m\u001b[38;5;241m.\u001b[39m\u001b[38;5;18m__class__\u001b[39m)\n\u001b[0;32m-> 1314\u001b[0m     \u001b[38;5;28;01mreturn\u001b[39;00m \u001b[38;5;28;43mself\u001b[39;49m\u001b[38;5;241;43m.\u001b[39;49m\u001b[43mread\u001b[49m\u001b[43m(\u001b[49m\u001b[43mnbytes\u001b[49m\u001b[43m,\u001b[49m\u001b[43m \u001b[49m\u001b[43mbuffer\u001b[49m\u001b[43m)\u001b[49m\n\u001b[1;32m   1315\u001b[0m \u001b[38;5;28;01melse\u001b[39;00m:\n\u001b[1;32m   1316\u001b[0m     \u001b[38;5;28;01mreturn\u001b[39;00m \u001b[38;5;28msuper\u001b[39m()\u001b[38;5;241m.\u001b[39mrecv_into(buffer, nbytes, flags)\n",
      "File \u001b[0;32m/opt/conda/envs/tess/lib/python3.11/ssl.py:1166\u001b[0m, in \u001b[0;36mSSLSocket.read\u001b[0;34m(self, len, buffer)\u001b[0m\n\u001b[1;32m   1164\u001b[0m \u001b[38;5;28;01mtry\u001b[39;00m:\n\u001b[1;32m   1165\u001b[0m     \u001b[38;5;28;01mif\u001b[39;00m buffer \u001b[38;5;129;01mis\u001b[39;00m \u001b[38;5;129;01mnot\u001b[39;00m \u001b[38;5;28;01mNone\u001b[39;00m:\n\u001b[0;32m-> 1166\u001b[0m         \u001b[38;5;28;01mreturn\u001b[39;00m \u001b[38;5;28;43mself\u001b[39;49m\u001b[38;5;241;43m.\u001b[39;49m\u001b[43m_sslobj\u001b[49m\u001b[38;5;241;43m.\u001b[39;49m\u001b[43mread\u001b[49m\u001b[43m(\u001b[49m\u001b[38;5;28;43mlen\u001b[39;49m\u001b[43m,\u001b[49m\u001b[43m \u001b[49m\u001b[43mbuffer\u001b[49m\u001b[43m)\u001b[49m\n\u001b[1;32m   1167\u001b[0m     \u001b[38;5;28;01melse\u001b[39;00m:\n\u001b[1;32m   1168\u001b[0m         \u001b[38;5;28;01mreturn\u001b[39;00m \u001b[38;5;28mself\u001b[39m\u001b[38;5;241m.\u001b[39m_sslobj\u001b[38;5;241m.\u001b[39mread(\u001b[38;5;28mlen\u001b[39m)\n",
      "\u001b[0;31mKeyboardInterrupt\u001b[0m: "
     ]
    }
   ],
   "source": [
    "for catalog_id in tqdm(catalog_data['ID']):\n",
    "    time, flux = download_data(catalog_id)"
   ]
  },
  {
   "cell_type": "code",
   "execution_count": 56,
   "id": "f7684a3c-c2cb-41b8-9c5d-65ad744d4a42",
   "metadata": {},
   "outputs": [],
   "source": [
    "# about 1 hour to download all the correct lightcurves."
   ]
  },
  {
   "cell_type": "code",
   "execution_count": 60,
   "id": "423ea189-0feb-45f9-8c4b-be002ce2b35a",
   "metadata": {},
   "outputs": [],
   "source": [
    "# todo: going to continue going forward with the current plan without all the stars, so that downloading is tenable.\n",
    "# just download 1/10 of the stars that I was going to work with initially."
   ]
  },
  {
   "cell_type": "markdown",
   "id": "c10f0eb0-3950-4b45-9d05-93d3ea2bc838",
   "metadata": {},
   "source": [
    "# then: search the lightcurves for planets.\n",
    "- explain what the box-least squares algorithm is\n",
    "- explain how we parallelize it\n",
    "- use lightkurve (or faster equivalent) to find the best-fit periods, sizes, and signal strengths of planetary signals\n",
    "- store in array or something similar"
   ]
  },
  {
   "cell_type": "code",
   "execution_count": 3,
   "id": "9d672c3c-f667-4f1e-bea1-da38eb29bfc4",
   "metadata": {},
   "outputs": [],
   "source": [
    "from astropy.timeseries import BoxLeastSquares\n"
   ]
  },
  {
   "cell_type": "code",
   "execution_count": 5,
   "id": "47e0ab3d-0731-4b1a-a6a3-7a2aec4241f1",
   "metadata": {},
   "outputs": [
    {
     "name": "stdout",
     "output_type": "stream",
     "text": [
      "411691437.npy  423524428.npy  443613858.npy  450639274.npy  85282612.npy\n"
     ]
    }
   ],
   "source": [
    "ls lc_data"
   ]
  },
  {
   "cell_type": "code",
   "execution_count": 72,
   "id": "0c560eb9-6d7d-45fc-8ea7-1dc84de1b9ee",
   "metadata": {},
   "outputs": [],
   "source": [
    "time, flux, flux_err  = np.load('lc_data/293465600.npy')\n",
    "\n",
    "time = time[~np.isnan(flux)]\n",
    "flux_err = flux_err[~np.isnan(flux)]\n",
    "flux = flux[~np.isnan(flux)]"
   ]
  },
  {
   "cell_type": "code",
   "execution_count": 110,
   "id": "17738aee-7906-425a-aa8d-35690caf62e6",
   "metadata": {},
   "outputs": [],
   "source": [
    "model = BoxLeastSquares(time, flux, flux_err)"
   ]
  },
  {
   "cell_type": "code",
   "execution_count": 74,
   "id": "68e64dd6-c473-4d55-9414-ef6b298628db",
   "metadata": {},
   "outputs": [],
   "source": [
    "periods = np.linspace(0.5, 10, 1000)  # Example: searching periods between 0.5 and 10 days. is 1000 enough?\n"
   ]
  },
  {
   "cell_type": "code",
   "execution_count": 75,
   "id": "204268fb-d0ef-4699-8d88-50333ea97cce",
   "metadata": {},
   "outputs": [
    {
     "name": "stdout",
     "output_type": "stream",
     "text": [
      "131 ms ± 1.27 ms per loop (mean ± std. dev. of 7 runs, 10 loops each)\n"
     ]
    }
   ],
   "source": [
    "%%timeit\n",
    "results = model.power(periods, 0.1)  # The second argument is the duration of the transit (in days)\n"
   ]
  },
  {
   "cell_type": "code",
   "execution_count": 168,
   "id": "36d8fe97-b40c-401f-a2b9-f3f8f3fef3b8",
   "metadata": {},
   "outputs": [],
   "source": [
    "results = model.power(periods, 0.1, objective=\"snr\")  # The second argument is the duration of the transit (in days)"
   ]
  },
  {
   "cell_type": "code",
   "execution_count": null,
   "id": "00215634-e4b8-4542-b5f8-da3df28601c3",
   "metadata": {},
   "outputs": [],
   "source": [
    "."
   ]
  },
  {
   "cell_type": "code",
   "execution_count": 170,
   "id": "8cb253d4-034c-44b0-8812-808df13fba04",
   "metadata": {},
   "outputs": [
    {
     "name": "stdout",
     "output_type": "stream",
     "text": [
      "3.76 s ± 14.5 ms per loop (mean ± std. dev. of 7 runs, 1 loop each)\n"
     ]
    }
   ],
   "source": [
    "%%timeit\n",
    "results = model.autopower(.1, objective=\"snr\")  # The second argument is the duration of the transit (in days)"
   ]
  },
  {
   "cell_type": "code",
   "execution_count": 112,
   "id": "5fd55be3-e9ec-49ad-9b67-630f5486360b",
   "metadata": {},
   "outputs": [
    {
     "name": "stdout",
     "output_type": "stream",
     "text": [
      "Best-fit period: 5.188188188188189\n"
     ]
    }
   ],
   "source": [
    "best_period = results.period[np.argmax(results.power)]\n",
    "print(\"Best-fit period:\", best_period)"
   ]
  },
  {
   "cell_type": "code",
   "execution_count": 113,
   "id": "5f43e1cb-0ae7-418d-8a4d-c6c56412d2df",
   "metadata": {},
   "outputs": [
    {
     "data": {
      "text/plain": [
       "[<matplotlib.lines.Line2D at 0x7f6ee7080350>]"
      ]
     },
     "execution_count": 113,
     "metadata": {},
     "output_type": "execute_result"
    },
    {
     "data": {
      "image/png": "[encoded data removed]",
      "text/plain": [
       "<Figure size 640x480 with 1 Axes>"
      ]
     },
     "metadata": {},
     "output_type": "display_data"
    }
   ],
   "source": [
    "plt.plot(time, flux)"
   ]
  },
  {
   "cell_type": "code",
   "execution_count": 114,
   "id": "df4c5b56-2250-4903-a835-5151afbb9b7d",
   "metadata": {},
   "outputs": [
    {
     "data": {
      "text/plain": [
       "<matplotlib.lines.Line2D at 0x7f6ee723d850>"
      ]
     },
     "execution_count": 114,
     "metadata": {},
     "output_type": "execute_result"
    },
    {
     "data": {
      "image/png": "[encoded data removed]",
      "text/plain": [
       "<Figure size 640x480 with 1 Axes>"
      ]
     },
     "metadata": {},
     "output_type": "display_data"
    }
   ],
   "source": [
    "plt.plot(results.period, results.power)\n",
    "plt.axvline(6.72, color='black', linestyle='--')"
   ]
  },
  {
   "cell_type": "code",
   "execution_count": 116,
   "id": "34a8ffd1-56f2-4920-b378-7f9a15b907eb",
   "metadata": {},
   "outputs": [
    {
     "data": {
      "text/plain": [
       "[<matplotlib.lines.Line2D at 0x7f6ee6f6ced0>]"
      ]
     },
     "execution_count": 116,
     "metadata": {},
     "output_type": "execute_result"
    },
    {
     "data": {
      "image/png": "[encoded data removed]",
      "text/plain": [
       "<Figure size 640x480 with 1 Axes>"
      ]
     },
     "metadata": {},
     "output_type": "display_data"
    }
   ],
   "source": [
    "plt.plot(results.period, results.depth_snr)\n"
   ]
  },
  {
   "cell_type": "code",
   "execution_count": 120,
   "id": "19202172-57e3-46b4-9fa5-7e42e194a8b8",
   "metadata": {},
   "outputs": [],
   "source": [
    "max_power = np.argmax(results.power)\n",
    "stats = model.compute_stats(results.period[max_power],\n",
    "                            results.duration[max_power],\n",
    "                            results.transit_time[max_power])"
   ]
  },
  {
   "cell_type": "code",
   "execution_count": 122,
   "id": "46eec9c2-6ea5-40b6-8f05-507055317443",
   "metadata": {},
   "outputs": [
    {
     "data": {
      "text/plain": [
       "{'transit_times': array([1629.45498647, 1634.64317466, 1639.83136285, 1645.01955104,\n",
       "        1650.20773923]),\n",
       " 'per_transit_count': array([69, 72,  0, 72, 72]),\n",
       " 'per_transit_log_likelihood': array([2922.74173687, 4346.42974263,    0.        ,  595.71137877,\n",
       "          79.72668109]),\n",
       " 'depth': (101.51713648934674, 0.8131226987398122),\n",
       " 'depth_phased': (-71.92695751060455, 0.7407104482663658),\n",
       " 'depth_half': (5.770991608120312, 0.5534255182699351),\n",
       " 'depth_odd': (113.03653242714245, 1.1365866039385186),\n",
       " 'depth_even': (89.67008757748226, 1.1524824678131067),\n",
       " 'harmonic_amplitude': 82.93977653569917,\n",
       " 'harmonic_delta_log_likelihood': 130488.45526244337}"
      ]
     },
     "execution_count": 122,
     "metadata": {},
     "output_type": "execute_result"
    }
   ],
   "source": [
    "stats"
   ]
  },
  {
   "cell_type": "code",
   "execution_count": 160,
   "id": "13fff032-d3f4-4274-811e-a9c2e598ac46",
   "metadata": {},
   "outputs": [],
   "source": [
    "# need at least two tranits"
   ]
  },
  {
   "cell_type": "code",
   "execution_count": null,
   "id": "dc64f4be-baa6-439d-ad60-7ec442bdfe46",
   "metadata": {},
   "outputs": [],
   "source": [
    "def do_bls(time, flux, flux_err):\n",
    "    model = BoxLeastSquares(time, flux, flux_err)\n",
    "    results = model.power(periods, 0.1)  # The second argument is the duration of the transit (in days)\n",
    "    max_power = np.argmax(results.power)\n",
    "    stats = model.compute_stats(results.period[max_power],\n",
    "                                results.duration[max_power],\n",
    "                                results.transit_time[max_power])\n",
    "    return results, stats"
   ]
  },
  {
   "cell_type": "code",
   "execution_count": null,
   "id": "a3f9ae42-1ac7-4241-a0f5-0bd5e595670f",
   "metadata": {},
   "outputs": [],
   "source": [
    "def do_inversion_test(time, flux, flux_error)\n",
    "    inverted_flux = -1 * flux + 2* np.mean(flux))\n",
    "    results, stats = do_bls(time, inverted_flux, flux_err)\n",
    "    return results, stats"
   ]
  },
  {
   "cell_type": "code",
   "execution_count": 161,
   "id": "e849acbf-82a5-4a8f-9356-3b43e7e3e4a1",
   "metadata": {},
   "outputs": [],
   "source": [
    "def find_planet(ticid):\n",
    "    time, flux, flux_err  = np.load(f'lc_data/{ticid}.npy')\n",
    "\n",
    "    time = time[~np.isnan(flux)]\n",
    "    flux_err = flux_err[~np.isnan(flux)]\n",
    "    flux = flux[~np.isnan(flux)]\n",
    "    model = BoxLeastSquares(time, flux, flux_err)\n",
    "    results = model.power(periods, 0.1)  # The second argument is the duration of the transit (in days)\n",
    "    max_power = np.argmax(results.power)\n",
    "    stats = model.compute_stats(results.period[max_power],\n",
    "                                results.duration[max_power],\n",
    "                                results.transit_time[max_power])\n",
    "\n",
    "    \n",
    "    # do the inversion test here? if we invert it and find the transit, not good.\n",
    "    if len(stats['transit_times']) >= 2 and results.depth_snr[max_power] >= 10:\n",
    "\n",
    "        # test for variability\n",
    "        inverted_results, inverted_stats = do_inversion_test(time, flux, flux_error)\n",
    "        if len(inverted_stats['transit_times']) < 2 or inverted_results.depth_snr[max_power] < 10:\n",
    "            return True\n",
    "            \n",
    "    return False\n",
    "\n",
    "        \n",
    "        # we found a planet then!"
   ]
  },
  {
   "cell_type": "markdown",
   "id": "f1bab674-454b-41c2-b6e3-0f6bb99af5e2",
   "metadata": {},
   "source": [
    "# then: false positive rate\n",
    "- explain what a false positive is.\n",
    "- query Gaia to get a sense for false positive rate as a backup.\n",
    "- tike angle: use dask!  "
   ]
  },
  {
   "cell_type": "code",
   "execution_count": 162,
   "id": "e20bcd05-1d83-45a5-851c-b0c095ee68b0",
   "metadata": {},
   "outputs": [],
   "source": [
    "import dask"
   ]
  },
  {
   "cell_type": "code",
   "execution_count": 29,
   "id": "a64d43d7-c4c9-47d5-b87f-1c3186485559",
   "metadata": {},
   "outputs": [],
   "source": [
    "# find the TIC ID."
   ]
  },
  {
   "cell_type": "code",
   "execution_count": 30,
   "id": "a7f77f16-3f6a-4e5d-8523-29724650e68e",
   "metadata": {},
   "outputs": [],
   "source": [
    "exofop_data = pd.read_csv('https://exofop.ipac.caltech.edu/tess/download_toi.php?sort=toi&output=csv')"
   ]
  },
  {
   "cell_type": "code",
   "execution_count": 31,
   "id": "3af1a85d-392c-42c3-925e-e010c77c2f95",
   "metadata": {},
   "outputs": [],
   "source": [
    "# cross-match the TIC ID with that. "
   ]
  },
  {
   "cell_type": "code",
   "execution_count": null,
   "id": "b42c16e2-41ed-4727-bfed-b518c152be1a",
   "metadata": {},
   "outputs": [],
   "source": [
    "# need to "
   ]
  },
  {
   "cell_type": "code",
   "execution_count": 8,
   "id": "06314ec3-3ec9-44bf-9a45-00c7254b8b21",
   "metadata": {},
   "outputs": [
    {
     "name": "stdout",
     "output_type": "stream",
     "text": [
      "INFO: Query finished. [astroquery.utils.tap.core]\n"
     ]
    }
   ],
   "source": [
    "Gaia.ROW_LIMIT = 50  # Ensure the default row limit.\n",
    "coord = SkyCoord(ra=280, dec=-60, unit=(u.degree, u.degree), frame='icrs')\n",
    "j = Gaia.cone_search_async(coord, radius=u.Quantity(1.0, u.deg))"
   ]
  },
  {
   "cell_type": "code",
   "execution_count": null,
   "id": "9fc8d280-bad1-4b72-aee8-1b5a2b7569a9",
   "metadata": {},
   "outputs": [],
   "source": [
    "# when do we call it a detection?"
   ]
  },
  {
   "cell_type": "code",
   "execution_count": 137,
   "id": "d8dd9592-e021-4c03-9841-65780fcbef67",
   "metadata": {},
   "outputs": [
    {
     "data": {
      "text/plain": [
       "False"
      ]
     },
     "execution_count": 137,
     "metadata": {},
     "output_type": "execute_result"
    }
   ],
   "source": [
    "293465600 in exofop_data['TIC ID'].values"
   ]
  },
  {
   "cell_type": "code",
   "execution_count": 150,
   "id": "e255d627-7065-4dd2-b56f-7af532e93643",
   "metadata": {},
   "outputs": [
    {
     "data": {
      "text/plain": [
       "masked_array(data=['257486953', '388583226', '432485132', ...,\n",
       "                   '402105010', '117546088', '407996027'],\n",
       "             mask=[False, False, False, ..., False, False, False],\n",
       "       fill_value='N/A',\n",
       "            dtype='<U10')"
      ]
     },
     "execution_count": 150,
     "metadata": {},
     "output_type": "execute_result"
    }
   ],
   "source": [
    "catalog_data['ID'].value"
   ]
  },
  {
   "cell_type": "code",
   "execution_count": 158,
   "id": "14b30bd5-d8d3-4058-b97d-d764696d7999",
   "metadata": {},
   "outputs": [
    {
     "data": {
      "text/plain": [
       "[<matplotlib.lines.Line2D at 0x7f6ed7081710>]"
      ]
     },
     "execution_count": 158,
     "metadata": {},
     "output_type": "execute_result"
    },
    {
     "data": {
      "image/png": "[encoded data removed]",
      "text/plain": [
       "<Figure size 640x480 with 1 Axes>"
      ]
     },
     "metadata": {},
     "output_type": "display_data"
    }
   ],
   "source": [
    "plt.plot(flux)"
   ]
  },
  {
   "cell_type": "code",
   "execution_count": 159,
   "id": "14b5ccf2-a2be-4f78-8ec5-6eaccc82ce61",
   "metadata": {},
   "outputs": [
    {
     "data": {
      "text/plain": [
       "[<matplotlib.lines.Line2D at 0x7f6ed714bfd0>]"
      ]
     },
     "execution_count": 159,
     "metadata": {},
     "output_type": "execute_result"
    },
    {
     "data": {
      "image/png": "[encoded data removed]",
      "text/plain": [
       "<Figure size 640x480 with 1 Axes>"
      ]
     },
     "metadata": {},
     "output_type": "display_data"
    }
   ],
   "source": [
    "plt.plot(-1 * flux + 2* np.mean(flux))"
   ]
  },
  {
   "cell_type": "code",
   "execution_count": 140,
   "id": "3c1b5b24-fe07-403a-a94d-4b5445c40c14",
   "metadata": {},
   "outputs": [
    {
     "data": {
      "text/plain": [
       "False"
      ]
     },
     "execution_count": 140,
     "metadata": {},
     "output_type": "execute_result"
    }
   ],
   "source": [
    "'418981325' in catalog_data['ID'].value"
   ]
  },
  {
   "cell_type": "code",
   "execution_count": 141,
   "id": "a7f34f46-c612-4215-afab-a4314182279e",
   "metadata": {},
   "outputs": [
    {
     "ename": "NameError",
     "evalue": "name 'catalog' is not defined",
     "output_type": "error",
     "traceback": [
      "\u001b[0;31m---------------------------------------------------------------------------\u001b[0m",
      "\u001b[0;31mNameError\u001b[0m                                 Traceback (most recent call last)",
      "Cell \u001b[0;32mIn[141], line 1\u001b[0m\n\u001b[0;32m----> 1\u001b[0m \u001b[38;5;241m149603524\u001b[39m \u001b[38;5;129;01min\u001b[39;00m \u001b[43mcatalog\u001b[49m\n",
      "\u001b[0;31mNameError\u001b[0m: name 'catalog' is not defined"
     ]
    }
   ],
   "source": [
    "149603524 in catalog"
   ]
  },
  {
   "cell_type": "code",
   "execution_count": 146,
   "id": "99bfe7ba-e31c-4837-b566-93edfe84f2f9",
   "metadata": {},
   "outputs": [],
   "source": [
    "counter = 0\n",
    "for i, row in exofop_data.iterrows():\n",
    "    if str(row['TIC ID']) in catalog_data['ID'].value:\n",
    "        counter +=1"
   ]
  },
  {
   "cell_type": "code",
   "execution_count": 148,
   "id": "c5f8a4bc-fb70-4615-951d-bd7b8a2a6164",
   "metadata": {},
   "outputs": [
    {
     "data": {
      "text/plain": [
       "0.06326304106548279"
      ]
     },
     "execution_count": 148,
     "metadata": {},
     "output_type": "execute_result"
    }
   ],
   "source": [
    "counter/len(exofop_data)"
   ]
  },
  {
   "cell_type": "code",
   "execution_count": null,
   "id": "d4827e88-fcc7-4a78-ab52-fd7c933ecdbe",
   "metadata": {},
   "outputs": [],
   "source": [
    "# why are so few in there?"
   ]
  },
  {
   "cell_type": "code",
   "execution_count": 144,
   "id": "70538439-ea1e-4083-a24c-ee463b077c30",
   "metadata": {},
   "outputs": [
    {
     "data": {
      "text/plain": [
       "284300833"
      ]
     },
     "execution_count": 144,
     "metadata": {},
     "output_type": "execute_result"
    }
   ],
   "source": [
    "row['TIC ID']"
   ]
  },
  {
   "cell_type": "code",
   "execution_count": 43,
   "id": "ddfb47f5-cc1d-4321-86ba-9bda0d38c909",
   "metadata": {},
   "outputs": [
    {
     "data": {
      "text/html": [
       "<div>\n",
       "<style scoped>\n",
       "    .dataframe tbody tr th:only-of-type {\n",
       "        vertical-align: middle;\n",
       "    }\n",
       "\n",
       "    .dataframe tbody tr th {\n",
       "        vertical-align: top;\n",
       "    }\n",
       "\n",
       "    .dataframe thead th {\n",
       "        text-align: right;\n",
       "    }\n",
       "</style>\n",
       "<table border=\"1\" class=\"dataframe\">\n",
       "  <thead>\n",
       "    <tr style=\"text-align: right;\">\n",
       "      <th></th>\n",
       "      <th>TIC ID</th>\n",
       "      <th>TOI</th>\n",
       "      <th>Previous CTOI</th>\n",
       "      <th>Master</th>\n",
       "      <th>SG1A</th>\n",
       "      <th>SG1B</th>\n",
       "      <th>SG2</th>\n",
       "      <th>SG3</th>\n",
       "      <th>SG4</th>\n",
       "      <th>SG5</th>\n",
       "      <th>...</th>\n",
       "      <th>Stellar Radius (R_Sun) err</th>\n",
       "      <th>Stellar Metallicity</th>\n",
       "      <th>Stellar Metallicity err</th>\n",
       "      <th>Stellar Mass (M_Sun)</th>\n",
       "      <th>Stellar Mass (M_Sun) err</th>\n",
       "      <th>Sectors</th>\n",
       "      <th>Date TOI Alerted (UTC)</th>\n",
       "      <th>Date TOI Updated (UTC)</th>\n",
       "      <th>Date Modified</th>\n",
       "      <th>Comments</th>\n",
       "    </tr>\n",
       "  </thead>\n",
       "  <tbody>\n",
       "    <tr>\n",
       "      <th>0</th>\n",
       "      <td>231663901</td>\n",
       "      <td>101.01</td>\n",
       "      <td>NaN</td>\n",
       "      <td>5</td>\n",
       "      <td>5</td>\n",
       "      <td>5</td>\n",
       "      <td>5</td>\n",
       "      <td>5</td>\n",
       "      <td>5</td>\n",
       "      <td>5</td>\n",
       "      <td>...</td>\n",
       "      <td>0.043847</td>\n",
       "      <td>NaN</td>\n",
       "      <td>NaN</td>\n",
       "      <td>1.050000</td>\n",
       "      <td>0.129454</td>\n",
       "      <td>1,27</td>\n",
       "      <td>2018-09-05</td>\n",
       "      <td>2021-10-07</td>\n",
       "      <td>2022-12-14 12:09:24</td>\n",
       "      <td>WASP-46 b</td>\n",
       "    </tr>\n",
       "    <tr>\n",
       "      <th>1</th>\n",
       "      <td>149603524</td>\n",
       "      <td>102.01</td>\n",
       "      <td>NaN</td>\n",
       "      <td>5</td>\n",
       "      <td>5</td>\n",
       "      <td>5</td>\n",
       "      <td>5</td>\n",
       "      <td>5</td>\n",
       "      <td>5</td>\n",
       "      <td>5</td>\n",
       "      <td>...</td>\n",
       "      <td>0.050000</td>\n",
       "      <td>0.24</td>\n",
       "      <td>0.05</td>\n",
       "      <td>1.280000</td>\n",
       "      <td>0.190812</td>\n",
       "      <td>1,2,3,4,6,7,8,9,10,11,12,13,27,28,29,30,31,32,...</td>\n",
       "      <td>2019-05-07</td>\n",
       "      <td>2023-11-16</td>\n",
       "      <td>2023-12-08 12:13:22</td>\n",
       "      <td>WASP 62 b</td>\n",
       "    </tr>\n",
       "    <tr>\n",
       "      <th>2</th>\n",
       "      <td>336732616</td>\n",
       "      <td>103.01</td>\n",
       "      <td>NaN</td>\n",
       "      <td>5</td>\n",
       "      <td>5</td>\n",
       "      <td>5</td>\n",
       "      <td>5</td>\n",
       "      <td>5</td>\n",
       "      <td>5</td>\n",
       "      <td>5</td>\n",
       "      <td>...</td>\n",
       "      <td>NaN</td>\n",
       "      <td>NaN</td>\n",
       "      <td>NaN</td>\n",
       "      <td>1.270000</td>\n",
       "      <td>0.196969</td>\n",
       "      <td>1</td>\n",
       "      <td>2018-09-05</td>\n",
       "      <td>2020-10-27</td>\n",
       "      <td>2022-12-14 12:09:24</td>\n",
       "      <td>HATS-3 b</td>\n",
       "    </tr>\n",
       "    <tr>\n",
       "      <th>3</th>\n",
       "      <td>231670397</td>\n",
       "      <td>104.01</td>\n",
       "      <td>NaN</td>\n",
       "      <td>5</td>\n",
       "      <td>5</td>\n",
       "      <td>5</td>\n",
       "      <td>5</td>\n",
       "      <td>5</td>\n",
       "      <td>5</td>\n",
       "      <td>5</td>\n",
       "      <td>...</td>\n",
       "      <td>0.102573</td>\n",
       "      <td>NaN</td>\n",
       "      <td>NaN</td>\n",
       "      <td>1.160000</td>\n",
       "      <td>0.166129</td>\n",
       "      <td>1,27,67</td>\n",
       "      <td>2018-09-05</td>\n",
       "      <td>2023-10-16</td>\n",
       "      <td>2023-10-16 00:00:00</td>\n",
       "      <td>WASP-73 b</td>\n",
       "    </tr>\n",
       "    <tr>\n",
       "      <th>4</th>\n",
       "      <td>144065872</td>\n",
       "      <td>105.01</td>\n",
       "      <td>NaN</td>\n",
       "      <td>5</td>\n",
       "      <td>5</td>\n",
       "      <td>5</td>\n",
       "      <td>5</td>\n",
       "      <td>5</td>\n",
       "      <td>5</td>\n",
       "      <td>5</td>\n",
       "      <td>...</td>\n",
       "      <td>0.059699</td>\n",
       "      <td>NaN</td>\n",
       "      <td>NaN</td>\n",
       "      <td>1.030000</td>\n",
       "      <td>0.127209</td>\n",
       "      <td>1,28</td>\n",
       "      <td>2018-09-05</td>\n",
       "      <td>2021-12-08</td>\n",
       "      <td>2022-12-14 12:09:24</td>\n",
       "      <td>WASP-95; epoch kept from qlp-s28-tois</td>\n",
       "    </tr>\n",
       "    <tr>\n",
       "      <th>...</th>\n",
       "      <td>...</td>\n",
       "      <td>...</td>\n",
       "      <td>...</td>\n",
       "      <td>...</td>\n",
       "      <td>...</td>\n",
       "      <td>...</td>\n",
       "      <td>...</td>\n",
       "      <td>...</td>\n",
       "      <td>...</td>\n",
       "      <td>...</td>\n",
       "      <td>...</td>\n",
       "      <td>...</td>\n",
       "      <td>...</td>\n",
       "      <td>...</td>\n",
       "      <td>...</td>\n",
       "      <td>...</td>\n",
       "      <td>...</td>\n",
       "      <td>...</td>\n",
       "      <td>...</td>\n",
       "      <td>...</td>\n",
       "      <td>...</td>\n",
       "    </tr>\n",
       "    <tr>\n",
       "      <th>7203</th>\n",
       "      <td>22903436</td>\n",
       "      <td>7032.01</td>\n",
       "      <td>TIC 22903436.01</td>\n",
       "      <td>1</td>\n",
       "      <td>4</td>\n",
       "      <td>1</td>\n",
       "      <td>1</td>\n",
       "      <td>3</td>\n",
       "      <td>4</td>\n",
       "      <td>4</td>\n",
       "      <td>...</td>\n",
       "      <td>0.060000</td>\n",
       "      <td>NaN</td>\n",
       "      <td>NaN</td>\n",
       "      <td>0.710000</td>\n",
       "      <td>0.084607</td>\n",
       "      <td>23,49,50,76,77</td>\n",
       "      <td>2024-07-25</td>\n",
       "      <td>2024-07-25</td>\n",
       "      <td>2024-08-16 12:14:51</td>\n",
       "      <td>variable host; matches period of CTOI from Pla...</td>\n",
       "    </tr>\n",
       "    <tr>\n",
       "      <th>7204</th>\n",
       "      <td>29953537</td>\n",
       "      <td>7033.01</td>\n",
       "      <td>TIC 29953537.01</td>\n",
       "      <td>1</td>\n",
       "      <td>4</td>\n",
       "      <td>1</td>\n",
       "      <td>1</td>\n",
       "      <td>1</td>\n",
       "      <td>4</td>\n",
       "      <td>4</td>\n",
       "      <td>...</td>\n",
       "      <td>0.050000</td>\n",
       "      <td>NaN</td>\n",
       "      <td>NaN</td>\n",
       "      <td>0.970000</td>\n",
       "      <td>0.127279</td>\n",
       "      <td>8,9,35,36,62</td>\n",
       "      <td>2024-08-14</td>\n",
       "      <td>2024-08-14</td>\n",
       "      <td>2024-08-16 12:14:51</td>\n",
       "      <td>nearby bright variable star(TIC 29953651) whic...</td>\n",
       "    </tr>\n",
       "    <tr>\n",
       "      <th>7205</th>\n",
       "      <td>418981325</td>\n",
       "      <td>7034.01</td>\n",
       "      <td>NaN</td>\n",
       "      <td>3</td>\n",
       "      <td>4</td>\n",
       "      <td>3</td>\n",
       "      <td>3</td>\n",
       "      <td>1</td>\n",
       "      <td>4</td>\n",
       "      <td>4</td>\n",
       "      <td>...</td>\n",
       "      <td>NaN</td>\n",
       "      <td>NaN</td>\n",
       "      <td>NaN</td>\n",
       "      <td>NaN</td>\n",
       "      <td>NaN</td>\n",
       "      <td>17,18,24,58,78</td>\n",
       "      <td>2024-08-14</td>\n",
       "      <td>2024-08-14</td>\n",
       "      <td>2024-08-16 12:14:51</td>\n",
       "      <td>period could be too short for host star</td>\n",
       "    </tr>\n",
       "    <tr>\n",
       "      <th>7206</th>\n",
       "      <td>366074071</td>\n",
       "      <td>7035.01</td>\n",
       "      <td>TIC 366074071.01</td>\n",
       "      <td>3</td>\n",
       "      <td>4</td>\n",
       "      <td>3</td>\n",
       "      <td>3</td>\n",
       "      <td>1</td>\n",
       "      <td>4</td>\n",
       "      <td>4</td>\n",
       "      <td>...</td>\n",
       "      <td>0.080000</td>\n",
       "      <td>NaN</td>\n",
       "      <td>NaN</td>\n",
       "      <td>1.242000</td>\n",
       "      <td>0.202573</td>\n",
       "      <td>17,18,24,25,58,78</td>\n",
       "      <td>2024-08-14</td>\n",
       "      <td>2024-08-14</td>\n",
       "      <td>2024-08-16 12:14:51</td>\n",
       "      <td>This is the actual source of the signal origin...</td>\n",
       "    </tr>\n",
       "    <tr>\n",
       "      <th>7207</th>\n",
       "      <td>284300833</td>\n",
       "      <td>7036.01</td>\n",
       "      <td>TIC 284300833.01</td>\n",
       "      <td>3</td>\n",
       "      <td>4</td>\n",
       "      <td>3</td>\n",
       "      <td>3</td>\n",
       "      <td>1</td>\n",
       "      <td>4</td>\n",
       "      <td>4</td>\n",
       "      <td>...</td>\n",
       "      <td>0.020080</td>\n",
       "      <td>NaN</td>\n",
       "      <td>NaN</td>\n",
       "      <td>0.629797</td>\n",
       "      <td>0.020635</td>\n",
       "      <td>78</td>\n",
       "      <td>2024-08-14</td>\n",
       "      <td>2024-08-14</td>\n",
       "      <td>2024-08-16 12:14:51</td>\n",
       "      <td>no centroid information; slightly v-shaped</td>\n",
       "    </tr>\n",
       "  </tbody>\n",
       "</table>\n",
       "<p>7208 rows × 62 columns</p>\n",
       "</div>"
      ],
      "text/plain": [
       "         TIC ID      TOI     Previous CTOI  Master  SG1A  SG1B  SG2  SG3  SG4  \\\n",
       "0     231663901   101.01               NaN       5     5     5    5    5    5   \n",
       "1     149603524   102.01               NaN       5     5     5    5    5    5   \n",
       "2     336732616   103.01               NaN       5     5     5    5    5    5   \n",
       "3     231670397   104.01               NaN       5     5     5    5    5    5   \n",
       "4     144065872   105.01               NaN       5     5     5    5    5    5   \n",
       "...         ...      ...               ...     ...   ...   ...  ...  ...  ...   \n",
       "7203   22903436  7032.01   TIC 22903436.01       1     4     1    1    3    4   \n",
       "7204   29953537  7033.01   TIC 29953537.01       1     4     1    1    1    4   \n",
       "7205  418981325  7034.01               NaN       3     4     3    3    1    4   \n",
       "7206  366074071  7035.01  TIC 366074071.01       3     4     3    3    1    4   \n",
       "7207  284300833  7036.01  TIC 284300833.01       3     4     3    3    1    4   \n",
       "\n",
       "      SG5  ...  Stellar Radius (R_Sun) err  Stellar Metallicity  \\\n",
       "0       5  ...                    0.043847                  NaN   \n",
       "1       5  ...                    0.050000                 0.24   \n",
       "2       5  ...                         NaN                  NaN   \n",
       "3       5  ...                    0.102573                  NaN   \n",
       "4       5  ...                    0.059699                  NaN   \n",
       "...   ...  ...                         ...                  ...   \n",
       "7203    4  ...                    0.060000                  NaN   \n",
       "7204    4  ...                    0.050000                  NaN   \n",
       "7205    4  ...                         NaN                  NaN   \n",
       "7206    4  ...                    0.080000                  NaN   \n",
       "7207    4  ...                    0.020080                  NaN   \n",
       "\n",
       "      Stellar Metallicity err  Stellar Mass (M_Sun)  Stellar Mass (M_Sun) err  \\\n",
       "0                         NaN              1.050000                  0.129454   \n",
       "1                        0.05              1.280000                  0.190812   \n",
       "2                         NaN              1.270000                  0.196969   \n",
       "3                         NaN              1.160000                  0.166129   \n",
       "4                         NaN              1.030000                  0.127209   \n",
       "...                       ...                   ...                       ...   \n",
       "7203                      NaN              0.710000                  0.084607   \n",
       "7204                      NaN              0.970000                  0.127279   \n",
       "7205                      NaN                   NaN                       NaN   \n",
       "7206                      NaN              1.242000                  0.202573   \n",
       "7207                      NaN              0.629797                  0.020635   \n",
       "\n",
       "                                                Sectors  \\\n",
       "0                                                  1,27   \n",
       "1     1,2,3,4,6,7,8,9,10,11,12,13,27,28,29,30,31,32,...   \n",
       "2                                                     1   \n",
       "3                                               1,27,67   \n",
       "4                                                  1,28   \n",
       "...                                                 ...   \n",
       "7203                                     23,49,50,76,77   \n",
       "7204                                       8,9,35,36,62   \n",
       "7205                                     17,18,24,58,78   \n",
       "7206                                  17,18,24,25,58,78   \n",
       "7207                                                 78   \n",
       "\n",
       "     Date TOI Alerted (UTC) Date TOI Updated (UTC)        Date Modified  \\\n",
       "0                2018-09-05             2021-10-07  2022-12-14 12:09:24   \n",
       "1                2019-05-07             2023-11-16  2023-12-08 12:13:22   \n",
       "2                2018-09-05             2020-10-27  2022-12-14 12:09:24   \n",
       "3                2018-09-05             2023-10-16  2023-10-16 00:00:00   \n",
       "4                2018-09-05             2021-12-08  2022-12-14 12:09:24   \n",
       "...                     ...                    ...                  ...   \n",
       "7203             2024-07-25             2024-07-25  2024-08-16 12:14:51   \n",
       "7204             2024-08-14             2024-08-14  2024-08-16 12:14:51   \n",
       "7205             2024-08-14             2024-08-14  2024-08-16 12:14:51   \n",
       "7206             2024-08-14             2024-08-14  2024-08-16 12:14:51   \n",
       "7207             2024-08-14             2024-08-14  2024-08-16 12:14:51   \n",
       "\n",
       "                                               Comments  \n",
       "0                                             WASP-46 b  \n",
       "1                                             WASP 62 b  \n",
       "2                                              HATS-3 b  \n",
       "3                                             WASP-73 b  \n",
       "4                 WASP-95; epoch kept from qlp-s28-tois  \n",
       "...                                                 ...  \n",
       "7203  variable host; matches period of CTOI from Pla...  \n",
       "7204  nearby bright variable star(TIC 29953651) whic...  \n",
       "7205            period could be too short for host star  \n",
       "7206  This is the actual source of the signal origin...  \n",
       "7207         no centroid information; slightly v-shaped  \n",
       "\n",
       "[7208 rows x 62 columns]"
      ]
     },
     "execution_count": 43,
     "metadata": {},
     "output_type": "execute_result"
    }
   ],
   "source": [
    "exofop_data"
   ]
  },
  {
   "cell_type": "code",
   "execution_count": 90,
   "id": "07e46f3c-c14c-4c27-8679-bfdccbb2e98a",
   "metadata": {},
   "outputs": [],
   "source": [
    "# if it's not in thcatalog_data['ID']ere, we query Gaia."
   ]
  },
  {
   "cell_type": "code",
   "execution_count": 91,
   "id": "163bd697-de3c-4239-aba9-dbda65c64e60",
   "metadata": {},
   "outputs": [
    {
     "data": {
      "text/plain": [
       "'293465600'"
      ]
     },
     "execution_count": 91,
     "metadata": {},
     "output_type": "execute_result"
    }
   ],
   "source": [
    "catalog_data['ID'][40004]"
   ]
  },
  {
   "cell_type": "code",
   "execution_count": 103,
   "id": "64eb058d-72b3-4483-82a1-ee098c5e5734",
   "metadata": {},
   "outputs": [
    {
     "data": {
      "text/plain": [
       "49.8430249133971"
      ]
     },
     "execution_count": 103,
     "metadata": {},
     "output_type": "execute_result"
    }
   ],
   "source": [
    "ra = catalog_data[catalog_data['ID']=='293465600']['ra'].value[0]\n",
    "ra"
   ]
  },
  {
   "cell_type": "code",
   "execution_count": 104,
   "id": "4a99d124-7c47-4b52-8ec5-4caf0d7eeef1",
   "metadata": {},
   "outputs": [
    {
     "data": {
      "text/plain": [
       "-82.463077310715"
      ]
     },
     "execution_count": 104,
     "metadata": {},
     "output_type": "execute_result"
    }
   ],
   "source": [
    "dec = catalog_data[catalog_data['ID']=='293465600']['dec'].value[0]\n",
    "dec"
   ]
  },
  {
   "cell_type": "code",
   "execution_count": null,
   "id": "6034f214-ec2e-425c-a4e7-3f42d6b75caa",
   "metadata": {},
   "outputs": [],
   "source": [
    "# what are he sc\n",
    "catalog_data[catalog_data"
   ]
  },
  {
   "cell_type": "code",
   "execution_count": 105,
   "id": "4b718aa5-257d-4ba4-9998-903ee0589c2b",
   "metadata": {},
   "outputs": [
    {
     "name": "stdout",
     "output_type": "stream",
     "text": [
      "INFO: Query finished. [astroquery.utils.tap.core]\n"
     ]
    }
   ],
   "source": [
    "Gaia.ROW_LIMIT = 50  # Ensure the default row limit.\n",
    "coord = SkyCoord(ra=ra, dec=dec, unit=(u.degree, u.degree), frame='icrs')\n",
    "j = Gaia.cone_search_async(coord, radius=u.Quantity(1.0, u.deg))"
   ]
  },
  {
   "cell_type": "code",
   "execution_count": 108,
   "id": "4da027b3-1839-4e2b-8642-027098b2df44",
   "metadata": {},
   "outputs": [
    {
     "data": {
      "text/html": [
       "<div><i>Table length=50</i>\n",
       "<table id=\"table140114349317136\" class=\"table-striped table-bordered table-condensed\">\n",
       "<thead><tr><th>solution_id</th><th>DESIGNATION</th><th>SOURCE_ID</th><th>random_index</th><th>ref_epoch</th><th>ra</th><th>ra_error</th><th>dec</th><th>dec_error</th><th>parallax</th><th>parallax_error</th><th>parallax_over_error</th><th>pm</th><th>pmra</th><th>pmra_error</th><th>pmdec</th><th>pmdec_error</th><th>ra_dec_corr</th><th>ra_parallax_corr</th><th>ra_pmra_corr</th><th>ra_pmdec_corr</th><th>dec_parallax_corr</th><th>dec_pmra_corr</th><th>dec_pmdec_corr</th><th>parallax_pmra_corr</th><th>parallax_pmdec_corr</th><th>pmra_pmdec_corr</th><th>astrometric_n_obs_al</th><th>astrometric_n_obs_ac</th><th>astrometric_n_good_obs_al</th><th>astrometric_n_bad_obs_al</th><th>astrometric_gof_al</th><th>astrometric_chi2_al</th><th>astrometric_excess_noise</th><th>astrometric_excess_noise_sig</th><th>astrometric_params_solved</th><th>astrometric_primary_flag</th><th>nu_eff_used_in_astrometry</th><th>pseudocolour</th><th>pseudocolour_error</th><th>ra_pseudocolour_corr</th><th>dec_pseudocolour_corr</th><th>parallax_pseudocolour_corr</th><th>pmra_pseudocolour_corr</th><th>pmdec_pseudocolour_corr</th><th>astrometric_matched_transits</th><th>visibility_periods_used</th><th>astrometric_sigma5d_max</th><th>matched_transits</th><th>new_matched_transits</th><th>matched_transits_removed</th><th>ipd_gof_harmonic_amplitude</th><th>ipd_gof_harmonic_phase</th><th>ipd_frac_multi_peak</th><th>ipd_frac_odd_win</th><th>ruwe</th><th>scan_direction_strength_k1</th><th>scan_direction_strength_k2</th><th>scan_direction_strength_k3</th><th>scan_direction_strength_k4</th><th>scan_direction_mean_k1</th><th>scan_direction_mean_k2</th><th>scan_direction_mean_k3</th><th>scan_direction_mean_k4</th><th>duplicated_source</th><th>phot_g_n_obs</th><th>phot_g_mean_flux</th><th>phot_g_mean_flux_error</th><th>phot_g_mean_flux_over_error</th><th>phot_g_mean_mag</th><th>phot_bp_n_obs</th><th>phot_bp_mean_flux</th><th>phot_bp_mean_flux_error</th><th>phot_bp_mean_flux_over_error</th><th>phot_bp_mean_mag</th><th>phot_rp_n_obs</th><th>phot_rp_mean_flux</th><th>phot_rp_mean_flux_error</th><th>phot_rp_mean_flux_over_error</th><th>phot_rp_mean_mag</th><th>phot_bp_rp_excess_factor</th><th>phot_bp_n_contaminated_transits</th><th>phot_bp_n_blended_transits</th><th>phot_rp_n_contaminated_transits</th><th>phot_rp_n_blended_transits</th><th>phot_proc_mode</th><th>bp_rp</th><th>bp_g</th><th>g_rp</th><th>radial_velocity</th><th>radial_velocity_error</th><th>rv_method_used</th><th>rv_nb_transits</th><th>rv_nb_deblended_transits</th><th>rv_visibility_periods_used</th><th>rv_expected_sig_to_noise</th><th>rv_renormalised_gof</th><th>rv_chisq_pvalue</th><th>rv_time_duration</th><th>rv_amplitude_robust</th><th>rv_template_teff</th><th>rv_template_logg</th><th>rv_template_fe_h</th><th>rv_atm_param_origin</th><th>vbroad</th><th>vbroad_error</th><th>vbroad_nb_transits</th><th>grvs_mag</th><th>grvs_mag_error</th><th>grvs_mag_nb_transits</th><th>rvs_spec_sig_to_noise</th><th>phot_variable_flag</th><th>l</th><th>b</th><th>ecl_lon</th><th>ecl_lat</th><th>in_qso_candidates</th><th>in_galaxy_candidates</th><th>non_single_star</th><th>has_xp_continuous</th><th>has_xp_sampled</th><th>has_rvs</th><th>has_epoch_photometry</th><th>has_epoch_rv</th><th>has_mcmc_gspphot</th><th>has_mcmc_msc</th><th>in_andromeda_survey</th><th>classprob_dsc_combmod_quasar</th><th>classprob_dsc_combmod_galaxy</th><th>classprob_dsc_combmod_star</th><th>teff_gspphot</th><th>teff_gspphot_lower</th><th>teff_gspphot_upper</th><th>logg_gspphot</th><th>logg_gspphot_lower</th><th>logg_gspphot_upper</th><th>mh_gspphot</th><th>mh_gspphot_lower</th><th>mh_gspphot_upper</th><th>distance_gspphot</th><th>distance_gspphot_lower</th><th>distance_gspphot_upper</th><th>azero_gspphot</th><th>azero_gspphot_lower</th><th>azero_gspphot_upper</th><th>ag_gspphot</th><th>ag_gspphot_lower</th><th>ag_gspphot_upper</th><th>ebpminrp_gspphot</th><th>ebpminrp_gspphot_lower</th><th>ebpminrp_gspphot_upper</th><th>libname_gspphot</th><th>dist</th></tr></thead>\n",
       "<thead><tr><th></th><th></th><th></th><th></th><th>yr</th><th>deg</th><th>mas</th><th>deg</th><th>mas</th><th>mas</th><th>mas</th><th></th><th>mas / yr</th><th>mas / yr</th><th>mas / yr</th><th>mas / yr</th><th>mas / yr</th><th></th><th></th><th></th><th></th><th></th><th></th><th></th><th></th><th></th><th></th><th></th><th></th><th></th><th></th><th></th><th></th><th>mas</th><th></th><th></th><th></th><th>1 / um</th><th>1 / um</th><th>1 / um</th><th></th><th></th><th></th><th></th><th></th><th></th><th></th><th>mas</th><th></th><th></th><th></th><th></th><th>deg</th><th></th><th></th><th></th><th></th><th></th><th></th><th></th><th>deg</th><th>deg</th><th>deg</th><th>deg</th><th></th><th></th><th>electron / s</th><th>electron / s</th><th></th><th>mag</th><th></th><th>electron / s</th><th>electron / s</th><th></th><th>mag</th><th></th><th>electron / s</th><th>electron / s</th><th></th><th>mag</th><th></th><th></th><th></th><th></th><th></th><th></th><th>mag</th><th>mag</th><th>mag</th><th>km / s</th><th>km / s</th><th></th><th></th><th></th><th></th><th></th><th></th><th></th><th>d</th><th>km / s</th><th>K</th><th>log(cm.s**-2)</th><th>dex</th><th></th><th>km / s</th><th>km / s</th><th></th><th>mag</th><th>mag</th><th></th><th></th><th></th><th>deg</th><th>deg</th><th>deg</th><th>deg</th><th></th><th></th><th></th><th></th><th></th><th></th><th></th><th></th><th></th><th></th><th></th><th></th><th></th><th></th><th>K</th><th>K</th><th>K</th><th>log(cm.s**-2)</th><th>log(cm.s**-2)</th><th>log(cm.s**-2)</th><th>dex</th><th>dex</th><th>dex</th><th>pc</th><th>pc</th><th>pc</th><th>mag</th><th>mag</th><th>mag</th><th>mag</th><th>mag</th><th>mag</th><th>mag</th><th>mag</th><th>mag</th><th></th><th></th></tr></thead>\n",
       "<thead><tr><th>int64</th><th>object</th><th>int64</th><th>int64</th><th>float64</th><th>float64</th><th>float32</th><th>float64</th><th>float32</th><th>float64</th><th>float32</th><th>float32</th><th>float32</th><th>float64</th><th>float32</th><th>float64</th><th>float32</th><th>float32</th><th>float32</th><th>float32</th><th>float32</th><th>float32</th><th>float32</th><th>float32</th><th>float32</th><th>float32</th><th>float32</th><th>int16</th><th>int16</th><th>int16</th><th>int16</th><th>float32</th><th>float32</th><th>float32</th><th>float32</th><th>int16</th><th>bool</th><th>float32</th><th>float32</th><th>float32</th><th>float32</th><th>float32</th><th>float32</th><th>float32</th><th>float32</th><th>int16</th><th>int16</th><th>float32</th><th>int16</th><th>int16</th><th>int16</th><th>float32</th><th>float32</th><th>int16</th><th>int16</th><th>float32</th><th>float32</th><th>float32</th><th>float32</th><th>float32</th><th>float32</th><th>float32</th><th>float32</th><th>float32</th><th>bool</th><th>int16</th><th>float64</th><th>float32</th><th>float32</th><th>float32</th><th>int16</th><th>float64</th><th>float32</th><th>float32</th><th>float32</th><th>int16</th><th>float64</th><th>float32</th><th>float32</th><th>float32</th><th>float32</th><th>int16</th><th>int16</th><th>int16</th><th>int16</th><th>int16</th><th>float32</th><th>float32</th><th>float32</th><th>float32</th><th>float32</th><th>int16</th><th>int16</th><th>int16</th><th>int16</th><th>float32</th><th>float32</th><th>float32</th><th>float32</th><th>float32</th><th>float32</th><th>float32</th><th>float32</th><th>int16</th><th>float32</th><th>float32</th><th>int16</th><th>float32</th><th>float32</th><th>int16</th><th>float32</th><th>object</th><th>float64</th><th>float64</th><th>float64</th><th>float64</th><th>bool</th><th>bool</th><th>int16</th><th>bool</th><th>bool</th><th>bool</th><th>bool</th><th>bool</th><th>bool</th><th>bool</th><th>bool</th><th>float32</th><th>float32</th><th>float32</th><th>float32</th><th>float32</th><th>float32</th><th>float32</th><th>float32</th><th>float32</th><th>float32</th><th>float32</th><th>float32</th><th>float32</th><th>float32</th><th>float32</th><th>float32</th><th>float32</th><th>float32</th><th>float32</th><th>float32</th><th>float32</th><th>float32</th><th>float32</th><th>float32</th><th>object</th><th>float64</th></tr></thead>\n",
       "<tr><td>1636148068921376768</td><td>Gaia DR3 4618691866001416832</td><td>4618691866001416832</td><td>1420711215</td><td>2016.0</td><td>49.84415504087802</td><td>0.011457366</td><td>-82.46287347280095</td><td>0.011158647</td><td>4.887430395382693</td><td>0.011049826</td><td>442.30838</td><td>56.853977</td><td>33.46893791085271</td><td>0.015063782</td><td>45.95872866688143</td><td>0.015079206</td><td>-0.05815311</td><td>0.018068291</td><td>-0.28147292</td><td>-0.16665208</td><td>-0.017839916</td><td>-0.17185861</td><td>-0.178879</td><td>0.092406355</td><td>-0.024295744</td><td>-0.1702652</td><td>311</td><td>311</td><td>309</td><td>2</td><td>0.011747391</td><td>717.6422</td><td>0.08195282</td><td>9.597326</td><td>31</td><td>True</td><td>1.537461</td><td>--</td><td>--</td><td>--</td><td>--</td><td>--</td><td>--</td><td>--</td><td>35</td><td>25</td><td>0.022563938</td><td>38</td><td>16</td><td>3</td><td>0.016876044</td><td>43.76253</td><td>0</td><td>0</td><td>0.99938</td><td>--</td><td>--</td><td>--</td><td>--</td><td>--</td><td>--</td><td>--</td><td>--</td><td>False</td><td>326</td><td>840854.4664626304</td><td>590.28265</td><td>1424.4946</td><td>10.875565</td><td>36</td><td>436762.3676934219</td><td>1106.8917</td><td>394.58453</td><td>11.237929</td><td>35</td><td>572996.9652792662</td><td>1075.2878</td><td>532.87775</td><td>10.352514</td><td>1.2008729</td><td>0</td><td>22</td><td>0</td><td>21</td><td>0</td><td>0.8854151</td><td>0.36236477</td><td>0.5230503</td><td>1.2933028</td><td>0.41873288</td><td>1</td><td>16</td><td>5</td><td>16</td><td>59.036263</td><td>0.7324729</td><td>0.23166625</td><td>870.80676</td><td>4.805401</td><td>5750.0</td><td>4.5</td><td>0.25</td><td>444</td><td>--</td><td>--</td><td>--</td><td>10.173148</td><td>0.010275033</td><td>9</td><td>--</td><td>NOT_AVAILABLE</td><td>297.53017424628024</td><td>-33.04478446159718</td><td>285.62912197215843</td><td>-71.70133899820978</td><td>False</td><td>False</td><td>0</td><td>True</td><td>True</td><td>False</td><td>False</td><td>False</td><td>True</td><td>True</td><td>False</td><td>1.0360651e-13</td><td>5.175093e-13</td><td>0.9998432</td><td>5663.5527</td><td>5658.108</td><td>5670.9604</td><td>4.2701</td><td>4.2665</td><td>4.2741</td><td>0.3899</td><td>0.3825</td><td>0.3977</td><td>203.6599</td><td>203.1685</td><td>204.1079</td><td>0.1021</td><td>0.0988</td><td>0.1073</td><td>0.0847</td><td>0.082</td><td>0.0891</td><td>0.0447</td><td>0.0433</td><td>0.0471</td><td>MARCS</td><td>0.0002568609942939143</td></tr>\n",
       "<tr><td>1636148068921376768</td><td>Gaia DR3 4618691870296684288</td><td>4618691870296684288</td><td>350415976</td><td>2016.0</td><td>49.851628712534634</td><td>0.25300178</td><td>-82.46592094715244</td><td>0.23092099</td><td>0.40701073187675707</td><td>0.23276556</td><td>1.7485867</td><td>11.357831</td><td>9.601708281992742</td><td>0.36314526</td><td>6.066919737488612</td><td>0.3048135</td><td>0.083368935</td><td>-0.06898407</td><td>-0.47181076</td><td>-0.23554206</td><td>0.008463202</td><td>-0.2600305</td><td>-0.2049511</td><td>0.21848015</td><td>-0.08537583</td><td>0.025738645</td><td>326</td><td>0</td><td>326</td><td>0</td><td>-1.7183837</td><td>293.4707</td><td>0.0</td><td>0.0</td><td>31</td><td>False</td><td>1.540769</td><td>--</td><td>--</td><td>--</td><td>--</td><td>--</td><td>--</td><td>--</td><td>37</td><td>25</td><td>0.5262354</td><td>40</td><td>15</td><td>0</td><td>0.009285023</td><td>63.44328</td><td>0</td><td>0</td><td>0.93193877</td><td>0.13855226</td><td>0.09990062</td><td>0.021858223</td><td>0.22901231</td><td>-57.585537</td><td>51.50237</td><td>57.307083</td><td>16.16898</td><td>False</td><td>335</td><td>287.4198705087426</td><td>0.8913666</td><td>322.44855</td><td>19.541075</td><td>34</td><td>151.29917819046418</td><td>8.54131</td><td>17.713814</td><td>19.88895</td><td>34</td><td>191.65257457422894</td><td>10.023013</td><td>19.121254</td><td>19.041609</td><td>1.1932082</td><td>0</td><td>0</td><td>0</td><td>0</td><td>0</td><td>0.84734154</td><td>0.3478756</td><td>0.49946594</td><td>--</td><td>--</td><td>--</td><td>--</td><td>--</td><td>--</td><td>--</td><td>--</td><td>--</td><td>--</td><td>--</td><td>--</td><td>--</td><td>--</td><td>--</td><td>--</td><td>--</td><td>--</td><td>--</td><td>--</td><td>--</td><td>--</td><td>NOT_AVAILABLE</td><td>297.531596937416</td><td>-33.041813692588875</td><td>285.61939257258837</td><td>-71.70038202263855</td><td>False</td><td>False</td><td>0</td><td>False</td><td>False</td><td>False</td><td>False</td><td>False</td><td>False</td><td>False</td><td>False</td><td>1.9813522e-09</td><td>1.1793448e-12</td><td>0.9999866</td><td>--</td><td>--</td><td>--</td><td>--</td><td>--</td><td>--</td><td>--</td><td>--</td><td>--</td><td>--</td><td>--</td><td>--</td><td>--</td><td>--</td><td>--</td><td>--</td><td>--</td><td>--</td><td>--</td><td>--</td><td>--</td><td></td><td>0.003058598755241895</td></tr>\n",
       "<tr><td>1636148068921376768</td><td>Gaia DR3 4618691664139893632</td><td>4618691664139893632</td><td>223957417</td><td>2016.0</td><td>49.89320803263256</td><td>0.10682432</td><td>-82.46419404717368</td><td>0.12591614</td><td>0.2463158679690492</td><td>0.11118602</td><td>2.2153492</td><td>14.542565</td><td>8.56470336683781</td><td>0.14446321</td><td>11.752959712634398</td><td>0.1577623</td><td>0.08226904</td><td>0.08889325</td><td>-0.3053365</td><td>-0.31796214</td><td>0.1551585</td><td>-0.31643835</td><td>-0.3500948</td><td>0.11447313</td><td>-0.3137883</td><td>-0.036057696</td><td>325</td><td>0</td><td>323</td><td>2</td><td>0.08476571</td><td>333.0955</td><td>0.0</td><td>0.0</td><td>31</td><td>False</td><td>1.5061332</td><td>--</td><td>--</td><td>--</td><td>--</td><td>--</td><td>--</td><td>--</td><td>37</td><td>24</td><td>0.22916444</td><td>40</td><td>15</td><td>0</td><td>0.01965733</td><td>20.009937</td><td>0</td><td>0</td><td>1.0023139</td><td>0.087911025</td><td>0.17740098</td><td>0.08537816</td><td>0.21682435</td><td>-54.714108</td><td>58.52517</td><td>47.445206</td><td>17.491302</td><td>False</td><td>313</td><td>907.9483159267264</td><td>1.3869177</td><td>654.6519</td><td>18.292213</td><td>36</td><td>423.8075566480514</td><td>10.162444</td><td>41.70331</td><td>18.77062</td><td>35</td><td>640.0977755699272</td><td>13.758491</td><td>46.523838</td><td>17.732279</td><td>1.1717687</td><td>0</td><td>2</td><td>0</td><td>1</td><td>0</td><td>1.0383415</td><td>0.4784069</td><td>0.5599346</td><td>--</td><td>--</td><td>--</td><td>--</td><td>--</td><td>--</td><td>--</td><td>--</td><td>--</td><td>--</td><td>--</td><td>--</td><td>--</td><td>--</td><td>--</td><td>--</td><td>--</td><td>--</td><td>--</td><td>--</td><td>--</td><td>--</td><td>NOT_AVAILABLE</td><td>297.52527794570756</td><td>-33.03965712778819</td><td>285.6138599122797</td><td>-71.70583116595796</td><td>False</td><td>False</td><td>0</td><td>False</td><td>False</td><td>False</td><td>False</td><td>False</td><td>True</td><td>False</td><td>False</td><td>1.0224208e-13</td><td>5.1728565e-13</td><td>0.9999793</td><td>4961.6626</td><td>4948.078</td><td>4976.89</td><td>4.6937</td><td>4.6796</td><td>4.7067</td><td>-0.4707</td><td>-0.57</td><td>-0.3736</td><td>2364.8228</td><td>2285.7717</td><td>2447.5308</td><td>0.0042</td><td>0.0011</td><td>0.0105</td><td>0.0034</td><td>0.0008</td><td>0.0084</td><td>0.0018</td><td>0.0004</td><td>0.0045</td><td>MARCS</td><td>0.00667996923464313</td></tr>\n",
       "<tr><td>1636148068921376768</td><td>Gaia DR3 4618691831641848960</td><td>4618691831641848960</td><td>916986753</td><td>2016.0</td><td>49.77013489588497</td><td>0.074912935</td><td>-82.46591715583278</td><td>0.07639187</td><td>0.5486319567538224</td><td>0.074584395</td><td>7.3558545</td><td>3.3365693</td><td>0.16041272887383773</td><td>0.09728568</td><td>-3.332711045368308</td><td>0.0949108</td><td>0.014172308</td><td>0.010417682</td><td>-0.37798598</td><td>-0.19102387</td><td>0.0075917663</td><td>-0.2109658</td><td>-0.17195168</td><td>0.17565118</td><td>-0.16703272</td><td>-0.078255415</td><td>344</td><td>0</td><td>344</td><td>0</td><td>-0.60938597</td><td>336.6244</td><td>0.0</td><td>0.0</td><td>31</td><td>False</td><td>1.4793239</td><td>--</td><td>--</td><td>--</td><td>--</td><td>--</td><td>--</td><td>--</td><td>39</td><td>26</td><td>0.14058796</td><td>42</td><td>17</td><td>0</td><td>0.018952195</td><td>43.987785</td><td>0</td><td>0</td><td>0.9757128</td><td>0.088771306</td><td>0.13321663</td><td>0.05038192</td><td>0.19787776</td><td>-40.49462</td><td>61.776268</td><td>-47.824524</td><td>14.175424</td><td>False</td><td>362</td><td>1462.3258329734228</td><td>1.4108708</td><td>1036.4705</td><td>17.774757</td><td>40</td><td>665.8221880691485</td><td>7.495249</td><td>88.832565</td><td>18.280146</td><td>38</td><td>1122.7982620246694</td><td>9.482673</td><td>118.40525</td><td>17.12214</td><td>1.223134</td><td>0</td><td>0</td><td>0</td><td>0</td><td>0</td><td>1.1580048</td><td>0.50538826</td><td>0.6526165</td><td>--</td><td>--</td><td>--</td><td>--</td><td>--</td><td>--</td><td>--</td><td>--</td><td>--</td><td>--</td><td>--</td><td>--</td><td>--</td><td>--</td><td>--</td><td>--</td><td>--</td><td>--</td><td>--</td><td>--</td><td>--</td><td>--</td><td>NOT_AVAILABLE</td><td>297.5414071631115</td><td>-33.04863637535081</td><td>285.6390051685695</td><td>-71.69165089116407</td><td>False</td><td>False</td><td>0</td><td>False</td><td>False</td><td>False</td><td>False</td><td>False</td><td>True</td><td>True</td><td>False</td><td>1.0215485e-13</td><td>5.1128275e-13</td><td>0.99998707</td><td>4737.7686</td><td>4724.2964</td><td>4755.391</td><td>4.7133</td><td>4.6978</td><td>4.7294</td><td>-0.7149</td><td>-0.7948</td><td>-0.6384</td><td>1484.0181</td><td>1440.9604</td><td>1523.092</td><td>0.0166</td><td>0.0039</td><td>0.0367</td><td>0.013</td><td>0.003</td><td>0.0289</td><td>0.007</td><td>0.0016</td><td>0.0155</td><td>MARCS</td><td>0.009966597189109923</td></tr>\n",
       "<tr><td>1636148068921376768</td><td>Gaia DR3 4618691629779000064</td><td>4618691629779000064</td><td>14644478</td><td>2016.0</td><td>49.84250465639609</td><td>3.805714</td><td>-82.47708603177995</td><td>2.488235</td><td>--</td><td>--</td><td>--</td><td>--</td><td>--</td><td>--</td><td>--</td><td>--</td><td>-0.4893982</td><td>--</td><td>--</td><td>--</td><td>--</td><td>--</td><td>--</td><td>--</td><td>--</td><td>--</td><td>81</td><td>0</td><td>81</td><td>0</td><td>4.831404</td><td>151.42432</td><td>8.683147</td><td>4.643653</td><td>3</td><td>False</td><td>--</td><td>--</td><td>--</td><td>--</td><td>--</td><td>--</td><td>--</td><td>--</td><td>9</td><td>8</td><td>7.8507304</td><td>12</td><td>6</td><td>0</td><td>0.10243784</td><td>69.04075</td><td>0</td><td>0</td><td>--</td><td>0.074987404</td><td>0.30559772</td><td>0.17320083</td><td>0.65274024</td><td>18.128305</td><td>48.224937</td><td>3.724081</td><td>9.281534</td><td>False</td><td>80</td><td>81.76465836913296</td><td>1.6964043</td><td>48.198803</td><td>20.905952</td><td>5</td><td>27.073677281680332</td><td>7.8191376</td><td>3.462489</td><td>21.757174</td><td>8</td><td>93.00487677814583</td><td>7.504468</td><td>12.393268</td><td>19.826632</td><td>1.4685875</td><td>0</td><td>0</td><td>0</td><td>0</td><td>0</td><td>1.930542</td><td>0.8512211</td><td>1.0793209</td><td>--</td><td>--</td><td>--</td><td>--</td><td>--</td><td>--</td><td>--</td><td>--</td><td>--</td><td>--</td><td>--</td><td>--</td><td>--</td><td>--</td><td>--</td><td>--</td><td>--</td><td>--</td><td>--</td><td>--</td><td>--</td><td>--</td><td>NOT_AVAILABLE</td><td>297.54120111338267</td><td>-33.03398649096559</td><td>285.59255162239333</td><td>-71.69296350097574</td><td>False</td><td>False</td><td>0</td><td>False</td><td>False</td><td>False</td><td>False</td><td>False</td><td>False</td><td>False</td><td>False</td><td>6.1204255e-06</td><td>6.2079375e-06</td><td>0.9995178</td><td>--</td><td>--</td><td>--</td><td>--</td><td>--</td><td>--</td><td>--</td><td>--</td><td>--</td><td>--</td><td>--</td><td>--</td><td>--</td><td>--</td><td>--</td><td>--</td><td>--</td><td>--</td><td>--</td><td>--</td><td>--</td><td></td><td>0.01400627066080683</td></tr>\n",
       "<tr><td>1636148068921376768</td><td>Gaia DR3 4618691767219109888</td><td>4618691767219109888</td><td>67622153</td><td>2016.0</td><td>49.9618498350429</td><td>0.20360002</td><td>-82.4635443607448</td><td>0.20523526</td><td>0.28060971069773577</td><td>0.19442777</td><td>1.4432594</td><td>6.0458746</td><td>1.8396892741203943</td><td>0.26892793</td><td>5.759178884329869</td><td>0.25018278</td><td>0.026073525</td><td>-0.031410772</td><td>-0.40326545</td><td>-0.1958401</td><td>0.1732948</td><td>-0.2273684</td><td>-0.30164927</td><td>0.07572722</td><td>-0.20993361</td><td>-0.091624804</td><td>328</td><td>0</td><td>326</td><td>2</td><td>0.8945053</td><td>359.05124</td><td>0.43144825</td><td>0.46230656</td><td>31</td><td>False</td><td>1.4825386</td><td>--</td><td>--</td><td>--</td><td>--</td><td>--</td><td>--</td><td>--</td><td>37</td><td>26</td><td>0.38796625</td><td>40</td><td>16</td><td>0</td><td>0.02235875</td><td>24.402248</td><td>0</td><td>0</td><td>1.0344598</td><td>0.11634436</td><td>0.15037936</td><td>0.03700254</td><td>0.18478335</td><td>-24.484264</td><td>54.46068</td><td>31.640083</td><td>15.00136</td><td>False</td><td>335</td><td>397.85658363338683</td><td>0.91019374</td><td>437.11197</td><td>19.188051</td><td>37</td><td>192.15976824341195</td><td>7.55576</td><td>25.432222</td><td>19.629387</td><td>36</td><td>283.3631829557267</td><td>6.8388143</td><td>41.434547</td><td>18.617037</td><td>1.195212</td><td>0</td><td>1</td><td>0</td><td>1</td><td>0</td><td>1.0123501</td><td>0.44133568</td><td>0.5710144</td><td>--</td><td>--</td><td>--</td><td>--</td><td>--</td><td>--</td><td>--</td><td>--</td><td>--</td><td>--</td><td>--</td><td>--</td><td>--</td><td>--</td><td>--</td><td>--</td><td>--</td><td>--</td><td>--</td><td>--</td><td>--</td><td>--</td><td>NOT_AVAILABLE</td><td>297.51652989184447</td><td>-33.03439556950605</td><td>285.5989652799085</td><td>-71.71355233033155</td><td>False</td><td>False</td><td>0</td><td>False</td><td>False</td><td>False</td><td>False</td><td>False</td><td>False</td><td>False</td><td>False</td><td>4.105818e-11</td><td>5.202934e-13</td><td>0.9999925</td><td>--</td><td>--</td><td>--</td><td>--</td><td>--</td><td>--</td><td>--</td><td>--</td><td>--</td><td>--</td><td>--</td><td>--</td><td>--</td><td>--</td><td>--</td><td>--</td><td>--</td><td>--</td><td>--</td><td>--</td><td>--</td><td></td><td>0.015596725921731992</td></tr>\n",
       "<tr><td>1636148068921376768</td><td>Gaia DR3 4618691629779000960</td><td>4618691629779000960</td><td>910563355</td><td>2016.0</td><td>49.840644531279914</td><td>1.77912</td><td>-82.47983352695377</td><td>1.374599</td><td>--</td><td>--</td><td>--</td><td>--</td><td>--</td><td>--</td><td>--</td><td>--</td><td>0.216062</td><td>--</td><td>--</td><td>--</td><td>--</td><td>--</td><td>--</td><td>--</td><td>--</td><td>--</td><td>70</td><td>0</td><td>69</td><td>1</td><td>3.5549228</td><td>112.2602</td><td>2.8832057</td><td>0.70437735</td><td>3</td><td>False</td><td>--</td><td>--</td><td>--</td><td>--</td><td>--</td><td>--</td><td>--</td><td>--</td><td>8</td><td>8</td><td>6.5778766</td><td>9</td><td>2</td><td>0</td><td>0.034282148</td><td>136.50667</td><td>0</td><td>0</td><td>--</td><td>0.24098982</td><td>0.3063508</td><td>0.14510877</td><td>0.082688145</td><td>-102.98667</td><td>21.644789</td><td>12.884681</td><td>30.506128</td><td>False</td><td>77</td><td>87.20698657245563</td><td>1.3158882</td><td>66.27234</td><td>20.835989</td><td>7</td><td>24.249831674529343</td><td>4.801838</td><td>5.0501146</td><td>21.87677</td><td>8</td><td>94.90208562912362</td><td>12.265982</td><td>7.7370152</td><td>19.804707</td><td>1.3663116</td><td>0</td><td>0</td><td>0</td><td>0</td><td>0</td><td>2.0720634</td><td>1.040781</td><td>1.0312824</td><td>--</td><td>--</td><td>--</td><td>--</td><td>--</td><td>--</td><td>--</td><td>--</td><td>--</td><td>--</td><td>--</td><td>--</td><td>--</td><td>--</td><td>--</td><td>--</td><td>--</td><td>--</td><td>--</td><td>--</td><td>--</td><td>--</td><td>NOT_AVAILABLE</td><td>297.5435175010198</td><td>-33.03202771291893</td><td>285.58585617137896</td><td>-71.69117896662105</td><td>False</td><td>False</td><td>0</td><td>False</td><td>False</td><td>False</td><td>False</td><td>False</td><td>False</td><td>False</td><td>False</td><td>3.4728553e-05</td><td>1.18884755e-05</td><td>0.99972385</td><td>--</td><td>--</td><td>--</td><td>--</td><td>--</td><td>--</td><td>--</td><td>--</td><td>--</td><td>--</td><td>--</td><td>--</td><td>--</td><td>--</td><td>--</td><td>--</td><td>--</td><td>--</td><td>--</td><td>--</td><td>--</td><td></td><td>0.016756439060282638</td></tr>\n",
       "<tr><td>1636148068921376768</td><td>Gaia DR3 4618691629780158848</td><td>4618691629780158848</td><td>83035996</td><td>2016.0</td><td>49.88963236017125</td><td>0.32987309</td><td>-82.47876334233645</td><td>0.2072323</td><td>-0.2324175423261525</td><td>0.23129337</td><td>-1.0048604</td><td>7.5944605</td><td>6.910263075440065</td><td>0.3809176</td><td>3.1502534093195926</td><td>0.29182416</td><td>-0.122283526</td><td>0.15902884</td><td>0.16810876</td><td>-0.49500096</td><td>0.085504256</td><td>-0.37012202</td><td>-0.12229001</td><td>0.08631081</td><td>-0.2546368</td><td>-0.32987908</td><td>230</td><td>0</td><td>229</td><td>1</td><td>0.28038722</td><td>239.74895</td><td>0.0</td><td>0.0</td><td>95</td><td>False</td><td>--</td><td>1.3859366</td><td>0.07108505</td><td>-0.20743467</td><td>0.012770084</td><td>-0.13537976</td><td>-0.12698303</td><td>0.21092099</td><td>26</td><td>18</td><td>0.57369214</td><td>40</td><td>16</td><td>0</td><td>0.026514247</td><td>51.90128</td><td>0</td><td>41</td><td>1.011805</td><td>0.1147623</td><td>0.4032215</td><td>0.123765305</td><td>0.459211</td><td>-19.37426</td><td>11.589354</td><td>-51.69915</td><td>34.108154</td><td>False</td><td>254</td><td>363.0614200199949</td><td>1.174211</td><td>309.19604</td><td>19.287416</td><td>3</td><td>327.6805309533645</td><td>90.33187</td><td>3.6275184</td><td>19.049915</td><td>2</td><td>497.99342509301084</td><td>33.37567</td><td>14.920851</td><td>18.004837</td><td>2.274199</td><td>0</td><td>3</td><td>0</td><td>2</td><td>1</td><td>1.0450783</td><td>-0.23750114</td><td>1.2825794</td><td>--</td><td>--</td><td>--</td><td>--</td><td>--</td><td>--</td><td>--</td><td>--</td><td>--</td><td>--</td><td>--</td><td>--</td><td>--</td><td>--</td><td>--</td><td>--</td><td>--</td><td>--</td><td>--</td><td>--</td><td>--</td><td>--</td><td>NOT_AVAILABLE</td><td>297.53681882771485</td><td>-33.02875421552022</td><td>285.5768470891973</td><td>-71.69703120893965</td><td>False</td><td>False</td><td>0</td><td>False</td><td>False</td><td>False</td><td>False</td><td>False</td><td>False</td><td>False</td><td>False</td><td>6.6435204e-09</td><td>1.0643693e-06</td><td>0.9999975</td><td>--</td><td>--</td><td>--</td><td>--</td><td>--</td><td>--</td><td>--</td><td>--</td><td>--</td><td>--</td><td>--</td><td>--</td><td>--</td><td>--</td><td>--</td><td>--</td><td>--</td><td>--</td><td>--</td><td>--</td><td>--</td><td></td><td>0.016832148941004592</td></tr>\n",
       "<tr><td>1636148068921376768</td><td>Gaia DR3 4618691629778524416</td><td>4618691629778524416</td><td>1285774432</td><td>2016.0</td><td>49.88914267796424</td><td>0.21257107</td><td>-82.47909763541496</td><td>0.19381537</td><td>0.5893194346949345</td><td>0.19593984</td><td>3.007655</td><td>9.5111</td><td>9.37505770024049</td><td>0.27423453</td><td>-1.6029100338279418</td><td>0.25394076</td><td>0.031882312</td><td>-0.010869466</td><td>-0.4576244</td><td>-0.17915475</td><td>0.03610787</td><td>-0.19520509</td><td>-0.2593427</td><td>0.17426898</td><td>-0.21403193</td><td>-0.10664842</td><td>326</td><td>0</td><td>323</td><td>3</td><td>2.849424</td><td>411.68243</td><td>0.78138065</td><td>1.7021399</td><td>95</td><td>False</td><td>--</td><td>1.4065884</td><td>0.05983817</td><td>-0.033331685</td><td>-0.014562134</td><td>-0.15022922</td><td>-0.06887721</td><td>0.17548369</td><td>37</td><td>24</td><td>0.40005583</td><td>40</td><td>17</td><td>0</td><td>0.031248052</td><td>60.595047</td><td>6</td><td>0</td><td>1.1141831</td><td>0.05958018</td><td>0.14580029</td><td>0.060185853</td><td>0.23178934</td><td>-7.686931</td><td>54.267548</td><td>-51.44802</td><td>16.72575</td><td>False</td><td>340</td><td>421.94774746816375</td><td>1.1184466</td><td>377.26233</td><td>19.12422</td><td>35</td><td>297.24233538646126</td><td>10.502553</td><td>28.301912</td><td>19.155766</td><td>36</td><td>452.18451990295455</td><td>23.62721</td><td>19.138294</td><td>18.109606</td><td>1.7761129</td><td>0</td><td>35</td><td>0</td><td>36</td><td>0</td><td>1.0461597</td><td>0.03154564</td><td>1.0146141</td><td>--</td><td>--</td><td>--</td><td>--</td><td>--</td><td>--</td><td>--</td><td>--</td><td>--</td><td>--</td><td>--</td><td>--</td><td>--</td><td>--</td><td>--</td><td>--</td><td>--</td><td>--</td><td>--</td><td>--</td><td>--</td><td>--</td><td>NOT_AVAILABLE</td><td>297.5371325173937</td><td>-33.02853813064503</td><td>285.57609639054664</td><td>-71.6967856871883</td><td>False</td><td>False</td><td>0</td><td>False</td><td>False</td><td>False</td><td>False</td><td>False</td><td>False</td><td>False</td><td>False</td><td>6.337313e-08</td><td>3.6323534e-05</td><td>0.99996364</td><td>--</td><td>--</td><td>--</td><td>--</td><td>--</td><td>--</td><td>--</td><td>--</td><td>--</td><td>--</td><td>--</td><td>--</td><td>--</td><td>--</td><td>--</td><td>--</td><td>--</td><td>--</td><td>--</td><td>--</td><td>--</td><td></td><td>0.017121242722608485</td></tr>\n",
       "<tr><td>...</td><td>...</td><td>...</td><td>...</td><td>...</td><td>...</td><td>...</td><td>...</td><td>...</td><td>...</td><td>...</td><td>...</td><td>...</td><td>...</td><td>...</td><td>...</td><td>...</td><td>...</td><td>...</td><td>...</td><td>...</td><td>...</td><td>...</td><td>...</td><td>...</td><td>...</td><td>...</td><td>...</td><td>...</td><td>...</td><td>...</td><td>...</td><td>...</td><td>...</td><td>...</td><td>...</td><td>...</td><td>...</td><td>...</td><td>...</td><td>...</td><td>...</td><td>...</td><td>...</td><td>...</td><td>...</td><td>...</td><td>...</td><td>...</td><td>...</td><td>...</td><td>...</td><td>...</td><td>...</td><td>...</td><td>...</td><td>...</td><td>...</td><td>...</td><td>...</td><td>...</td><td>...</td><td>...</td><td>...</td><td>...</td><td>...</td><td>...</td><td>...</td><td>...</td><td>...</td><td>...</td><td>...</td><td>...</td><td>...</td><td>...</td><td>...</td><td>...</td><td>...</td><td>...</td><td>...</td><td>...</td><td>...</td><td>...</td><td>...</td><td>...</td><td>...</td><td>...</td><td>...</td><td>...</td><td>...</td><td>...</td><td>...</td><td>...</td><td>...</td><td>...</td><td>...</td><td>...</td><td>...</td><td>...</td><td>...</td><td>...</td><td>...</td><td>...</td><td>...</td><td>...</td><td>...</td><td>...</td><td>...</td><td>...</td><td>...</td><td>...</td><td>...</td><td>...</td><td>...</td><td>...</td><td>...</td><td>...</td><td>...</td><td>...</td><td>...</td><td>...</td><td>...</td><td>...</td><td>...</td><td>...</td><td>...</td><td>...</td><td>...</td><td>...</td><td>...</td><td>...</td><td>...</td><td>...</td><td>...</td><td>...</td><td>...</td><td>...</td><td>...</td><td>...</td><td>...</td><td>...</td><td>...</td><td>...</td><td>...</td><td>...</td><td>...</td><td>...</td><td>...</td><td>...</td><td>...</td><td>...</td><td>...</td><td>...</td></tr>\n",
       "<tr><td>1636148068921376768</td><td>Gaia DR3 4618691801578844928</td><td>4618691801578844928</td><td>1638346176</td><td>2016.0</td><td>50.05161145491025</td><td>0.4096814</td><td>-82.44186350164816</td><td>0.42918885</td><td>0.6820309775951641</td><td>0.39287803</td><td>1.7359866</td><td>3.784181</td><td>3.0163165832060255</td><td>0.56977576</td><td>-2.2851392531262777</td><td>0.5628503</td><td>-0.038996663</td><td>0.2288355</td><td>-0.3576034</td><td>-0.14405733</td><td>0.0332379</td><td>-0.117817186</td><td>-0.44274884</td><td>0.06709237</td><td>-0.20535193</td><td>-0.18021351</td><td>289</td><td>0</td><td>288</td><td>1</td><td>0.8881869</td><td>323.3111</td><td>0.0</td><td>0.0</td><td>31</td><td>False</td><td>1.477234</td><td>--</td><td>--</td><td>--</td><td>--</td><td>--</td><td>--</td><td>--</td><td>33</td><td>24</td><td>0.8603318</td><td>36</td><td>14</td><td>0</td><td>0.014255456</td><td>132.91415</td><td>0</td><td>0</td><td>1.0363724</td><td>0.06420907</td><td>0.18767849</td><td>0.059915256</td><td>0.12085198</td><td>-40.7346</td><td>46.649994</td><td>29.500517</td><td>15.271593</td><td>False</td><td>275</td><td>167.45938501839075</td><td>0.816928</td><td>204.98671</td><td>20.127594</td><td>27</td><td>98.36386153820982</td><td>10.376094</td><td>9.479855</td><td>20.356453</td><td>28</td><td>138.58097350047885</td><td>10.014919</td><td>13.837453</td><td>19.393637</td><td>1.4149392</td><td>0</td><td>0</td><td>0</td><td>0</td><td>0</td><td>0.96281624</td><td>0.22885895</td><td>0.7339573</td><td>--</td><td>--</td><td>--</td><td>--</td><td>--</td><td>--</td><td>--</td><td>--</td><td>--</td><td>--</td><td>--</td><td>--</td><td>--</td><td>--</td><td>--</td><td>--</td><td>--</td><td>--</td><td>--</td><td>--</td><td>--</td><td>--</td><td>NOT_AVAILABLE</td><td>297.4891558448559</td><td>-33.043476361668205</td><td>285.6335584430224</td><td>-71.73571942641304</td><td>False</td><td>False</td><td>0</td><td>False</td><td>False</td><td>False</td><td>False</td><td>False</td><td>False</td><td>False</td><td>False</td><td>1.0757295e-06</td><td>7.767719e-08</td><td>0.9999862</td><td>--</td><td>--</td><td>--</td><td>--</td><td>--</td><td>--</td><td>--</td><td>--</td><td>--</td><td>--</td><td>--</td><td>--</td><td>--</td><td>--</td><td>--</td><td>--</td><td>--</td><td>--</td><td>--</td><td>--</td><td>--</td><td></td><td>0.0346556232663122</td></tr>\n",
       "<tr><td>1636148068921376768</td><td>Gaia DR3 4618694855298834688</td><td>4618694855298834688</td><td>79210098</td><td>2016.0</td><td>49.60448380902633</td><td>0.11980689</td><td>-82.44801856609617</td><td>0.11673974</td><td>0.42656706632155017</td><td>0.11990698</td><td>3.5574834</td><td>11.839963</td><td>5.586163803366319</td><td>0.15241484</td><td>10.439324342258352</td><td>0.13771115</td><td>-0.06305016</td><td>0.14168051</td><td>-0.24201214</td><td>-0.22032303</td><td>0.020752614</td><td>-0.22093704</td><td>-0.10562061</td><td>0.16004182</td><td>-0.20817706</td><td>-0.1404542</td><td>316</td><td>0</td><td>315</td><td>1</td><td>-1.8082392</td><td>277.9622</td><td>0.0</td><td>0.0</td><td>31</td><td>False</td><td>1.4516507</td><td>--</td><td>--</td><td>--</td><td>--</td><td>--</td><td>--</td><td>--</td><td>36</td><td>26</td><td>0.21992324</td><td>40</td><td>15</td><td>0</td><td>0.016047241</td><td>55.37949</td><td>0</td><td>0</td><td>0.9272168</td><td>0.112457275</td><td>0.16247469</td><td>0.036248334</td><td>0.20969613</td><td>-38.160835</td><td>42.689743</td><td>38.066288</td><td>16.729568</td><td>False</td><td>332</td><td>797.2222826363309</td><td>1.3580717</td><td>587.0252</td><td>18.433418</td><td>38</td><td>318.8191888498935</td><td>10.464355</td><td>30.46716</td><td>19.079681</td><td>38</td><td>587.2957876272205</td><td>20.023596</td><td>29.330187</td><td>17.825754</td><td>1.1365901</td><td>0</td><td>2</td><td>0</td><td>2</td><td>0</td><td>1.2539272</td><td>0.6462631</td><td>0.6076641</td><td>--</td><td>--</td><td>--</td><td>--</td><td>--</td><td>--</td><td>--</td><td>--</td><td>--</td><td>--</td><td>--</td><td>--</td><td>--</td><td>--</td><td>--</td><td>--</td><td>--</td><td>--</td><td>--</td><td>--</td><td>--</td><td>--</td><td>NOT_AVAILABLE</td><td>297.54782378090334</td><td>-33.07628219299643</td><td>285.7253700563259</td><td>-71.684108520305</td><td>False</td><td>False</td><td>0</td><td>False</td><td>False</td><td>False</td><td>False</td><td>False</td><td>True</td><td>False</td><td>False</td><td>1.4793124e-13</td><td>1.5283084e-11</td><td>0.999995</td><td>4613.384</td><td>4598.604</td><td>4627.37</td><td>4.6955</td><td>4.6765</td><td>4.7149</td><td>-0.3335</td><td>-0.4552</td><td>-0.21</td><td>2025.097</td><td>1936.8171</td><td>2122.335</td><td>0.005</td><td>0.0013</td><td>0.0137</td><td>0.0039</td><td>0.001</td><td>0.0106</td><td>0.0021</td><td>0.0005</td><td>0.0057</td><td>MARCS</td><td>0.034748422003183295</td></tr>\n",
       "<tr><td>1636148068921376768</td><td>Gaia DR3 4618692072161369600</td><td>4618692072161369600</td><td>716653669</td><td>2016.0</td><td>49.90999253896488</td><td>0.1371585</td><td>-82.42945287253927</td><td>0.136377</td><td>1.229293228406532</td><td>0.13774402</td><td>8.924476</td><td>25.299282</td><td>12.727755809609073</td><td>0.19039218</td><td>21.864534928415644</td><td>0.16772175</td><td>0.017309636</td><td>0.1221455</td><td>-0.23020867</td><td>-0.20230627</td><td>0.07604998</td><td>-0.22612566</td><td>-0.14454317</td><td>0.10948211</td><td>-0.17571624</td><td>-0.18287626</td><td>294</td><td>0</td><td>293</td><td>1</td><td>1.0770903</td><td>327.97003</td><td>0.45366725</td><td>1.1882998</td><td>31</td><td>False</td><td>1.3305054</td><td>--</td><td>--</td><td>--</td><td>--</td><td>--</td><td>--</td><td>--</td><td>33</td><td>26</td><td>0.27596623</td><td>36</td><td>12</td><td>0</td><td>0.0130651025</td><td>27.667788</td><td>0</td><td>0</td><td>1.0440384</td><td>0.037015844</td><td>0.09277401</td><td>0.022842286</td><td>0.08616129</td><td>-21.509266</td><td>44.059166</td><td>55.35182</td><td>21.079512</td><td>False</td><td>299</td><td>718.082350428244</td><td>1.230816</td><td>583.41974</td><td>18.54693</td><td>32</td><td>222.70732060643672</td><td>13.05025</td><td>17.065369</td><td>19.469206</td><td>32</td><td>832.1488617801442</td><td>11.9128275</td><td>69.85318</td><td>17.447393</td><td>1.4689906</td><td>0</td><td>0</td><td>0</td><td>0</td><td>0</td><td>2.0218124</td><td>0.92227554</td><td>1.0995369</td><td>--</td><td>--</td><td>--</td><td>--</td><td>--</td><td>--</td><td>--</td><td>--</td><td>--</td><td>--</td><td>--</td><td>--</td><td>--</td><td>--</td><td>--</td><td>--</td><td>--</td><td>--</td><td>--</td><td>--</td><td>--</td><td>--</td><td>NOT_AVAILABLE</td><td>297.4967423035515</td><td>-33.06495051374691</td><td>285.7002433250417</td><td>-71.72768112045728</td><td>False</td><td>False</td><td>0</td><td>False</td><td>False</td><td>False</td><td>False</td><td>False</td><td>True</td><td>False</td><td>False</td><td>4.0875072e-13</td><td>1.6330349e-08</td><td>0.99991614</td><td>3582.4973</td><td>3525.8716</td><td>3657.6318</td><td>4.5846</td><td>4.4365</td><td>4.8605</td><td>-0.855</td><td>-1.103</td><td>-0.4039</td><td>651.193</td><td>597.3772</td><td>702.3685</td><td>0.2912</td><td>0.2257</td><td>0.3438</td><td>0.1997</td><td>0.1546</td><td>0.2362</td><td>0.1165</td><td>0.0904</td><td>0.1376</td><td>MARCS</td><td>0.03476142045583419</td></tr>\n",
       "<tr><td>1636148068921376768</td><td>Gaia DR3 4618694859595553920</td><td>4618694859595553920</td><td>1687788600</td><td>2016.0</td><td>49.59790996173148</td><td>0.08384484</td><td>-82.4491120718772</td><td>0.08154278</td><td>0.3774685881459172</td><td>0.08339149</td><td>4.5264645</td><td>7.1003823</td><td>7.006733925856927</td><td>0.108565494</td><td>1.1493958793700327</td><td>0.09831672</td><td>-0.07847334</td><td>0.099601306</td><td>-0.2525353</td><td>-0.21258068</td><td>-0.011724122</td><td>-0.22313434</td><td>-0.09224021</td><td>0.1617286</td><td>-0.20986089</td><td>-0.14458585</td><td>325</td><td>0</td><td>325</td><td>0</td><td>-0.593456</td><td>317.50305</td><td>0.0</td><td>0.0</td><td>31</td><td>False</td><td>1.5050812</td><td>--</td><td>--</td><td>--</td><td>--</td><td>--</td><td>--</td><td>--</td><td>37</td><td>26</td><td>0.15698248</td><td>41</td><td>16</td><td>0</td><td>0.014218321</td><td>49.77772</td><td>0</td><td>0</td><td>0.97560024</td><td>0.115761325</td><td>0.15687263</td><td>0.05448146</td><td>0.2154079</td><td>-43.4135</td><td>45.707745</td><td>37.023293</td><td>15.831424</td><td>False</td><td>359</td><td>1317.494610760396</td><td>1.4575777</td><td>903.89325</td><td>17.887995</td><td>40</td><td>600.1139459500574</td><td>13.155533</td><td>45.616848</td><td>18.392958</td><td>38</td><td>891.6163052985805</td><td>18.907045</td><td>47.157887</td><td>17.37245</td><td>1.1322477</td><td>0</td><td>0</td><td>0</td><td>0</td><td>0</td><td>1.0205078</td><td>0.5049629</td><td>0.5155449</td><td>--</td><td>--</td><td>--</td><td>--</td><td>--</td><td>--</td><td>--</td><td>--</td><td>--</td><td>--</td><td>--</td><td>--</td><td>--</td><td>--</td><td>--</td><td>--</td><td>--</td><td>--</td><td>--</td><td>--</td><td>--</td><td>--</td><td>NOT_AVAILABLE</td><td>297.54944905895314</td><td>-33.07598666656219</td><td>285.72408783071086</td><td>-71.68277445978403</td><td>False</td><td>False</td><td>0</td><td>False</td><td>False</td><td>False</td><td>False</td><td>False</td><td>True</td><td>True</td><td>False</td><td>1.0227621e-13</td><td>7.274996e-13</td><td>0.999986</td><td>5053.1978</td><td>5041.815</td><td>5065.0767</td><td>4.6696</td><td>4.6569</td><td>4.6782</td><td>-0.2705</td><td>-0.3393</td><td>-0.2134</td><td>2205.943</td><td>2153.8547</td><td>2262.871</td><td>0.0026</td><td>0.0005</td><td>0.0077</td><td>0.0021</td><td>0.0004</td><td>0.0062</td><td>0.0011</td><td>0.0002</td><td>0.0033</td><td>MARCS</td><td>0.0350765075925028</td></tr>\n",
       "<tr><td>1636148068921376768</td><td>Gaia DR3 4618692076456746496</td><td>4618692076456746496</td><td>650139022</td><td>2016.0</td><td>49.89770589069142</td><td>0.011334992</td><td>-82.42863915573152</td><td>0.009981715</td><td>1.1498124347055283</td><td>0.010767385</td><td>106.7866</td><td>25.61715</td><td>12.794377810254895</td><td>0.01586077</td><td>22.193291754216077</td><td>0.013364691</td><td>-0.038388755</td><td>0.014388762</td><td>-0.17565434</td><td>-0.21673265</td><td>0.05556199</td><td>-0.22295713</td><td>-0.07944648</td><td>0.19266324</td><td>-0.10930343</td><td>-0.19764215</td><td>310</td><td>0</td><td>310</td><td>0</td><td>-0.117614284</td><td>304.946</td><td>0.0</td><td>0.0</td><td>31</td><td>False</td><td>1.5517493</td><td>--</td><td>--</td><td>--</td><td>--</td><td>--</td><td>--</td><td>--</td><td>35</td><td>27</td><td>0.022895152</td><td>38</td><td>13</td><td>0</td><td>0.014055345</td><td>25.743221</td><td>0</td><td>0</td><td>0.99415076</td><td>0.038297895</td><td>0.13580342</td><td>0.013985469</td><td>0.13443604</td><td>-15.928763</td><td>34.01379</td><td>-52.54269</td><td>22.17582</td><td>False</td><td>312</td><td>85373.48177865293</td><td>14.931687</td><td>5717.6045</td><td>13.359059</td><td>33</td><td>45397.82615660423</td><td>31.336721</td><td>1448.7101</td><td>13.695954</td><td>31</td><td>56937.018419829736</td><td>17.67954</td><td>3220.5032</td><td>12.859408</td><td>1.1986725</td><td>0</td><td>0</td><td>0</td><td>0</td><td>0</td><td>0.83654594</td><td>0.336895</td><td>0.49965096</td><td>6.3981586</td><td>3.0902185</td><td>2</td><td>13</td><td>2</td><td>13</td><td>7.824896</td><td>--</td><td>--</td><td>848.56104</td><td>--</td><td>5500.0</td><td>4.5</td><td>-0.5</td><td>111</td><td>--</td><td>--</td><td>--</td><td>12.710002</td><td>0.16185455</td><td>11</td><td>--</td><td>NOT_AVAILABLE</td><td>297.49760570314527</td><td>-33.066611580415525</td><td>285.70534031406464</td><td>-71.72682746716283</td><td>False</td><td>False</td><td>0</td><td>True</td><td>True</td><td>False</td><td>False</td><td>False</td><td>False</td><td>True</td><td>False</td><td>1.02881774e-13</td><td>5.1388933e-13</td><td>0.9999149</td><td>--</td><td>--</td><td>--</td><td>--</td><td>--</td><td>--</td><td>--</td><td>--</td><td>--</td><td>--</td><td>--</td><td>--</td><td>--</td><td>--</td><td>--</td><td>--</td><td>--</td><td>--</td><td>--</td><td>--</td><td>--</td><td></td><td>0.03518389353299127</td></tr>\n",
       "<tr><td>1636148068921376768</td><td>Gaia DR3 4618692003440556032</td><td>4618692003440556032</td><td>411905150</td><td>2016.0</td><td>49.95596474183272</td><td>5.6415396</td><td>-82.43019963521878</td><td>8.959837</td><td>--</td><td>--</td><td>--</td><td>--</td><td>--</td><td>--</td><td>--</td><td>--</td><td>-0.18602973</td><td>--</td><td>--</td><td>--</td><td>--</td><td>--</td><td>--</td><td>--</td><td>--</td><td>--</td><td>65</td><td>0</td><td>65</td><td>0</td><td>7.4804673</td><td>183.50209</td><td>24.071957</td><td>9.163399</td><td>3</td><td>False</td><td>--</td><td>--</td><td>--</td><td>--</td><td>--</td><td>--</td><td>--</td><td>--</td><td>8</td><td>8</td><td>22.98683</td><td>9</td><td>1</td><td>1</td><td>0.2691636</td><td>55.320194</td><td>0</td><td>0</td><td>--</td><td>0.43143466</td><td>0.05004422</td><td>0.30157414</td><td>0.1406154</td><td>-116.289246</td><td>61.619724</td><td>32.140118</td><td>12.285825</td><td>False</td><td>70</td><td>59.14868346165937</td><td>2.2918005</td><td>25.808826</td><td>21.257504</td><td>4</td><td>59.70790231896808</td><td>12.847443</td><td>4.6474543</td><td>20.898462</td><td>7</td><td>159.95781285599972</td><td>16.997734</td><td>9.410538</td><td>19.237883</td><td>3.7137887</td><td>0</td><td>0</td><td>0</td><td>0</td><td>0</td><td>1.6605797</td><td>-0.3590412</td><td>2.019621</td><td>--</td><td>--</td><td>--</td><td>--</td><td>--</td><td>--</td><td>--</td><td>--</td><td>--</td><td>--</td><td>--</td><td>--</td><td>--</td><td>--</td><td>--</td><td>--</td><td>--</td><td>--</td><td>--</td><td>--</td><td>--</td><td>--</td><td>NOT_AVAILABLE</td><td>297.49176111766576</td><td>-33.060499639604295</td><td>285.68715049724494</td><td>-71.73219667375821</td><td>False</td><td>False</td><td>0</td><td>False</td><td>False</td><td>False</td><td>False</td><td>False</td><td>False</td><td>False</td><td>False</td><td>0.00012023415</td><td>2.7875038e-05</td><td>0.99939966</td><td>--</td><td>--</td><td>--</td><td>--</td><td>--</td><td>--</td><td>--</td><td>--</td><td>--</td><td>--</td><td>--</td><td>--</td><td>--</td><td>--</td><td>--</td><td>--</td><td>--</td><td>--</td><td>--</td><td>--</td><td>--</td><td></td><td>0.036078367489494424</td></tr>\n",
       "<tr><td>1636148068921376768</td><td>Gaia DR3 4618690938288647552</td><td>4618690938288647552</td><td>362200964</td><td>2016.0</td><td>50.11274404683635</td><td>0.12899648</td><td>-82.47099559366372</td><td>0.13215502</td><td>0.8174163710899136</td><td>0.12729028</td><td>6.4216714</td><td>2.433532</td><td>-2.1550964775786294</td><td>0.16578002</td><td>-1.1303261756019751</td><td>0.17169374</td><td>0.08918264</td><td>0.028687706</td><td>-0.44706726</td><td>-0.19735992</td><td>0.15540943</td><td>-0.19572504</td><td>-0.33579102</td><td>0.13299584</td><td>-0.30283007</td><td>-0.071568094</td><td>320</td><td>0</td><td>316</td><td>4</td><td>-0.7446186</td><td>314.3568</td><td>0.0</td><td>0.0</td><td>95</td><td>False</td><td>--</td><td>1.3203363</td><td>0.037819445</td><td>-0.0070618787</td><td>-0.056960065</td><td>-0.14570883</td><td>-0.07691118</td><td>0.17697795</td><td>36</td><td>25</td><td>0.24675877</td><td>39</td><td>16</td><td>0</td><td>0.0014375054</td><td>134.4607</td><td>1</td><td>0</td><td>0.96918064</td><td>0.09213306</td><td>0.11501056</td><td>0.041039255</td><td>0.16774</td><td>8.217519</td><td>68.48356</td><td>6.95129</td><td>15.767304</td><td>False</td><td>332</td><td>721.8345843475561</td><td>1.2119545</td><td>595.59546</td><td>18.541273</td><td>35</td><td>193.87579116589637</td><td>12.574973</td><td>15.417591</td><td>19.619734</td><td>36</td><td>789.3655676039682</td><td>10.470514</td><td>75.38938</td><td>17.5047</td><td>1.3621422</td><td>0</td><td>0</td><td>0</td><td>1</td><td>0</td><td>2.115034</td><td>1.0784607</td><td>1.0365734</td><td>--</td><td>--</td><td>--</td><td>--</td><td>--</td><td>--</td><td>--</td><td>--</td><td>--</td><td>--</td><td>--</td><td>--</td><td>--</td><td>--</td><td>--</td><td>--</td><td>--</td><td>--</td><td>--</td><td>--</td><td>--</td><td>--</td><td>NOT_AVAILABLE</td><td>297.50413080687866</td><td>-33.015990666659626</td><td>285.5430304758237</td><td>-71.72534142818934</td><td>False</td><td>False</td><td>0</td><td>False</td><td>False</td><td>False</td><td>False</td><td>False</td><td>True</td><td>False</td><td>False</td><td>1.0742204e-13</td><td>5.2186e-13</td><td>0.99993527</td><td>3568.1572</td><td>3556.8667</td><td>3581.746</td><td>4.4145</td><td>4.404</td><td>4.4355</td><td>-1.1344</td><td>-1.1661</td><td>-1.0992</td><td>707.911</td><td>685.8367</td><td>731.4584</td><td>0.3422</td><td>0.3038</td><td>0.3823</td><td>0.2352</td><td>0.2087</td><td>0.2627</td><td>0.1354</td><td>0.1203</td><td>0.1508</td><td>MARCS</td><td>0.036238903097635514</td></tr>\n",
       "<tr><td>1636148068921376768</td><td>Gaia DR3 4618694481637279744</td><td>4618694481637279744</td><td>1471291533</td><td>2016.0</td><td>49.564835898623905</td><td>0.5797563</td><td>-82.46108541335231</td><td>0.56099933</td><td>0.2997589525106484</td><td>0.57141584</td><td>0.52458984</td><td>12.689912</td><td>9.389598593388492</td><td>0.6959466</td><td>8.536352072742245</td><td>0.7116888</td><td>-0.077033564</td><td>0.095371485</td><td>-0.36857575</td><td>-0.09452703</td><td>0.014901947</td><td>-0.063315876</td><td>-0.18519531</td><td>0.08439507</td><td>-0.12348353</td><td>-0.08032213</td><td>228</td><td>0</td><td>227</td><td>1</td><td>-0.7178887</td><td>219.08058</td><td>0.0</td><td>0.0</td><td>95</td><td>False</td><td>--</td><td>1.431615</td><td>0.19105919</td><td>-0.108689874</td><td>-0.22734979</td><td>-0.17786556</td><td>0.039390802</td><td>0.27820534</td><td>26</td><td>21</td><td>1.0226401</td><td>29</td><td>11</td><td>1</td><td>0.009985221</td><td>150.45453</td><td>0</td><td>0</td><td>0.96455795</td><td>0.12299735</td><td>0.0639541</td><td>0.013085194</td><td>0.31731516</td><td>-33.50224</td><td>51.293526</td><td>-49.720592</td><td>14.079687</td><td>False</td><td>252</td><td>122.6620751833805</td><td>0.84463376</td><td>145.22516</td><td>20.465591</td><td>22</td><td>45.613169546056426</td><td>6.22359</td><td>7.329077</td><td>21.190817</td><td>24</td><td>124.91508742472247</td><td>12.439673</td><td>10.041669</td><td>19.50636</td><td>1.390228</td><td>0</td><td>0</td><td>0</td><td>0</td><td>0</td><td>1.6844578</td><td>0.72522545</td><td>0.95923233</td><td>--</td><td>--</td><td>--</td><td>--</td><td>--</td><td>--</td><td>--</td><td>--</td><td>--</td><td>--</td><td>--</td><td>--</td><td>--</td><td>--</td><td>--</td><td>--</td><td>--</td><td>--</td><td>--</td><td>--</td><td>--</td><td>--</td><td>NOT_AVAILABLE</td><td>297.5625260521877</td><td>-33.06949534994429</td><td>285.70073951528</td><td>-71.67236549941964</td><td>False</td><td>False</td><td>0</td><td>False</td><td>False</td><td>False</td><td>False</td><td>False</td><td>False</td><td>False</td><td>False</td><td>1.145333e-09</td><td>3.0358287e-09</td><td>0.99999315</td><td>--</td><td>--</td><td>--</td><td>--</td><td>--</td><td>--</td><td>--</td><td>--</td><td>--</td><td>--</td><td>--</td><td>--</td><td>--</td><td>--</td><td>--</td><td>--</td><td>--</td><td>--</td><td>--</td><td>--</td><td>--</td><td></td><td>0.036543288617895436</td></tr>\n",
       "<tr><td>1636148068921376768</td><td>Gaia DR3 4618690942584228608</td><td>4618690942584228608</td><td>1212024173</td><td>2016.0</td><td>50.11296846786877</td><td>0.64683944</td><td>-82.47307514868204</td><td>0.7083331</td><td>0.03881268456143078</td><td>0.73103034</td><td>0.05309312</td><td>13.397249</td><td>12.248395441644604</td><td>0.9655085</td><td>5.4279926613324125</td><td>1.1590054</td><td>-0.08724903</td><td>0.073184215</td><td>-0.4284183</td><td>0.017765323</td><td>0.19505927</td><td>0.101248324</td><td>-0.46303666</td><td>0.28302225</td><td>-0.5550809</td><td>-0.4897299</td><td>195</td><td>0</td><td>193</td><td>2</td><td>1.5286345</td><td>227.29367</td><td>0.0</td><td>0.0</td><td>95</td><td>False</td><td>--</td><td>1.2997715</td><td>0.19020095</td><td>-0.059474226</td><td>-0.06389937</td><td>-0.15418063</td><td>-0.003077494</td><td>0.1081519</td><td>22</td><td>17</td><td>1.8617755</td><td>25</td><td>8</td><td>0</td><td>0.08498318</td><td>127.03185</td><td>0</td><td>0</td><td>1.0782478</td><td>0.13794143</td><td>0.19725752</td><td>0.11974196</td><td>0.1820234</td><td>38.30368</td><td>53.35224</td><td>3.2353332</td><td>12.102983</td><td>False</td><td>209</td><td>112.53097821723655</td><td>0.8713764</td><td>129.14163</td><td>20.559187</td><td>15</td><td>56.680408325389095</td><td>6.636634</td><td>8.540536</td><td>20.95496</td><td>20</td><td>129.4163157561266</td><td>12.86186</td><td>10.062021</td><td>19.467922</td><td>1.6537378</td><td>0</td><td>0</td><td>0</td><td>0</td><td>0</td><td>1.4870377</td><td>0.39577293</td><td>1.0912647</td><td>--</td><td>--</td><td>--</td><td>--</td><td>--</td><td>--</td><td>--</td><td>--</td><td>--</td><td>--</td><td>--</td><td>--</td><td>--</td><td>--</td><td>--</td><td>--</td><td>--</td><td>--</td><td>--</td><td>--</td><td>--</td><td>--</td><td>NOT_AVAILABLE</td><td>297.50569732549565</td><td>-33.01437822890488</td><td>285.5375814231553</td><td>-71.72415581996016</td><td>False</td><td>False</td><td>0</td><td>False</td><td>False</td><td>False</td><td>False</td><td>False</td><td>False</td><td>False</td><td>False</td><td>3.5615716e-10</td><td>1.2070911e-09</td><td>0.9999935</td><td>--</td><td>--</td><td>--</td><td>--</td><td>--</td><td>--</td><td>--</td><td>--</td><td>--</td><td>--</td><td>--</td><td>--</td><td>--</td><td>--</td><td>--</td><td>--</td><td>--</td><td>--</td><td>--</td><td>--</td><td>--</td><td></td><td>0.03677285123489978</td></tr>\n",
       "</table></div>"
      ],
      "text/plain": [
       "<Table length=50>\n",
       "    solution_id             DESIGNATION          ...          dist        \n",
       "                                                 ...                      \n",
       "       int64                   object            ...        float64       \n",
       "------------------- ---------------------------- ... ---------------------\n",
       "1636148068921376768 Gaia DR3 4618691866001416832 ... 0.0002568609942939143\n",
       "1636148068921376768 Gaia DR3 4618691870296684288 ...  0.003058598755241895\n",
       "1636148068921376768 Gaia DR3 4618691664139893632 ...   0.00667996923464313\n",
       "1636148068921376768 Gaia DR3 4618691831641848960 ...  0.009966597189109923\n",
       "1636148068921376768 Gaia DR3 4618691629779000064 ...   0.01400627066080683\n",
       "1636148068921376768 Gaia DR3 4618691767219109888 ...  0.015596725921731992\n",
       "1636148068921376768 Gaia DR3 4618691629779000960 ...  0.016756439060282638\n",
       "1636148068921376768 Gaia DR3 4618691629780158848 ...  0.016832148941004592\n",
       "1636148068921376768 Gaia DR3 4618691629778524416 ...  0.017121242722608485\n",
       "                ...                          ... ...                   ...\n",
       "1636148068921376768 Gaia DR3 4618691801578844928 ...    0.0346556232663122\n",
       "1636148068921376768 Gaia DR3 4618694855298834688 ...  0.034748422003183295\n",
       "1636148068921376768 Gaia DR3 4618692072161369600 ...   0.03476142045583419\n",
       "1636148068921376768 Gaia DR3 4618694859595553920 ...    0.0350765075925028\n",
       "1636148068921376768 Gaia DR3 4618692076456746496 ...   0.03518389353299127\n",
       "1636148068921376768 Gaia DR3 4618692003440556032 ...  0.036078367489494424\n",
       "1636148068921376768 Gaia DR3 4618690938288647552 ...  0.036238903097635514\n",
       "1636148068921376768 Gaia DR3 4618694481637279744 ...  0.036543288617895436\n",
       "1636148068921376768 Gaia DR3 4618690942584228608 ...   0.03677285123489978"
      ]
     },
     "execution_count": 108,
     "metadata": {},
     "output_type": "execute_result"
    }
   ],
   "source": [
    "j.get_results()"
   ]
  },
  {
   "cell_type": "markdown",
   "id": "28e69b83-4ab9-4359-941b-6944dcdbf890",
   "metadata": {},
   "source": [
    "# then: inject and recover?\n",
    "- if this doesn't take too long, explain why injection and recovery matters — i.e., we want to know how sensitive we *would* be to a certain signal strength.\n",
    "- inject transit signals with the batman package\n",
    "- try to recover them with the simple pipeline that we wrote above. parallelize on multiple cores to make this faster. that's the TIKE angle."
   ]
  },
  {
   "cell_type": "code",
   "execution_count": 124,
   "id": "98f5845c-514f-4f61-8b35-c16c496c563d",
   "metadata": {},
   "outputs": [
    {
     "ename": "NameError",
     "evalue": "name 'batman' is not defined",
     "output_type": "error",
     "traceback": [
      "\u001b[0;31m---------------------------------------------------------------------------\u001b[0m",
      "\u001b[0;31mNameError\u001b[0m                                 Traceback (most recent call last)",
      "Cell \u001b[0;32mIn[124], line 1\u001b[0m\n\u001b[0;32m----> 1\u001b[0m \u001b[43mbatman\u001b[49m\n",
      "\u001b[0;31mNameError\u001b[0m: name 'batman' is not defined"
     ]
    }
   ],
   "source": [
    "batman"
   ]
  },
  {
   "cell_type": "markdown",
   "id": "c8532faa-c488-45af-8d00-b9816918473c",
   "metadata": {},
   "source": [
    "# Then: account for completeness (transit probability)\n",
    "- explain that not all planets transit. emphasize that this is simply a geometric effect, and we can account for it quickly and simply with a geometric factor.\n",
    "- (if we want, we could derive this factor — it's maybe a 5 line derivation)\n",
    "- tike angle: parallelize."
   ]
  },
  {
   "cell_type": "code",
   "execution_count": null,
   "id": "76a25102-35e0-4538-ab11-59f466d557ee",
   "metadata": {},
   "outputs": [],
   "source": [
    "a = np.power(G * Ms  * P**2 / (4 * np.pi**2), 1/3)\n",
    "Ptr = 0.9 * (Rs + Rp)/a\n",
    "# draw 100 (Rp, P) pairs."
   ]
  },
  {
   "cell_type": "markdown",
   "id": "e9bba5e3-4f30-49ee-b9b6-52727430dd1b",
   "metadata": {},
   "source": [
    "# then: calculate occurrence rate!\n",
    "- show an equation that demonstrates all the multiplicative factors and how they relate\n",
    "- plot the histograms demonstrating the occurrence rate (with error bars!) of planets as a function of, e..g, orbital period\n",
    "- demonstrate that this lines up or doesn't line up with the expectations from the literature\n",
    "- if these are their own notebooks: the TIKE angle is"
   ]
  },
  {
   "cell_type": "code",
   "execution_count": 165,
   "id": "6850e71f-f34f-4c8b-a2ee-fa869ecfce9d",
   "metadata": {},
   "outputs": [
    {
     "data": {
      "text/plain": [
       "4"
      ]
     },
     "execution_count": 165,
     "metadata": {},
     "output_type": "execute_result"
    }
   ],
   "source": [
    "import os\n",
    "os.cpu_count() "
   ]
  },
  {
   "cell_type": "code",
   "execution_count": null,
   "id": "27a0727e-f335-4df3-a76a-78a10669c6c7",
   "metadata": {},
   "outputs": [],
   "source": []
  }
 ],
 "metadata": {
  "kernelspec": {
   "display_name": "TESS Environment",
   "language": "python",
   "name": "tess"
  },
  "language_info": {
   "codemirror_mode": {
    "name": "ipython",
    "version": 3
   },
   "file_extension": ".py",
   "mimetype": "text/x-python",
   "name": "python",
   "nbconvert_exporter": "python",
   "pygments_lexer": "ipython3",
   "version": "3.11.9"
  }
 },
 "nbformat": 4,
 "nbformat_minor": 5
}
