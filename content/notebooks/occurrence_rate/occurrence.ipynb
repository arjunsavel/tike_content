{
 "cells": [
  {
   "cell_type": "markdown",
   "id": "0902fc34-6f3f-4a27-92ea-49712f8b8375",
   "metadata": {},
   "source": [
    "# Notebook X: performing large searches for exoplanet (candidates) with TIKE"
   ]
  },
  {
   "cell_type": "markdown",
   "id": "3fc86a46-28c0-45a8-9d34-650b04ce23dd",
   "metadata": {},
   "source": [
    "## Learning objectives\n",
    "\n",
    "[td: be more specific with our goals, now that we have the end written. important to note cloud access (rather than download)]\n",
    "- rapidly download large amounts of TESS data\n",
    "- work with the large TESS data collections"
   ]
  },
  {
   "cell_type": "markdown",
   "id": "69e826c9-066b-4349-bab3-91bd2631e7c0",
   "metadata": {},
   "source": [
    "## Introduction\n",
    "Studying exoplanet demographics (the frequency of different types of exoplanets) lets us tackle some of the biggest questions in exoplanet science: How do planets form? How do they evolve? Are there any exoplanets that are like the Earth? \n",
    "\n",
    "TIKE is an excellent resource for computing occurrence rates. There are other resources that explain TIKE elsewhere; we summarize some of the main TIKE benefits in this case below:\n",
    "\n",
    "- your computations are performed \"close\" to MAST data, meaning that it's quicker to access lightcurves.\n",
    "- you don't have to download data to your own computer, saving *storage* too.\n",
    "- you don't have to use your own computational resources.\n",
    "- in most cases, the scientific computing environments are already set up. you don't have to spend time wrangling with environments.\n",
    "\n",
    "\n",
    "[todo: increase or decrease the amount that TIKE is talked up?]\n",
    "\n",
    "[td: this is an ok amount of talking up]\n",
    "\n",
    "\n",
    "In this notebook, we'll take one of the first major steps to calculating occurrence rates: searching a large selection of lightcurves for exoplanets. Note: our abridged version may produce spurious planetary candidates! While we favor a concise narrative and rapid notebook execution time here, we'll note when applicable where a more robust approach should be taken for, e.g., a scientific publication."
   ]
  },
  {
   "cell_type": "markdown",
   "id": "7c4dc794-b0e2-4df3-90da-afa4d2782bc3",
   "metadata": {},
   "source": [
    "# 1. Import packages, set constants\n",
    "\n",
    "Before diving into planet-finding, we will import some necessary packages.\n",
    "\n",
    "- `astropy` contains a number of utility functions for working with astronomical data.\n",
    "- `astroquery` lets us easily query the astronomical databases that contain the TESS lightcurves.\n",
    "- `numpy` is used for array manipulation.\n",
    "- `matplotlib.pyplot` is used to display images and plot datasets.\n",
    "- `tqdm` is a lightweight progress bar that we can use to track how long our calculations will take.\n",
    "- `pandas` let us interact easily with CSV files that we'll be downliading.\n",
    "- `os` and `concurrent` let us make informed choiced when multithreading."
   ]
  },
  {
   "cell_type": "code",
   "execution_count": null,
   "id": "659fd8c8-8545-49d7-b80b-b36bd05414dc",
   "metadata": {},
   "outputs": [],
   "source": [
    "from astropy.io import fits\n",
    "import astropy.units as u\n",
    "import astropy.constants as const\n",
    "from astropy.timeseries import BoxLeastSquares\n",
    "\n",
    "\n",
    "from astroquery.mast import Observations\n",
    "from astroquery.mast import Catalogs\n",
    "from astroquery.exceptions import InvalidQueryError\n",
    "\n",
    "\n",
    "import numpy as np\n",
    "import matplotlib.pyplot as plt\n",
    "import pandas as pd\n",
    "from tqdm import tqdm\n",
    "\n",
    "\n",
    "import os\n",
    "from concurrent.futures import ThreadPoolExecutor, as_completed"
   ]
  },
  {
   "cell_type": "markdown",
   "id": "3726bc72-e11b-4e64-a33c-e0c6a7321fa7",
   "metadata": {},
   "source": [
    "We will also *install* one package into our environment: the `batman` package. This tool will let us easily model exoplanet transits during our planet searches.\n",
    "\n",
    "**Note**: this installation will not persist after restarting TIKE. See the [installation instructions](~/references/tike_content-ref/markdown/software-installed.md) to do a persistent installation."
   ]
  },
  {
   "cell_type": "code",
   "execution_count": null,
   "id": "38559c2c-86e7-4c4e-bd33-7d1f91d25261",
   "metadata": {},
   "outputs": [],
   "source": [
    "!pip install batman-package"
   ]
  },
  {
   "cell_type": "markdown",
   "id": "0b5061df-abab-441c-bab3-9b08535e11f9",
   "metadata": {},
   "source": [
    "With our package installed, we can safely import it."
   ]
  },
  {
   "cell_type": "code",
   "execution_count": null,
   "id": "dd979d9c-c359-44ca-8557-6b8b3dac557e",
   "metadata": {},
   "outputs": [],
   "source": [
    "import batman"
   ]
  },
  {
   "cell_type": "markdown",
   "id": "e2038b94-b668-4e40-ab96-46ea680c7974",
   "metadata": {},
   "source": [
    "We'll now set a few physical constants and conversion factors so that we can use them later on."
   ]
  },
  {
   "cell_type": "code",
   "execution_count": null,
   "id": "3d617f71-973c-4a09-8491-280a9ba98215",
   "metadata": {},
   "outputs": [],
   "source": [
    "G = const.G.si.value\n",
    "days_to_seconds = (u.day).to(u.s)\n",
    "r_earth_to_meters = (u.R_earth).to(u.m)\n",
    "m_sun_kg = (u.M_sun).to(u.kg)\n",
    "r_sun_m = (u.R_sun).to(u.m)"
   ]
  },
  {
   "cell_type": "markdown",
   "id": "65dc427e-ac4f-4dd0-b5aa-f8e41372c26a",
   "metadata": {},
   "source": [
    "We'll also make sure that we retrieve cloud files from AWS, making our data access stage much faster."
   ]
  },
  {
   "cell_type": "code",
   "execution_count": null,
   "id": "462e55df-4686-40c4-bc16-d57c0633a4fe",
   "metadata": {},
   "outputs": [],
   "source": [
    "# Important: ensure files are retrieved from AWS \n",
    "Observations.enable_cloud_dataset(provider='AWS')"
   ]
  },
  {
   "cell_type": "markdown",
   "id": "9ac0d974-0a49-4d63-b711-783e21a8623f",
   "metadata": {},
   "source": [
    "# 2. Find stars\n",
    "\n",
    "Generally, the first step to finding planets is figuring out which host stars you want to search for orbiting planets. In this study, we want to find the occurrence of hot Jupiters around Sun-like stars. We'll make some cuts so that we're looking for bright, high-gravity, solar-mass stars:\n",
    "\n",
    "- *bright*: TESS was designed to look for transits around bright, nearby stars. These stars' TESS data will have high signal to noise ratios, so we have better chances of finding planetary signals in them.\n",
    "- *high-gravity*: particularly low-gravity stars tend to be evolved off the stellar main-sequence, and therefore not very Sun-like.\n",
    "- *solar-mass*: solar-mass stars on the stellar main sequence tend to be quite solar.\n",
    "\n",
    "To find these stars, we'll query the TESS Candidate Target List (CTL) — a list of stars pre-selected by the TESS team to be likely good targets for transit detection (e.g., bright, low flux contamination)."
   ]
  },
  {
   "cell_type": "code",
   "execution_count": null,
   "id": "a51a6f8f-5ae6-4c4b-80cc-b6ca1ebdfd4b",
   "metadata": {},
   "outputs": [],
   "source": [
    "# this cell will take ~30 seconds to run\n",
    "catalog_data = Catalogs.query_criteria(catalog=\"Ctl\",\n",
    "                                       Tmag=[0, 10.5], # remember, lower magnitudes are brighter than higher ones!\n",
    "                                      logg=[4.1,400], # solar logg ~ 4.4\n",
    "                                      mass=[0.8, 1.05]) # these masses are in solar radii"
   ]
  },
  {
   "cell_type": "markdown",
   "id": "5d59d0fd-1d63-4c82-852b-f413200a9254",
   "metadata": {},
   "source": [
    "Let's take a look at this catalog data."
   ]
  },
  {
   "cell_type": "code",
   "execution_count": null,
   "id": "0d474635-ff00-492c-9b50-f4fdda79b8fe",
   "metadata": {},
   "outputs": [],
   "source": [
    "catalog_data"
   ]
  },
  {
   "cell_type": "markdown",
   "id": "6eea2f53-c663-4bdd-aeca-b4333b1f8b55",
   "metadata": {},
   "source": [
    "This is a pretty long table, totaling 53056 stars, with many columns of information about each star.\n",
    "\n",
    "To get a better sense of the data products we'll be working with, let's access a single lightcurve associated with one of these stars."
   ]
  },
  {
   "cell_type": "code",
   "execution_count": null,
   "id": "b20ccd8a-f350-4f7d-ac7c-08ce1d4b4b69",
   "metadata": {},
   "outputs": [],
   "source": [
    "# download a single star from this catalog to inspect the data type we're working with.\n",
    "TESS_table = Observations.get_cloud_uris(target_name=catalog_data['ID'][2]\n",
    "                                         , obs_collection=\"TESS\"\n",
    "                                         , dataproduct_type='timeseries'\n",
    "                                         ) \n",
    "# get data products\n",
    "data_products = Observations.get_product_list(TESS_table) \n",
    "\n",
    "# filter for light curve data only\n",
    "filtered = Observations.filter_products(data_products, productType=\"SCIENCE\"\n",
    "                                        , productSubGroupDesciption = \"LC\")\n",
    "\n",
    "# Get the cloud uri for these files\n",
    "lc_uri = Observations.get_cloud_uris(lc_prod)[0]\n",
    "\n",
    "#open the lc file\n",
    "lc_fits = fits.open(lc_uri, use_fsspec=True, fsspec_kwargs={\"anon\": True})"
   ]
  },
  {
   "cell_type": "markdown",
   "id": "77ebe316-f4e2-4175-93b8-b3c93a03662d",
   "metadata": {},
   "source": [
    "Great! This file is now loaded as `lc_fits`. Now, let's examine the columns available to us in this lightcurve."
   ]
  },
  {
   "cell_type": "code",
   "execution_count": null,
   "id": "d3f54e36-1a4c-4e58-b0c5-fde79067c7f5",
   "metadata": {},
   "outputs": [],
   "source": [
    "lc = lc_fits[1].data\n",
    "lc.columns"
   ]
  },
  {
   "cell_type": "markdown",
   "id": "319a5962-974d-46e4-985d-1b7de3560539",
   "metadata": {},
   "source": [
    "There are two flux columns: SAP flux and PDCSAP flux. The SAP flux is closer to raw TESS data. The PDCSAP_FLUX is derived from SAP flux, but it's been cleaned of longer-term trends.\n",
    "\n",
    "Let's plot both types of flux to get a sense of their differences."
   ]
  },
  {
   "cell_type": "code",
   "execution_count": null,
   "id": "a82ac177-eabc-45fe-8aaa-86c7d5471d52",
   "metadata": {},
   "outputs": [],
   "source": [
    "sapflux = lc['SAP_FLUX']\n",
    "pdcflux = lc['PDCSAP_FLUX']\n",
    "time_lc = lc['TIME']\n",
    "\n",
    "fig = plt.figure(figsize = (11,4))\n",
    "\n",
    "fig.add_subplot(211)\n",
    "plt.plot(time_lc, sapflux,'.', label = 'SAP', color = \"gold\")\n",
    "plt.legend(loc = 'lower left')\n",
    "plt.ylabel(\"FLUX (e-/s)\")\n",
    "\n",
    "fig.add_subplot(212)\n",
    "plt.plot(time_lc, pdcflux,'.', label = 'PDC', color = \"red\")\n",
    "plt.legend(loc = 'lower left')\n",
    "plt.ylabel(\"FLUX (e-/s)\")\n",
    "plt.xlabel('TIME  (BJD-2457000)')"
   ]
  },
  {
   "cell_type": "markdown",
   "id": "da01b917-4878-4adf-84ed-0c518eac48dd",
   "metadata": {},
   "source": [
    "This definitely looks like a TESS lightcurve! The PDC data, as expected, are smoother and seem more evenly distributed about a median value."
   ]
  },
  {
   "cell_type": "markdown",
   "id": "746bd355-fba3-467f-baa8-1bfe846d9886",
   "metadata": {},
   "source": [
    "# Next: aggregate all the lightcurves!\n",
    "\n",
    "Now we know how to access a single lightcurve. To calculate our occurrence rates, we'll need to download lightcurves from many stars. \n",
    "\n",
    "The neatest way to do this is to write a function that accesses TESS lightcurves, then loop over that function for all the stars we want to query. Along the way, we'll incorporate a few tricks to speed things up.\n",
    "\n",
    "Instead of, e.g., saving the data as files, it's more efficient to keep all of this data in RAM as we go. A neat way to do this is to define a class for our data, fetch the data with a method of that class, then assign the data to an attribute of that class. This object-oriented approach avoids extra input/output (I/O) time and maintains clean code design."
   ]
  },
  {
   "cell_type": "code",
   "execution_count": null,
   "id": "f4c72a70-df4a-4da5-b2a8-6417b18fa7f3",
   "metadata": {},
   "outputs": [],
   "source": [
    "class LightcurveData:\n",
    "    def __init__(self, catalog_id):\n",
    "        \"\"\"\n",
    "        Initializes the instance.\n",
    "        \"\"\"\n",
    "        self.catalog_id = catalog_id # assign catalog ID to the object\n",
    "\n",
    "    def fetch_and_save_data(self):\n",
    "        \"\"\"\n",
    "        Accesses and saves data from a TESS target.\n",
    "    \n",
    "        Inputs\n",
    "        ------\n",
    "            :catalog_id: (int) TESS Input Catalog (TIC) ID.\n",
    "        \"\"\"\n",
    "        TESS_table = Observations.query_criteria(target_name=self.catalog_id\n",
    "                                                 , obs_collection=\"TESS\"\n",
    "                                                 , dataproduct_type='timeseries'\n",
    "                                                 ) \n",
    "        try:\n",
    "            data_products = Observations.get_product_list(TESS_table) \n",
    "        except InvalidQueryError:\n",
    "            self.pdcflux = np.nan\n",
    "            self.pdcflux_err = np.nan\n",
    "            self.time_lc = np.nan\n",
    "            return\n",
    "            \n",
    "            \n",
    "        # Keep only the science products\n",
    "        filtered = Observations.filter_products(data_products\n",
    "                                                , productType=\"SCIENCE\")\n",
    "        \n",
    "        # filter\n",
    "        lc_prod = Observations.filter_products(data_products  \n",
    "                                              , productSubGroupDescription = \"LC\")\n",
    "        \n",
    "        # Get the cloud uris for these files\n",
    "        lc_uri = Observations.get_cloud_uris(lc_prod[0])\n",
    "    \n",
    "        # open the lc file\n",
    "        lc_fits = fits.open(lc_uri, use_fsspec=True, fsspec_kwargs={\"anon\": True})\n",
    "        \n",
    "        # assign the data to this instance \n",
    "        lc = lc_fits[1].data\n",
    "        sapflux = lc['SAP_FLUX'] #SAP flux column\n",
    "        self.pdcflux = lc['PDCSAP_FLUX'] #PDCSAP flux column\n",
    "        self.pdcflux_err = lc['PDCSAP_FLUX_ERR'] # flux error column\n",
    "        self.time_lc = lc['TIME'] #time column"
   ]
  },
  {
   "cell_type": "markdown",
   "id": "2685e2ac-26e3-4a6d-bb02-f4d29782928b",
   "metadata": {},
   "source": [
    "Let's test this method out on a single star."
   ]
  },
  {
   "cell_type": "code",
   "execution_count": null,
   "id": "8a7a1990-0c6c-4a45-97ec-a3e2b8bc5e53",
   "metadata": {},
   "outputs": [],
   "source": [
    "lightcurvedata = LightcurveData(catalog_data['ID'][2])\n",
    "lightcurvedata.fetch_and_save_data()"
   ]
  },
  {
   "cell_type": "markdown",
   "id": "cf0a59e2-4cd7-437f-99e6-77fb265f5b02",
   "metadata": {},
   "source": [
    "Let's check that this function worked correctly by checking that the method performed as expected."
   ]
  },
  {
   "cell_type": "code",
   "execution_count": null,
   "id": "508b434d-c819-43d4-a50f-65083a60b85f",
   "metadata": {},
   "outputs": [],
   "source": [
    "lightcurvedata.time_lc, lightcurvedata.pdcflux_err"
   ]
  },
  {
   "cell_type": "markdown",
   "id": "43507ac4-1691-4aaa-8b1b-f16548cecfd0",
   "metadata": {},
   "source": [
    "Great! Our data has been downloaded and assigned as an attribute to an object.\n",
    "\n",
    "Now, we want to *parallelize* our computation. What this means is we want to access multiple lightcurve files simultaneously.\n",
    "\n",
    "We'll use this with the Python multithreading package. Multithreading is a very rich and complex subject (link something here), but for our purposes we can just think of it as splitting up our machine into different sections that each perform a separate task. Because our option is largely limited by \n",
    "\n",
    "[td: link something here, talk about the deets a little bit more. maybe mention that you typically get 4 cores in TIKE?]"
   ]
  },
  {
   "cell_type": "code",
   "execution_count": null,
   "id": "52739400-6d46-4628-8491-47b3a7854607",
   "metadata": {},
   "outputs": [],
   "source": [
    "# explain how to set the max number of workers\n",
    "os.cpu_count() \n"
   ]
  },
  {
   "cell_type": "markdown",
   "id": "6656d749-e517-4237-a686-ea8b330f389b",
   "metadata": {},
   "source": [
    "Now for a short function that will create an object for a catalog ID, download the data, and return the *object*.\n",
    "\n",
    "We'll have this function return both the TIC ID and the object itself so that it can be sorted even if we work through our catalog asynchronously."
   ]
  },
  {
   "cell_type": "code",
   "execution_count": null,
   "id": "7bc14977-07b6-4126-9e55-72c6da8064f2",
   "metadata": {},
   "outputs": [],
   "source": [
    "def return_object(catalog_id):\n",
    "    lightcurvedata = LightcurveData(catalog_id)\n",
    "    lightcurvedata.fetch_and_save_data()\n",
    "    return catalog_id, lightcurvedata"
   ]
  },
  {
   "cell_type": "code",
   "execution_count": null,
   "id": "93a89a37-1247-492b-b1ba-82533bb43954",
   "metadata": {},
   "outputs": [],
   "source": [
    "# Use ThreadPoolExecutor to download files in parallel\n",
    "total_tasks = len(catalog_data['ID'][::100])\n",
    "progress_bar = tqdm(total=total_tasks, position=0, leave=True)\n",
    "\n",
    "max_workers = 5  # Adjust this based on your system's capabilities\n",
    "\n",
    "with ThreadPoolExecutor(max_workers=max_workers) as executor:\n",
    "    futures = [executor.submit(return_object, catalog_id) for catalog_id in catalog_data['ID'][::100]]\n",
    "    for future in as_completed(futures):\n",
    "        progress_bar.update(1)\n",
    "    \n",
    "\n",
    "# now store all the data in a list\n",
    "lightcurve_objects = {}\n",
    "for future in futures:\n",
    "    catalog_id, lightcurvedata = future.result()\n",
    "    lightcurve_objects[catalog_id] = lightcurvedata"
   ]
  },
  {
   "cell_type": "markdown",
   "id": "a265f356-b738-4196-97f3-4730d38481c5",
   "metadata": {},
   "source": [
    "We can access each object now from the `lightcurve_objects` dictionary. Let's check!"
   ]
  },
  {
   "cell_type": "code",
   "execution_count": null,
   "id": "50844d56-75e4-447f-920e-29336d27324d",
   "metadata": {},
   "outputs": [],
   "source": [
    "lightcurve_objects[catalog_data['ID'][0]].time_lc"
   ]
  },
  {
   "cell_type": "markdown",
   "id": "b7ee9b5b-ac18-4f2c-862a-c0a2562eeec5",
   "metadata": {},
   "source": [
    "Nice! This our list of of observation times for this target star."
   ]
  },
  {
   "cell_type": "markdown",
   "id": "c10f0eb0-3950-4b45-9d05-93d3ea2bc838",
   "metadata": {},
   "source": [
    "# Next: search the lightcurves for planets.\n",
    "We now have our processed data products. The next step is to search them for planets!\n",
    "\n",
    "One of the standard ways to do this is with the [Box-Least Squares algorithm](https://arxiv.org/abs/astro-ph/0206099). This approach takes advantage of the facts that 1) planetary transits are expected to be periodic, and 2) transits are more or less shaped like boxes (excluding effects like limb-darkening). Loosely, the algorithm works similarly to the Lomb-Scargle periodogram, with the key difference that the signal being tested is a box car, instead of a sine wave.\n",
    "\n",
    "Let's load in a light curve and test out the algorithm."
   ]
  },
  {
   "cell_type": "code",
   "execution_count": null,
   "id": "0c560eb9-6d7d-45fc-8ea7-1dc84de1b9ee",
   "metadata": {},
   "outputs": [],
   "source": [
    "time, flux, flux_err  = lightcurve_objects[catalog_data['ID'][0]].time_lc,  \\\n",
    "                        lightcurve_objects[catalog_data['ID'][0]].pdcflux,  \\\n",
    "                        lightcurve_objects[catalog_data['ID'][0]].pdcflux_err\n",
    "\n",
    "time = time[~np.isnan(flux)]\n",
    "flux_err = flux_err[~np.isnan(flux)]\n",
    "flux = flux[~np.isnan(flux)]\n",
    "model = BoxLeastSquares(time, flux, flux_err)"
   ]
  },
  {
   "cell_type": "markdown",
   "id": "4a210243-c1d6-4f8a-be23-2b16bbb866f9",
   "metadata": {},
   "source": [
    "For this example, we'll search for planets with periods between 0.5 and 10 days. The lower limit is physical: planets can only have periods that are so short before their orbits are unstable. The upper limit is statistical: [Nyquist sampling](https://en.wikipedia.org/wiki/Nyquist%E2%80%93Shannon_sampling_theorem) dictates that you can only detect periodic signals with frequencies at most *half* your observational baseline. That is, you need to be able to detect your signal twice in a dataset in order to measure its period. Because TESS sectors are generally 27 days long, we'll set our upper limit to 13 days. We'll test 1000 trial periods for the purposes of this exploratory notebook."
   ]
  },
  {
   "cell_type": "code",
   "execution_count": null,
   "id": "17738aee-7906-425a-aa8d-35690caf62e6",
   "metadata": {},
   "outputs": [],
   "source": [
    "lower_limit = 0.5 #days\n",
    "upper_limit = 13 # days\n",
    "n_periods_tested = 1000\n",
    "periods = np.linspace(lower_limit, upper_limit, n_periods_tested)  # in units of days."
   ]
  },
  {
   "cell_type": "markdown",
   "id": "ff6e6c8c-b364-4b19-a8b0-c3e2dae74135",
   "metadata": {},
   "source": [
    "To search for the planets, we will need to specify a transit duration. At first, this may seem like a daunting task — will we have to provide another axis to our search?\n",
    "\n",
    "To keep things computationally feasible for this notebook, let's appeal to the original goal: finding hot Jupiters orbiting Sun-like stars. Because we're searching for a specific planet type (with a certain orbital period range) orbiting a certain type of star, there should be an expected transit duration for our search. Let's calculate what that duration is.\n",
    "\n",
    "Assuming a circular orbit, the transit duration is (Seager & Mallén-Ornelas 2003):\n",
    "\n",
    "$$T_{\\rm dur} =\\frac{P}{\\pi} \\arcsin\\bigg{(}\\frac{\\sqrt{1 - a^2/R_{\\star}^2 \\cos^2(i)}}{a^2/R_{\\star}^2\\sin(i)}\\bigg{)},$$\n",
    "\n",
    "where $P$ is the orbital period, $a$ is the semimajor axis, $R_{\\star}$ is the orbital inclination, and $i$ is the orbital inclination.\n",
    "\n",
    "What do we know? We have the mass of the planet and the star, and the orbital period is about a day. From Kepler's third law we can then calculate the semimajor axis. \n",
    "\n",
    "Let's code this up!"
   ]
  },
  {
   "cell_type": "code",
   "execution_count": null,
   "id": "9aa883a5-b0ef-468b-9b59-abaf292622cd",
   "metadata": {},
   "outputs": [],
   "source": [
    "def calc_a_from_period(period, planet_mass, stellar_mass):\n",
    "    \"\"\"\n",
    "\n",
    "    Given the period, uses Kepler's Third Law to calculate the semimajor axis in meters.\n",
    "\n",
    "    Inputs\n",
    "    -----\n",
    "        :period: orbital period of planet (s)\n",
    "        :planet_mass: mass of planet (kg)\n",
    "        :stellar_mass: mass of star (kg)\n",
    "\n",
    "    Outputs\n",
    "    ------\n",
    "        :a: semimajor axis(meters)\n",
    "    \"\"\"\n",
    "    total_mass = planet_mass + stellar_mass\n",
    "    a_cubed = (const.G.si.value * total_mass * period**2) / (4 * np.pi**2)\n",
    "    a = a_cubed**(1/3)\n",
    "    return a"
   ]
  },
  {
   "cell_type": "code",
   "execution_count": null,
   "id": "ba73bd12-d9db-40c9-9921-f75a2209578a",
   "metadata": {},
   "outputs": [],
   "source": [
    "def calc_t_dur(P, a, rstar, i):\n",
    "    \"\"\"\n",
    "    Calculates the transit duration, in seconds, of a planet.\n",
    "\n",
    "    Inputs\n",
    "    ------\n",
    "        :P: the orbital period of the planet, in seconds.\n",
    "        :a: the semimajor axis of the planet, in meters.\n",
    "        :rstar: the radius of the star, in meters.\n",
    "        :i: the inclincation of the planet, in radians. an inclination of 0 is face-on (non-transiting); an inclination of pi/2 is perfectly transiting.\n",
    "    \"\"\"\n",
    "    a_r_2 = (a/rstar)**2\n",
    "    return (P / np.pi) * np.arcsin(np.sqrt(1 - a_r_2 * np.square(np.cos(i))) / (a_r_2 * np.sin(i)))\n",
    "    "
   ]
  },
  {
   "cell_type": "markdown",
   "id": "af9a8aee-73fa-4a81-aef0-7241c2fd3200",
   "metadata": {},
   "source": [
    "[td: there's a lot of code cells here with no narrative. I know you just explained this above; can you find a way to better intersperse the details between code cells?]"
   ]
  },
  {
   "cell_type": "code",
   "execution_count": null,
   "id": "8d35a693-5711-4c12-99c1-47bcd298ea86",
   "metadata": {},
   "outputs": [],
   "source": [
    "period = (3 * u.day).si.value # 1 day orbital period, expressed in seconds\n",
    "planet_mass = (1 * u.M_jup).si.value # jupiter mass\n",
    "stellar_mass = (1 * u.M_sun).si.value # solar mass\n",
    "stellar_radius = (1 * u.R_sun).si.value # solar radius\n",
    "inclination  = np.pi/2 # transiting across the stellar equator\n",
    "\n",
    "a = calc_a_from_period(period, planet_mass, stellar_mass)\n",
    "t_dur = calc_t_dur(period, a, stellar_radius, inclination)\n",
    "\n",
    "(t_dur * u.s).to(u.hour), (t_dur * u.s).to(u.day)"
   ]
  },
  {
   "cell_type": "code",
   "execution_count": null,
   "id": "c03e96bd-6c5b-4423-a99b-c954dc87f5d2",
   "metadata": {},
   "outputs": [],
   "source": [
    "(t_dur * u.s).to(u.day).value"
   ]
  },
  {
   "cell_type": "markdown",
   "id": "6b6ebe46-74f0-414f-91eb-a96858ffb78f",
   "metadata": {},
   "source": [
    "Great! Now let's express this transit duration in days and find our planets."
   ]
  },
  {
   "cell_type": "code",
   "execution_count": null,
   "id": "dd8d59e3-c733-468f-80f7-e32fcad7778c",
   "metadata": {},
   "outputs": [],
   "source": [
    "t_dur = (t_dur * u.s).to(u.day).value\n",
    "t_dur"
   ]
  },
  {
   "cell_type": "code",
   "execution_count": null,
   "id": "204268fb-d0ef-4699-8d88-50333ea97cce",
   "metadata": {},
   "outputs": [],
   "source": [
    "results = model.power(periods, t_dur)  # The second argument is the duration of the transit (in days)"
   ]
  },
  {
   "cell_type": "markdown",
   "id": "8a60dd08-3ece-445d-b1b4-88aadf4a2ec3",
   "metadata": {},
   "source": [
    "We can access the best-fitting period from our planet search with the below cell."
   ]
  },
  {
   "cell_type": "code",
   "execution_count": null,
   "id": "5fd55be3-e9ec-49ad-9b67-630f5486360b",
   "metadata": {},
   "outputs": [],
   "source": [
    "best_period = results.period[np.argmax(results.power)]\n",
    "print(\"Best-fit period:\", best_period)"
   ]
  },
  {
   "cell_type": "markdown",
   "id": "3d87477f-b5d4-469c-8d10-d9c28e670fd3",
   "metadata": {},
   "source": [
    "Now let's plot up the signal-to-noise of the tested planetary signals at all tested periods, paying special attention to the best-fitting period."
   ]
  },
  {
   "cell_type": "code",
   "execution_count": null,
   "id": "34a8ffd1-56f2-4920-b378-7f9a15b907eb",
   "metadata": {},
   "outputs": [],
   "source": [
    "plt.plot(results.period, results.depth_snr)\n",
    "plt.axvline(best_period, color='black', linestyle='--', label='Best-fitting period')\n",
    "plt.xlabel('Period (days)')\n",
    "plt.ylabel('Signal S/N')\n",
    "plt.legend(frameon=False)"
   ]
  },
  {
   "cell_type": "markdown",
   "id": "41038e50-41e0-4c82-8982-c37ce23300f5",
   "metadata": {},
   "source": [
    "[td: comment about this graph: what's awesome? is that what we expected to see?]\n",
    "Awesome! Now let's wrap this code in a function and apply it to all the selected planets."
   ]
  },
  {
   "cell_type": "code",
   "execution_count": null,
   "id": "dc64f4be-baa6-439d-ad60-7ec442bdfe46",
   "metadata": {},
   "outputs": [],
   "source": [
    "def do_bls(time, flux, flux_err):\n",
    "    model = BoxLeastSquares(time, flux, flux_err)\n",
    "    results = model.power(periods, 0.1)  # The second argument is the duration of the transit (in days)\n",
    "    max_power = np.argmax(results.power)\n",
    "    stats = model.compute_stats(results.period[max_power],\n",
    "                                results.duration[max_power],\n",
    "                                results.transit_time[max_power])\n",
    "\n",
    "    # todo: check even and odd\n",
    "    return results, stats"
   ]
  },
  {
   "cell_type": "markdown",
   "id": "790db896-1102-40dc-a92f-104060118f41",
   "metadata": {},
   "source": [
    "[td: again, lots of code without much narrative in these cells and the following ones. a little bit of commentary goes a long way for newbies]"
   ]
  },
  {
   "cell_type": "code",
   "execution_count": null,
   "id": "a3f9ae42-1ac7-4241-a0f5-0bd5e595670f",
   "metadata": {},
   "outputs": [],
   "source": [
    "def do_inversion_test(time, flux, flux_err):\n",
    "    inverted_flux = -1 * flux + 2* np.mean(flux)\n",
    "    results, stats = do_bls(time, inverted_flux, flux_err)\n",
    "    return results, stats"
   ]
  },
  {
   "cell_type": "code",
   "execution_count": null,
   "id": "e849acbf-82a5-4a8f-9356-3b43e7e3e4a1",
   "metadata": {},
   "outputs": [],
   "source": [
    "def find_planet(ticid):\n",
    "    \"\"\"\n",
    "    This is our main function to find a planet. We basically perform the box-least squares algorithm, \n",
    "    then do a simple inversion test.\n",
    "\n",
    "    todo: make this searchable by ticid.\n",
    "    \"\"\"\n",
    "    lightcurve_object = lightcurve_objects[ticid]\n",
    "    time, flux, flux_err  = lightcurve_object.time_lc, lightcurve_object.pdcflux, lightcurve_object.pdcflux_err\n",
    "\n",
    "    # time is just a nan if the download did not proceed correctly.\n",
    "    if isinstance(time, float):\n",
    "        return False\n",
    "\n",
    "\n",
    "    time = time[~np.isnan(flux)]\n",
    "    flux_err = flux_err[~np.isnan(flux)]\n",
    "    flux = flux[~np.isnan(flux)]\n",
    "    model = BoxLeastSquares(time, flux, flux_err)\n",
    "    results = model.power(periods, t_dur)  # The second argument is the duration of the transit (in days)\n",
    "    max_power = np.argmax(results.power)\n",
    "    stats = model.compute_stats(results.period[max_power],\n",
    "                                results.duration[max_power],\n",
    "                                results.transit_time[max_power])\n",
    "\n",
    "    \n",
    "    # do the inversion test here? if we invert it and find the transit, not good.\n",
    "    if len(stats['transit_times']) >= 2 and results.depth_snr[max_power] >= 10:\n",
    "\n",
    "        # test for variability\n",
    "        inverted_results, inverted_stats = do_inversion_test(time, flux, flux_err)\n",
    "        if len(inverted_stats['transit_times']) < 2 or inverted_results.depth_snr[max_power] < 10:\n",
    "            return True\n",
    "\n",
    "    # todo: The harmonic_delta_log_likelihood is the difference in log likelihood between a sinusoidal model and the transit model. If harmonic_delta_log_likelihood is greater than zero, the sinusoidal model is preferred.\n",
    "\n",
    "            \n",
    "    return False\n",
    "\n",
    "        \n",
    "        # we found a planet then!"
   ]
  },
  {
   "cell_type": "code",
   "execution_count": null,
   "id": "ba2483f1-4d7f-46d3-b8e9-4fec69312f72",
   "metadata": {},
   "outputs": [],
   "source": [
    "found_planets = {}\n",
    "for catalog_id in tqdm(catalog_data['ID'][::100], position=0):\n",
    "    found_planets[catalog_id] = find_planet(catalog_id)"
   ]
  },
  {
   "cell_type": "markdown",
   "id": "516e7527-0885-423e-947b-9fb5f11546c0",
   "metadata": {},
   "source": [
    "Great! Let's quickly see how many planets our simple pipeline found."
   ]
  },
  {
   "cell_type": "code",
   "execution_count": null,
   "id": "f913025c-a7b7-445e-8828-dde4b0852049",
   "metadata": {},
   "outputs": [],
   "source": [
    "n_found_planets = np.sum(list(found_planets.values()))\n",
    "n_found_planets"
   ]
  },
  {
   "cell_type": "markdown",
   "id": "1ce93168-62db-417a-9f7b-558d1ffdd1b6",
   "metadata": {},
   "source": [
    "The simplest way to calculate occurrence rates is to divide the number of planets found by the number of stars searched. Let's go ahead and try that out."
   ]
  },
  {
   "cell_type": "code",
   "execution_count": null,
   "id": "f80cb549-1d8c-4a32-baff-ac3266aee499",
   "metadata": {},
   "outputs": [],
   "source": [
    "n_found_planets/len(found_planets)"
   ]
  },
  {
   "cell_type": "markdown",
   "id": "d0e206ac-a193-42ae-88fc-c90622aaaf54",
   "metadata": {},
   "source": [
    "This number the same order of magnitude as the expected hot Jupiter occurrence rate (about 0.6% around G stars; [Beleznay & Kunimoto 2022](https://academic.oup.com/mnras/article/516/1/75/6654884)). Nice!\n",
    "\n",
    "But this nearly correct answer is a lucky coincidence: we must have a lot of false positives! More advanced planet-finding and occurrence rate pipelines take multiple additional factors into consideration:\n",
    "\n",
    "- some of the planet signals are astrophysical (e.g., eclipsing binary) or instrumental (e.g., the Kepler \"rolling bands\") false positives.\n",
    "- we are not sensitive to planets orbiting in all configurations via the transit method (i.e., most planets do not transit).\n",
    "- our pipeline is equally sensitive to all signal sizes, e.g. smaller planets around bigger stars.\n",
    "\n",
    "[aaand end the notebook! couple ways to extend: add error bars, one line of code, a little statistics? add more testing to the planet detection pipeline?]\n",
    "\n",
    "[td: let's plot some of the light curves and discuss what we see. that will help ground the statement \"we must have a lot of false positives]"
   ]
  },
  {
   "cell_type": "markdown",
   "id": "5a3e20ee-d72f-46b0-9579-0b7c348699de",
   "metadata": {},
   "source": [
    "## About this notebook\n",
    "\n",
    "\n",
    "**Author:** Arjun Savel  \n",
    "**Last updated:** Oct 2024"
   ]
  },
  {
   "cell_type": "markdown",
   "id": "f3867cda-45e4-4191-a101-ecca64bc5da8",
   "metadata": {},
   "source": [
    "***\n",
    "[Top of Page](#top)\n",
    "<img style=\"float: right;\" src=\"https://raw.githubusercontent.com/spacetelescope/notebooks/master/assets/stsci_pri_combo_mark_horizonal_white_bkgd.png\" alt=\"Space Telescope Logo\" width=\"200px\"/> "
   ]
  }
 ],
 "metadata": {
  "kernelspec": {
   "display_name": "Python 3 (ipykernel)",
   "language": "python",
   "name": "python3"
  },
  "language_info": {
   "codemirror_mode": {
    "name": "ipython",
    "version": 3
   },
   "file_extension": ".py",
   "mimetype": "text/x-python",
   "name": "python",
   "nbconvert_exporter": "python",
   "pygments_lexer": "ipython3",
   "version": "3.11.9"
  }
 },
 "nbformat": 4,
 "nbformat_minor": 5
}
