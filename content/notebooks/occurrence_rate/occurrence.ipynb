{
 "cells": [
  {
   "cell_type": "markdown",
   "id": "0902fc34-6f3f-4a27-92ea-49712f8b8375",
   "metadata": {},
   "source": [
    "# Notebook X: performing large searches for exoplanet (candidates) with TIKE"
   ]
  },
  {
   "cell_type": "markdown",
   "id": "3fc86a46-28c0-45a8-9d34-650b04ce23dd",
   "metadata": {},
   "source": [
    "## Learning objectives\n",
    "- rapidly download large amounts of TESS data\n",
    "- work with the large TESS data collections"
   ]
  },
  {
   "cell_type": "markdown",
   "id": "69e826c9-066b-4349-bab3-91bd2631e7c0",
   "metadata": {},
   "source": [
    "## Introduction\n",
    "Studying exoplanet demographics (the frequency of different types of exoplanets) lets us tackle some of the biggest questions in exoplanet science: How do planets form? How do they evolve? Are there any exoplanets that are like the Earth? \n",
    "\n",
    "TIKE is an excellent resource for computing occurrence rates. There are other resources that explain TIKE elsewhere; we summarize some of the main TIKE benefits in this case below:\n",
    "\n",
    "- your computations are performed \"close\" to MAST data, meaning that it's quicker to access lightcurves.\n",
    "- you don't have to download data to your own computer, saving *storage* too.\n",
    "- you don't have to use your own computational resources.\n",
    "- in most cases, the scientific computing environments are already set up. you don't have to spend time wrangling with environments.\n",
    "\n",
    "\n",
    "[todo: increase or decrease the amount that TIKE is talked up?]\n",
    "\n",
    "\n",
    "In this notebook, we'll take one of the first major steps to calculating occurrence rates: searching a large selection of lightcurves for exoplanets. Note: our abridged version may produce spurious planetary candidates! While we favor a concise narrative and rapid notebook execution time here, we'll note when applicable where a more robust approach should be taken for, e.g., a scientific publication."
   ]
  },
  {
   "cell_type": "markdown",
   "id": "7c4dc794-b0e2-4df3-90da-afa4d2782bc3",
   "metadata": {},
   "source": [
    "# 1. Import packages, set constants\n",
    "\n",
    "Before diving into planet-finding, we will import some necessary packages.\n",
    "\n",
    "- `astropy` contains a number of utility functions for working with astronomical data.\n",
    "- `astroquery` lets us easily query the astronomical databases that contain the TESS lightcurves.\n",
    "- `numpy` is used for array manipulation.\n",
    "- `matplotlib.pyplot` is used to display images and plot datasets.\n",
    "- `tqdm` is a lightweight progress bar that we can use to track how long our calculations will take.\n",
    "- `pandas` let us interact easily with CSV files that we'll be downliading.\n",
    "- `os` and `concurrent` let us make informed choiced when multithreading."
   ]
  },
  {
   "cell_type": "code",
   "execution_count": 5,
   "id": "659fd8c8-8545-49d7-b80b-b36bd05414dc",
   "metadata": {},
   "outputs": [],
   "source": [
    "from astropy.io import fits\n",
    "import astropy.units as u\n",
    "import astropy.constants as const\n",
    "from astropy.timeseries import BoxLeastSquares\n",
    "\n",
    "\n",
    "from astroquery.mast import Observations\n",
    "from astroquery.mast import Catalogs\n",
    "from astroquery.exceptions import InvalidQueryError\n",
    "\n",
    "\n",
    "import numpy as np\n",
    "import matplotlib.pyplot as plt\n",
    "import pandas as pd\n",
    "from tqdm import tqdm\n",
    "\n",
    "\n",
    "import os\n",
    "from concurrent.futures import ThreadPoolExecutor, as_completed"
   ]
  },
  {
   "cell_type": "markdown",
   "id": "3726bc72-e11b-4e64-a33c-e0c6a7321fa7",
   "metadata": {},
   "source": [
    "We will also *install* one package into our environment: the `batman` package. This tool will let us easily model exoplanet transits during our planet searches."
   ]
  },
  {
   "cell_type": "code",
   "execution_count": 6,
   "id": "38559c2c-86e7-4c4e-bd33-7d1f91d25261",
   "metadata": {},
   "outputs": [
    {
     "name": "stdout",
     "output_type": "stream",
     "text": [
      "Collecting batman-package\n",
      "  Using cached batman_package-2.4.9-cp311-cp311-linux_x86_64.whl\n",
      "Requirement already satisfied: numpy in /opt/conda/envs/tess/lib/python3.11/site-packages (from batman-package) (1.26.4)\n",
      "Installing collected packages: batman-package\n",
      "Successfully installed batman-package-2.4.9\n"
     ]
    }
   ],
   "source": [
    "!pip install batman-package"
   ]
  },
  {
   "cell_type": "markdown",
   "id": "0b5061df-abab-441c-bab3-9b08535e11f9",
   "metadata": {},
   "source": [
    "With our package installed, we can safely import it."
   ]
  },
  {
   "cell_type": "code",
   "execution_count": 7,
   "id": "dd979d9c-c359-44ca-8557-6b8b3dac557e",
   "metadata": {},
   "outputs": [],
   "source": [
    "import batman"
   ]
  },
  {
   "cell_type": "markdown",
   "id": "e2038b94-b668-4e40-ab96-46ea680c7974",
   "metadata": {},
   "source": [
    "We'll now set a few constants and conversion factors so that we can use them later on."
   ]
  },
  {
   "cell_type": "code",
   "execution_count": 8,
   "id": "3d617f71-973c-4a09-8491-280a9ba98215",
   "metadata": {},
   "outputs": [],
   "source": [
    "G = const.G.si.value\n",
    "days_to_seconds = (u.day).to(u.s)\n",
    "r_earth_to_meters = (u.R_earth).to(u.m)\n",
    "m_sun_kg = (u.M_sun).to(u.kg)\n",
    "r_sun_m = (u.R_sun).to(u.m)"
   ]
  },
  {
   "cell_type": "markdown",
   "id": "65dc427e-ac4f-4dd0-b5aa-f8e41372c26a",
   "metadata": {},
   "source": [
    "We'll also make sure that we retrieve cloud files from AWS, making our data access stage much faster."
   ]
  },
  {
   "cell_type": "code",
   "execution_count": 9,
   "id": "462e55df-4686-40c4-bc16-d57c0633a4fe",
   "metadata": {},
   "outputs": [
    {
     "name": "stdout",
     "output_type": "stream",
     "text": [
      "INFO: Using the S3 STScI public dataset [astroquery.mast.cloud]\n"
     ]
    }
   ],
   "source": [
    "# Important: ensure files are retrieved from AWS \n",
    "Observations.enable_cloud_dataset(provider='AWS')"
   ]
  },
  {
   "cell_type": "markdown",
   "id": "9ac0d974-0a49-4d63-b711-783e21a8623f",
   "metadata": {},
   "source": [
    "# 2. Find stars\n",
    "\n",
    "Generally, the first step to finding planets is figuring out what host stars you want to search for orbiting planets. In this study, we want to find the occurrence of hot Jupiters around Sun-like stars. We'll make some cuts so that we're looking for bright, high-gravity, solar-mass stars:\n",
    "\n",
    "- *bright*: TESS was designed to look for transits around bright stars. These stars' TESS data will have high signal to noise ratios, so we have better chances of finding planetary signals in them.\n",
    "- *high-gravity*: especially low-gravity stars tend to be evolved off the stellar main-sequence, and therefore not very Sun-like.\n",
    "- *solar-mass*: solar-mass stars on the stellar main sequence tend to be quite solar.\n",
    "\n",
    "To find these stars, we'll query the TESS Candidate Target List (CTL) — a list of stars pre-selected by the TESS team to be likely good targets for transit detection (e.g., bright, low flux contamination)."
   ]
  },
  {
   "cell_type": "code",
   "execution_count": 10,
   "id": "a51a6f8f-5ae6-4c4b-80cc-b6ca1ebdfd4b",
   "metadata": {},
   "outputs": [
    {
     "name": "stdout",
     "output_type": "stream",
     "text": [
      "CPU times: user 15.3 s, sys: 2.08 s, total: 17.4 s\n",
      "Wall time: 1min 9s\n"
     ]
    }
   ],
   "source": [
    "%%time\n",
    "\n",
    "catalog_data = Catalogs.query_criteria(catalog=\"Ctl\",\n",
    "                                       Tmag=[0, 10.5], # remember, lower magnitudes are brighter than higher ones!\n",
    "                                      logg=[4.1,400], # solar logg ~ 4.4\n",
    "                                      mass=[0.8, 1.05]) # these masses are in solar radii"
   ]
  },
  {
   "cell_type": "markdown",
   "id": "5d59d0fd-1d63-4c82-852b-f413200a9254",
   "metadata": {},
   "source": [
    "Let's take a look at this catalog data."
   ]
  },
  {
   "cell_type": "code",
   "execution_count": 11,
   "id": "0d474635-ff00-492c-9b50-f4fdda79b8fe",
   "metadata": {},
   "outputs": [
    {
     "data": {
      "text/html": [
       "<div><i>Table length=53056</i>\n",
       "<table id=\"table140301588772944\" class=\"table-striped table-bordered table-condensed\">\n",
       "<thead><tr><th>ID</th><th>version</th><th>HIP</th><th>TYC</th><th>UCAC</th><th>TWOMASS</th><th>SDSS</th><th>ALLWISE</th><th>GAIA</th><th>APASS</th><th>KIC</th><th>objType</th><th>typeSrc</th><th>ra</th><th>dec</th><th>POSflag</th><th>pmRA</th><th>e_pmRA</th><th>pmDEC</th><th>e_pmDEC</th><th>PMflag</th><th>plx</th><th>e_plx</th><th>PARflag</th><th>gallong</th><th>gallat</th><th>eclong</th><th>eclat</th><th>Bmag</th><th>e_Bmag</th><th>Vmag</th><th>e_Vmag</th><th>umag</th><th>e_umag</th><th>gmag</th><th>e_gmag</th><th>rmag</th><th>e_rmag</th><th>imag</th><th>e_imag</th><th>zmag</th><th>e_zmag</th><th>Jmag</th><th>e_Jmag</th><th>Hmag</th><th>e_Hmag</th><th>Kmag</th><th>e_Kmag</th><th>TWOMflag</th><th>prox</th><th>w1mag</th><th>e_w1mag</th><th>w2mag</th><th>e_w2mag</th><th>w3mag</th><th>e_w3mag</th><th>w4mag</th><th>e_w4mag</th><th>GAIAmag</th><th>e_GAIAmag</th><th>Tmag</th><th>e_Tmag</th><th>TESSflag</th><th>SPFlag</th><th>Teff</th><th>e_Teff</th><th>logg</th><th>e_logg</th><th>MH</th><th>e_MH</th><th>rad</th><th>e_rad</th><th>mass</th><th>e_mass</th><th>rho</th><th>e_rho</th><th>lumclass</th><th>lum</th><th>e_lum</th><th>d</th><th>e_d</th><th>ebv</th><th>e_ebv</th><th>numcont</th><th>contratio</th><th>disposition</th><th>duplicate_id</th><th>priority</th><th>eneg_EBV</th><th>epos_EBV</th><th>EBVflag</th><th>eneg_Mass</th><th>epos_Mass</th><th>eneg_Rad</th><th>epos_Rad</th><th>eneg_rho</th><th>epos_rho</th><th>eneg_logg</th><th>epos_logg</th><th>eneg_lum</th><th>epos_lum</th><th>eneg_dist</th><th>epos_dist</th><th>distflag</th><th>eneg_Teff</th><th>epos_Teff</th><th>TeffFlag</th><th>gaiabp</th><th>e_gaiabp</th><th>gaiarp</th><th>e_gaiarp</th><th>gaiaqflag</th><th>starchareFlag</th><th>VmagFlag</th><th>BmagFlag</th><th>splists</th><th>e_RA</th><th>e_Dec</th><th>RA_orig</th><th>Dec_orig</th><th>e_RA_orig</th><th>e_Dec_orig</th><th>raddflag</th><th>wdflag</th><th>objID</th></tr></thead>\n",
       "<thead><tr><th>str10</th><th>str8</th><th>int64</th><th>str12</th><th>str10</th><th>str16</th><th>str19</th><th>str19</th><th>str19</th><th>str8</th><th>int64</th><th>str4</th><th>str7</th><th>float64</th><th>float64</th><th>str7</th><th>float64</th><th>float64</th><th>float64</th><th>float64</th><th>str5</th><th>float64</th><th>float64</th><th>str5</th><th>float64</th><th>float64</th><th>float64</th><th>float64</th><th>float64</th><th>float64</th><th>float64</th><th>float64</th><th>float64</th><th>float64</th><th>float64</th><th>float64</th><th>float64</th><th>float64</th><th>float64</th><th>float64</th><th>float64</th><th>float64</th><th>float64</th><th>float64</th><th>float64</th><th>float64</th><th>float64</th><th>float64</th><th>str19</th><th>float64</th><th>float64</th><th>float64</th><th>float64</th><th>float64</th><th>float64</th><th>float64</th><th>float64</th><th>float64</th><th>float64</th><th>float64</th><th>float64</th><th>float64</th><th>str5</th><th>str5</th><th>float64</th><th>float64</th><th>float64</th><th>float64</th><th>float64</th><th>float64</th><th>float64</th><th>float64</th><th>float64</th><th>float64</th><th>float64</th><th>float64</th><th>str5</th><th>float64</th><th>float64</th><th>float64</th><th>float64</th><th>float64</th><th>float64</th><th>int64</th><th>float64</th><th>str1</th><th>str9</th><th>float64</th><th>float64</th><th>float64</th><th>str9</th><th>float64</th><th>float64</th><th>float64</th><th>float64</th><th>float64</th><th>float64</th><th>float64</th><th>float64</th><th>float64</th><th>float64</th><th>float64</th><th>float64</th><th>str6</th><th>float64</th><th>float64</th><th>str6</th><th>float64</th><th>float64</th><th>float64</th><th>float64</th><th>int64</th><th>str1</th><th>str8</th><th>str8</th><th>str15</th><th>float64</th><th>float64</th><th>float64</th><th>float64</th><th>float64</th><th>float64</th><th>int64</th><th>int64</th><th>str10</th></tr></thead>\n",
       "<tr><td>257486953</td><td>20190415</td><td>--</td><td>0004-01211-1</td><td>470-000036</td><td>00012257+0348137</td><td>1237678660350443525</td><td>J000122.66+034813.6</td><td>2740122790489701376</td><td>36101679</td><td>--</td><td>STAR</td><td>tmgaia2</td><td>0.344014992249018</td><td>3.80382001946707</td><td>tmgaia2</td><td>146.948</td><td>0.0785775</td><td>-2.18292</td><td>0.0365631</td><td>gaia2</td><td>8.86194</td><td>0.0507367</td><td>gaia2</td><td>99.6790809499965</td><td>-56.7907190407385</td><td>1.83033674668151</td><td>3.35274204776744</td><td>11.505</td><td>0.143</td><td>10.942</td><td>0.01</td><td>14.3561</td><td>0.00539245</td><td>11.5687</td><td>0.000667307</td><td>10.7394</td><td>0.000559878</td><td>10.5503</td><td>0.000599356</td><td>12.8011</td><td>0.0102534</td><td>9.525</td><td>0.026</td><td>9.107</td><td>0.024</td><td>9.042</td><td>0.021</td><td>AAA-222-111-000-0-0</td><td>nan</td><td>8.983</td><td>0.023</td><td>9.047</td><td>0.019</td><td>9.005</td><td>0.033</td><td>8.635</td><td>0.379</td><td>10.6881</td><td>0.00022</td><td>10.1918</td><td>0.006</td><td>rered</td><td>spect</td><td>5341.65</td><td>143.697</td><td>4.54113</td><td>0.0907658</td><td>-0.201</td><td>0.015</td><td>0.853239</td><td>0.0557889</td><td>0.923</td><td>0.117416</td><td>1.4859</td><td>0.389627</td><td>DWARF</td><td>0.5339956</td><td>0.01659735</td><td>112.48</td><td>0.647</td><td>0.0101352</td><td>0.0038456</td><td>27</td><td>0.03483629</td><td>--</td><td>--</td><td>0.0</td><td>0.00244247</td><td>0.00524873</td><td>panstarrs</td><td>0.10486</td><td>0.129972</td><td>0.0621553</td><td>0.0494226</td><td>0.31747</td><td>0.461784</td><td>0.0833452</td><td>0.0981863</td><td>0.0125266</td><td>0.0206681</td><td>0.643</td><td>0.651</td><td>bj2018</td><td>150.666</td><td>136.728</td><td>spect</td><td>11.0949</td><td>0.000455</td><td>10.1404</td><td>0.000426</td><td>1</td><td>--</td><td>tycho2v3</td><td>tycho2b3</td><td>planetcandidate</td><td>1.21935322296911</td><td>0.567092439365747</td><td>0.34464908190135</td><td>3.80381062101592</td><td>0.0422055151724629</td><td>0.0203261439774303</td><td>1</td><td>0</td><td>95867</td></tr>\n",
       "<tr><td>388583226</td><td>20190415</td><td>--</td><td>4500-00124-1</td><td>849-000014</td><td>00004121+7940398</td><td>--</td><td>J000041.30+794039.9</td><td>564638150446547200</td><td>60652017</td><td>--</td><td>STAR</td><td>tmgaia2</td><td>0.171723066040282</td><td>79.6777485493965</td><td>tmgaia2</td><td>23.2049</td><td>0.0463689</td><td>0.752656</td><td>0.0441405</td><td>gaia2</td><td>6.3842</td><td>0.0331064</td><td>gaia2</td><td>120.572822336236</td><td>17.0392128647769</td><td>65.4255217247576</td><td>64.4779480185437</td><td>11.001</td><td>0.072</td><td>10.244</td><td>0.005</td><td>nan</td><td>nan</td><td>nan</td><td>nan</td><td>nan</td><td>nan</td><td>nan</td><td>nan</td><td>nan</td><td>nan</td><td>8.922</td><td>0.027</td><td>8.612</td><td>0.033</td><td>8.523</td><td>0.021</td><td>AAA-122-111-000-0-0</td><td>nan</td><td>8.454</td><td>0.022</td><td>8.48</td><td>0.02</td><td>8.395</td><td>0.022</td><td>8.311</td><td>0.211</td><td>10.0725</td><td>0.001459</td><td>9.6085</td><td>0.0083</td><td>rered</td><td>gaia2</td><td>5655.0</td><td>121.218</td><td>4.14638</td><td>0.0746591</td><td>nan</td><td>nan</td><td>1.39908</td><td>0.066985</td><td>1.0</td><td>0.125138</td><td>0.365152</td><td>0.0760686</td><td>DWARF</td><td>1.80347264</td><td>0.0588778</td><td>155.936</td><td>0.811</td><td>0.0217066</td><td>0.008248645</td><td>157</td><td>0.0207567867</td><td>--</td><td>--</td><td>0.0025412635165229</td><td>0.00913321</td><td>0.00736408</td><td>panstarrs</td><td>0.0875932</td><td>0.162682</td><td>0.079991</td><td>0.0539789</td><td>0.0629468</td><td>0.0891903</td><td>0.074668</td><td>0.0746503</td><td>0.0552031</td><td>0.0625525</td><td>0.807</td><td>0.815</td><td>bj2018</td><td>134.725</td><td>107.712</td><td>dered</td><td>10.4504</td><td>0.004713</td><td>9.56295</td><td>0.00391</td><td>1</td><td>--</td><td>tycho2v3</td><td>tycho2b3</td><td>planetcandidate</td><td>0.936393976453562</td><td>0.684649721171938</td><td>0.172280648286862</td><td>79.677751790477</td><td>0.0266482483131485</td><td>0.025417456712859</td><td>1</td><td>0</td><td>275918</td></tr>\n",
       "<tr><td>432485132</td><td>20190415</td><td>--</td><td>2781-00863-1</td><td>646-000012</td><td>00001518+3902504</td><td>--</td><td>J000015.37+390251.1</td><td>2881755246950572032</td><td>50158137</td><td>--</td><td>STAR</td><td>tmgaia2</td><td>0.063276435470113</td><td>39.0473691613597</td><td>tmgaia2</td><td>210.962</td><td>0.050801</td><td>62.6718</td><td>0.0315856</td><td>gaia2</td><td>10.8723</td><td>0.0393027</td><td>gaia2</td><td>112.181810286813</td><td>-22.7535599054828</td><td>17.9353046943269</td><td>35.2846007414883</td><td>11.517</td><td>0.104</td><td>10.703</td><td>0.007</td><td>nan</td><td>nan</td><td>nan</td><td>nan</td><td>nan</td><td>nan</td><td>nan</td><td>nan</td><td>nan</td><td>nan</td><td>9.264</td><td>0.024</td><td>8.872</td><td>0.032</td><td>8.763</td><td>0.023</td><td>AAA-122-111-000-0-0</td><td>nan</td><td>8.717</td><td>0.023</td><td>8.768</td><td>0.019</td><td>8.711</td><td>0.026</td><td>8.37</td><td>0.266</td><td>10.5168</td><td>0.000296</td><td>10.0002</td><td>0.006</td><td>gbprp</td><td>gaia2</td><td>5265.0</td><td>118.348</td><td>4.62026</td><td>0.0802021</td><td>nan</td><td>nan</td><td>0.769179</td><td>0.041804</td><td>0.9</td><td>0.112514</td><td>1.9777</td><td>0.442537</td><td>DWARF</td><td>0.4095836</td><td>0.00975965</td><td>91.7342</td><td>0.33325</td><td>0.0</td><td>0.0</td><td>121</td><td>0.0216499064</td><td>--</td><td>--</td><td>0.0033319995272082</td><td>0.0</td><td>0.0</td><td>--</td><td>0.092875</td><td>0.132153</td><td>0.0297261</td><td>0.0538819</td><td>0.435281</td><td>0.449792</td><td>0.0788729</td><td>0.0815313</td><td>0.0080634</td><td>0.0114559</td><td>0.3321</td><td>0.3344</td><td>bj2018</td><td>149.218</td><td>87.477</td><td>dered0</td><td>10.9485</td><td>0.001004</td><td>9.95052</td><td>0.000984</td><td>1</td><td>--</td><td>tycho2v3</td><td>tycho2b3</td><td>planetcandidate</td><td>0.835928653935751</td><td>0.490001106971712</td><td>0.0644459936775772</td><td>39.0476390041186</td><td>0.0282319070737578</td><td>0.0203872934756772</td><td>1</td><td>0</td><td>378353</td></tr>\n",
       "<tr><td>238305136</td><td>20190415</td><td>--</td><td>1729-00866-1</td><td>564-000149</td><td>00042955+2244061</td><td>--</td><td>J000429.54+224406.1</td><td>2847357575430420992</td><td>44877465</td><td>--</td><td>STAR</td><td>tmgaia2</td><td>1.12319636500125</td><td>22.7351182578426</td><td>tmgaia2</td><td>3.45582</td><td>0.120984</td><td>13.2973</td><td>0.0739822</td><td>gaia2</td><td>9.62559</td><td>0.0641052</td><td>gaia2</td><td>108.990375016054</td><td>-38.8624038556943</td><td>10.4646233861769</td><td>20.3277010376484</td><td>11.167</td><td>0.09</td><td>10.36</td><td>0.006</td><td>nan</td><td>nan</td><td>nan</td><td>nan</td><td>nan</td><td>nan</td><td>nan</td><td>nan</td><td>nan</td><td>nan</td><td>8.953</td><td>0.019</td><td>8.539</td><td>0.017</td><td>8.581</td><td>0.029</td><td>AAE-112-111-000-0-0</td><td>nan</td><td>8.392</td><td>0.022</td><td>8.431</td><td>0.02</td><td>8.395</td><td>0.03</td><td>8.229</td><td>0.328</td><td>10.2709</td><td>0.00034</td><td>9.79833</td><td>0.0061</td><td>rered</td><td>gaia2</td><td>5550.0</td><td>126.665</td><td>4.54841</td><td>0.0844041</td><td>nan</td><td>nan</td><td>0.870511</td><td>0.0456031</td><td>0.977</td><td>0.130423</td><td>1.48106</td><td>0.34403</td><td>DWARF</td><td>0.6477617</td><td>0.0194796</td><td>103.586</td><td>0.693</td><td>0.00879884</td><td>0.005834875</td><td>38</td><td>0.128319621</td><td>--</td><td>--</td><td>0.00272550129039011</td><td>0.00398818</td><td>0.00768157</td><td>panstarrs</td><td>0.115482</td><td>0.145364</td><td>0.0373312</td><td>0.0538749</td><td>0.275242</td><td>0.412818</td><td>0.0738798</td><td>0.0949285</td><td>0.0143611</td><td>0.0245981</td><td>0.689</td><td>0.697</td><td>bj2018</td><td>164.788</td><td>88.543</td><td>dered</td><td>10.6536</td><td>0.001208</td><td>9.74811</td><td>0.002207</td><td>1</td><td>--</td><td>tycho2v3</td><td>tycho2b3</td><td>planetcandidate</td><td>1.91332394696455</td><td>1.1475086101316</td><td>1.12321249771599</td><td>22.7351755101078</td><td>0.0458189537297122</td><td>0.0424246249876592</td><td>1</td><td>0</td><td>1104482</td></tr>\n",
       "<tr><td>238390058</td><td>20190415</td><td>--</td><td>1729-01226-1</td><td>572-000173</td><td>00041754+2422409</td><td>--</td><td>J000417.61+242241.1</td><td>2849970216920699776</td><td>46058452</td><td>--</td><td>STAR</td><td>tmgaia2</td><td>1.0731219207276</td><td>24.3779952144411</td><td>tmgaia2</td><td>85.9615</td><td>0.15478</td><td>27.1693</td><td>0.122947</td><td>gaia2</td><td>7.57166</td><td>0.0608685</td><td>gaia2</td><td>109.414444604012</td><td>-37.2531562328982</td><td>11.1706542860936</td><td>21.8334224162039</td><td>11.294</td><td>0.118</td><td>10.671</td><td>0.008</td><td>nan</td><td>nan</td><td>nan</td><td>nan</td><td>nan</td><td>nan</td><td>nan</td><td>nan</td><td>nan</td><td>nan</td><td>9.247</td><td>0.02</td><td>8.847</td><td>0.038</td><td>8.732</td><td>0.019</td><td>AAA-212-111-000-0-0</td><td>nan</td><td>8.66</td><td>0.023</td><td>8.699</td><td>0.02</td><td>8.662</td><td>0.026</td><td>8.671</td><td>0.45</td><td>10.4733</td><td>0.000346</td><td>9.97464</td><td>0.006</td><td>rered</td><td>gaia2</td><td>5409.0</td><td>129.807</td><td>4.351</td><td>0.0804795</td><td>nan</td><td>nan</td><td>1.07233</td><td>0.0594246</td><td>0.941</td><td>0.116028</td><td>0.763131</td><td>0.175553</td><td>DWARF</td><td>0.8867948</td><td>0.02882455</td><td>131.582</td><td>1.062</td><td>0.0117189</td><td>0.007487435</td><td>57</td><td>1.17408848</td><td>--</td><td>--</td><td>0.00149848181820634</td><td>0.00559912</td><td>0.00937575</td><td>panstarrs</td><td>0.0999787</td><td>0.132077</td><td>0.0638372</td><td>0.0550121</td><td>0.194395</td><td>0.156711</td><td>0.0923162</td><td>0.0686428</td><td>0.0274515</td><td>0.0301976</td><td>1.054</td><td>1.07</td><td>bj2018</td><td>111.042</td><td>148.572</td><td>dered</td><td>10.8814</td><td>0.000581</td><td>9.92215</td><td>0.000586</td><td>1</td><td>--</td><td>tycho2v3</td><td>tycho2b3</td><td>planetcandidate</td><td>2.45587238458119</td><td>1.90722103774065</td><td>1.07352826113517</td><td>24.3781121939123</td><td>0.0843919646473501</td><td>0.0766912083506929</td><td>1</td><td>0</td><td>1104967</td></tr>\n",
       "<tr><td>238390147</td><td>20190415</td><td>--</td><td>1729-01496-1</td><td>574-000190</td><td>00044651+2442057</td><td>--</td><td>J000446.50+244205.8</td><td>2849986026696774784</td><td>--</td><td>--</td><td>STAR</td><td>tmgaia2</td><td>1.19378596811218</td><td>24.7015965723314</td><td>tmgaia2</td><td>2.98436</td><td>0.0574275</td><td>-0.995527</td><td>0.0549338</td><td>gaia2</td><td>8.98921</td><td>0.0358636</td><td>gaia2</td><td>109.640524845519</td><td>-36.9628828746685</td><td>11.4271818703802</td><td>22.0786966158514</td><td>10.109</td><td>0.049</td><td>9.463</td><td>0.003</td><td>nan</td><td>nan</td><td>nan</td><td>nan</td><td>nan</td><td>nan</td><td>nan</td><td>nan</td><td>nan</td><td>nan</td><td>8.228</td><td>0.035</td><td>7.928</td><td>0.027</td><td>7.884</td><td>0.034</td><td>AAA-111-111-000-0-0</td><td>nan</td><td>7.806</td><td>0.026</td><td>7.874</td><td>0.019</td><td>7.849</td><td>0.021</td><td>7.974</td><td>0.195</td><td>9.26845</td><td>0.000132</td><td>8.8254</td><td>0.006</td><td>rered</td><td>gaia2</td><td>5780.0</td><td>148.26</td><td>4.17991</td><td>0.0804019</td><td>nan</td><td>nan</td><td>1.37012</td><td>0.0701231</td><td>1.036</td><td>0.13664</td><td>0.402794</td><td>0.0923259</td><td>DWARF</td><td>1.8876617</td><td>0.0838636</td><td>110.89</td><td>0.4445</td><td>0.0201465</td><td>0.0134368353</td><td>60</td><td>0.00103134476</td><td>--</td><td>--</td><td>0.00244041039010092</td><td>0.00891157</td><td>0.0179621</td><td>panstarrs</td><td>0.102982</td><td>0.170297</td><td>0.0690457</td><td>0.0712005</td><td>0.0893373</td><td>0.0953145</td><td>0.0904043</td><td>0.0703994</td><td>0.0767651</td><td>0.0909621</td><td>0.443</td><td>0.446</td><td>bj2018</td><td>171.685</td><td>124.834</td><td>dered</td><td>9.62591</td><td>0.000648</td><td>8.78065</td><td>0.000656</td><td>1</td><td>--</td><td>tycho2v3</td><td>tycho2b3</td><td>planetcandidate</td><td>0.911736623521192</td><td>0.852110268608909</td><td>1.19380011162007</td><td>24.7015922860352</td><td>0.0308330202391595</td><td>0.0329257875765638</td><td>1</td><td>0</td><td>1105056</td></tr>\n",
       "<tr><td>293221159</td><td>20190415</td><td>--</td><td>0004-01109-1</td><td>472-000153</td><td>00061608+0415356</td><td>--</td><td>J000616.15+041535.1</td><td>2741626922395261056</td><td>37333328</td><td>--</td><td>STAR</td><td>tmgaia2</td><td>1.56701801993433</td><td>4.25995584358783</td><td>tmgaia2</td><td>93.2991</td><td>0.114094</td><td>-51.9516</td><td>0.0856794</td><td>gaia2</td><td>9.74019</td><td>0.0547347</td><td>gaia2</td><td>102.056285429432</td><td>-56.769825445035</td><td>3.13322140802109</td><td>3.28510301989999</td><td>12.018</td><td>0.217</td><td>11.152</td><td>0.016</td><td>nan</td><td>nan</td><td>nan</td><td>nan</td><td>nan</td><td>nan</td><td>nan</td><td>nan</td><td>nan</td><td>nan</td><td>9.524</td><td>0.024</td><td>9.102</td><td>0.027</td><td>9.005</td><td>0.023</td><td>AAA-222-111-000-0-0</td><td>nan</td><td>8.931</td><td>0.022</td><td>8.986</td><td>0.019</td><td>8.908</td><td>0.031</td><td>8.683</td><td>0.362</td><td>10.8234</td><td>0.000925</td><td>10.2729</td><td>0.0063</td><td>rered</td><td>spect</td><td>5173.36</td><td>142.659</td><td>4.58808</td><td>0.0940177</td><td>0.18</td><td>0.023</td><td>0.787487</td><td>0.0538995</td><td>0.876</td><td>0.105043</td><td>1.7938</td><td>0.48305</td><td>DWARF</td><td>0.400195658</td><td>0.01339255</td><td>102.368</td><td>0.5775</td><td>0.010022</td><td>0.00562644</td><td>36</td><td>0.00109536527</td><td>--</td><td>--</td><td>0.0</td><td>0.00391114</td><td>0.00734174</td><td>panstarrs</td><td>0.099299</td><td>0.110787</td><td>0.0434588</td><td>0.0643402</td><td>0.444451</td><td>0.521648</td><td>0.0923954</td><td>0.09564</td><td>0.0152993</td><td>0.0114858</td><td>0.574</td><td>0.581</td><td>bj2018</td><td>185.194</td><td>100.124</td><td>spect</td><td>11.2937</td><td>0.00294</td><td>10.2244</td><td>0.002669</td><td>1</td><td>--</td><td>tycho2v3</td><td>tycho2b3</td><td>planetcandidate</td><td>1.77021089474323</td><td>1.32851856754622</td><td>1.56742083726228</td><td>4.25973216319089</td><td>0.0433684991742019</td><td>0.0360006135026246</td><td>1</td><td>0</td><td>1139818</td></tr>\n",
       "<tr><td>293257379</td><td>20190415</td><td>--</td><td>0007-01101-1</td><td>479-000194</td><td>00072240+0545085</td><td>1237678778478952451</td><td>J000722.44+054508.8</td><td>2742481792685664512</td><td>38114019</td><td>--</td><td>STAR</td><td>tmgaia2</td><td>1.84330147435932</td><td>5.75234598748059</td><td>tmgaia2</td><td>77.3138</td><td>0.0834531</td><td>44.4886</td><td>0.0529502</td><td>gaia2</td><td>6.11686</td><td>0.0421365</td><td>gaia2</td><td>103.352257898543</td><td>-55.4353706633655</td><td>3.98241477882546</td><td>4.54416468082194</td><td>11.635</td><td>0.135</td><td>10.877</td><td>0.009</td><td>14.9581</td><td>0.00618612</td><td>11.3637</td><td>0.00068201</td><td>10.6743</td><td>0.000570526</td><td>10.5754</td><td>0.00107483</td><td>11.0982</td><td>0.00195381</td><td>9.6</td><td>0.022</td><td>9.364</td><td>0.025</td><td>9.229</td><td>0.019</td><td>AAA-222-111-000-0-0</td><td>nan</td><td>9.192</td><td>0.022</td><td>9.271</td><td>0.019</td><td>9.224</td><td>0.034</td><td>8.554</td><td>nan</td><td>10.6843</td><td>0.000298</td><td>10.2336</td><td>0.006</td><td>rered</td><td>gaia2</td><td>5779.0</td><td>134.501</td><td>4.40023</td><td>0.0788594</td><td>nan</td><td>nan</td><td>1.06316</td><td>0.0541206</td><td>1.036</td><td>0.132066</td><td>0.862104</td><td>0.192596</td><td>DWARF</td><td>1.13580918</td><td>0.0419232</td><td>162.723</td><td>1.124</td><td>0.0313672</td><td>0.00849754</td><td>35</td><td>0.0007846031</td><td>--</td><td>--</td><td>0.0</td><td>0.0102693</td><td>0.00672578</td><td>panstarrs</td><td>0.115001</td><td>0.14913</td><td>0.0432869</td><td>0.0649543</td><td>0.188954</td><td>0.196239</td><td>0.0788188</td><td>0.0788999</td><td>0.0456677</td><td>0.0381787</td><td>1.116</td><td>1.132</td><td>bj2018</td><td>142.982</td><td>126.019</td><td>dered</td><td>11.0471</td><td>0.001104</td><td>10.1866</td><td>0.000527</td><td>1</td><td>--</td><td>tycho2v3</td><td>tycho2b3</td><td>planetcandidate</td><td>1.29562225839288</td><td>0.821193700515997</td><td>1.84363603794646</td><td>5.75253753571845</td><td>0.0348060951442214</td><td>0.0276492248995643</td><td>1</td><td>0</td><td>1142861</td></tr>\n",
       "<tr><td>326675379</td><td>20190415</td><td>--</td><td>3656-00114-1</td><td>728-001341</td><td>00063740+5527218</td><td>--</td><td>J000637.37+552721.7</td><td>420818529143481088</td><td>56841532</td><td>--</td><td>STAR</td><td>tmgaia2</td><td>1.65575603452202</td><td>55.4560346537012</td><td>tmgaia2</td><td>-8.8845</td><td>0.166211</td><td>-3.73739</td><td>0.124448</td><td>gaia2</td><td>13.6455</td><td>0.107213</td><td>gaia2</td><td>116.560748457845</td><td>-6.86036497583765</td><td>31.1563704170876</td><td>48.5215371342246</td><td>10.272</td><td>0.039</td><td>9.408</td><td>0.003</td><td>nan</td><td>nan</td><td>nan</td><td>nan</td><td>nan</td><td>nan</td><td>nan</td><td>nan</td><td>nan</td><td>nan</td><td>7.624</td><td>0.019</td><td>7.226</td><td>0.021</td><td>7.103</td><td>0.021</td><td>AAA-111-111-000-0-0</td><td>nan</td><td>7.102</td><td>0.037</td><td>7.218</td><td>0.02</td><td>7.121</td><td>0.017</td><td>6.817</td><td>0.071</td><td>9.13025</td><td>0.005555</td><td>8.582</td><td>0.0082</td><td>gbprp</td><td>gaia2</td><td>5098.0</td><td>138.236</td><td>4.17428</td><td>0.0942165</td><td>nan</td><td>nan</td><td>1.25644</td><td>0.0844826</td><td>0.86</td><td>0.103783</td><td>0.433583</td><td>0.115842</td><td>DWARF</td><td>0.960678</td><td>0.03039735</td><td>73.1373</td><td>0.57785</td><td>0.0</td><td>0.0</td><td>513</td><td>0.004536777</td><td>--</td><td>--</td><td>0.00037795037887048</td><td>0.0</td><td>0.0</td><td>--</td><td>0.0989695</td><td>0.108597</td><td>0.100917</td><td>0.0680482</td><td>0.121502</td><td>0.110181</td><td>0.11201</td><td>0.0764231</td><td>0.0375597</td><td>0.023235</td><td>0.5734</td><td>0.5823</td><td>bj2018</td><td>118.434</td><td>158.037</td><td>dered0</td><td>9.59568</td><td>0.015069</td><td>8.52989</td><td>0.016492</td><td>1</td><td>--</td><td>tycho2v3</td><td>tycho2b3</td><td>planetcandidate</td><td>2.91165604008504</td><td>1.93019072734412</td><td>1.65568857400272</td><td>55.4560185621793</td><td>0.0822621758814142</td><td>0.0693634542770245</td><td>1</td><td>0</td><td>1161510</td></tr>\n",
       "<tr><td>...</td><td>...</td><td>...</td><td>...</td><td>...</td><td>...</td><td>...</td><td>...</td><td>...</td><td>...</td><td>...</td><td>...</td><td>...</td><td>...</td><td>...</td><td>...</td><td>...</td><td>...</td><td>...</td><td>...</td><td>...</td><td>...</td><td>...</td><td>...</td><td>...</td><td>...</td><td>...</td><td>...</td><td>...</td><td>...</td><td>...</td><td>...</td><td>...</td><td>...</td><td>...</td><td>...</td><td>...</td><td>...</td><td>...</td><td>...</td><td>...</td><td>...</td><td>...</td><td>...</td><td>...</td><td>...</td><td>...</td><td>...</td><td>...</td><td>...</td><td>...</td><td>...</td><td>...</td><td>...</td><td>...</td><td>...</td><td>...</td><td>...</td><td>...</td><td>...</td><td>...</td><td>...</td><td>...</td><td>...</td><td>...</td><td>...</td><td>...</td><td>...</td><td>...</td><td>...</td><td>...</td><td>...</td><td>...</td><td>...</td><td>...</td><td>...</td><td>...</td><td>...</td><td>...</td><td>...</td><td>...</td><td>...</td><td>...</td><td>...</td><td>...</td><td>...</td><td>...</td><td>...</td><td>...</td><td>...</td><td>...</td><td>...</td><td>...</td><td>...</td><td>...</td><td>...</td><td>...</td><td>...</td><td>...</td><td>...</td><td>...</td><td>...</td><td>...</td><td>...</td><td>...</td><td>...</td><td>...</td><td>...</td><td>...</td><td>...</td><td>...</td><td>...</td><td>...</td><td>...</td><td>...</td><td>...</td><td>...</td><td>...</td><td>...</td><td>...</td><td>...</td><td>...</td><td>...</td><td>...</td><td>...</td></tr>\n",
       "<tr><td>65261785</td><td>20190415</td><td>--</td><td>6985-00525-1</td><td>319-232227</td><td>23575889-2619405</td><td>--</td><td>J235758.85-261940.6</td><td>2334845514614323200</td><td>12609288</td><td>--</td><td>STAR</td><td>tmgaia2</td><td>359.495337294466</td><td>-26.3279107085122</td><td>tmgaia2</td><td>-40.9904</td><td>0.0856531</td><td>-11.334</td><td>0.0483947</td><td>gaia2</td><td>10.2759</td><td>0.0484064</td><td>gaia2</td><td>33.7342829706094</td><td>-78.0426563768834</td><td>348.41906240777</td><td>-23.8141005082007</td><td>11.388</td><td>0.092</td><td>10.579</td><td>0.007</td><td>nan</td><td>nan</td><td>nan</td><td>nan</td><td>nan</td><td>nan</td><td>nan</td><td>nan</td><td>nan</td><td>nan</td><td>9.234</td><td>0.024</td><td>8.817</td><td>0.031</td><td>8.758</td><td>0.019</td><td>AAA-212-111-000-0-0</td><td>nan</td><td>8.712</td><td>0.023</td><td>8.779</td><td>0.02</td><td>8.741</td><td>0.028</td><td>8.633</td><td>0.372</td><td>10.3712</td><td>0.000357</td><td>9.8898</td><td>0.006</td><td>gbprp</td><td>gaia2</td><td>5464.0</td><td>120.137</td><td>4.61641</td><td>0.0799685</td><td>nan</td><td>nan</td><td>0.797932</td><td>0.041005</td><td>0.96</td><td>0.120245</td><td>1.88962</td><td>0.427237</td><td>DWARF</td><td>0.51129204</td><td>0.0124486</td><td>97.0453</td><td>0.4593</td><td>0.0</td><td>0.0</td><td>23</td><td>0.00439355848</td><td>--</td><td>--</td><td>0.00309540632186049</td><td>0.0</td><td>0.0</td><td>--</td><td>0.106479</td><td>0.134011</td><td>0.0328231</td><td>0.0491869</td><td>0.210136</td><td>0.644338</td><td>0.0984223</td><td>0.0615146</td><td>0.011312</td><td>0.0135852</td><td>0.4572</td><td>0.4614</td><td>bj2018</td><td>147.332</td><td>92.9425</td><td>dered0</td><td>10.7654</td><td>0.001016</td><td>9.84129</td><td>0.000882</td><td>1</td><td>--</td><td>tycho2v3</td><td>tycho2b3</td><td>planetcandidate</td><td>1.36417421612014</td><td>0.750498319919491</td><td>359.495140382431</td><td>-26.3279595078138</td><td>0.0444002834953744</td><td>0.0238943364284443</td><td>1</td><td>0</td><td>1726127794</td></tr>\n",
       "<tr><td>114795201</td><td>20190415</td><td>--</td><td>6411-00051-1</td><td>341-206623</td><td>23582409-2154006</td><td>--</td><td>J235824.06-215400.6</td><td>2340952790606989824</td><td>12498380</td><td>--</td><td>STAR</td><td>tmgaia2</td><td>359.600367540675</td><td>-21.9001283862711</td><td>tmgaia2</td><td>-25.8161</td><td>0.0698415</td><td>-22.5751</td><td>0.0489164</td><td>gaia2</td><td>9.32263</td><td>0.0485938</td><td>gaia2</td><td>53.4978586361806</td><td>-76.8624652365521</td><td>350.557580109932</td><td>-19.8547846760599</td><td>10.292</td><td>0.053</td><td>9.564</td><td>0.004</td><td>nan</td><td>nan</td><td>nan</td><td>nan</td><td>nan</td><td>nan</td><td>nan</td><td>nan</td><td>nan</td><td>nan</td><td>8.376</td><td>0.023</td><td>8.104</td><td>0.033</td><td>8.031</td><td>0.027</td><td>AAA-111-111-000-0-0</td><td>nan</td><td>7.972</td><td>0.024</td><td>8.042</td><td>0.02</td><td>7.992</td><td>0.022</td><td>7.738</td><td>0.192</td><td>9.42972</td><td>0.00017</td><td>8.98384</td><td>0.006</td><td>rered</td><td>gaia2</td><td>5709.0</td><td>124.762</td><td>4.25822</td><td>0.0784503</td><td>nan</td><td>nan</td><td>1.24108</td><td>0.0613065</td><td>1.018</td><td>0.127547</td><td>0.53254</td><td>0.114064</td><td>DWARF</td><td>1.47411644</td><td>0.04269275</td><td>106.938</td><td>0.56</td><td>0.00749604</td><td>0.00457363</td><td>29</td><td>0.004103054</td><td>--</td><td>--</td><td>0.002592854840622</td><td>0.00319089</td><td>0.00595637</td><td>panstarrs</td><td>0.100346</td><td>0.154747</td><td>0.0522472</td><td>0.0703658</td><td>0.0895877</td><td>0.138541</td><td>0.0703295</td><td>0.0865711</td><td>0.0536506</td><td>0.0317349</td><td>0.557</td><td>0.563</td><td>bj2018</td><td>147.324</td><td>102.2</td><td>dered</td><td>9.79086</td><td>0.001158</td><td>8.93964</td><td>0.000881</td><td>1</td><td>--</td><td>tycho2v3</td><td>tycho2b3</td><td>planetcandidate</td><td>1.10328879482038</td><td>0.758537534980709</td><td>359.600247742862</td><td>-21.9002255846625</td><td>0.0384472398024812</td><td>0.0224851746039454</td><td>1</td><td>0</td><td>1726136233</td></tr>\n",
       "<tr><td>144440651</td><td>20190415</td><td>--</td><td>8457-00682-1</td><td>218-198129</td><td>23560270-4627131</td><td>--</td><td>J235602.62-462713.1</td><td>6530470152634670464</td><td>24620682</td><td>--</td><td>STAR</td><td>tmgaia2</td><td>359.011280246105</td><td>-46.4536069912228</td><td>tmgaia2</td><td>-76.4335</td><td>0.0412722</td><td>-13.0596</td><td>0.0795709</td><td>gaia2</td><td>10.639</td><td>0.0453071</td><td>gaia2</td><td>328.800910253491</td><td>-67.7942018353662</td><td>336.520515769264</td><td>-41.3210550202228</td><td>10.663</td><td>0.052</td><td>9.987</td><td>0.004</td><td>nan</td><td>nan</td><td>nan</td><td>nan</td><td>nan</td><td>nan</td><td>nan</td><td>nan</td><td>nan</td><td>nan</td><td>8.753</td><td>0.021</td><td>8.468</td><td>0.04</td><td>8.39</td><td>0.024</td><td>AAA-112-111-000-0-0</td><td>nan</td><td>8.329</td><td>0.023</td><td>8.364</td><td>0.019</td><td>8.305</td><td>0.024</td><td>8.46</td><td>0.369</td><td>9.81838</td><td>0.00024</td><td>9.3758</td><td>0.006</td><td>gbprp</td><td>gaia2</td><td>5699.0</td><td>127.023</td><td>4.52976</td><td>0.080333</td><td>nan</td><td>nan</td><td>0.904299</td><td>0.0450753</td><td>1.01</td><td>0.129623</td><td>1.36579</td><td>0.30116</td><td>DWARF</td><td>0.7771658</td><td>0.0199637</td><td>93.7417</td><td>0.4011</td><td>0.0</td><td>0.0</td><td>38</td><td>0.000796069333</td><td>--</td><td>--</td><td>0.00396613439360822</td><td>0.0</td><td>0.0</td><td>--</td><td>0.127566</td><td>0.13168</td><td>0.04021</td><td>0.0499407</td><td>0.339537</td><td>0.262782</td><td>0.0937386</td><td>0.0669274</td><td>0.018251</td><td>0.0216764</td><td>0.3994</td><td>0.4028</td><td>bj2018</td><td>105.276</td><td>148.77</td><td>dered0</td><td>10.1714</td><td>0.000779</td><td>9.32664</td><td>0.000848</td><td>1</td><td>--</td><td>tycho2v3</td><td>tycho2b3</td><td>planetcandidate</td><td>0.69651683108262</td><td>1.23434454667508</td><td>359.010802573344</td><td>-46.4536632210506</td><td>0.0228836377471535</td><td>0.0495663942648116</td><td>1</td><td>0</td><td>1726143207</td></tr>\n",
       "<tr><td>183528221</td><td>20190415</td><td>--</td><td>7519-00259-1</td><td>284-214051</td><td>23572741-3319047</td><td>--</td><td>J235727.42-331904.7</td><td>2313868589398920320</td><td>17441798</td><td>--</td><td>STAR</td><td>tmgaia2</td><td>359.36419118683</td><td>-33.317976864335</td><td>tmgaia2</td><td>17.2917</td><td>0.198006</td><td>-3.65552</td><td>0.192876</td><td>gaia2</td><td>5.30886</td><td>0.133543</td><td>gaia2</td><td>1.68023588338841</td><td>-76.8143242856874</td><td>344.801434490212</td><td>-30.0179157246563</td><td>11.862</td><td>0.113</td><td>11.171</td><td>0.008</td><td>nan</td><td>nan</td><td>nan</td><td>nan</td><td>nan</td><td>nan</td><td>nan</td><td>nan</td><td>nan</td><td>nan</td><td>9.718</td><td>0.023</td><td>9.318</td><td>0.022</td><td>9.233</td><td>0.019</td><td>AAA-222-111-000-0-0</td><td>nan</td><td>9.191</td><td>0.024</td><td>9.259</td><td>0.021</td><td>9.212</td><td>0.032</td><td>8.381</td><td>nan</td><td>10.8862</td><td>0.000377</td><td>10.3837</td><td>0.006</td><td>rered</td><td>gaia2</td><td>5378.0</td><td>125.98</td><td>4.1941</td><td>0.0854895</td><td>nan</td><td>nan</td><td>1.2771</td><td>0.0767865</td><td>0.93</td><td>0.120921</td><td>0.446485</td><td>0.111212</td><td>DWARF</td><td>1.22921681</td><td>0.07301075</td><td>187.53</td><td>4.736</td><td>0.00952846</td><td>0.0103675</td><td>43</td><td>0.00107941055</td><td>--</td><td>--</td><td>0.0011721920401935</td><td>0.0083686</td><td>0.0123664</td><td>schlegel</td><td>0.103102</td><td>0.138739</td><td>0.0629392</td><td>0.0906337</td><td>0.121641</td><td>0.100782</td><td>0.0854967</td><td>0.0854824</td><td>0.0615868</td><td>0.0844347</td><td>4.618</td><td>4.854</td><td>bj2018</td><td>132.334</td><td>119.627</td><td>dered</td><td>11.3017</td><td>0.001375</td><td>10.3342</td><td>0.001147</td><td>1</td><td>--</td><td>tycho2v3</td><td>tycho2b3</td><td>planetcandidate</td><td>3.20546166466841</td><td>2.99103998079542</td><td>359.364280281196</td><td>-33.3179926034114</td><td>0.110594116521716</td><td>0.0935069443017548</td><td>1</td><td>0</td><td>1726150539</td></tr>\n",
       "<tr><td>201231355</td><td>20190415</td><td>118040</td><td>8463-00657-1</td><td>199-185345</td><td>23563549-5018133</td><td>--</td><td>J235635.40-501814.9</td><td>6523572499581919872</td><td>24622122</td><td>--</td><td>STAR</td><td>tmgaia2</td><td>359.147900271709</td><td>-50.3037401377563</td><td>tmgaia2</td><td>-79.9151</td><td>0.0566919</td><td>-137.904</td><td>0.0605151</td><td>gaia2</td><td>18.4859</td><td>0.0476335</td><td>gaia2</td><td>323.576020066416</td><td>-64.5690745725632</td><td>333.761906095906</td><td>-44.6013901837107</td><td>10.042</td><td>0.008</td><td>9.34</td><td>0.03</td><td>nan</td><td>nan</td><td>nan</td><td>nan</td><td>nan</td><td>nan</td><td>nan</td><td>nan</td><td>nan</td><td>nan</td><td>7.951</td><td>0.024</td><td>7.6</td><td>0.033</td><td>7.498</td><td>0.021</td><td>AAA-111-111-000-0-0</td><td>nan</td><td>7.369</td><td>0.036</td><td>7.48</td><td>0.02</td><td>7.44</td><td>0.019</td><td>7.46</td><td>0.133</td><td>9.13292</td><td>0.000202</td><td>8.6424</td><td>0.006</td><td>gbprp</td><td>spect</td><td>5330.0</td><td>128.712</td><td>4.56166</td><td>0.0832058</td><td>-0.29</td><td>0.05</td><td>0.831953</td><td>0.0476382</td><td>0.92</td><td>0.111463</td><td>1.59769</td><td>0.376161</td><td>DWARF</td><td>0.503270268</td><td>0.01143236</td><td>54.0113</td><td>0.14</td><td>0.0</td><td>0.0</td><td>43</td><td>0.000114139657</td><td>--</td><td>--</td><td>0.00659302543705503</td><td>0.0</td><td>0.0</td><td>--</td><td>0.100352</td><td>0.122574</td><td>0.0506623</td><td>0.0446141</td><td>0.275895</td><td>0.476427</td><td>0.0779822</td><td>0.0884295</td><td>0.0137523</td><td>0.00911242</td><td>0.1396</td><td>0.1404</td><td>bj2018</td><td>130.221</td><td>127.202</td><td>spect</td><td>9.53564</td><td>0.000833</td><td>8.59247</td><td>0.000648</td><td>1</td><td>--</td><td>hipvmag</td><td>apassdr9</td><td>planetcandidate</td><td>0.971145912314165</td><td>0.938630300552864</td><td>359.147361568986</td><td>-50.3043338923391</td><td>0.0269882997607453</td><td>0.0348247478319299</td><td>1</td><td>0</td><td>1726159278</td></tr>\n",
       "<tr><td>267062522</td><td>20190415</td><td>118062</td><td>9339-01417-1</td><td>113-135817</td><td>23570127-6735398</td><td>--</td><td>J235701.57-673539.2</td><td>6388939400999410688</td><td>31997312</td><td>--</td><td>STAR</td><td>tmgaia2</td><td>359.255375154465</td><td>-67.5943728881474</td><td>tmgaia2</td><td>155.062</td><td>0.0627025</td><td>44.4583</td><td>0.0477876</td><td>gaia2</td><td>15.4712</td><td>0.0344471</td><td>gaia2</td><td>310.739142124905</td><td>-48.7007268132814</td><td>315.671918632973</td><td>-57.8060874268482</td><td>9.068</td><td>0.0</td><td>8.51</td><td>0.03</td><td>nan</td><td>nan</td><td>nan</td><td>nan</td><td>nan</td><td>nan</td><td>nan</td><td>nan</td><td>nan</td><td>nan</td><td>7.301</td><td>0.021</td><td>7.013</td><td>0.04</td><td>6.874</td><td>0.026</td><td>AAA-111-111-000-0-0</td><td>nan</td><td>6.832</td><td>0.064</td><td>6.864</td><td>0.02</td><td>6.86</td><td>0.015</td><td>6.885</td><td>0.067</td><td>8.33789</td><td>0.000467</td><td>7.8983</td><td>0.006</td><td>gbprp</td><td>spect</td><td>5785.8</td><td>116.835</td><td>4.30347</td><td>0.0753592</td><td>nan</td><td>nan</td><td>1.19073</td><td>0.0551859</td><td>1.04</td><td>0.127414</td><td>0.616018</td><td>0.1275</td><td>DWARF</td><td>1.43144548</td><td>0.0374137</td><td>64.5157</td><td>0.14445</td><td>0.0</td><td>0.0</td><td>64</td><td>0.0005901921</td><td>--</td><td>--</td><td>0.00580912711864585</td><td>0.0</td><td>0.0</td><td>--</td><td>0.0991418</td><td>0.155687</td><td>0.0535673</td><td>0.0568045</td><td>0.0865794</td><td>0.168421</td><td>0.0805566</td><td>0.0701617</td><td>0.0373704</td><td>0.037457</td><td>0.1441</td><td>0.1448</td><td>bj2018</td><td>105.623</td><td>128.047</td><td>spect</td><td>8.69412</td><td>0.001899</td><td>7.85537</td><td>0.002001</td><td>1</td><td>--</td><td>hipvmag</td><td>apassdr9</td><td>planetcandidate</td><td>1.16992959615353</td><td>0.7411619518487</td><td>359.257126718117</td><td>-67.5941814798998</td><td>0.0308278268098336</td><td>0.0259421257289178</td><td>1</td><td>0</td><td>1726164590</td></tr>\n",
       "<tr><td>407969995</td><td>20190415</td><td>--</td><td>5253-00702-1</td><td>448-140988</td><td>23562269-0026184</td><td>1237657190367952905</td><td>J235622.73-002618.5</td><td>2641988697651333248</td><td>1966753</td><td>--</td><td>STAR</td><td>tmgaia2</td><td>359.094554132774</td><td>-0.438462849718019</td><td>tmgaia2</td><td>62.8847</td><td>0.0744517</td><td>-1.40591</td><td>0.0425266</td><td>gaia2</td><td>7.06385</td><td>0.0450435</td><td>gaia2</td><td>94.3135041030913</td><td>-60.2145753691563</td><td>358.994869850134</td><td>-0.042143750113912</td><td>11.716</td><td>0.122</td><td>10.872</td><td>0.009</td><td>14.9808</td><td>0.00974649</td><td>11.6653</td><td>0.000705104</td><td>10.8649</td><td>0.000491241</td><td>10.7137</td><td>0.000624468</td><td>13.3899</td><td>0.0165585</td><td>9.818</td><td>0.028</td><td>9.449</td><td>0.024</td><td>9.336</td><td>0.021</td><td>AAA-222-111-000-0-0</td><td>nan</td><td>9.294</td><td>0.021</td><td>9.341</td><td>0.019</td><td>9.322</td><td>0.047</td><td>8.638</td><td>nan</td><td>10.8268</td><td>0.000689</td><td>10.363</td><td>0.0061</td><td>rered</td><td>gaia2</td><td>5644.0</td><td>120.969</td><td>4.53551</td><td>0.0786624</td><td>nan</td><td>nan</td><td>0.894326</td><td>0.0447537</td><td>1.001</td><td>0.125851</td><td>1.39942</td><td>0.304282</td><td>DWARF</td><td>0.731196463</td><td>0.02061325</td><td>140.996</td><td>0.902</td><td>0.0186953</td><td>0.00400982</td><td>29</td><td>0.000364354</td><td>--</td><td>--</td><td>0.0</td><td>0.00446787</td><td>0.00355177</td><td>panstarrs</td><td>0.123608</td><td>0.128095</td><td>0.0542638</td><td>0.0352437</td><td>0.26816</td><td>0.340405</td><td>0.0737241</td><td>0.0836008</td><td>0.0196215</td><td>0.021605</td><td>0.896</td><td>0.908</td><td>bj2018</td><td>86.2074</td><td>155.73</td><td>dered</td><td>11.2031</td><td>0.001265</td><td>10.3159</td><td>0.001064</td><td>1</td><td>--</td><td>tycho2v3</td><td>tycho2b3</td><td>planetcandidate</td><td>1.1546791111957</td><td>0.659494238152209</td><td>359.094824894274</td><td>-0.438468902946575</td><td>0.0393094907816651</td><td>0.0209215777290452</td><td>1</td><td>0</td><td>1726198298</td></tr>\n",
       "<tr><td>407994650</td><td>20190415</td><td>--</td><td>5256-00737-1</td><td>434-119432</td><td>23562009-0313226</td><td>1237672793421512744</td><td>J235620.02-031322.6</td><td>2448118821712195968</td><td>724112</td><td>--</td><td>STAR</td><td>tmgaia2</td><td>359.083718957402</td><td>-3.22294758927909</td><td>tmgaia2</td><td>-81.9933</td><td>0.110173</td><td>3.05285</td><td>0.0560375</td><td>gaia2</td><td>11.4689</td><td>0.0621663</td><td>gaia2</td><td>91.7038003284194</td><td>-62.7049090508105</td><td>357.876698851411</td><td>-2.59244443881167</td><td>11.601</td><td>0.099</td><td>10.605</td><td>0.008</td><td>15.1463</td><td>0.00999888</td><td>11.4707</td><td>0.000514244</td><td>10.4758</td><td>0.000298164</td><td>10.252</td><td>0.00040014</td><td>13.3473</td><td>0.0166015</td><td>9.127</td><td>0.02</td><td>8.719</td><td>0.061</td><td>8.634</td><td>0.022</td><td>AAA-112-111-000-0-0</td><td>nan</td><td>8.56</td><td>0.023</td><td>8.64</td><td>0.021</td><td>8.618</td><td>0.029</td><td>8.286</td><td>0.36</td><td>10.457</td><td>0.000228</td><td>9.9119</td><td>0.006</td><td>gbprp</td><td>gaia2</td><td>5114.0</td><td>121.929</td><td>4.56109</td><td>0.0860422</td><td>nan</td><td>nan</td><td>0.804889</td><td>0.0483919</td><td>0.86</td><td>0.106764</td><td>1.64926</td><td>0.41188</td><td>DWARF</td><td>0.399217755</td><td>0.01099835</td><td>86.9771</td><td>0.47385</td><td>0.0</td><td>0.0</td><td>32</td><td>0.0002492274</td><td>--</td><td>--</td><td>0.0</td><td>0.0</td><td>0.0</td><td>--</td><td>0.0722116</td><td>0.141317</td><td>0.0403638</td><td>0.0564201</td><td>0.317949</td><td>0.50581</td><td>0.0678264</td><td>0.104258</td><td>0.0121754</td><td>0.0098213</td><td>0.4713</td><td>0.4764</td><td>bj2018</td><td>148.154</td><td>95.705</td><td>dered0</td><td>10.9203</td><td>0.000827</td><td>9.86136</td><td>0.000652</td><td>1</td><td>--</td><td>tycho2v3</td><td>tycho2b3</td><td>planetcandidate</td><td>1.70911616172546</td><td>0.868947453097394</td><td>359.083365371433</td><td>-3.22293444512495</td><td>0.0509305732219047</td><td>0.0252247575386973</td><td>1</td><td>0</td><td>1726198867</td></tr>\n",
       "<tr><td>425905360</td><td>20190415</td><td>--</td><td>8833-01249-1</td><td>179-223031</td><td>23591889-5421504</td><td>--</td><td>J235918.86-542151.1</td><td>6497193497643222912</td><td>25162013</td><td>--</td><td>STAR</td><td>tmgaia2</td><td>359.828766428362</td><td>-54.3639760143992</td><td>tmgaia2</td><td>-24.0098</td><td>0.0520381</td><td>-79.0954</td><td>0.0542696</td><td>gaia2</td><td>7.5019</td><td>0.0398623</td><td>gaia2</td><td>318.7239291128</td><td>-61.1372482960952</td><td>330.855257254852</td><td>-48.1571148252595</td><td>11.448</td><td>0.077</td><td>10.638</td><td>0.006</td><td>nan</td><td>nan</td><td>nan</td><td>nan</td><td>nan</td><td>nan</td><td>nan</td><td>nan</td><td>nan</td><td>nan</td><td>9.354</td><td>0.025</td><td>9.066</td><td>0.026</td><td>8.929</td><td>0.022</td><td>AAA-222-111-000-0-0</td><td>nan</td><td>8.881</td><td>0.023</td><td>8.942</td><td>0.021</td><td>8.886</td><td>0.028</td><td>8.887</td><td>0.487</td><td>10.4637</td><td>0.000277</td><td>10.0045</td><td>0.006</td><td>rered</td><td>gaia2</td><td>5624.0</td><td>131.443</td><td>4.4479</td><td>0.0777097</td><td>nan</td><td>nan</td><td>0.988742</td><td>0.0514573</td><td>1.0</td><td>0.126243</td><td>1.03455</td><td>0.225925</td><td>DWARF</td><td>0.88113445</td><td>0.0315596</td><td>132.793</td><td>0.7085</td><td>0.00677558</td><td>0.01005684</td><td>44</td><td>0.07220275</td><td>--</td><td>--</td><td>0.00258722524798532</td><td>0.0129437</td><td>0.00716998</td><td>schlegel</td><td>0.146977</td><td>0.105509</td><td>0.0466578</td><td>0.0562568</td><td>0.246509</td><td>0.20534</td><td>0.0811807</td><td>0.0742388</td><td>0.0320355</td><td>0.0310837</td><td>0.705</td><td>0.712</td><td>bj2018</td><td>133.44</td><td>129.445</td><td>dered</td><td>10.8331</td><td>0.000559</td><td>9.95487</td><td>0.000747</td><td>1</td><td>--</td><td>tycho2v3</td><td>tycho2b3</td><td>planetcandidate</td><td>0.907119240971053</td><td>0.841591477978274</td><td>359.828589000484</td><td>-54.364316564171</td><td>0.0265311198456211</td><td>0.0263522719365203</td><td>1</td><td>0</td><td>1726206190</td></tr>\n",
       "<tr><td>441054137</td><td>20190415</td><td>118101</td><td>6405-01116-1</td><td>370-190271</td><td>23572329-1605299</td><td>--</td><td>J235723.33-160530.1</td><td>2415907288546364416</td><td>--</td><td>--</td><td>STAR</td><td>tmgaia2</td><td>359.347091165505</td><td>-16.0916440864284</td><td>tmgaia2</td><td>54.4373</td><td>0.0778983</td><td>2.33701</td><td>0.0400792</td><td>gaia2</td><td>8.15983</td><td>0.0383037</td><td>gaia2</td><td>71.546281261339</td><td>-73.3024765894754</td><td>352.862993283474</td><td>-14.4744137547967</td><td>11.471</td><td>0.173</td><td>10.79</td><td>0.03</td><td>nan</td><td>nan</td><td>nan</td><td>nan</td><td>nan</td><td>nan</td><td>nan</td><td>nan</td><td>nan</td><td>nan</td><td>9.366</td><td>0.024</td><td>9.002</td><td>0.024</td><td>8.933</td><td>0.022</td><td>AAA-222-111-ddd-0-0</td><td>nan</td><td>8.816</td><td>0.022</td><td>8.844</td><td>0.019</td><td>8.741</td><td>0.028</td><td>8.044</td><td>0.226</td><td>10.4503</td><td>0.000366</td><td>9.97452</td><td>0.006</td><td>rered</td><td>gaia2</td><td>5516.0</td><td>120.483</td><td>4.46586</td><td>0.0808408</td><td>nan</td><td>nan</td><td>0.953376</td><td>0.0480151</td><td>0.969</td><td>0.126369</td><td>1.11823</td><td>0.247224</td><td>DWARF</td><td>0.7580891</td><td>0.0187564</td><td>122.122</td><td>0.5755</td><td>0.00501145</td><td>0.003073995</td><td>55</td><td>2.60600352</td><td>--</td><td>--</td><td>0.00143901088639894</td><td>0.00234929</td><td>0.0037987</td><td>panstarrs</td><td>0.0789808</td><td>0.173757</td><td>0.0458342</td><td>0.050196</td><td>0.243011</td><td>0.251438</td><td>0.0879646</td><td>0.0737171</td><td>0.0174379</td><td>0.0200749</td><td>0.573</td><td>0.578</td><td>bj2018</td><td>122.581</td><td>118.385</td><td>dered</td><td>10.8379</td><td>0.000871</td><td>9.9257</td><td>0.000664</td><td>1</td><td>--</td><td>hipvmag</td><td>tycho2b3</td><td>planetcandidate</td><td>1.21993379004436</td><td>0.621507793561022</td><td>359.347335106016</td><td>-16.0916340244402</td><td>0.0351557623683579</td><td>0.0186602908693693</td><td>1</td><td>0</td><td>1726208041</td></tr>\n",
       "</table></div>"
      ],
      "text/plain": [
       "<Table length=53056>\n",
       "    ID    version   HIP       TYC      ... raddflag wdflag   objID   \n",
       "  str10     str8   int64     str12     ...  int64   int64    str10   \n",
       "--------- -------- ------ ------------ ... -------- ------ ----------\n",
       "257486953 20190415     -- 0004-01211-1 ...        1      0      95867\n",
       "388583226 20190415     -- 4500-00124-1 ...        1      0     275918\n",
       "432485132 20190415     -- 2781-00863-1 ...        1      0     378353\n",
       "238305136 20190415     -- 1729-00866-1 ...        1      0    1104482\n",
       "238390058 20190415     -- 1729-01226-1 ...        1      0    1104967\n",
       "238390147 20190415     -- 1729-01496-1 ...        1      0    1105056\n",
       "293221159 20190415     -- 0004-01109-1 ...        1      0    1139818\n",
       "293257379 20190415     -- 0007-01101-1 ...        1      0    1142861\n",
       "326675379 20190415     -- 3656-00114-1 ...        1      0    1161510\n",
       "      ...      ...    ...          ... ...      ...    ...        ...\n",
       " 65261785 20190415     -- 6985-00525-1 ...        1      0 1726127794\n",
       "114795201 20190415     -- 6411-00051-1 ...        1      0 1726136233\n",
       "144440651 20190415     -- 8457-00682-1 ...        1      0 1726143207\n",
       "183528221 20190415     -- 7519-00259-1 ...        1      0 1726150539\n",
       "201231355 20190415 118040 8463-00657-1 ...        1      0 1726159278\n",
       "267062522 20190415 118062 9339-01417-1 ...        1      0 1726164590\n",
       "407969995 20190415     -- 5253-00702-1 ...        1      0 1726198298\n",
       "407994650 20190415     -- 5256-00737-1 ...        1      0 1726198867\n",
       "425905360 20190415     -- 8833-01249-1 ...        1      0 1726206190\n",
       "441054137 20190415 118101 6405-01116-1 ...        1      0 1726208041"
      ]
     },
     "execution_count": 11,
     "metadata": {},
     "output_type": "execute_result"
    }
   ],
   "source": [
    "catalog_data"
   ]
  },
  {
   "cell_type": "markdown",
   "id": "6eea2f53-c663-4bdd-aeca-b4333b1f8b55",
   "metadata": {},
   "source": [
    "This is a pretty long table, totalling 53056 stars.\n",
    "\n",
    "To get a better sense of the data products we'll be working with, let's download a single lightcurve associated with one of these stars."
   ]
  },
  {
   "cell_type": "code",
   "execution_count": 12,
   "id": "823dabae-7ea8-48c9-a6f8-076f3fed7800",
   "metadata": {},
   "outputs": [],
   "source": [
    "# next, download a single star from this catalog to inspect the data type we're working with."
   ]
  },
  {
   "cell_type": "code",
   "execution_count": 13,
   "id": "b20ccd8a-f350-4f7d-ac7c-08ce1d4b4b69",
   "metadata": {},
   "outputs": [
    {
     "name": "stdout",
     "output_type": "stream",
     "text": [
      "CPU times: user 60 ms, sys: 522 μs, total: 60.5 ms\n",
      "Wall time: 460 ms\n"
     ]
    }
   ],
   "source": [
    "%%time\n",
    "TESS_table = Observations.query_criteria(target_name=catalog_data['ID'][2]\n",
    "                                         , obs_collection=\"TESS\"\n",
    "                                         , dataproduct_type='timeseries'\n",
    "                                         ) \n",
    "\n",
    "data_products = Observations.get_product_list(TESS_table) \n"
   ]
  },
  {
   "cell_type": "markdown",
   "id": "182daf53-146b-443d-b64a-3556b19dac2f",
   "metadata": {},
   "source": [
    "It's relatively quick to download a table of data products (less than half a second). Let's select one of the lightcurves and open one of the associated FITS files."
   ]
  },
  {
   "cell_type": "code",
   "execution_count": 14,
   "id": "81448a28-563f-40c9-b8cd-c52a7ebe8623",
   "metadata": {},
   "outputs": [
    {
     "name": "stderr",
     "output_type": "stream",
     "text": [
      "/opt/conda/envs/tess/lib/python3.11/site-packages/fsspec/registry.py:279: UserWarning: Your installed version of s3fs is very old and known to cause\n",
      "severe performance issues, see also https://github.com/dask/dask/issues/10276\n",
      "\n",
      "To fix, you should specify a lower version bound on s3fs, or\n",
      "update the current installation.\n",
      "\n",
      "  warnings.warn(s3_msg)\n"
     ]
    }
   ],
   "source": [
    "# Keep only the science products\n",
    "filtered = Observations.filter_products(data_products, productType=\"SCIENCE\")\n",
    "\n",
    "# Be selective about the columns we display\n",
    "cols = ['obs_id', 'description', 'productSubGroupDescription']\n",
    "\n",
    "# Look at the first five rows of the filtered results\n",
    "filtered[0:10][cols]\n",
    "ex_id = filtered[filtered['productSubGroupDescription']=='LC']['obs_id'][0]\n",
    "# ex_id = filtered['obs_id'][0]\n",
    "\n",
    "lc_prod = Observations.filter_products(data_products\n",
    "                                      , obs_id = ex_id   \n",
    "                                      )\n",
    "# Get the cloud uris for these files\n",
    "lc_uri = Observations.get_cloud_uris(lc_prod)[0]\n",
    "\n",
    "#open the lc file\n",
    "lc_fits = fits.open(lc_uri, use_fsspec=True, fsspec_kwargs={\"anon\": True})"
   ]
  },
  {
   "cell_type": "markdown",
   "id": "77ebe316-f4e2-4175-93b8-b3c93a03662d",
   "metadata": {},
   "source": [
    "Great! Now, let's examine the columns available to us in this lightcurve."
   ]
  },
  {
   "cell_type": "code",
   "execution_count": 15,
   "id": "d3f54e36-1a4c-4e58-b0c5-fde79067c7f5",
   "metadata": {},
   "outputs": [
    {
     "data": {
      "text/plain": [
       "ColDefs(\n",
       "    name = 'TIME'; format = 'D'; unit = 'BJD - 2457000, days'; disp = 'D14.7'\n",
       "    name = 'TIMECORR'; format = 'E'; unit = 'd'; disp = 'E14.7'\n",
       "    name = 'CADENCENO'; format = 'J'; disp = 'I10'\n",
       "    name = 'SAP_FLUX'; format = 'E'; unit = 'e-/s'; disp = 'E14.7'\n",
       "    name = 'SAP_FLUX_ERR'; format = 'E'; unit = 'e-/s'; disp = 'E14.7'\n",
       "    name = 'SAP_BKG'; format = 'E'; unit = 'e-/s'; disp = 'E14.7'\n",
       "    name = 'SAP_BKG_ERR'; format = 'E'; unit = 'e-/s'; disp = 'E14.7'\n",
       "    name = 'PDCSAP_FLUX'; format = 'E'; unit = 'e-/s'; disp = 'E14.7'\n",
       "    name = 'PDCSAP_FLUX_ERR'; format = 'E'; unit = 'e-/s'; disp = 'E14.7'\n",
       "    name = 'QUALITY'; format = 'J'; disp = 'B16.16'\n",
       "    name = 'PSF_CENTR1'; format = 'D'; unit = 'pixel'; disp = 'F10.5'\n",
       "    name = 'PSF_CENTR1_ERR'; format = 'E'; unit = 'pixel'; disp = 'E14.7'\n",
       "    name = 'PSF_CENTR2'; format = 'D'; unit = 'pixel'; disp = 'F10.5'\n",
       "    name = 'PSF_CENTR2_ERR'; format = 'E'; unit = 'pixel'; disp = 'E14.7'\n",
       "    name = 'MOM_CENTR1'; format = 'D'; unit = 'pixel'; disp = 'F10.5'\n",
       "    name = 'MOM_CENTR1_ERR'; format = 'E'; unit = 'pixel'; disp = 'E14.7'\n",
       "    name = 'MOM_CENTR2'; format = 'D'; unit = 'pixel'; disp = 'F10.5'\n",
       "    name = 'MOM_CENTR2_ERR'; format = 'E'; unit = 'pixel'; disp = 'E14.7'\n",
       "    name = 'POS_CORR1'; format = 'E'; unit = 'pixels'; disp = 'E14.7'\n",
       "    name = 'POS_CORR2'; format = 'E'; unit = 'pixels'; disp = 'E14.7'\n",
       ")"
      ]
     },
     "execution_count": 15,
     "metadata": {},
     "output_type": "execute_result"
    }
   ],
   "source": [
    "lc = lc_fits[1].data\n",
    "lc.columns"
   ]
  },
  {
   "cell_type": "markdown",
   "id": "319a5962-974d-46e4-985d-1b7de3560539",
   "metadata": {},
   "source": [
    "There are two flux columns: SAP flux and PDCSAP flux. The SAP flux is closer to raw TESS data. The PDCSAP_FLUX is derived from SAP flux, but it's been cleaned of longer-term trends."
   ]
  },
  {
   "cell_type": "code",
   "execution_count": 16,
   "id": "a82ac177-eabc-45fe-8aaa-86c7d5471d52",
   "metadata": {},
   "outputs": [
    {
     "data": {
      "text/plain": [
       "Text(0.5, 0, 'TIME  (BJD-2457000)')"
      ]
     },
     "execution_count": 16,
     "metadata": {},
     "output_type": "execute_result"
    },
    {
     "data": {
      "image/png": "[encoded data removed]",
      "text/plain": [
       "<Figure size 1100x400 with 2 Axes>"
      ]
     },
     "metadata": {},
     "output_type": "display_data"
    }
   ],
   "source": [
    "sapflux = lc['SAP_FLUX']\n",
    "pdcflux = lc['PDCSAP_FLUX']\n",
    "time_lc = lc['TIME']\n",
    "\n",
    "fig = plt.figure(figsize = (11,4))\n",
    "\n",
    "fig.add_subplot(211)\n",
    "plt.plot(time_lc, sapflux,'.', label = 'SAP', color = \"gold\")\n",
    "plt.legend(loc = 'lower left')\n",
    "plt.ylabel(\"FLUX (e-/s)\")\n",
    "\n",
    "fig.add_subplot(212)\n",
    "plt.plot(time_lc, pdcflux,'.', label = 'PDC', color = \"red\")\n",
    "plt.legend(loc = 'lower left')\n",
    "plt.ylabel(\"FLUX (e-/s)\")\n",
    "plt.xlabel('TIME  (BJD-2457000)')"
   ]
  },
  {
   "cell_type": "markdown",
   "id": "da01b917-4878-4adf-84ed-0c518eac48dd",
   "metadata": {},
   "source": [
    "This definitely looks like a lightcurve! The PDC data, as expected, are smoother and seem more evenly distributed about a median value."
   ]
  },
  {
   "cell_type": "markdown",
   "id": "746bd355-fba3-467f-baa8-1bfe846d9886",
   "metadata": {},
   "source": [
    "# Next: aggregate all the lightcurves!\n",
    "\n",
    "Now we know how to access a single lightcurve. To calculate our occurrence rates, of course, we'll need to download many lightcurves from many stars. \n",
    "\n",
    "The neatest way to do this is to write a function that accesses TESS lightcurves, then loop over that function for all the stars we want to query. Along the way, we'll incorporate a few tricks to speed things up.\n",
    "\n",
    "Instead of, e.g., saving the data as files, it's more efficient to keep all of this data in RAM as we go. A neat way to do this is to define a class for our data, fetch the data with a method of that class, then assign the data to an attribute of that class. This object-oriented approach avoids extra input/output (I/O) time and mantains clean code design."
   ]
  },
  {
   "cell_type": "code",
   "execution_count": 31,
   "id": "f4c72a70-df4a-4da5-b2a8-6417b18fa7f3",
   "metadata": {},
   "outputs": [],
   "source": [
    "class LightcurveData:\n",
    "    def __init__(self, catalog_id):\n",
    "        \"\"\"\n",
    "        Initializes the instance.\n",
    "        \"\"\"\n",
    "        self.catalog_id = catalog_id # assign catalog ID to the object\n",
    "\n",
    "    def fetch_and_save_data(self):\n",
    "        \"\"\"\n",
    "        Accesses and saves data from a TESS target.\n",
    "    \n",
    "        Inputs\n",
    "        ------\n",
    "            :catalog_id: (int) TESS Input Catalog (TIC) ID.\n",
    "    \n",
    "        Outputs\n",
    "        -------\n",
    "        None\n",
    "    \n",
    "        Side effects\n",
    "        ------------\n",
    "        Writes the file `lc_data/{catalog_id}.npy`, containing the timestamps of the lightcurve, the PDCSAP flux, \n",
    "        and the uncertainty on the PDCSAP flux.\n",
    "        \"\"\"\n",
    "        TESS_table = Observations.query_criteria(target_name=self.catalog_id\n",
    "                                                 , obs_collection=\"TESS\"\n",
    "                                                 , dataproduct_type='timeseries'\n",
    "                                                 ) \n",
    "        try:\n",
    "            data_products = Observations.get_product_list(TESS_table) \n",
    "        except InvalidQueryError:\n",
    "            self.pdcflux = np.nan\n",
    "            self.pdcflux_err = np.nan\n",
    "            self.time_lc = np.nan\n",
    "            return\n",
    "            \n",
    "            \n",
    "        # Keep only the science products\n",
    "        filtered = Observations.filter_products(data_products, productType=\"SCIENCE\")\n",
    "        \n",
    "        # Be selective about the columns we display\n",
    "        cols = ['obs_id', 'description', 'productSubGroupDescription']\n",
    "        \n",
    "        # Look at the first five rows of the filtered results\n",
    "        filtered[0:10][cols]\n",
    "        ex_id = filtered[filtered['productSubGroupDescription']=='LC']['obs_id'][0]\n",
    "        \n",
    "        lc_prod = Observations.filter_products(data_products\n",
    "                                              , obs_id = ex_id   \n",
    "                                              , productSubGroupDescription = \"LC\")\n",
    "        \n",
    "        # Get the cloud uris for these files\n",
    "        lc_uri = Observations.get_cloud_uris(lc_prod)[0]\n",
    "    \n",
    "        # open the lc file\n",
    "        lc_fits = fits.open(lc_uri, use_fsspec=True, fsspec_kwargs={\"anon\": True})\n",
    "        \n",
    "        # assign the data to this instance \n",
    "        lc = lc_fits[1].data\n",
    "        sapflux = lc['SAP_FLUX'] #SAP flux column\n",
    "        self.pdcflux = lc['PDCSAP_FLUX'] #PDCSAP flux column\n",
    "        self.pdcflux_err = lc['PDCSAP_FLUX_ERR']\n",
    "        self.time_lc = lc['TIME'] #time column\n",
    "\n",
    "\n",
    "    "
   ]
  },
  {
   "cell_type": "markdown",
   "id": "2685e2ac-26e3-4a6d-bb02-f4d29782928b",
   "metadata": {},
   "source": [
    "Let's test this method out on a single star."
   ]
  },
  {
   "cell_type": "code",
   "execution_count": 25,
   "id": "8a7a1990-0c6c-4a45-97ec-a3e2b8bc5e53",
   "metadata": {},
   "outputs": [],
   "source": [
    "lightcurvedata = LightcurveData(catalog_data['ID'][2])\n",
    "lightcurvedata.fetch_and_save_data()"
   ]
  },
  {
   "cell_type": "markdown",
   "id": "cf0a59e2-4cd7-437f-99e6-77fb265f5b02",
   "metadata": {},
   "source": [
    "Let's check that this function worked correctly by checking that the method performed as expected."
   ]
  },
  {
   "cell_type": "code",
   "execution_count": 27,
   "id": "508b434d-c819-43d4-a50f-65083a60b85f",
   "metadata": {},
   "outputs": [
    {
     "data": {
      "text/plain": [
       "(array([1764.68358735, 1764.68497625, 1764.68636515, ..., 1789.69572896,\n",
       "        1789.69711782, 1789.69850668], dtype='>f8'),\n",
       " array([nan, nan, nan, ..., nan, nan, nan], dtype='>f4'))"
      ]
     },
     "execution_count": 27,
     "metadata": {},
     "output_type": "execute_result"
    }
   ],
   "source": [
    "lightcurvedata.time_lc, lightcurvedata.pdcflux_err"
   ]
  },
  {
   "cell_type": "markdown",
   "id": "43507ac4-1691-4aaa-8b1b-f16548cecfd0",
   "metadata": {},
   "source": [
    "Great! Our data's been downloaded and assigned as an attribute to an object.\n",
    "\n",
    "Now, we want to *parallelize* our computation. What this means is we want to access multiple lightcurve files simultaneously.\n",
    "\n",
    "We'll use wthis with the Python multithreading package. Multithreading is a very rich and complex subject (link something here), but for our purposes we can just think of it as splitting up our machine into different sections that each perform a separate task. Because our option is largely limited by "
   ]
  },
  {
   "cell_type": "code",
   "execution_count": 28,
   "id": "52739400-6d46-4628-8491-47b3a7854607",
   "metadata": {},
   "outputs": [
    {
     "data": {
      "text/plain": [
       "4"
      ]
     },
     "execution_count": 28,
     "metadata": {},
     "output_type": "execute_result"
    }
   ],
   "source": [
    "# explain how to set the max number of workers\n",
    "os.cpu_count() \n"
   ]
  },
  {
   "cell_type": "markdown",
   "id": "6656d749-e517-4237-a686-ea8b330f389b",
   "metadata": {},
   "source": [
    "Now for a short function that will create an object for a catalog ID, download the data, and return the *object*.\n",
    "\n",
    "We'll have this function return both the TIC ID and the object itself so that it can be sorted even if we work through our catalog asynchronously."
   ]
  },
  {
   "cell_type": "code",
   "execution_count": 54,
   "id": "7bc14977-07b6-4126-9e55-72c6da8064f2",
   "metadata": {},
   "outputs": [],
   "source": [
    "def return_object(catalog_id):\n",
    "    lightcurvedata = LightcurveData(catalog_id)\n",
    "    lightcurvedata.fetch_and_save_data()\n",
    "    return catalog_id, lightcurvedata"
   ]
  },
  {
   "cell_type": "code",
   "execution_count": 57,
   "id": "93a89a37-1247-492b-b1ba-82533bb43954",
   "metadata": {},
   "outputs": [
    {
     "name": "stderr",
     "output_type": "stream",
     "text": [
      "  0%|          | 0/531 [03:53<?, ?it/s]\n",
      "100%|██████████| 531/531 [01:53<00:00,  4.67it/s]"
     ]
    }
   ],
   "source": [
    "# Use ThreadPoolExecutor to download files in parallel\n",
    "total_tasks = len(catalog_data['ID'][::100])\n",
    "progress_bar = tqdm(total=total_tasks, position=0, leave=True)\n",
    "\n",
    "max_workers = 5  # Adjust this based on your system's capabilities\n",
    "\n",
    "with ThreadPoolExecutor(max_workers=max_workers) as executor:\n",
    "    futures = [executor.submit(return_object, catalog_id) for catalog_id in catalog_data['ID'][::100]]\n",
    "    for future in as_completed(futures):\n",
    "        progress_bar.update(1)\n",
    "    \n",
    "\n",
    "# now store all the data in a list\n",
    "lightcurve_objects = {}\n",
    "for future in futures:\n",
    "    catalog_id, lightcurvedata = future.result()\n",
    "    lightcurve_objects[catalog_id] = lightcurvedata"
   ]
  },
  {
   "cell_type": "markdown",
   "id": "a265f356-b738-4196-97f3-4730d38481c5",
   "metadata": {},
   "source": [
    "We can access each object now from the `lightcurve_objects` dictionary. Let's check!"
   ]
  },
  {
   "cell_type": "code",
   "execution_count": 58,
   "id": "50844d56-75e4-447f-920e-29336d27324d",
   "metadata": {},
   "outputs": [
    {
     "data": {
      "text/plain": [
       "array([2447.6903333 , 2447.69172227, 2447.69311124, ..., 2473.16202178,\n",
       "       2473.16341069, 2473.16479961], dtype='>f8')"
      ]
     },
     "execution_count": 58,
     "metadata": {},
     "output_type": "execute_result"
    }
   ],
   "source": [
    "lightcurve_objects[catalog_data['ID'][0]].time_lc"
   ]
  },
  {
   "cell_type": "markdown",
   "id": "b7ee9b5b-ac18-4f2c-862a-c0a2562eeec5",
   "metadata": {},
   "source": [
    "Nice!"
   ]
  },
  {
   "cell_type": "markdown",
   "id": "c10f0eb0-3950-4b45-9d05-93d3ea2bc838",
   "metadata": {},
   "source": [
    "# Next: search the lightcurves for planets.\n",
    "We now have our processed data products. The next step is to search them for planets!\n",
    "\n",
    "One of the standard ways to do this is with the [Box-Least Squares algorithm](https://arxiv.org/abs/astro-ph/0206099). This approach takes advantage of the facts that 1) planetary transits are expected to be periodic, and 2) transits are more or less shaped like boxes (excluding effects like limb-darkening). Loosely, the algorithm works similarly to the Lomb-Scargle periodogram, with the key difference that the signal being tested is a box car, instead of a sine wave.\n",
    "\n",
    "Let's load in a light curve and test out the algorithm."
   ]
  },
  {
   "cell_type": "code",
   "execution_count": 60,
   "id": "0c560eb9-6d7d-45fc-8ea7-1dc84de1b9ee",
   "metadata": {},
   "outputs": [],
   "source": [
    "time, flux, flux_err  = lightcurve_objects[catalog_data['ID'][0]].time_lc,  \\\n",
    "                        lightcurve_objects[catalog_data['ID'][0]].pdcflux,  \\\n",
    "                        lightcurve_objects[catalog_data['ID'][0]].pdcflux_err\n",
    "\n",
    "time = time[~np.isnan(flux)]\n",
    "flux_err = flux_err[~np.isnan(flux)]\n",
    "flux = flux[~np.isnan(flux)]\n",
    "model = BoxLeastSquares(time, flux, flux_err)"
   ]
  },
  {
   "cell_type": "markdown",
   "id": "4a210243-c1d6-4f8a-be23-2b16bbb866f9",
   "metadata": {},
   "source": [
    "For this example, we'll search for planets with periods between 0.5 and 10 days. The lower limit is physical: planets can only have periods that are so short before their orbits are unstable. The upper limit is statistical: [Nyquist sampling](https://en.wikipedia.org/wiki/Nyquist%E2%80%93Shannon_sampling_theorem) dictates that you can only detect periodic signals with frequencies at most *half* your observational baseline. That is, you need to be able to detect your signal twice in a dataset in order to measure its period. Because TESS sectors are generally 27 days long, we'll set our upper limit to 13 days. We'll test 1000 trial periods for the purposes of this exploratory notebook."
   ]
  },
  {
   "cell_type": "code",
   "execution_count": 61,
   "id": "17738aee-7906-425a-aa8d-35690caf62e6",
   "metadata": {},
   "outputs": [],
   "source": [
    "lower_limit = 0.5 #days\n",
    "upper_limit = 13 # days\n",
    "n_periods_tested = 1000\n",
    "periods = np.linspace(lower_limit, upper_limit, n_periods_tested)  # in units of days."
   ]
  },
  {
   "cell_type": "markdown",
   "id": "ff6e6c8c-b364-4b19-a8b0-c3e2dae74135",
   "metadata": {},
   "source": [
    "To search for the planets, we will need to specify a transit duration. At first, this may seem like a daunting task — will we have to provide another axis to our search?\n",
    "\n",
    "To keep things computationally feasible for this notebook, let's appeal to the original goal: finding hot Jupiters orbiting Sun-like stars. Because we're searching for a specific planet type (with a certain orbital period range) orbiting a certain type of star, there should be an expected transit duration for our search. Let's calculate what that duration is.\n",
    "\n",
    "Assuming a circular orbit, the transit duration is (Seager & Mallén-Ornelas 2003):\n",
    "\n",
    "$$T_{\\rm dur} =\\frac{P}{\\pi} \\arcsin\\bigg{(}\\frac{\\sqrt{1 - a^2/R_{\\star}^2 \\cos^2(i)}}{a^2/R_{\\star}^2\\sin(i)}\\bigg{)},$$\n",
    "\n",
    "where $P$ is the orbital period, $a$ is the semimajor axis, $R_{\\star}$ is the orbital inclination, and $i$ is the orbital inclination.\n",
    "\n",
    "What do we know? We have the mass of the planet and the star, and the orbital period is about a day. From Kepler's third law we can then calculate the semimajor axis. \n",
    "\n",
    "Let's code this up!"
   ]
  },
  {
   "cell_type": "code",
   "execution_count": 62,
   "id": "9aa883a5-b0ef-468b-9b59-abaf292622cd",
   "metadata": {},
   "outputs": [],
   "source": [
    "def calc_a_from_period(period, planet_mass, stellar_mass):\n",
    "    \"\"\"\n",
    "\n",
    "    Given the period, uses Kepler's Third Law to calculate the semimajor axis in meters.\n",
    "\n",
    "    Inputs\n",
    "    -----\n",
    "        :period: orbital period of planet (s)\n",
    "        :planet_mass: mass of planet (kg)\n",
    "        :stellar_mass: mass of star (kg)\n",
    "\n",
    "    Outputs\n",
    "    ------\n",
    "        :a: semimajor axis(meters)\n",
    "    \"\"\"\n",
    "    total_mass = planet_mass + stellar_mass\n",
    "    a_cubed = (const.G.si.value * total_mass * period**2) / (4 * np.pi**2)\n",
    "    a = a_cubed**(1/3)\n",
    "    return a"
   ]
  },
  {
   "cell_type": "code",
   "execution_count": 63,
   "id": "ba73bd12-d9db-40c9-9921-f75a2209578a",
   "metadata": {},
   "outputs": [],
   "source": [
    "def calc_t_dur(P, a, rstar, i):\n",
    "    \"\"\"\n",
    "    Calculates the transit duration, in seconds, of a planet.\n",
    "\n",
    "    Inputs\n",
    "    ------\n",
    "        :P: the orbital period of the planet, in seconds.\n",
    "        :a: the semimajor axis of the planet, in meters.\n",
    "        :rstar: the radius of the star, in meters.\n",
    "        :i: the inclincation of the planet, in radians. an inclination of 0 is face-on (non-transiting); an inclination of pi/2 is perfectly transiting.\n",
    "    \"\"\"\n",
    "    a_r_2 = (a/rstar)**2\n",
    "    return (P / np.pi) * np.arcsin(np.sqrt(1 - a_r_2 * np.square(np.cos(i))) / (a_r_2 * np.sin(i)))\n",
    "    "
   ]
  },
  {
   "cell_type": "code",
   "execution_count": 64,
   "id": "8d35a693-5711-4c12-99c1-47bcd298ea86",
   "metadata": {},
   "outputs": [
    {
     "data": {
      "text/plain": [
       "(<Quantity 0.29891527 h>, <Quantity 0.0124548 d>)"
      ]
     },
     "execution_count": 64,
     "metadata": {},
     "output_type": "execute_result"
    }
   ],
   "source": [
    "period = (3 * u.day).si.value # 1 day orbital period, expressed in seconds\n",
    "planet_mass = (1 * u.M_jup).si.value # jupiter mass\n",
    "stellar_mass = (1 * u.M_sun).si.value # solar mass\n",
    "stellar_radius = (1 * u.R_sun).si.value # solar radius\n",
    "inclination  = np.pi/2 # transiting across the stellar equator\n",
    "\n",
    "a = calc_a_from_period(period, planet_mass, stellar_mass)\n",
    "t_dur = calc_t_dur(period, a, stellar_radius, inclination)\n",
    "\n",
    "(t_dur * u.s).to(u.hour), (t_dur * u.s).to(u.day)"
   ]
  },
  {
   "cell_type": "code",
   "execution_count": 65,
   "id": "c03e96bd-6c5b-4423-a99b-c954dc87f5d2",
   "metadata": {},
   "outputs": [
    {
     "data": {
      "text/plain": [
       "0.012454802805972288"
      ]
     },
     "execution_count": 65,
     "metadata": {},
     "output_type": "execute_result"
    }
   ],
   "source": [
    "(t_dur * u.s).to(u.day).value"
   ]
  },
  {
   "cell_type": "markdown",
   "id": "6b6ebe46-74f0-414f-91eb-a96858ffb78f",
   "metadata": {},
   "source": [
    "Great! Now let's express this transit duration in days and find our planets."
   ]
  },
  {
   "cell_type": "code",
   "execution_count": 66,
   "id": "dd8d59e3-c733-468f-80f7-e32fcad7778c",
   "metadata": {},
   "outputs": [
    {
     "data": {
      "text/plain": [
       "0.012454802805972288"
      ]
     },
     "execution_count": 66,
     "metadata": {},
     "output_type": "execute_result"
    }
   ],
   "source": [
    "t_dur = (t_dur * u.s).to(u.day).value\n",
    "t_dur"
   ]
  },
  {
   "cell_type": "code",
   "execution_count": 67,
   "id": "204268fb-d0ef-4699-8d88-50333ea97cce",
   "metadata": {},
   "outputs": [],
   "source": [
    "results = model.power(periods, t_dur)  # The second argument is the duration of the transit (in days)"
   ]
  },
  {
   "cell_type": "markdown",
   "id": "8a60dd08-3ece-445d-b1b4-88aadf4a2ec3",
   "metadata": {},
   "source": [
    "We can access the best-fitting period from our planet search with the below cell."
   ]
  },
  {
   "cell_type": "code",
   "execution_count": 68,
   "id": "5fd55be3-e9ec-49ad-9b67-630f5486360b",
   "metadata": {},
   "outputs": [
    {
     "name": "stdout",
     "output_type": "stream",
     "text": [
      "Best-fit period: 12.361861861861863\n"
     ]
    }
   ],
   "source": [
    "best_period = results.period[np.argmax(results.power)]\n",
    "print(\"Best-fit period:\", best_period)"
   ]
  },
  {
   "cell_type": "markdown",
   "id": "3d87477f-b5d4-469c-8d10-d9c28e670fd3",
   "metadata": {},
   "source": [
    "Now let's plot up the signal-to-noise of the tested planetary signals at all tested periods, paying special attention to the best-fitting period."
   ]
  },
  {
   "cell_type": "code",
   "execution_count": 69,
   "id": "34a8ffd1-56f2-4920-b378-7f9a15b907eb",
   "metadata": {},
   "outputs": [
    {
     "data": {
      "text/plain": [
       "<matplotlib.legend.Legend at 0x7f9a515a79d0>"
      ]
     },
     "execution_count": 69,
     "metadata": {},
     "output_type": "execute_result"
    },
    {
     "data": {
      "image/png": "[encoded data removed]",
      "text/plain": [
       "<Figure size 640x480 with 1 Axes>"
      ]
     },
     "metadata": {},
     "output_type": "display_data"
    }
   ],
   "source": [
    "plt.plot(results.period, results.depth_snr)\n",
    "plt.axvline(best_period, color='black', linestyle='--', label='Best-fitting period')\n",
    "plt.xlabel('Period (days)')\n",
    "plt.ylabel('Signal S/N')\n",
    "plt.legend(frameon=False)"
   ]
  },
  {
   "cell_type": "markdown",
   "id": "41038e50-41e0-4c82-8982-c37ce23300f5",
   "metadata": {},
   "source": [
    "Awesome! Now let's wrap this code in a function and apply it to all the selected planets."
   ]
  },
  {
   "cell_type": "code",
   "execution_count": 70,
   "id": "dc64f4be-baa6-439d-ad60-7ec442bdfe46",
   "metadata": {},
   "outputs": [],
   "source": [
    "def do_bls(time, flux, flux_err):\n",
    "    model = BoxLeastSquares(time, flux, flux_err)\n",
    "    results = model.power(periods, 0.1)  # The second argument is the duration of the transit (in days)\n",
    "    max_power = np.argmax(results.power)\n",
    "    stats = model.compute_stats(results.period[max_power],\n",
    "                                results.duration[max_power],\n",
    "                                results.transit_time[max_power])\n",
    "\n",
    "    # todo: check even and odd\n",
    "    return results, stats"
   ]
  },
  {
   "cell_type": "code",
   "execution_count": 71,
   "id": "a3f9ae42-1ac7-4241-a0f5-0bd5e595670f",
   "metadata": {},
   "outputs": [],
   "source": [
    "def do_inversion_test(time, flux, flux_err):\n",
    "    inverted_flux = -1 * flux + 2* np.mean(flux)\n",
    "    results, stats = do_bls(time, inverted_flux, flux_err)\n",
    "    return results, stats"
   ]
  },
  {
   "cell_type": "code",
   "execution_count": 83,
   "id": "e849acbf-82a5-4a8f-9356-3b43e7e3e4a1",
   "metadata": {},
   "outputs": [],
   "source": [
    "def find_planet(ticid):\n",
    "    \"\"\"\n",
    "    This is our main function to find a planet. We basically perform the box-least squares algorithm, \n",
    "    then do a simple inversion test.\n",
    "\n",
    "    todo: make this searchable by ticid.\n",
    "    \"\"\"\n",
    "    lightcurve_object = lightcurve_objects[ticid]\n",
    "    time, flux, flux_err  = lightcurve_object.time_lc, lightcurve_object.pdcflux, lightcurve_object.pdcflux_err\n",
    "\n",
    "    # time is just a nan if the download did not proceed correctly.\n",
    "    if isinstance(time, float):\n",
    "        return False\n",
    "\n",
    "\n",
    "    time = time[~np.isnan(flux)]\n",
    "    flux_err = flux_err[~np.isnan(flux)]\n",
    "    flux = flux[~np.isnan(flux)]\n",
    "    model = BoxLeastSquares(time, flux, flux_err)\n",
    "    results = model.power(periods, t_dur)  # The second argument is the duration of the transit (in days)\n",
    "    max_power = np.argmax(results.power)\n",
    "    stats = model.compute_stats(results.period[max_power],\n",
    "                                results.duration[max_power],\n",
    "                                results.transit_time[max_power])\n",
    "\n",
    "    \n",
    "    # do the inversion test here? if we invert it and find the transit, not good.\n",
    "    if len(stats['transit_times']) >= 2 and results.depth_snr[max_power] >= 10:\n",
    "\n",
    "        # test for variability\n",
    "        inverted_results, inverted_stats = do_inversion_test(time, flux, flux_err)\n",
    "        if len(inverted_stats['transit_times']) < 2 or inverted_results.depth_snr[max_power] < 10:\n",
    "            return True\n",
    "\n",
    "    # todo: The harmonic_delta_log_likelihood is the difference in log likelihood between a sinusoidal model and the transit model. If harmonic_delta_log_likelihood is greater than zero, the sinusoidal model is preferred.\n",
    "\n",
    "            \n",
    "    return False\n",
    "\n",
    "        \n",
    "        # we found a planet then!"
   ]
  },
  {
   "cell_type": "code",
   "execution_count": 90,
   "id": "ba2483f1-4d7f-46d3-b8e9-4fec69312f72",
   "metadata": {},
   "outputs": [
    {
     "name": "stderr",
     "output_type": "stream",
     "text": [
      "100%|██████████| 531/531 [02:44<00:00,  3.23it/s]\n"
     ]
    }
   ],
   "source": [
    "found_planets = {}\n",
    "for catalog_id in tqdm(catalog_data['ID'][::100], position=0):\n",
    "    found_planets[catalog_id] = find_planet(catalog_id)"
   ]
  },
  {
   "cell_type": "markdown",
   "id": "516e7527-0885-423e-947b-9fb5f11546c0",
   "metadata": {},
   "source": [
    "Great! Let's quickly see how many planets our simple pipeline found."
   ]
  },
  {
   "cell_type": "code",
   "execution_count": 98,
   "id": "f913025c-a7b7-445e-8828-dde4b0852049",
   "metadata": {},
   "outputs": [
    {
     "data": {
      "text/plain": [
       "6"
      ]
     },
     "execution_count": 98,
     "metadata": {},
     "output_type": "execute_result"
    }
   ],
   "source": [
    "n_found_planets = np.sum(list(found_planets.values()))\n",
    "n_found_planets"
   ]
  },
  {
   "cell_type": "markdown",
   "id": "1ce93168-62db-417a-9f7b-558d1ffdd1b6",
   "metadata": {},
   "source": [
    "The simplest way to calculate occurrence rates is to divide the number of planets found by the number of stars searched. Let's go ahead and try that out."
   ]
  },
  {
   "cell_type": "code",
   "execution_count": 99,
   "id": "f80cb549-1d8c-4a32-baff-ac3266aee499",
   "metadata": {},
   "outputs": [
    {
     "data": {
      "text/plain": [
       "0.011299435028248588"
      ]
     },
     "execution_count": 99,
     "metadata": {},
     "output_type": "execute_result"
    }
   ],
   "source": [
    "n_found_planets/len(found_planets)"
   ]
  },
  {
   "cell_type": "markdown",
   "id": "d0e206ac-a193-42ae-88fc-c90622aaaf54",
   "metadata": {},
   "source": [
    "This number the same order of magnitude as the expected hot Jupiter occurrence rate (about 0.6% around G stars; [Beleznay & Kunimoto 2022](https://academic.oup.com/mnras/article/516/1/75/6654884)). Nice!\n",
    "\n",
    "But this nearly correct answer is a lucky coincidence: we must have a lot of false positives! More advanced planet-finding and occurrence rate pipelines take multiple additional factors into consideration:\n",
    "\n",
    "- some of the planet signals are astrophysical (e.g., eclipsing binary) or instrumental (e.g., the Kepler \"rolling bands\") false positives.\n",
    "- we are not sensitive to planets orbiting in all configurations via the transit method (i.e., most planets do not transit).\n",
    "- our pipeline is equally sensitive to all signal sizes, e.g. smaller planets around bigger stars.\n",
    "\n",
    "[aaand end the notebook! couple ways to extend: add error bars, one line of code, a little statistics? add more testing to the planet detection pipeline?]"
   ]
  },
  {
   "cell_type": "code",
   "execution_count": null,
   "id": "68782f95-a6f5-460e-b46b-745c7e478138",
   "metadata": {},
   "outputs": [],
   "source": []
  }
 ],
 "metadata": {
  "kernelspec": {
   "display_name": "TESS Environment",
   "language": "python",
   "name": "tess"
  },
  "language_info": {
   "codemirror_mode": {
    "name": "ipython",
    "version": 3
   },
   "file_extension": ".py",
   "mimetype": "text/x-python",
   "name": "python",
   "nbconvert_exporter": "python",
   "pygments_lexer": "ipython3",
   "version": "3.11.9"
  }
 },
 "nbformat": 4,
 "nbformat_minor": 5
}
