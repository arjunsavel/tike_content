{
 "cells": [
  {
   "cell_type": "markdown",
   "id": "966e5b6e-c128-46fb-9b59-468f5b2df949",
   "metadata": {},
   "source": [
    "<a id=\"top\"></a>\n",
    "# Look For Transients In FFI's In Nearby Galaxies\n",
    "***"
   ]
  },
  {
   "cell_type": "markdown",
   "id": "5f1d2486-cf71-4681-887f-132ccabeddd5",
   "metadata": {},
   "source": [
    "## Prerequisites\n",
    "Before beginning this tutorial, you should be familiar with: \n",
    "- Python syntax, including [for loops](https://www.py4e.com/html3/05-iterations)\n",
    "- [astropy tables](https://docs.astropy.org/en/stable/table/index.html)\n",
    "- [astropy Time objects](https://docs.astropy.org/en/stable/time/index.html)\n",
    "- Types of [extragalactic transients](https://astrobites.org/2022/10/30/guide-to-transient-astronomy/)\n",
    "- [lightkurve TargetPixelFile objects](https://docs.lightkurve.org/tutorials/1-getting-started/what-are-targetpixelfile-objects.html)"
   ]
  },
  {
   "cell_type": "markdown",
   "id": "1cf69baf-3211-4c1d-ab50-cfa76b681cce",
   "metadata": {},
   "source": [
    "## Learning Goals\n",
    "\n",
    "By the end of this tutorial, you will:\n",
    "\n",
    "- Use ``Observations.query_criteria`` to find the fields of view, start times, and end times of all TESS full frame images (FFIs)\n",
    "- Load an online table of transient events as an astropy table\n",
    "- Determine if a transient event (based on location and time) was observed by TESS\n",
    "- Use ``lightkurve`` and ``tesscut`` to extract the background-subtracted lightcurve of a single pixel centered on a transient event"
   ]
  },
  {
   "cell_type": "markdown",
   "id": "01096503-6284-4479-bffc-7f0af887a33a",
   "metadata": {},
   "source": [
    "## Introduction\n",
    "\n",
    "The primary mission of the [Transiting Exoplanet Survey Satellite (TESS)](https://archive.stsci.edu/missions-and-data/tess) is to detect Earth-sized planets orbiting bright stars. Though much of the pipeline analysis focuses on selected targets, Full Frame Images (FFIs) of the entire 24$^\\circ$ by 96$^\\circ$ field-of-view are available for download and analysis. Each 24$^\\circ$ by 96$^\\circ$ sector is observed for about 27 days, and many sectors are overlapping. This means that other interesting targets can be observed in the TESS FFIs; here, we focus on known extragalactic transients, such as supernovae. We will focus on the transients reported by the Zwicky Transient Facility (ZTF). The ZTF scans the entire Northern hemisphere sky every two days; objects we find here will also likely have follow-up data from other ground-based missions. \n",
    "\n",
    "How many of these targets were being observed by the TESS cameras during the transient event? Though it is possible to query the MAST Archive by coordinate or object name, this is a very inefficient process for many targets. To efficiently conduct this analysis for thousands of transients, we will first find time and coordinate information from the FFIs directly from the MAST Archive and then use that information to do our own searching with in the FFIs. Finally, we will focus on one observed transient and extract a background-subtracted light curve of a single pixel. "
   ]
  },
  {
   "cell_type": "markdown",
   "id": "3f01e31d-ed02-468e-888e-710c72c7fcdb",
   "metadata": {},
   "source": [
    "## Imports\n",
    "- *matplotlib.pyplot* for plotting data\n",
    "- *numpy* to handle array functions\n",
    "- *astropy.io fits* for accessing FITS files\n",
    "- *astropy.table Table* for creating tidy tables of the data\n",
    "- *astroquery.mast Mast* and *Observations* for searching the MAST archive\n",
    "- *astropy.coordinates SkyCoord, astropy.time Time*, and *astropy.units u* for keeping track of sky coordinates, dates and times, and units, respectively\n",
    "- *astroquery.mast Tesscut* for downloading target-pixel files from TESS data\n",
    "- *lightkurve* for creating and viewing lightcurves from TESS data"
   ]
  },
  {
   "cell_type": "code",
   "execution_count": null,
   "id": "cc9f8e9f-c51a-460b-bb22-b754a3264d2a",
   "metadata": {},
   "outputs": [],
   "source": [
    "%matplotlib inline\n",
    "import matplotlib.pyplot as plt\n",
    "import numpy as np\n",
    "from astropy.io import fits\n",
    "from astropy.table import Table\n",
    "from astroquery.mast import Mast\n",
    "from astroquery.mast import Observations\n",
    "from astropy.coordinates import SkyCoord\n",
    "from astropy.time import Time\n",
    "import astropy.units as u\n",
    "from astroquery.mast import Tesscut\n",
    "import lightkurve as lk"
   ]
  },
  {
   "cell_type": "markdown",
   "id": "0c0edd4d-f1f1-4a8c-8a20-0dbf3c44cb06",
   "metadata": {},
   "source": [
    "Tables from the Zwicky Transient Facility [ZTF Bright Transient Survey](https://sites.astro.caltech.edu/ztf/bts/bts.php) are available online. In the ZTF Bright Transient Survey Sample (BTSS) Explorer, we can make a selection of criteria and produce a list of targets; the resulting URL can be pasted directly into our notebook and loaded into an astropy table. The only criterion we will choose is a peak magnitude of less than or equal to 19.0, which makes it more likely to have been detected by TESS (or, brighter than a certain threshold; the stellar magnitude system is explained [here by Sky & Telescope](https://skyandtelescope.org/astronomy-resources/the-stellar-magnitude-system/) or [here by OpenStax Astronomy 2e](https://openstax.org/books/astronomy-2e/pages/17-1-the-brightness-of-stars)). \n",
    "\n",
    "We'll also choose CSV as the output. "
   ]
  },
  {
   "cell_type": "code",
   "execution_count": null,
   "id": "7d185e5e-51a0-4286-ae04-4abf928bb49c",
   "metadata": {},
   "outputs": [],
   "source": [
    "url = 'https://sites.astro.caltech.edu/ztf/bts/explorer.php?f=s&subsample=trans&classstring=&classexclude=&ztflink=lasair&lastdet=&startsavedate=&startpeakdate=&startra=&startdec=&startz=&startdur=&startrise=&startfade=&startpeakmag=&startabsmag=&starthostabs=&starthostcol=&startb=&startav=&endsavedate=&endpeakdate=&endra=&enddec=&endz=&enddur=&endrise=&endfade=&endpeakmag=19.0&endabsmag=&endhostabs=&endhostcol=&endb=&endav=&reverse=y&format=csv'\n",
    "tab = Table.read(url,format='csv')\n",
    "\n",
    "tab"
   ]
  },
  {
   "cell_type": "markdown",
   "id": "42e46719-8f6d-4dae-b52d-de2f64d0c80b",
   "metadata": {},
   "source": [
    "More information about the columns can be found in the [ZTF Bright Transient Survey Sample Explorer documentation](https://sites.astro.caltech.edu/ztf/bts/explorer_info.html). The columns we are most interested in are:\n",
    "- ``RA`` and ``Dec``, which we'll use to see if these targets are in any TESS sectors.\n",
    "- ``time``, the time of the peak brightness, expressed as JD-2458000.\n",
    "- ``rise``, the rise time (in days) from half-peak to peak.\n",
    "- ``fade``, the fade time (in days) from peak to half-peak\n",
    "\n",
    "Notice that some of the rise and fade times are lower limits. "
   ]
  },
  {
   "cell_type": "markdown",
   "id": "b6d7f0ab-68f4-4cb9-8ca2-4446b04f183d",
   "metadata": {},
   "source": [
    "## Get dates and coordinates of TESS FFIs from MAST\n",
    "The [TESS Observations](https://tess.mit.edu/observations/) page provides useful tables, including the start/end times of each sector's observing period and the coordinates of each camera during the sector. We can cleverly use a query to MAST to find this same information, and then determine if a known transient phenomenon was observed by TESS. Let's use the [astropy.mast Observations.query_criteria](https://astroquery.readthedocs.io/en/latest/mast/mast.html#observation-criteria-queries) function to view a table of all of the TESS Full Frame Images (FFI's). The key is to know that these are found using `target_name='TESS FFI'`. After returning the results table, we'll see how long it is, sort it by `t_min` (the observation start time; see below), and view the first three rows.\n",
    "\n",
    "Why not just query on the transients right away? To do that, we'd need to pass times and coordinate information for all 8000+ events. Individually, each query is \"fast\" (~2s), but combined they'd take 18000s or 300 minutes. Instead, let's parse the table ourselves."
   ]
  },
  {
   "cell_type": "code",
   "execution_count": null,
   "id": "e23dbb87-6e0e-4da0-8e23-74015339cad3",
   "metadata": {},
   "outputs": [],
   "source": [
    "FFIs = Observations.query_criteria(project='TESS',target_name='TESS FFI')\n",
    "print('Length of FFI table: ',len(FFIs))\n",
    "FFIs.sort('t_min')\n",
    "FFIs[0:3]"
   ]
  },
  {
   "cell_type": "markdown",
   "id": "a7439200-d01c-4488-b4ca-7acd3b5e2fab",
   "metadata": {},
   "source": [
    "The MAST documentation includes more information about these [table columns](https://mast.stsci.edu/api/v0/_c_a_o_mfields.html). Some of the most important columns for our purposes will be:\n",
    "- `obs_id` which we can parse into the sector name, camera number, and the CCD number. As we can see from the [TESS Observations](https://tess.mit.edu/observations/) page, the total field of view is a 24$^\\circ$ by 96$^\\circ$ rectangle, divided into 4 cameras, each of which is divided into 4 CCD's.  For example, an `obs_id` of `tess-s0020-1-3` indicates the observation associated with TESS Sector 10, Camera 1, CCD 3. \n",
    "- `sequence_number` also gives the TESS sector number.\n",
    "- `s_ra` and `s_dec`, the coordinates of the center of the image\n",
    "- `t_min` and `t_max`, the start and end time of the observations in MJD or \"Modified Julian Date\" which is the Julian Date minus 2400000.5\n",
    "- `s_region`, a list of the corners of the field of view of this observation. The field of view for each CCD is about a 12$^\\circ$ by 12$^\\circ$ square. \n",
    "\n",
    "Let's examine the first value of the `s_region` column, which we can see is a long string with the values separated by spaces."
   ]
  },
  {
   "cell_type": "code",
   "execution_count": null,
   "id": "eda390bb-0357-48cb-b393-36884c0af7bc",
   "metadata": {},
   "outputs": [],
   "source": [
    "FFIs['s_region'][0]"
   ]
  },
  {
   "cell_type": "markdown",
   "id": "19676fcf-1f3a-4c9f-a2c5-ddb32843837f",
   "metadata": {},
   "source": [
    "We can parse this information by splitting the string into pieces everywhere there is a space. In that case, the [1,3,5,7,9] elements represent RA's and the [2,4,6,8,10] elements represent declinations, all in decimal degrees. We'll also convert those from strings to floats for calculations. Let's view the shape traced out by these coordinates."
   ]
  },
  {
   "cell_type": "code",
   "execution_count": null,
   "id": "b812d9c2-9cd9-4533-8b59-77548e985268",
   "metadata": {},
   "outputs": [],
   "source": [
    "example_RAs=[float(FFIs['s_region'][0].split(' ')[i]) for i in [1,3,5,7,9]]\n",
    "example_Decs=[float(FFIs['s_region'][0].split(' ')[i]) for i in [2,4,6,8,10]]\n",
    "plt.plot(example_RAs,example_Decs)\n",
    "plt.xlabel('RA (decimal degrees)')\n",
    "plt.ylabel('Dec (decimal degrees)')"
   ]
  },
  {
   "cell_type": "markdown",
   "id": "4ac3f752-37d7-42e3-af56-30c084b696a4",
   "metadata": {},
   "source": [
    "These coordinates do not look particularly square, because we are representing a portion of a sphere with a flat surface and we did not attempt to account for any projection effects. For a better preview, we could have used something like [ipyaladin](https://github.com/cds-astro/ipyaladin).\n",
    "\n",
    "We know for sure that if our target is within 6 degrees of the center, it will be within the CCD's field of view (this defines the largest circle that can fit inside the square). A target at the corner of the field of view would be about $\\sqrt{(6^\\circ)^2+(6^\\circ)^2} \\approx 8.5^\\circ$ away from the center; but not all targets between $6^\\circ$ and $8.5^\\circ$ are within the field of view. \n",
    "\n",
    "For the purposes of this tutorial, we'll just see if targets are within $6^\\circ$ of the center of the CCD. To do a more complete search, which would include targets in the corners of the square (outside of the central circle), you could either use linear algebra concepts or install new Python packages such as [Regions](https://astropy-regions.readthedocs.io/en/stable/index.html) (see Additional Exercises)."
   ]
  },
  {
   "cell_type": "markdown",
   "id": "980e9181-2b29-4560-9f36-78d55de9bc02",
   "metadata": {},
   "source": [
    "## See which transients were observed by TESS at the right time\n",
    "We are interested in which transient targets in our table ``tab`` are within 6$^\\circ$ of the center of a Full Frame Image. More importantly, we are interested in those observed by TESS *during* the transient event. \n",
    "\n",
    "We'd like to know if any of the time period from half-peak to peak and back to half-peak again is captured in the TESS data. Because the TESS segments are about 27 days, we'll be interested in observations with start time is up to 26 days before the first half-peak or up to the start of the second half-peak. \n",
    "\n",
    "Let's create columns to record the total number of TESS FFI's that contain the target (``nTESS``), and the number that contain the target and are timed correctly (``nTESStimed``)."
   ]
  },
  {
   "cell_type": "code",
   "execution_count": null,
   "id": "58d870a0-12be-4cc8-a4cd-8943d531ff51",
   "metadata": {},
   "outputs": [],
   "source": [
    "tab.add_column(np.zeros(len(tab),dtype=int),name='nTESS')\n",
    "tab.add_column(np.zeros(len(tab),dtype=int),name='nTESStimed')"
   ]
  },
  {
   "cell_type": "markdown",
   "id": "00342090-a65f-4f13-9545-2b4c130864a9",
   "metadata": {},
   "source": [
    "### Setup SkyCoord and DateTime objects\n",
    "\n",
    "To determine distances on the sky, we'll want to use [astropy SkyCoord objects](https://docs.astropy.org/en/stable/coordinates/index.html). Likewise, to determine differences in dates and times, we'll use [astropy DateTime objects](https://docs.astropy.org/en/stable/time/index.html). "
   ]
  },
  {
   "cell_type": "code",
   "execution_count": null,
   "id": "6c669f48-d239-4f2a-9565-649769c21906",
   "metadata": {},
   "outputs": [],
   "source": [
    "# Create SkyCoordinate objects for each row in the FFI table\n",
    "FFIs['SkyCoord']=SkyCoord(FFIs['s_ra'],FFIs['s_dec'],unit=(u.deg,u.deg))"
   ]
  },
  {
   "cell_type": "code",
   "execution_count": null,
   "id": "2eb7c0c6-dd1b-417d-bd07-22484571e694",
   "metadata": {},
   "outputs": [],
   "source": [
    "# Create SkyCoordinate objects for each row in the target table.\n",
    "tab['SkyCoord']=SkyCoord(tab['RA'],tab['Dec'],unit=(u.hourangle,u.deg))"
   ]
  },
  {
   "cell_type": "code",
   "execution_count": null,
   "id": "4b763ef7-cd8b-4531-85d7-fc1034197455",
   "metadata": {},
   "outputs": [],
   "source": [
    "# Create peak Time objects for reach row in the target table.\n",
    "tab['peakTime']=Time(tab['peakt']+2458000,format='jd')"
   ]
  },
  {
   "cell_type": "markdown",
   "id": "25b9134a-42b2-4e7f-aa0e-8dd536832584",
   "metadata": {},
   "source": [
    "We are interested in observations that start at no more than 26 days before the start of the first half peak. Or, observations could start as late as the time of the second half-peak. The start and end times of the FFI's are floats in Modified Julian Day, so we will design these columns to match those from the FFI's. We will simply use the values of lower lower limits, so we'll have to strip the ``>`` character from the ``rise`` and ``fade`` strings."
   ]
  },
  {
   "cell_type": "code",
   "execution_count": null,
   "id": "512abd63-eda8-4a91-bbd7-06fc03547041",
   "metadata": {},
   "outputs": [],
   "source": [
    "# Create columns for the min and max mjd, as floats.\n",
    "tab['minStart']=tab['peakTime'].mjd-[float(row['rise'].strip('>')) for row in tab]-26\n",
    "tab['maxStart']=tab['peakTime'].mjd+[float(row['fade'].strip('>')) for row in tab]"
   ]
  },
  {
   "cell_type": "markdown",
   "id": "f8f366d8-c934-47e8-a21a-bb3c1f9d2934",
   "metadata": {},
   "source": [
    "### Exercise: working with time objects\n",
    "Confirm that our MJD minStart and maxStart times are correct for SN2023koy; its peak occured on June 28, 2023. \n",
    "\n",
    "**Hint: use [astropy.time](https://docs.astropy.org/en/stable/time/index.html)**"
   ]
  },
  {
   "cell_type": "code",
   "execution_count": null,
   "id": "773fe08b-dbdd-4a16-bce7-a271c0ba8bec",
   "metadata": {},
   "outputs": [],
   "source": [
    "# code for exercise here"
   ]
  },
  {
   "cell_type": "markdown",
   "id": "0a35fbfd-7e47-42ca-b8ed-968620177342",
   "metadata": {},
   "source": [
    "### Search the FFI table for transient objects\n",
    "Below, we have a for loop that will examine each transient event one at a time. We'll record which FFI's contain the coordinate, as well as which ones are at the right timing. In other words,``arr1`` and ``arr2`` are arrays of the same length as the ``FFIs`` table. The code cell below will take about 20 seconds to run."
   ]
  },
  {
   "cell_type": "code",
   "execution_count": null,
   "id": "e03833c8-2bbe-493d-a26f-b1f8b07bc992",
   "metadata": {},
   "outputs": [],
   "source": [
    "ntab=len(tab)\n",
    "for i,row in enumerate(tab):\n",
    "    # Calculate the separation between each FFI's central SkyCoord and this transient's SkyCoord. \n",
    "    # Create a boolean array with element \"true\" if the separation is less than 6 degrees. \n",
    "    arr1=(row['SkyCoord'].separation(FFIs['SkyCoord'])<6*u.deg)\n",
    "    # Create a boolean array for all FFI's with element \"true\" if the start time is between\n",
    "    # our transient's defined min and max.\n",
    "    arr2=(row['minStart']<=FFIs['t_min']) & (row['maxStart']>=FFIs['t_min'])\n",
    "    # Record the total number of TESS FFI's that contain the transient coordinate.\n",
    "    tab['nTESS'][i]=np.sum(arr1)\n",
    "    # Record the total number of TESS FFI's that contain the transient coordinate AND are at the right time.\n",
    "    tab['nTESStimed'][i]=np.sum((arr1) & (arr2))\n",
    "    # Print an update every 1000 transients so we know the code is progressing.\n",
    "    if np.mod(i,1000)==0 or i==ntab-1: \n",
    "        print(i,'/',ntab-1)"
   ]
  },
  {
   "cell_type": "markdown",
   "id": "71fa7787-09ac-4e94-87dc-b8e48eaec561",
   "metadata": {},
   "source": [
    "Let's see how many of our transient objects are in the field of view of TESS observations, and how many have TESS observations timed correctly:"
   ]
  },
  {
   "cell_type": "code",
   "execution_count": null,
   "id": "4108c19f-fbe9-4fb7-9bef-36f852be6c78",
   "metadata": {},
   "outputs": [],
   "source": [
    "# FOV count\n",
    "print(np.sum(tab['nTESS']>0))\n",
    "# correct timing count\n",
    "print(np.sum(tab['nTESStimed']>0))"
   ]
  },
  {
   "cell_type": "markdown",
   "id": "77729b20-5fda-47bc-b4c0-34175c107c63",
   "metadata": {},
   "source": [
    "Because TESS has observed the whole sky, it makes sense that almost all of the transients are identified in at least one TESS FFI, though we miss some because of our approximations used above. However, the second number printed above is much smaller, because not all observations will have been at the right time."
   ]
  },
  {
   "cell_type": "markdown",
   "id": "095e5fae-3cd9-4672-ae88-0609667c992d",
   "metadata": {},
   "source": [
    "## Use TESScut and lightkurve to view the lightcurve of one transient event\n",
    "Let's choose one transient event to investigate further. [Fausnaugh et. al. 2021](https://ui.adsabs.harvard.edu/abs/2021ApJ...908...51F/abstract) presented a number of lightcurves of Type Ia supernovae observed with TESS, some of which were first discovered by ZTF and will be in our table. Let's look at the one given the name SN2018koy. "
   ]
  },
  {
   "cell_type": "markdown",
   "id": "62f609a5-4358-44d4-a489-78fe56345cf8",
   "metadata": {},
   "source": [
    "### Determine the desired TESS sector for our target"
   ]
  },
  {
   "cell_type": "code",
   "execution_count": null,
   "id": "0aa33336-e96a-4f10-a6b6-d90686d537b7",
   "metadata": {},
   "outputs": [],
   "source": [
    "# Determine the index of SN2018koy and select and view the row of the table.\n",
    "name='SN2018koy'\n",
    "i=np.where(tab['IAUID']==name)\n",
    "row=tab[i]\n",
    "row"
   ]
  },
  {
   "cell_type": "markdown",
   "id": "6815eb79-915a-473a-af94-b686880b396f",
   "metadata": {},
   "source": [
    "We only noted how many correctly timed TESS observations were available for this transient; now we need to actually determine which sectors they correspond to. Now we'll use query_criteria to find the MAST observations that meet our criteria:\n",
    "- ``objectname`` = SN2018koy; MAST will resolve that recognized name into a coordinate and do a cone search.\n",
    "- ``target_name = TESS FFI``\n",
    "- ``t_min``, start time between the previously determined limits"
   ]
  },
  {
   "cell_type": "code",
   "execution_count": null,
   "id": "b326a7b9-0ff5-4e0d-a6b2-83d6aedc5bd7",
   "metadata": {},
   "outputs": [],
   "source": [
    "minStart = row['minStart'][0]\n",
    "maxStart = row['maxStart'][0]\n",
    "obs_table = Observations.query_criteria(objectname=name,radius=0,project='TESS',target_name='TESS FFI',\n",
    "                               t_min=[minStart,maxStart])\n",
    "obs_table"
   ]
  },
  {
   "cell_type": "markdown",
   "id": "906797ed-d944-4317-8d40-51261c3a47a0",
   "metadata": {},
   "source": [
    "We can find the TESS sector under the `sequence_number` field."
   ]
  },
  {
   "cell_type": "code",
   "execution_count": null,
   "id": "aaadbf26-1012-45dc-b8f4-09bde806db06",
   "metadata": {},
   "outputs": [],
   "source": [
    "sectors=obs_table['sequence_number']\n",
    "sectors"
   ]
  },
  {
   "cell_type": "markdown",
   "id": "925d8669-be03-41db-adca-e60d0ff6503d",
   "metadata": {},
   "source": [
    "### Use TESSCut to create a postage stamp of our target\n",
    "The lightkurve package has a built-in search method for using TESSCut, which creates a cutout of a TESS FFI time series for a region on the sky. The FFI itself is quite large, and we want to zoom in on only our target coordinate. In addition to searching by our target name (which will again be resolved into coordinates), we only want the sectors determined above."
   ]
  },
  {
   "cell_type": "code",
   "execution_count": null,
   "id": "996b21b1-fa55-45ca-b0de-7feddce8279a",
   "metadata": {},
   "outputs": [],
   "source": [
    "search_result = lk.search_tesscut(name,sector=sectors)\n",
    "search_result"
   ]
  },
  {
   "cell_type": "markdown",
   "id": "7df218c4-6d04-4da6-a129-6a2ad5f67dbe",
   "metadata": {},
   "source": [
    "We want to download the cutout; we will use a 9x9 cutout. This size will include our target with enough pixels to establish a background. "
   ]
  },
  {
   "cell_type": "code",
   "execution_count": null,
   "id": "21959c86-a678-4ee4-aecc-caec899974c9",
   "metadata": {},
   "outputs": [],
   "source": [
    "size = 9\n",
    "tpf = search_result.download_all(cutout_size=size)"
   ]
  },
  {
   "cell_type": "markdown",
   "id": "a1c01c35-0401-422c-9134-973b3197631f",
   "metadata": {},
   "source": [
    "We have saved the target pixel file (TPF) locally at mastDownload/HLSP and loaded it in to the variable ``tpf``. \n",
    "\n",
    "Additionally, we can see that the size of the ``tpf[0].flux`` matches our request:"
   ]
  },
  {
   "cell_type": "code",
   "execution_count": null,
   "id": "e75c9080-4a5e-428f-ad0e-59e93bdb7fee",
   "metadata": {},
   "outputs": [],
   "source": [
    "np.shape(tpf[0].flux)"
   ]
  },
  {
   "cell_type": "markdown",
   "id": "e725b201-6059-4d70-86c9-2e2c8eb1d038",
   "metadata": {},
   "source": [
    "There are 981 images, each of size 9x9 pixels. Let's view the first and last images:"
   ]
  },
  {
   "cell_type": "code",
   "execution_count": null,
   "id": "af598492-f76c-4dc3-8553-05908e13ab8e",
   "metadata": {},
   "outputs": [],
   "source": [
    "tpf[0][0].plot()\n",
    "tpf[0][-1].plot()"
   ]
  },
  {
   "cell_type": "markdown",
   "id": "12c2325a-8957-4a18-93c0-2b08d90aa1e2",
   "metadata": {},
   "source": [
    "By eye, it does seem like the central pixels get slightly brighter from the first to last image, implying that we have caught the supernova while it is brightening. Because these galaxies are not TESS targets (bright stars around which we are looking for exoplanets), there is no pre-defined pipeline aperture mask. There are procedures to use thresholding to create an aperture mask: [How to cut out Target Pixel Files from Kepler Superstamps or TESS FFIs?](https://docs.lightkurve.org/tutorials/2-creating-light-curves/2-1-cutting-out-tpfs.html) \n",
    "\n",
    "For our purposes, we will just create a mask that examines the central pixel in our 9x9 grid, which will most closely align with the supernova's coordinates."
   ]
  },
  {
   "cell_type": "markdown",
   "id": "f49d292d-17ae-404e-81a7-12bd633ab54e",
   "metadata": {},
   "source": [
    "### Create a background-subtracted lightcurve\n",
    "\n",
    "To do analysis with data from the FFIs, we'll first need to subtract the background noise. This comes from orbital and detector effects. Let's see what this looks like for the central pixel:"
   ]
  },
  {
   "cell_type": "code",
   "execution_count": null,
   "id": "5178481b-7409-4452-b50f-cfe201982058",
   "metadata": {},
   "outputs": [],
   "source": [
    "# find the central pixel and select it for our mask\n",
    "central_index = np.floor(size / 2.0).astype(int)\n",
    "target_mask = np.full((size, size), False, dtype=bool)\n",
    "\n",
    "# Set the central element to True and plot the image\n",
    "target_mask[central_index, central_index] = True\n",
    "tpf[0].plot(aperture_mask=target_mask)\n",
    "\n",
    "# turn the plot into a lightcurve\n",
    "target_lc=tpf[0].to_lightcurve(aperture_mask=target_mask)\n",
    "target_lc.plot()"
   ]
  },
  {
   "cell_type": "markdown",
   "id": "9c45deff-416a-4ede-a319-917bd97d2847",
   "metadata": {},
   "source": [
    "The large change when the TESS instrument completes an orbit is likely due to scattered light; we need to take into account the background flux and how it may change. \n",
    "\n",
    "Let's create a background pixel mask to use as a baseline:"
   ]
  },
  {
   "cell_type": "code",
   "execution_count": null,
   "id": "d33e3a27-acb7-4169-aa12-4c0969433f60",
   "metadata": {},
   "outputs": [],
   "source": [
    "background_mask = ~tpf[0].create_threshold_mask(threshold=0.001, reference_pixel=None)\n",
    "tpf[0].plot(aperture_mask=background_mask,mask_color='w')"
   ]
  },
  {
   "cell_type": "markdown",
   "id": "c148c754-f2c2-410d-8e8d-13dc8c011691",
   "metadata": {},
   "source": [
    "In our case, the central pixels have been chosen as background pixels; but we are pretty sure the supernova will occur there! We will manually remove a few from the background mask. "
   ]
  },
  {
   "cell_type": "code",
   "execution_count": null,
   "id": "b02b6312-a8de-446a-96b2-38ed67643ef6",
   "metadata": {},
   "outputs": [],
   "source": [
    "background_mask[4,4]=False\n",
    "background_mask[5,4]=False # Index opposite to the view\n",
    "background_mask[5,5]=False"
   ]
  },
  {
   "cell_type": "markdown",
   "id": "b95844fc-ebca-4864-af03-45ba814a6bac",
   "metadata": {},
   "source": [
    "Let's look at our new mask."
   ]
  },
  {
   "cell_type": "code",
   "execution_count": null,
   "id": "aede20ac-c25d-45e4-9a79-bb5e3406b152",
   "metadata": {},
   "outputs": [],
   "source": [
    "# plot the new mask\n",
    "tpf[0].plot(aperture_mask=background_mask,mask_color='w')"
   ]
  },
  {
   "cell_type": "markdown",
   "id": "dd32f916-3017-4484-bfb3-0bb423de054c",
   "metadata": {},
   "source": [
    "Great. Now let's subtract the background contribution. We do this by figuring out the average background per pixel, then multiplying up to our target field-of-view size."
   ]
  },
  {
   "cell_type": "code",
   "execution_count": null,
   "id": "4af9b88d-b4af-49b9-8626-aee4139e92d1",
   "metadata": {},
   "outputs": [],
   "source": [
    "# how many background pixels?\n",
    "n_background_pixels = background_mask.sum()\n",
    "\n",
    "# find normalized background\n",
    "background_lc_per_pixel = tpf[0].to_lightcurve(aperture_mask=background_mask) / n_background_pixels\n",
    "\n",
    "# estimate background\n",
    "background_estimate_lc = background_lc_per_pixel * n_target_pixels"
   ]
  },
  {
   "cell_type": "markdown",
   "id": "cecfcc27-d424-4e78-bb80-8c1145648593",
   "metadata": {},
   "source": [
    "Let's view the final background-subtracted lightcurve of the central pixel, and draw vertical lines that correspond to the ZTF reported peak time (solid) and first half-peak time (dashed)."
   ]
  },
  {
   "cell_type": "code",
   "execution_count": null,
   "id": "8ef203a4-12ca-41ba-adbd-c89afc7b4e7d",
   "metadata": {},
   "outputs": [],
   "source": [
    "corrected_lc = target_lc - background_estimate_lc.flux\n",
    "peaknorm_lc=corrected_lc/np.nanmax(corrected_lc.flux)\n",
    "peaknorm_lc.plot()\n",
    "plt.axvline(row['peakTime'].jd-2457000,linestyle='solid')\n",
    "plt.axvline(row['peakTime'].jd-2457000-float(row['rise'][0].strip('>')),linestyle='dashed')"
   ]
  },
  {
   "cell_type": "markdown",
   "id": "a8406efd-f6cd-4803-9b65-483b2dde1df8",
   "metadata": {},
   "source": [
    "The brightness change in this central pixel is noticeable, and the change qualitatively similar to that reported in Figure 35 of [Fausnaugh et. al. 2021](https://ui.adsabs.harvard.edu/abs/2021ApJ...908...51F/abstract). More detailed processing steps are described therein."
   ]
  },
  {
   "cell_type": "markdown",
   "id": "cb4a233d-a9ab-4089-b131-8a790b6feea5",
   "metadata": {},
   "source": [
    "## Additional Exercises\n",
    "1. New target mask: In addition to the central pixel, the 3 surrounding pixels (that we removed from the background mask) also seem to show brightening. How does the light curve change when those pixels are included in the target mask? \n",
    "\n",
    "2. Another supernova: Another target in [Fausnaugh et. al. 2021](https://ui.adsabs.harvard.edu/abs/2021ApJ...908...51F/abstract) is SN2018fhw (or ASASSN-18tb). Is this target included in our table from ZTF? Use information from our table or from the published paper to plot its background-subtracted lightcurve from TESS data. (Hint: the transient event occurs over two separate observing sectors! Look at Figure 1 of the paper. You can create a separate light curve for each sector and combine them into a LightCurveCollection. If your two light curves don't match up in flux, try a larger target aperture mask.)\n",
    "\n",
    "3. A broader search region: If we searched for targets with $8.5^\\circ$ of the center of each FFI, some will be in the field of view, but some will not. How many more transients *could* be in the field of view at the right time with this broader search radius? Confirm that SN2020mnu has 2 possible FFI's instead of 0 with this broader search radius. Is SN2020mnu actually in the field of view for either of those observations?"
   ]
  },
  {
   "cell_type": "markdown",
   "id": "12b6884b-8fb5-45bc-922e-bba34c0cc2cb",
   "metadata": {},
   "source": [
    "## Citations\n",
    "\n",
    "If you use `astropy`, `lightkurve`, or `TESSCut` for published research, please cite the\n",
    "authors. Follow these links for more information about citing:\n",
    "\n",
    "* [Citing `astropy`](https://www.astropy.org/acknowledging.html)\n",
    "* [Citing `lightkurve`](http://docs.lightkurve.org/about/citing.html)\n",
    "* If you use TESSCut for your work, please cite [Brasseur et al. 2019](https://ui.adsabs.harvard.edu/abs/2019ascl.soft05007B/abstract)\n",
    "* [Citing MAST missions](https://archive.stsci.edu/publishing/mission-acknowledgements)"
   ]
  },
  {
   "cell_type": "markdown",
   "id": "92d566c9-72c6-4299-ad7e-151fd4b725af",
   "metadata": {},
   "source": [
    "## About this Notebook\n",
    "For support, please contact the Archive HelpDesk at archive@stsci.edu.\n",
    "\n",
    "**Author(s):** Julia Kamenetzky  \n",
    "**Keyword(s):** TIKEBook, TESSCut, FFI, transients, galaxies  \n",
    "**Last Updated:** June 2024  \n",
    "\n",
    "***\n",
    "[Top of Page](#top)\n",
    "<img style=\"float: right;\" src=\"https://raw.githubusercontent.com/spacetelescope/notebooks/master/assets/stsci_pri_combo_mark_horizonal_white_bkgd.png\" alt=\"Space Telescope Logo\" width=\"200px\"/> "
   ]
  }
 ],
 "metadata": {
  "kernelspec": {
   "display_name": "Python 3 (ipykernel)",
   "language": "python",
   "name": "python3"
  },
  "language_info": {
   "codemirror_mode": {
    "name": "ipython",
    "version": 3
   },
   "file_extension": ".py",
   "mimetype": "text/x-python",
   "name": "python",
   "nbconvert_exporter": "python",
   "pygments_lexer": "ipython3",
   "version": "3.11.0"
  }
 },
 "nbformat": 4,
 "nbformat_minor": 5
}
