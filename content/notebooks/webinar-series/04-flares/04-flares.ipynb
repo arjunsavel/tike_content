{
 "cells": [
  {
   "cell_type": "markdown",
   "id": "33aeb4d2-5e5b-4be2-99ce-38a3454fe638",
   "metadata": {},
   "source": [
    "<a name=\"top\"></a>"
   ]
  },
  {
   "cell_type": "markdown",
   "id": "091d6449-d415-4704-909a-8c640c6560d6",
   "metadata": {},
   "source": [
    "# Lesson 4: Stellar Rotation Rates\n",
    "\n",
    "## Learning objectives<a name=\"Learningobjectives\"></a>\n",
    "- Extract a stellar rotation rate from a TESS light curve using lightkurve\n",
    "- Apply the Nyquist-Shannon Samping Theorem when finding stellar rotation rates by restricting periodogram searches\n",
    "- Assess the level of correlation between two quantities (rotation rate and flare rate)\n",
    "\n",
    "## Introduction\n",
    "Stars rotate. This feature is inherently linked to stellar formation — the molecular clouds from which stars form need only very slightly rotate, and conservation of angular momentum makes sure that the final, formed star rotates, as well.\n",
    "\n",
    "The rotation rate of a star tell us about its evolution, magnetic fields, etc. Stellar light curves (time-series photometry) offer a glimpse into the rotation rates of these bodies. The core idea is that stars are not homogeneous; rather, they can have cooler spots on their surface that rotate in and out of view. The classical picture is of a large single spot that yields a sinusoidal light curve, as an observer detects fewer photons when the spot is in view. In reality, stars are not so ideal; they may have multiple spots at once, and these spots evolve over time. But the general idea remains: the periodicity of a light curve is related to its rotation rate.\n",
    "\n",
    "Additionally, we expect that faster-rotating stars should exhibit more *flares* — short outbursts of energy greater than baseline levels — because flares and rotation rates should both be connected to the stellar magnetic field. Flares are generally thought to release magnetic energy in stars; in turn, under something known as \"dynamo theory,\" this magnetic energy is tied to the rotation rate of a star (e.g.,  [Moffatt 1978](https://www.researchgate.net/profile/Keith-Moffatt/publication/229086771_The_Generation_of_Magnetic_Fields_in_Electrically_Conducting_Fluids/links/00b7d52c3bea06ba07000000/The-Generation-of-Magnetic-Fields-in-Electrically-Conducting-Fluids.pdf), [Parker 1979](https://adsabs.harvard.edu/full/1979ApJ...234..333P), [Browning 2008](https://iopscience.iop.org/article/10.1086/592397/meta), [Zhang\n",
    "et al. 2008](https://link.springer.com/article/10.1007/s11207-007-9089-0)). Loosely, we expect that faster-rotating stars should have greater flaring activity, whereas slower-rotating stars should have less flaring activity.\n",
    "\n",
    "In this notebook, we will work through the key mechanics of identifying a star’s rotation period from its TESS light curve. We will then apply this to a large population of stars to understand how rotation rates vary with flare rate across the M dwarf population. "
   ]
  },
  {
   "cell_type": "markdown",
   "id": "1d61081d-70b6-4f3b-aa3e-8943a5549c2b",
   "metadata": {
    "tags": []
   },
   "source": [
    "## Import Statements<a name=\"import\"></a>\n",
    "\n",
    "There are many imports in this notebook\n",
    "* `numpy` is used for array manipulation.\n",
    "* `matplotlib.pyplot` is used to display images and plot datasets.\n",
    "* `lightkurve` allows us to easily interact with TESS light curves.\n",
    "* [stella](https://github.com/afeinstein20/stella) is a purpose-built stellar flare classifier\n"
   ]
  },
  {
   "cell_type": "code",
   "execution_count": null,
   "id": "cf1f00d2-cf50-4f12-99a6-2d7118b0c1d8",
   "metadata": {
    "tags": []
   },
   "outputs": [],
   "source": [
    "# manipulating and plotting arrays\n",
    "import matplotlib.pyplot as plt\n",
    "import numpy as np\n",
    "\n",
    "# file handling, units, and data queries\n",
    "import tarfile\n",
    "from tqdm import tqdm\n",
    "from astropy.io import fits\n",
    "from astropy.utils.data import download_file\n",
    "from astroquery.mast import Observations\n",
    "\n",
    "import astropy\n",
    "import astropy.constants as const\n",
    "import astropy.units as u\n",
    "import lightkurve as lk\n",
    "\n",
    "# flare-specific machine learning package\n",
    "import stella\n",
    "\n",
    "# misc imports\n",
    "import s3fs\n",
    "import os\n",
    "import random\n",
    "\n",
    "# read from cloud datasets as opposed to downloading from on-premise servers\n",
    "fs = s3fs.S3FileSystem(anon=True)\n",
    "Observations.enable_cloud_dataset()\n",
    "\n",
    "%matplotlib inline"
   ]
  },
  {
   "cell_type": "markdown",
   "id": "4b45704f-3d62-432a-93fc-3911e5c9b9bd",
   "metadata": {},
   "source": [
    "Let's get started by plotting a sample lightcurve and making a periodogram. "
   ]
  },
  {
   "cell_type": "markdown",
   "id": "42beec92-e647-43cd-b3e3-1b3088d47ab1",
   "metadata": {},
   "source": [
    "## Plotting a periodic light curve<a name=\"plotting\"> </a>\n",
    "We'll start by selecting a target with an interesting lightcurve, following the usual syntax."
   ]
  },
  {
   "cell_type": "code",
   "execution_count": null,
   "id": "00e636eb-802d-4f5e-ba86-f58dae548675",
   "metadata": {
    "tags": []
   },
   "outputs": [],
   "source": [
    "# our interesting target\n",
    "ticid = 234295610\n",
    "\n",
    "# query for results, filter for light curve files\n",
    "obs = Observations.query_criteria(target_name=ticid, provenance_name=\"SPOC\", sequence_number=[1])\n",
    "prod = Observations.get_product_list(obs)\n",
    "filt = Observations.filter_products(prod, description=\"Light curves\")\n",
    "filt"
   ]
  },
  {
   "cell_type": "markdown",
   "id": "9c063073-1ee3-4255-ae37-21e529f299a3",
   "metadata": {},
   "source": [
    "We've found our target. Now let's make a plot."
   ]
  },
  {
   "cell_type": "code",
   "execution_count": null,
   "id": "1d64101a-8869-4496-9f0c-f0d17738e4bb",
   "metadata": {},
   "outputs": [],
   "source": [
    "c_uris = Observations.get_cloud_uris(filt)\n",
    "\n",
    "# Initialize a TESS lightCurve in lightKurve\n",
    "with fs.open(c_uris[0], \"rb\") as f:\n",
    "    with fits.open(f, \"readonly\") as fts:\n",
    "        lc1 = lk.TessLightCurveFile(fts)\n",
    "\n",
    "# plot the lightcurve\n",
    "lc1.plot()"
   ]
  },
  {
   "cell_type": "markdown",
   "id": "bc87e467-9d61-49a9-b87c-b83f74a74fa9",
   "metadata": {},
   "source": [
    "This light curve is quite interesting. By eye, there seems to be at least one source of periodicity, and there are a few regions of high flux. Are they flares? We'll return to this question later on by explicitly comparing these features with stellar flare classifiers."
   ]
  },
  {
   "cell_type": "markdown",
   "id": "8a15b4dc-8ab6-4262-8547-cd2804e43c75",
   "metadata": {},
   "source": [
    "# Finding periodicity in light curves<a name=\"lightcurveperiodicity\"></a>"
   ]
  },
  {
   "cell_type": "markdown",
   "id": "d7a473b2-6006-45d3-a4a6-b3397ac18a78",
   "metadata": {},
   "source": [
    "To address the our first observation - finding periodicity in the data — we need to calculate a *periodogram*. A periodogram is a mathematical estimate of how strong different periods are in a dataset. Under the hood, many periodograms are fundamentally related to <a href=\"https://news.mit.edu/2009/explained-fourier\">Fourier Transforms</a>. Before we call the periodogram function we'll be using, we want to consider what a maximum period of the pulsations might be. Based on some science cases, we might be interested in stellar periodicity that is quite long. Betelgeuse, for instance, is a star that <a href=\"https://arxiv.org/abs/2306.00287\">has quite interesting pulsations</a> on the order of 2200 days. However, we're fundamentally limited by our observing strategy based on something called the Nyquist-Shannon Theorem."
   ]
  },
  {
   "cell_type": "markdown",
   "id": "356b4ead-53ed-4bcd-9b18-00a0375a2137",
   "metadata": {},
   "source": [
    "## Relevance of the Nyquist-Shannon Sampling Theorem<a name=\"nyquist\"></a>\n",
    "The <a href=\"https://chem.libretexts.org/Ancillary_Materials/Laboratory_Experiments/Wet_Lab_Experiments/Analytical_Chemistry_Labs/ASDL_Labware/Analog_and_Digital_Conversion_for_Chemical_Instrumentation/04_Number_Representation/05_The_Nyquist_Sampling_Theorem\">Nyquist theorem</a> is a fundamental aspect of signal processing. It tells us that in order to fully recover a signal at frequency `f`, we must sample at minimum rate of `2f`. The basic intuition is as follows: for a sine wave, our data would need to at least contain the wave hitting both its peak and its trough for us to understand its period. For more information, see [VanderPlas 2018](https://iopscience.iop.org/article/10.3847/1538-4365/aab766#apjsaab766s3), especially section 3.2.1.\n",
    "\n",
    "What about an upper limit on the period? For simplicity's sake, let's set this to the length of a TESS sector: namely, 28 days.  \n",
    "\n",
    "Let's implement both of these limits in code."
   ]
  },
  {
   "cell_type": "code",
   "execution_count": null,
   "id": "0c8cb7cf-2e9e-4982-8bd8-d90268c15e14",
   "metadata": {},
   "outputs": [],
   "source": [
    "max_period = 28*u.day\n",
    "min_period = 20*u.s\n",
    "\n",
    "pg = lc1.normalize(unit='ppm').to_periodogram(maximum_period=max_period, minimum_period=min_period)\n",
    "pg.plot();"
   ]
  },
  {
   "cell_type": "markdown",
   "id": "2a1ec95f-3264-43d3-ab3f-3801c8be9f17",
   "metadata": {},
   "source": [
    "We see some strong peaks in this light curve. Let's print out the \"best\" period (the one corresponding to the strongest periodogram peak) with the below command:"
   ]
  },
  {
   "cell_type": "code",
   "execution_count": null,
   "id": "7a20e9dc-bdd3-4e3b-bf94-f829f1d99077",
   "metadata": {
    "tags": []
   },
   "outputs": [],
   "source": [
    "pg.period_at_max_power"
   ]
  },
  {
   "cell_type": "markdown",
   "id": "227c564b-46a1-454a-bde9-f3d530685bb9",
   "metadata": {},
   "source": [
    " Let's plot this periodogram on a log scale. What do we see?"
   ]
  },
  {
   "cell_type": "code",
   "execution_count": null,
   "id": "558133ff-b664-471f-90f8-fa8bc46fd484",
   "metadata": {
    "tags": []
   },
   "outputs": [],
   "source": [
    "pg.plot(scale='log');"
   ]
  },
  {
   "cell_type": "markdown",
   "id": "262a77a8-3eae-4708-9e44-f8b6b5903594",
   "metadata": {},
   "source": [
    "It looks like there's more \"noise\" at the low-period (high-frequency) end. \n",
    "\n",
    "Upon closer inspection, you might notice that the native frequency grid that `lightkurve` uses has narrower spacing at lower periods. Why would this be desirable? Wouldn't we want to evaluate our periodogram on an even period grid?\n",
    "\n",
    "It turns out that this is a feature, not a bug. Fundamentally, the Lomb-Scargle periodgram will resolve peaks of width $1/P$ at a given period $P$ (e.g., <a href=https://iopscience.iop.org/article/10.3847/1538-4365/aab766/meta>VanderPlas 2018</a>). This means that we need very narrow spacing between periodogram evaluations at low periods, but we're wasting computational resources if we keep that same resolution at higher periods. \n",
    "\n",
    "In the commented-out cells below, you can try enforcing an even spacing to confirm you get the same result with more computational expense:"
   ]
  },
  {
   "cell_type": "code",
   "execution_count": null,
   "id": "8848d2bd-23e4-4c60-9d2e-acfee022621c",
   "metadata": {
    "scrolled": true,
    "tags": []
   },
   "outputs": [],
   "source": [
    "# frequency_grid = np.linspace(1/max_period, 1/min_period, 100)\n",
    "# pg_narrow = lc1.normalize(unit='ppm').to_periodogram(maximum_period=max_period, minimum_period=min_period)\n",
    "# pg_narrow.plot()\n",
    "# pg_narrow.plot(scale='log')"
   ]
  },
  {
   "cell_type": "markdown",
   "id": "8dd2a2ed-4c01-476b-b551-9f804e0c3483",
   "metadata": {},
   "source": [
    "Looks close enough to the original! Seems like we should stick with the original approach, which saves us computational expense."
   ]
  },
  {
   "cell_type": "markdown",
   "id": "6a397eec-e1d9-430e-b19f-0834684fbfdd",
   "metadata": {
    "tags": []
   },
   "source": [
    "## Exercise: Harmonics<a name=\"exercise2\"></a>\n",
    "Identify the other periods that have relatively high power. Are they harmonics (evenly-spaced multiples) of the 0.762 day period?\n",
    "\n",
    "Hint: this might be easier to identify in frequency space (i.e. `pg.frequency`.)"
   ]
  },
  {
   "cell_type": "code",
   "execution_count": null,
   "id": "0666ca3f-91d3-4494-98a1-303fdb79a716",
   "metadata": {},
   "outputs": [],
   "source": []
  },
  {
   "cell_type": "markdown",
   "id": "5e4d27cb-63f3-414f-983c-567b051b9404",
   "metadata": {},
   "source": [
    "# Enforcing a break-up speed limit<a name=\"breakup\"></a>"
   ]
  },
  {
   "cell_type": "markdown",
   "id": "f8147525-71a8-4510-aa7b-61075bec8946",
   "metadata": {},
   "source": [
    "It seems like there are some very short period peaks in the periodogram. Might they be the stellar rotation rate?\n",
    "\n",
    "Probably not. We expect the rotation rate of of low-mass stars to be on the order of days to tens of days (e.g., <a href=\"https://adsabs.harvard.edu/full/record/seri/ApJ../0466/1996ApJ...466..384D.html\">Donahue et al. 1996</a>). These shorter-period frequencies may be stellar oscillations or pulsations, or harmonic aliases of a single oscillation/pulsation mode. Aliases are multiples of a \"true\" periodicity that a periodogram can pick out. For instance, if we observe something with a period of 2 days, the periodogram may also note a strong periodic signals at 4 days, 6 days, etc. because the 2 day cycle also coincides with those other cycles.\n",
    "\n",
    "We can rule these out as stellar rotation rates that would imply that the star is rotating at twice the breakup speed of a main-sequence star. Let's first calculate the break-up rotational period of the Sun. A simplistic approach, ignoring for instance radiation pressure and the changing geometry of a star at higher rotation rates (i.e., bulging at the equator), finds this relationship by setting the equatorial centrifugal acceleration and acceleration by gravity to be equal. A more complex approach (see, e.g., <a href=\"https://www.astro.umd.edu/~jph/Stellar_Rotation.pdf\">these notes</a>) gets an extra constant factor of 2/3 for that breakup speed."
   ]
  },
  {
   "cell_type": "code",
   "execution_count": null,
   "id": "34ff7a11-6fc0-439a-8491-4b4dc6a9e802",
   "metadata": {
    "tags": []
   },
   "outputs": [],
   "source": [
    "G = const.G\n",
    "M = 1 * u.M_sun\n",
    "R = 1 * u.R_sun\n",
    "vc = ((2/3) * G * M / R)**.5\n",
    "\n",
    "P = 2 * np.pi * R  / vc\n",
    "\n",
    "# print out the result in days\n",
    "P.to(u.day)"
   ]
  },
  {
   "cell_type": "markdown",
   "id": "50968299-14b1-4818-a3b4-a23f1822792d",
   "metadata": {},
   "source": [
    "Let's generously assume that a star in our sample could rotate 100 times faster than this without breaking up. In doing so, we're letting `R*M` independently vary by a factor of 10,000. Given what we know about mass-radius relationships of stars (thinking about, e.g., <a href=\"https://astro.unl.edu/naap/hr/hr_background3.html\">Hertzsprung-Russell diagrams</a>), this is at least a plausible physical assumption on the stellar main sequence. Broadly, we're making the statement that\n",
    "\n",
    "$P_{\\rm breakup} \\propto \\sqrt{RM}$.\n",
    "\n",
    "This relation sets a new minimum period that's longer than our sampling rate. \n",
    "\n",
    "Note that this approach works well enough, but it is not precise enough for publishable research. For a manuscript, other caveats would need to be assessed — e.g., explicitly checking the stellar type of the object we are examining."
   ]
  },
  {
   "cell_type": "code",
   "execution_count": null,
   "id": "ce267aee-2316-4a04-aa5c-a6048b6b9375",
   "metadata": {
    "tags": []
   },
   "outputs": [],
   "source": [
    "# allow for other types of stars\n",
    "min_period = P/100\n",
    "pg = lc1.normalize(unit='ppm').to_periodogram(maximum_period=max_period, minimum_period=min_period)\n",
    "\n",
    "pg.plot(scale='log');"
   ]
  },
  {
   "cell_type": "markdown",
   "id": "b5f16d7d-ab5b-4e3b-9209-7c26360c8e51",
   "metadata": {},
   "source": [
    "Great! It looks like our strongest signal is now clearly the peak just shy of 1 day.\n",
    "\n",
    "It's still possible that the peaks in the periodogram to not correspond to actual stellar rotation rates. One other confounding source of astrophysical periodicity could be binary stars. It's out of scope for this notebook, but it'd be possible to check whether the the lightcurve's variability is due to the presence of a binary star by checking the *morphology* of the periodic signal. Basically, (eclipsing) binary stars will have periodic [V shapes in their lightcurves](https://docs.lightkurve.org/tutorials/3-science-examples/periodograms-creating-periodograms.html), whereas lightcurves that are periodic because of stellar rotation will have a [periodic signal closer to a sine wave](https://docs.lightkurve.org/tutorials/3-science-examples/periodograms-measuring-a-rotation-period.html). Binary stars with [ellipsoidal variations due to strong tidal forces](https://en.wikipedia.org/wiki/Rotating_ellipsoidal_variable) may have rotation signals that are indeed closer to a sine wave; the curious should revisit our [astereoseismology lesson](../02-astroseismology/02-astroseismology.ipynb)."
   ]
  },
  {
   "cell_type": "markdown",
   "id": "69c1e2cc-bf5a-4c21-9d1e-b68dab9ca3f0",
   "metadata": {},
   "source": [
    "# Rotation rates of a larger population<a name=\"rotation_pop\"></a>\n",
    "Now, let's wrap the above in a function so that we can run it on a number of different objects."
   ]
  },
  {
   "cell_type": "code",
   "execution_count": null,
   "id": "6a92fb94-4ad6-459c-af64-0e00f434e0f7",
   "metadata": {
    "tags": []
   },
   "outputs": [],
   "source": [
    "def calc_rotation_rate(name):\n",
    "    \"\"\"\n",
    "    Calculates the roation period of a star, assuming that rotation is the primary driver of the star's periodicity. \n",
    "    \n",
    "    Inputs\n",
    "    ------\n",
    "        :name: name of star (str)\n",
    "        \n",
    "    Outputs\n",
    "    -------\n",
    "        :period_at_max_power: the dominant period in the light curve. [float]\n",
    "    \"\"\"\n",
    "    # query for file\n",
    "    obs = Observations.query_criteria(target_name=name, provenance_name=\"SPOC\", sequence_number=[1, 2])\n",
    "    prod = Observations.get_product_list(obs)\n",
    "    filt = Observations.filter_products(prod, description=\"Light curves\")\n",
    "    c_uris = Observations.get_cloud_uris(filt)\n",
    "    \n",
    "    # open in lightkurve\n",
    "    with fs.open(c_uris[0], \"rb\") as f:\n",
    "        with fits.open(f, \"readonly\") as fts:\n",
    "            lc = lk.TessLightCurveFile(fts)\n",
    "    \n",
    "    pg = lc.normalize(unit='ppm').to_periodogram(maximum_period=max_period, minimum_period=min_period)\n",
    "    \n",
    "    return pg.period_at_max_power"
   ]
  },
  {
   "cell_type": "markdown",
   "id": "a2590335-762b-4de5-8681-e455b6ef3e18",
   "metadata": {},
   "source": [
    "Let's use a population of stars from a [different notebook](https://spacetelescope.github.io/hellouniverse/notebooks/hello-universe/Classifying_TESS_flares_with_CNNs/Classifying_TESS_flares_with_CNNs.html)."
   ]
  },
  {
   "cell_type": "code",
   "execution_count": null,
   "id": "a0591480-1dd6-40fd-b387-e7fc2e98a7c3",
   "metadata": {
    "tags": []
   },
   "outputs": [],
   "source": [
    "file_url = 'https://archive.stsci.edu/hlsps/hellouniverse/hellouniverse_stella_500.tar.gz'\n",
    "file = tarfile.open(download_file(file_url, cache=True))\n",
    "file.extractall('.')\n",
    "file.close() # be sure to close files when you're finished with them!"
   ]
  },
  {
   "cell_type": "markdown",
   "id": "3c111dca-6cc7-4d81-b00e-90ccfda82f7e",
   "metadata": {},
   "source": [
    "With the file now downloaded, we can use the `astropy` package to read in the flare catalog file."
   ]
  },
  {
   "cell_type": "code",
   "execution_count": null,
   "id": "a2cf7e20-9418-43de-974b-af17377d8012",
   "metadata": {
    "tags": []
   },
   "outputs": [],
   "source": [
    "data_dir = './hellouniverse_stella_500/'\n",
    "filename = 'Guenther_2020_flare_catalog.txt'\n",
    "\n",
    "catalog = astropy.io.ascii.read(data_dir + filename)  \n",
    "catalog"
   ]
  },
  {
   "cell_type": "markdown",
   "id": "c41b0497-8eac-4ee1-aed4-9d262ead3e24",
   "metadata": {},
   "source": [
    "We're just interested in the stars themselves, which we can access with the following syntax:"
   ]
  },
  {
   "cell_type": "code",
   "execution_count": null,
   "id": "1236fd54-52c4-4359-859b-cc1688c0ea05",
   "metadata": {
    "tags": []
   },
   "outputs": [],
   "source": [
    "stars = catalog['TIC'].data\n",
    "stars"
   ]
  },
  {
   "cell_type": "markdown",
   "id": "bcaf1409-8b88-41a5-8eee-fd453cadea1d",
   "metadata": {
    "tags": []
   },
   "source": [
    "Now, we apply this to the population. The whole population is quite large — if we use only 200th star, then the calculation will only take less than a couple of minutes."
   ]
  },
  {
   "cell_type": "code",
   "execution_count": null,
   "id": "cbdd145e-777f-40ee-959f-ab1eaa5d401e",
   "metadata": {
    "tags": []
   },
   "outputs": [],
   "source": [
    "rot_rates = []\n",
    "for star in tqdm(stars[::1000]):\n",
    "    rot_rate = calc_rotation_rate(str(star))\n",
    "    \n",
    "    # store result of rotation rate calculation\n",
    "    rot_rates += [rot_rate]"
   ]
  },
  {
   "cell_type": "markdown",
   "id": "49899e77-5e3f-45a8-a9e4-51fa6a965919",
   "metadata": {},
   "source": [
    "We can use a histogram to get a sense of how the periods are distributed."
   ]
  },
  {
   "cell_type": "code",
   "execution_count": null,
   "id": "c6408e71-d824-4fd4-aaf0-fe695ab4a18e",
   "metadata": {
    "tags": []
   },
   "outputs": [],
   "source": [
    "bins=np.linspace(0,14,14)\n",
    "plt.hist(rot_rates, color='teal',bins=bins)\n",
    "plt.xlabel('Period (days)', fontsize=25)\n",
    "plt.ylabel('Count', fontsize=25)"
   ]
  },
  {
   "cell_type": "markdown",
   "id": "54308348-0d01-45c7-9e1b-d579fcf7baa4",
   "metadata": {},
   "source": [
    "In the above plot, we see a broad distribution of periodicities. Most of the results cluster around 0-1 days, but we see some longer-period objects as well."
   ]
  },
  {
   "cell_type": "markdown",
   "id": "3a38f153-9ca8-4881-b296-4be5f30ce66f",
   "metadata": {},
   "source": [
    "# Assessing flares<a name=\"flares\"></a>\n",
    "In a different notebook, we trained a convolutional neural network (CNN) to classify stellar flares using the `stella` package (<a href=\"https://joss.theoj.org/papers/10.21105/joss.02347.pdf\">Feinstein et al. 2020</a>). \n",
    "\n",
    "We can use the default code to answer the following question: Does a star's rotation rate affect its flaring rate?"
   ]
  },
  {
   "cell_type": "code",
   "execution_count": null,
   "id": "64d7ad5c-c667-46bd-be00-61e83c855566",
   "metadata": {
    "tags": []
   },
   "outputs": [],
   "source": [
    "# set up the ConvNN object.\n",
    "cnn_stella = stella.ConvNN(output_dir=data_dir)"
   ]
  },
  {
   "cell_type": "markdown",
   "id": "f8afde32-0f3b-4b13-887c-109d9053fc5c",
   "metadata": {},
   "source": [
    "Next, let's check that our classifier is working correctly. To do so, we can just apply it to the first light curve we assessed above."
   ]
  },
  {
   "cell_type": "code",
   "execution_count": null,
   "id": "faecd968-2397-410f-a8a7-1aa4f9e370bb",
   "metadata": {
    "tags": []
   },
   "outputs": [],
   "source": [
    "cnn_stella.predict(modelname=\"initial_flare_model_small_dataset.h5\",\n",
    "                   times=lc1.time.value, fluxes=lc1.flux, errs=lc1.flux_err)"
   ]
  },
  {
   "cell_type": "markdown",
   "id": "e6cbaec4-a3f6-464d-9478-b26ffd4bce5e",
   "metadata": {},
   "source": [
    "Our classifier has run, but now we need to see the output! Let's make a plot."
   ]
  },
  {
   "cell_type": "code",
   "execution_count": null,
   "id": "97832c0f-f651-4ff2-a4ba-36d09689c6f1",
   "metadata": {
    "tags": []
   },
   "outputs": [],
   "source": [
    "times = cnn_stella.predict_time[0]\n",
    "fluxes = cnn_stella.predict_flux[0]\n",
    "prediction = cnn_stella.predictions[0]\n",
    "\n",
    "# Create a scatterplot\n",
    "fig, ax = plt.subplots()\n",
    "im  = ax.scatter(times, fluxes, c=prediction, s=2, cmap=\"PuOr\")\n",
    "\n",
    "# add some labels\n",
    "plt.xlabel('Time (d)')\n",
    "plt.ylabel('Flux (normalized)')\n",
    "plt.colorbar(im, label='Flare probability')\n",
    "plt.show()"
   ]
  },
  {
   "cell_type": "markdown",
   "id": "e02c519e-838c-4894-b556-0387da48c260",
   "metadata": {},
   "source": [
    "This result seems to make sense. The \"peakiest\" parts of the light curves are labeled as flares by our classifier at high probability. \n",
    "\n",
    "To further verify this, we can zoom in and pick out some of the flare morphology:"
   ]
  },
  {
   "cell_type": "code",
   "execution_count": null,
   "id": "95e06b45-c6bf-458d-885f-236f33549423",
   "metadata": {
    "tags": []
   },
   "outputs": [],
   "source": [
    "# create another plot\n",
    "fig, ax= plt.subplots()\n",
    "im  = ax.scatter(times, fluxes, c=prediction, s=5, cmap=\"PuOr\")\n",
    "\n",
    "# add labels\n",
    "plt.xlabel('Time (d)')\n",
    "plt.ylabel('Flux (normalized)')\n",
    "plt.colorbar(im, label='Flare probability')\n",
    "\n",
    "# zoom in\n",
    "plt.xlim(min(times), 1326)\n",
    "plt.show()"
   ]
  },
  {
   "cell_type": "markdown",
   "id": "740d889f-7c6b-4b79-95ae-b9e0e201867c",
   "metadata": {},
   "source": [
    "We see a sharp increase in the flux followed by a slower fall — an example of classic flare morphology (e.g., <a href=https://iopscience.iop.org/article/10.3847/1538-3881/ac6fe6/meta>Mendoza et al. 2022</a>). Looks like the classifier is working!\n",
    "\n",
    "How do we next assess the flare *rate*, now that we've identified flares in our light curve? The simplest thing to do here (and the thing we will start with) is to calculate what fraction of the time is spent flaring. Whlie this may overemphasize the presence of large / long flares, this metric is a good starting point."
   ]
  },
  {
   "cell_type": "code",
   "execution_count": null,
   "id": "fe239d08-06f0-45f7-8bcc-8c6c115bf02c",
   "metadata": {
    "tags": []
   },
   "outputs": [],
   "source": [
    "flare_cutoff = 0.5 # the minimum value above which the CNN classifies a flare\n",
    "\n",
    "total_length = len(cnn_stella.predictions[0])\n",
    "flaring_length = len(cnn_stella.predictions[0][cnn_stella.predictions[0] > flare_cutoff])\n",
    "frac_flaring = flaring_length/total_length"
   ]
  },
  {
   "cell_type": "markdown",
   "id": "7f919363-ec54-42a0-8bd7-02bfd665a866",
   "metadata": {},
   "source": [
    "Let's create a plot of this."
   ]
  },
  {
   "cell_type": "code",
   "execution_count": null,
   "id": "05f288a7-7d73-4032-80b6-e1ae61b7bb9a",
   "metadata": {
    "tags": []
   },
   "outputs": [],
   "source": [
    "plt.scatter(pg.period_at_max_power, frac_flaring)\n",
    "\n",
    "plt.xlabel('Period at max power (d)')\n",
    "plt.ylabel('Fraction of time spent flaring')"
   ]
  },
  {
   "cell_type": "markdown",
   "id": "a9da853a-9bed-4e48-88b7-8f38743861fa",
   "metadata": {},
   "source": [
    "# Checking flares for the whole population<a name=\"flares_pop\"></a>"
   ]
  },
  {
   "cell_type": "markdown",
   "id": "cfa09ae9-0194-42f5-9d96-e5f18f996797",
   "metadata": {},
   "source": [
    "So far, we've just calculated a single data point! The next step is to do this for the whole  population."
   ]
  },
  {
   "cell_type": "code",
   "execution_count": null,
   "id": "297071b9-bba5-4b20-952c-921fddb7eb9b",
   "metadata": {
    "tags": []
   },
   "outputs": [],
   "source": [
    "def calc_flare_rate(name):\n",
    "    \"\"\"\n",
    "    Calculates the flare rate of a light curve based on how much time it spends flaring vs. not flaring.\n",
    "    \n",
    "    Inputs\n",
    "    ------\n",
    "        :name: (str) TICID of star.\n",
    "        \n",
    "    Outputs\n",
    "    ------------\n",
    "        :flare_rate: (float) flare rate.\n",
    "    \"\"\"\n",
    "    # query for file\n",
    "    obs = Observations.query_criteria(target_name=name, provenance_name=\"SPOC\", sequence_number=[1, 2])\n",
    "    prod = Observations.get_product_list(obs)\n",
    "    filt = Observations.filter_products(prod, description=\"Light curves\")\n",
    "    c_uris = Observations.get_cloud_uris(filt)\n",
    "    \n",
    "    # open in lightkurve\n",
    "    with fs.open(c_uris[0], \"rb\") as f:\n",
    "        with fits.open(f, \"readonly\") as fts:\n",
    "            lc = lk.TessLightCurveFile(fts)\n",
    "\n",
    "\n",
    "    cnn_stella.predict(modelname=\"initial_flare_model_small_dataset.h5\", times=lc.time.value, fluxes=lc.flux, errs=lc.flux_err)\n",
    "    \n",
    "    flare_rate = len(cnn_stella.predictions[0][cnn_stella.predictions[0] > 0.5])/len(cnn_stella.predictions[0])\n",
    "    \n",
    "    return flare_rate"
   ]
  },
  {
   "cell_type": "markdown",
   "id": "b07914cc-c554-4727-8e17-510cbc3b573b",
   "metadata": {},
   "source": [
    "Calculating the flare rate for the whole population will take quite a while. For the purposes of this tutorial (i.e, we'll only look at every two hundredth star.\n",
    "\n",
    "We won't use the `tqdm` package this time, because it will produce a lot of output in combination with the `stella` predictions."
   ]
  },
  {
   "cell_type": "code",
   "execution_count": null,
   "id": "cb4d3405-a914-4459-abef-99885f3f1b81",
   "metadata": {
    "tags": []
   },
   "outputs": [],
   "source": [
    "%%time\n",
    "\n",
    "flare_rates = []\n",
    "\n",
    "# go through the list of targets\n",
    "for star in stars[::1000]:\n",
    "    flare_rate = calc_flare_rate(str(star))\n",
    "    flare_rates += [flare_rate]"
   ]
  },
  {
   "cell_type": "markdown",
   "id": "f35d26e9-4491-40fd-8847-f0917a428e7e",
   "metadata": {},
   "source": [
    "We first examine our flare rate alone."
   ]
  },
  {
   "cell_type": "code",
   "execution_count": null,
   "id": "2c17a18d-b970-4d4c-8841-229dcf8eaaed",
   "metadata": {
    "tags": []
   },
   "outputs": [],
   "source": [
    "plt.hist(flare_rates, color='goldenrod')\n",
    "plt.xlabel('Flare rate', fontsize=25)\n",
    "plt.ylabel('Count', fontsize=25)"
   ]
  },
  {
   "cell_type": "markdown",
   "id": "c8102cd8-17a4-4a20-a993-f0c2fc8fe738",
   "metadata": {
    "tags": []
   },
   "source": [
    "# Comparing flare rate and rotation rate<a name=\"compare_rates\"></a>\n",
    "At this point, we have measurements of two quantities — flare rate and rotation rate — that we trust well enough. We can now ask the final question: Are these two quantities related in our sample? Recall that we expect faster-spinning stars to flare more frequently.\n",
    "\n",
    "Let's see whether this expected trend bears out in our data."
   ]
  },
  {
   "cell_type": "code",
   "execution_count": null,
   "id": "75ddd1d5-97eb-4043-a61d-0915205ac39a",
   "metadata": {
    "tags": []
   },
   "outputs": [],
   "source": [
    "rot_rates = [rot_rate.value for rot_rate in rot_rates]"
   ]
  },
  {
   "cell_type": "code",
   "execution_count": null,
   "id": "147f2060-ec55-49e4-99fc-8fdefa8be77b",
   "metadata": {
    "tags": []
   },
   "outputs": [],
   "source": [
    "plt.scatter(rot_rates, flare_rates, color='teal')\n",
    "\n",
    "plt.xlabel('Period at max power (d)')\n",
    "plt.ylabel('Fraction of time spent flaring')"
   ]
  },
  {
   "cell_type": "markdown",
   "id": "1ba9bc08-a288-486b-957b-f19aba1c18a0",
   "metadata": {},
   "source": [
    "Many astrophysical processes obey log-linear scaling relationships. That is, when we plot some relationships on log-log axes, they look like straight lines. Let's see what happens when we plot our data on a log-log plot."
   ]
  },
  {
   "cell_type": "code",
   "execution_count": null,
   "id": "b97dea64-7ce8-4bcc-9623-1a18274d2ef7",
   "metadata": {
    "tags": []
   },
   "outputs": [],
   "source": [
    "plt.scatter(rot_rates, flare_rates, color='teal')\n",
    "\n",
    "plt.xlabel('Period at max power (d)')\n",
    "plt.ylabel('Fraction of time spent flaring')\n",
    "plt.yscale('log')\n",
    "plt.xscale('log')"
   ]
  },
  {
   "cell_type": "markdown",
   "id": "dd240193-6414-4f1a-bdb4-ad240eb50ca8",
   "metadata": {},
   "source": [
    "From this plot, it appears that shorter-period stars spend more time flaring! Let's quantify this statistically."
   ]
  },
  {
   "cell_type": "markdown",
   "id": "ffe22e04-000b-4593-ad74-ddec1d9b98d9",
   "metadata": {},
   "source": [
    "To do so, let's perform linear regression on our data. Let's start by cleaning out any "
   ]
  },
  {
   "cell_type": "code",
   "execution_count": null,
   "id": "f279cf26-1ec0-454f-8413-d636260e9d63",
   "metadata": {
    "tags": []
   },
   "outputs": [],
   "source": [
    "# making our results into arrays so we can easily mask them\n",
    "rot_rates, flare_rates = np.array(rot_rates), np.array(flare_rates)\n",
    "\n",
    "# mask out unrealistic flare rates\n",
    "rot_rates_cleaned = rot_rates[flare_rates>0.0]\n",
    "flare_rates_cleaned = flare_rates[flare_rates>0.0]"
   ]
  },
  {
   "cell_type": "code",
   "execution_count": null,
   "id": "b846a1df-6ca8-4283-ae02-a88ba900b6ca",
   "metadata": {
    "tags": []
   },
   "outputs": [],
   "source": [
    "# perform regression on the log values\n",
    "slope, intercept, r_value, p_value, std_err = scipy.stats.linregress(np.log10(rot_rates_cleaned), np.log10(flare_rates_cleaned))\n",
    "\n",
    "print(slope, intercept)"
   ]
  },
  {
   "cell_type": "code",
   "execution_count": null,
   "id": "0c4f59f0-c81f-4404-a8d9-86632a9d32d8",
   "metadata": {
    "tags": []
   },
   "outputs": [],
   "source": [
    "x = np.linspace(np.min(np.log10(rot_rates_cleaned)), np.max(np.log10(rot_rates_cleaned)), 100)\n",
    "y = slope * x + intercept"
   ]
  },
  {
   "cell_type": "code",
   "execution_count": null,
   "id": "285e3738-0494-4482-8c95-db6e88400327",
   "metadata": {},
   "outputs": [],
   "source": [
    "plt.scatter(np.log10(rot_rates_cleaned), np.log10(flare_rates_cleaned), color='teal', label='TESS data')\n",
    "plt.plot(x,y, color='black', linestyle='--', lw=4, label='Regression best fit')\n",
    "            \n",
    "plt.ylabel(r'$\\log_{10}$' + ' (Fraction of time spent flaring)')\n",
    "plt.xlabel(r'$\\log_{10}$' + ' (Period at max power (d))')\n",
    "plt.legend(fontsize=14);"
   ]
  },
  {
   "cell_type": "markdown",
   "id": "c9725ac9-1896-4932-9783-b6010fe12655",
   "metadata": {},
   "source": [
    "This is quite suggestive of the overall trend we predicted: that faster-rotating stars would have higher flaring activity. It may be tempting to call it a day, but there's still more due diligence to perform before we can claim that we've verified a prediction. In exercises 4-6, we assess whether our relationship is robust and statistically significant."
   ]
  },
  {
   "cell_type": "markdown",
   "id": "2f8f9c42-1996-4a72-b728-6ce4045be0b9",
   "metadata": {},
   "source": [
    "One final note: for stars with rotational periods < 0.5 days, stella may misclassify variability due to rotation as flaring activity. To get a rough sense of how this affects our results, let's see where that rotation rate threshold lies on our plot."
   ]
  },
  {
   "cell_type": "code",
   "execution_count": null,
   "id": "e0846ed3-c2d1-4b79-b1d6-4540fa553af0",
   "metadata": {},
   "outputs": [],
   "source": [
    "plt.scatter(np.log10(rot_rates_cleaned),np.log10(flare_rates_cleaned), color='teal', label='TESS data')\n",
    "plt.plot(x,y, color='black', linestyle='--', lw=4, label='Regression best fit')\n",
    "\n",
    "plt.axvline(np.log10(0.5), color='gray', lw=3, label='stella threshold')\n",
    "            \n",
    "plt.ylabel(r'$\\log_{10}$' + ' (Fraction of time spent flaring)')\n",
    "plt.xlabel(r'$\\log_{10}$' + ' (Period at max power (d))')\n",
    "plt.legend(fontsize=14);"
   ]
  },
  {
   "cell_type": "markdown",
   "id": "6a3c1080-99ac-4c08-868b-7c8b62cd5955",
   "metadata": {},
   "source": [
    "Hmm, it seems like a decent number of our points are affected. Let's mask out these points and fit our line again."
   ]
  },
  {
   "cell_type": "code",
   "execution_count": null,
   "id": "bf17e3b8-0d96-419a-b197-e84536915280",
   "metadata": {
    "tags": []
   },
   "outputs": [],
   "source": [
    "# mask out the suspect values\n",
    "rot_rates_cleaned_again = rot_rates_cleaned[rot_rates_cleaned>0.5]\n",
    "flare_rates_cleaned_again = flare_rates_cleaned[rot_rates_cleaned>0.5]\n",
    "\n",
    "# perform regression on the log values\n",
    "slope_cleaned_again, intercept_cleaned_again, r_value_cleaned_again, p_value_cleaned_again, std_err_cleaned_again = scipy.stats.linregress(np.log10(flare_rates_cleaned_again), \n",
    "                                                                     np.log10(rot_rates_cleaned_again))\n",
    "\n",
    "# create the plot, again: copy/paste from above\n",
    "x = np.linspace(np.min(np.log10(rot_rates_cleaned_again)), np.max(np.log10(rot_rates_cleaned_again)), 100)\n",
    "y = slope * x + intercept\n",
    "\n",
    "plt.scatter(np.log10(rot_rates_cleaned_again),np.log10(flare_rates_cleaned_again), color='teal', label='TESS data')\n",
    "plt.plot(x,y, color='black', linestyle='--', lw=4, label='Regression best fit')\n",
    "            \n",
    "plt.ylabel(r'$\\log_{10}$' + ' (Fraction of time spent flaring)')\n",
    "plt.xlabel(r'$\\log_{10}$' + ' (Period at max power (d))')\n",
    "plt.legend(fontsize=14);\n",
    "\n",
    "print(slope_cleaned_again, intercept_cleaned_again), print(slope, intercept)"
   ]
  },
  {
   "cell_type": "markdown",
   "id": "726fd22d-00b5-4ef6-a7a1-aed8cc8bef53",
   "metadata": {},
   "source": [
    "The calculated slope is a little shallower, but it's still negative and generally fits well with our data."
   ]
  },
  {
   "cell_type": "markdown",
   "id": "40f95a0e-16df-498b-bf9f-7c20e89cc835",
   "metadata": {},
   "source": [
    "## Next time on MAST Summer Webinar\n",
    "We'll dive a bit deeper into the statistics of this relationship. Stay tuned!"
   ]
  },
  {
   "cell_type": "code",
   "execution_count": null,
   "id": "8096d331-de78-4ec8-afa0-db5d91bb865f",
   "metadata": {},
   "outputs": [],
   "source": [
    "# save these values for the next notebook!\n",
    "np.savetxt(\"rot_rates_constrained.txt\", rot_rates_cleaned_again)\n",
    "np.savetxt(\"flare_rates_durations.txt\", flare_rates_cleaned_again)"
   ]
  },
  {
   "cell_type": "markdown",
   "id": "fa408ab2-ecef-4f42-adf4-79ec887d3376",
   "metadata": {},
   "source": [
    "# Additional exercises<a name=\"more_exercises\"></a>\n",
    "Note that the solutions to these exercises are involved, but much of the code is reproducing work from this notebook (e.g., calculating the break-up rotation speed).\n",
    "\n",
    "1. There are more robust ways to determine flare rate. For instance, instead of dividing in-flare time by total flare time, we can assess the number of flares per day. Plot the number of flares per day against the rotation rate — does the functional form of this relationship look different from the plot generated in this notebook?\n",
    "2. In Feinstein et al. 2020, the authors describe three criteria that define robust rotation rates. Implement the below, being sure to mask out harmonics before identifying the secondary peak. Do these steps change your answers? HINT: the `stella` package may include some <a href=\"https://adina.feinste.in/stella/getting_started/other_features.html\">useful functionality</a>.\n",
    "    - <i>the rotation rate must be less than 12 days</i>\n",
    "    - <i>the width of a Gaussian fit to the peak power must be less than 40% of the peak period</i>\n",
    "    - <i>the secondary peak in the power spectrum must be 4% weaker than the primary peak</i>\n",
    "3. Feinstein et al. 2020 also identified the below checks for verifying flares. Implement these, as well; does this impact the flares vs. rotation rate plot? This exercise can be performed independently of Exercise 5.\n",
    "    - <i>the amplitude of the flare must be 1.5σ > the locally detrended light curve</i>\n",
    "    - <i>the two cadences directly following the amplitude must be 1σ > the detrended light curve (i.e., at least three consecutive outlier points are considered part of a flare);</i>\n",
    "    - <i>the cadence before and after the flare amplitude must be less than the amplitude;</i>\n",
    "    - <i>the amplitude must be >0.5%.</i>  "
   ]
  },
  {
   "cell_type": "markdown",
   "id": "4b346aae-f01e-4047-a2a3-e0909629e24d",
   "metadata": {
    "tags": []
   },
   "source": [
    "# Resources<a name=\"resources\"></a>\n",
    "- <a href=https://github.com/afeinstein20/stella> stella GitHub repository </a>\n",
    "- <a href=https://adina.feinste.in/stella/> stella documentation </a>\n",
    "- <a href=https://adsabs.harvard.edu/full/2004IAUS..215...57G>review on stellar rotation in clusters</a>\n",
    "- <a href=https://iopscience.iop.org/article/10.3847/1538-4365/aab766/meta>VanderPlas 2018: Understanding the Lomb–Scargle Periodogram</a>\n",
    "- <a href=https://online.stat.psu.edu/stat510/lesson/6/6.1#:~:texta%20time%20series.-,Periodogram,encountered%20monthly%20or%20quarterly%20seasonality.>Introduction to periodograms</a>\n",
    "<a href=https://en.wikipedia.org/wiki/Nyquist%E2%80%93Shannon_sampling_theorem>Wikipedia article on the Nyquist-Shannon sampling theorem</a>"
   ]
  },
  {
   "cell_type": "markdown",
   "id": "2b25d99f-4594-4ef3-8391-a44038ede87f",
   "metadata": {},
   "source": [
    "## About this Notebook\n",
    "\n",
    "**Author:** Arjun Savel\n",
    "\n",
    "**Last updated:** June 2024 <br>\n",
    "\n",
    "For support, please contact the Archive HelpDesk at archive@stsci.edu.\n",
    "\n",
    "***\n",
    "\n",
    "<img style=\"float: right;\" src=\"https://raw.githubusercontent.com/spacetelescope/notebooks/master/assets/stsci_pri_combo_mark_horizonal_white_bkgd.png\" alt=\"Space Telescope Logo\" width=\"200px\"/>\n",
    "\n",
    "[Return to top of page](#top)"
   ]
  }
 ],
 "metadata": {
  "kernelspec": {
   "display_name": "TESS Environment",
   "language": "python",
   "name": "tess"
  },
  "language_info": {
   "codemirror_mode": {
    "name": "ipython",
    "version": 3
   },
   "file_extension": ".py",
   "mimetype": "text/x-python",
   "name": "python",
   "nbconvert_exporter": "python",
   "pygments_lexer": "ipython3",
   "version": "3.11.9"
  }
 },
 "nbformat": 4,
 "nbformat_minor": 5
}
