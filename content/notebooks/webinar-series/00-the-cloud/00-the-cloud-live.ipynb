{
 "cells": [
  {
   "cell_type": "markdown",
   "id": "db8c54d5-0b71-4dbf-92d4-8f96c8488f06",
   "metadata": {},
   "source": [
    "# Lesson 0: Working on TIKE, with Cloud Data"
   ]
  },
  {
   "cell_type": "markdown",
   "id": "d5539045-0e45-4c7e-9d1b-4c01914d2bdb",
   "metadata": {},
   "source": [
    "## Learning Goals: \n",
    "- Understand what TIKE is, and the principles behind cloud platforms\n",
    "- Define cloud terminology: what is a “bucket” or a server? For that matter, what is the “cloud”?\n",
    "- Access MAST data through astroquery by name, region, or criteria\n",
    "- Download TESS data and show an image"
   ]
  },
  {
   "cell_type": "markdown",
   "id": "db8c6393-7f1e-4722-a43d-00b0c299f1e7",
   "metadata": {},
   "source": [
    "## What is TIKE?\n",
    "\n",
    "TIKE stands for the *Timeseries Integrated Knowledge Engine*.\n",
    "\n",
    "TIKE uses a web-based platform, called JupyterHub, to allow you to run [Jupyter Notebooks](https://jupyterlab.readthedocs.io/en/latest/) and other software \"on the cloud\" using your web browser: you don't need to install anything on your local computer. TIKE has access to a cloud copy of the [MAST Archive](https://archive.stsci.edu), enabling anyone to access and analyze data from NASA's [TESS mission](https://archive.stsci.edu/missions-and-data/tess). We also have copies of other mission datasets, including data from HST, GALEX, and PanSTARRS. They are generally cataloged in full on the MAST Public Datasets page, so check there for an updated list.\n",
    "\n",
    "TIKE is continually maintained and updated by humans, so if you run into issues please let us know. Don't hesitate to send us your suggestions for packages and tutorials, either through the [MAST help desk](mailto:archive@stsci.edu) or the [tike_content repository](https://github.com/spacetelescope/tike_content)."
   ]
  },
  {
   "cell_type": "markdown",
   "id": "380fb2a4-1206-455a-b726-1451017b32e6",
   "metadata": {},
   "source": [
    "## What is the \"cloud\"?\n",
    "\n",
    "The \"cloud\", or cloud computing, refers to the practice of remotely accessing computing resources, rather than hosting them yourself. This term might also be used to refer to software and databases running on those servers. As Randall Munroe put it, \"turns out the cloud is just other people's computers\".\n",
    "\n",
    "In our case, \"the cloud\" is the AWS East Datacenters in northern Virginia. TIKE runs in proximity to this copy of MAST data. This means that the data is not transmitted over the internet, but rather within a data center. This leads to faster access, since data centers have high-quality (likely fiber optic) connections between their machines. \n",
    "\n",
    "### Why would I want to work on the cloud?\n",
    "Using the cloud has several benefits; principally, as mentioned above, there's no need to download data to your local machine. This speeds up data access, and allows you to perform analyses that wouldn't be possible without a major upgrade to your hard drive capacity or internet service. You can access data whenever and wherever you want to, from any device, as long as you have an internet connection. \n",
    "\n",
    "![tike-cloud](TIKE-Cloud-Photo.png)\n",
    "\n",
    "### What's the difference between working on the cloud and working on TIKE?\n",
    "Although you might choose to work directly with data stored on the cloud, it can be complex to configure such a system. TIKE handles this complexity, making it as easy as opening a Jupyter Notebook."
   ]
  },
  {
   "cell_type": "markdown",
   "id": "fb6aaf06-8151-4367-9a80-6be3877b5f78",
   "metadata": {},
   "source": [
    "### How can I access cloud-hosted data?\n",
    "\n",
    "There are two approaches to accessing cloud-hosted data:\n",
    "1. While on TIKE, loading files directly into memory (recommended)\n",
    "2. A traditional download to your local machine from the cloud-hosted copy of MAST\n",
    "\n",
    "Whenever possible, it's best to use the first method. The vast majority of users, with small tweaks to existing code, should be able to access data this way."
   ]
  },
  {
   "cell_type": "markdown",
   "id": "4cbe4ca5-84e8-4d3b-b87a-44a1c958b2eb",
   "metadata": {},
   "source": [
    "## Imports and Setup\n",
    "\n",
    "We'll use the standard tools to open and plot a fits file:\n",
    "- `astropy.io fits` to read in the fits file\n",
    "- `matplotlib` to create the plot\n",
    "- `numpy` to automatically set brightness limits in the plot\n",
    "\n",
    "To access the cloud data, we need\n",
    "- `astroquery.mast` to search for and select data\n",
    "- `s3fs` to access cloud files as though they were local"
   ]
  },
  {
   "cell_type": "code",
   "execution_count": null,
   "id": "b5b236a8-a68f-4969-8b29-4f05dcf8eb38",
   "metadata": {},
   "outputs": [],
   "source": [
    "import matplotlib.pyplot as plt\n",
    "import numpy as np\n",
    "import s3fs\n",
    "\n",
    "from astropy.io import fits\n",
    "from astroquery.mast import Observations\n",
    "from astropy.wcs import WCS"
   ]
  },
  {
   "cell_type": "markdown",
   "id": "4eec3fc6-bf0c-4d94-a0a8-23998a6d8292",
   "metadata": {},
   "source": [
    "The most important step in this process is to enable cloud data access. Once we do, we'll be able to get cloud filenames and access files directly. If you're working locally, you can use this command to download data from the cloud copy of MAST data."
   ]
  },
  {
   "cell_type": "code",
   "execution_count": null,
   "id": "ef80beb7-4e0f-4fd4-8b22-f9d3e7a0e95b",
   "metadata": {},
   "outputs": [],
   "source": []
  },
  {
   "cell_type": "markdown",
   "id": "1dbd3990-c512-4be6-bd2f-c401010bd253",
   "metadata": {},
   "source": [
    "## Querying for MAST Observations\n",
    "The [`astroquery.mast` package](https://astroquery.readthedocs.io/en/latest/mast/mast.html) is an astronomer-friendly way to programatically query MAST data. This is what we'll use in this Notebook and throughout the course of the webinar, since all of the functions we need are built-in.\n",
    "\n",
    "### Workflow\n",
    "Before we dive into the details, let's take a look at the bigger picture. The path from \"I want MAST data\" to getting it takes three steps:\n",
    "\n",
    "1. Filter MAST Observations using metadata, such as Ra/Dec, exposure time, and wavelength.\n",
    "2. Filter the underlying files associated with each Observation (e.g. using calibration level or file type).\n",
    "3. Access the data, by downloading it or loading it directly into memory.\n",
    "\n",
    "### Step 1: Observation Metadata Query\n",
    "Metadata queries can be done with three functions:\n",
    "- `query_region()`: queries within a radius of the target coordinates (default 0.2 degrees)\n",
    "- `query_object()`: uses SIMBAD and NED to turn an object name into coordinates$^{**}$, then queries the region\n",
    "- `query_criteria()`: allows for versatile queries, using values like mission and exposure time ([full list of criteria here](https://mast.stsci.edu/api/v0/_c_a_o_mfields.html))\n",
    "\n",
    "\\** In a vanishingly small but non-zero number of cases, a target may be incorrectly resolved. Double-check the output coordinates before defending any PhD dissertations.\n",
    "\n",
    "Each function adds additional features, so you'll probably want to use the last one for most queries.\n",
    "\n",
    "#### Warmup: Count Results\n",
    "You can append `_count` to any of the above functions to get the number of matching results. For example, we can query within 1 arcminue of the coordinates of Fomalhaut:"
   ]
  },
  {
   "cell_type": "code",
   "execution_count": null,
   "id": "ef32617f-68fb-48fd-a21b-20435e0e6bce",
   "metadata": {},
   "outputs": [],
   "source": [
    "\"22h57m39.04625s -29d37m20.0533s\""
   ]
  },
  {
   "cell_type": "markdown",
   "id": "e453cf2f-b39c-450e-98cc-58ce2550a219",
   "metadata": {},
   "source": [
    "Now it's your turn! How many Observations in MAST are within 2 arcseconds of Trappist-1?"
   ]
  },
  {
   "cell_type": "code",
   "execution_count": null,
   "id": "a45bb5e0-79af-4f6f-a638-6352e13a90d1",
   "metadata": {},
   "outputs": [],
   "source": [
    "# TYPE ANSWER HERE\n"
   ]
  },
  {
   "cell_type": "code",
   "execution_count": null,
   "id": "b1a9f7ff-f063-4bc1-848d-d4b4aed120ec",
   "metadata": {},
   "outputs": [],
   "source": [
    "# hint: uncomment and run\n",
    "#Observations.query_object?"
   ]
  },
  {
   "cell_type": "markdown",
   "id": "9e6beca7-8548-4d17-a87d-fe352be5788a",
   "metadata": {},
   "source": [
    "#### Querying for an Image of Fomalhaut\n",
    "\n",
    "Let's stick with our example star Fomalhaut, the brightest star in the southern constellation of Piscis Austrinus, the \"Southern Fish\", and one of the brightest stars in the night sky.\n",
    "\n",
    "<img src=\"https://upload.wikimedia.org/wikipedia/commons/a/ae/Heic0821f.jpg\" width=\"300\">\n",
    "\n",
    "`Image Credit: NASA, ESA, and the Digitized Sky Survey 2. Acknowledgment: Davide De Martin (ESA/Hubble)`\n",
    "\n",
    "We'll use the `query_criteria` function to look for TESS Observations in the vicinity."
   ]
  },
  {
   "cell_type": "code",
   "execution_count": null,
   "id": "4ab922e8-0dde-4cbe-ac9a-656a3d892269",
   "metadata": {},
   "outputs": [],
   "source": []
  },
  {
   "cell_type": "markdown",
   "id": "29d560d3-f9eb-459e-986a-69adb386bed8",
   "metadata": {},
   "source": [
    "The full table can be a bit overwhelming. Let's only show a subset of columns."
   ]
  },
  {
   "cell_type": "code",
   "execution_count": null,
   "id": "875c4c09-cda2-41a3-9d21-5de57f160941",
   "metadata": {},
   "outputs": [],
   "source": [
    "cols = ['target_name', 's_ra', 's_dec', 'dataproduct_type', 'calib_level', 't_exptime', 'sequence_number', 'dataRights', 'distance']\n"
   ]
  },
  {
   "cell_type": "markdown",
   "id": "2e2c2f64-6c51-48f9-a72a-c4ae33c20e9c",
   "metadata": {},
   "source": [
    "The `distance` to all of these observations is zero, even though their coordinates (`s_ra` and `s_dec`) are different. What gives?\n",
    "\n",
    "As it turns out, `distance` is a measure of the separation (in arcseconds) of our input coordinates and the Observation footprint. So long as our coordinates are within the footprint, the `distance` will be zero.\n",
    "\n",
    "Since we want to plot an image, we'll select one of the FFIs. Let's use sector 29. We could use standard Python indexing for this, but we could also just reformat our query:\n"
   ]
  },
  {
   "cell_type": "code",
   "execution_count": null,
   "id": "e83730bd-d21a-415c-9242-071354f55e7c",
   "metadata": {},
   "outputs": [],
   "source": [
    "# option 1: use bitwise and \n",
    "# match = np.bitwise_and(tess_obs['sequence_number']==29, tess_obs['target_name']==\"TESS FFI\")\n",
    "# tess_obs[match]\n",
    "\n",
    "# option 2: format the query"
   ]
  },
  {
   "cell_type": "markdown",
   "id": "1965afc6-c083-4e73-aba7-f94ce93566f6",
   "metadata": {},
   "source": [
    "As expected, we only get one matching observation back."
   ]
  },
  {
   "cell_type": "markdown",
   "id": "28279d01-98f8-40cf-b709-963f6d9d9559",
   "metadata": {},
   "source": [
    "## Step 2: Get Products"
   ]
  },
  {
   "cell_type": "markdown",
   "id": "73c6055f-621e-4887-9c4e-a491dd6271b8",
   "metadata": {},
   "source": [
    "Now that we have our Observation, we'll use the `get_product_list` to find the underlying files."
   ]
  },
  {
   "cell_type": "code",
   "execution_count": null,
   "id": "c254415c-642c-4513-a8cf-37624e5e7a68",
   "metadata": {},
   "outputs": [],
   "source": []
  },
  {
   "cell_type": "markdown",
   "id": "ad52982b-a90d-4f63-9f2d-163e8d4449c1",
   "metadata": {},
   "source": [
    "Wow! That's a lot of products. Each FFI image is stored individually, and we're looking at a month's worth of data. There's not a straightforward way to sort these FFIs, so we'll skip over those details for now. Instead, we'll filter on a fixed ID."
   ]
  },
  {
   "cell_type": "code",
   "execution_count": null,
   "id": "e60246df-7f5a-41a9-8394-dabc654a4510",
   "metadata": {},
   "outputs": [],
   "source": [
    "# fixing for reproducability\n",
    "fixed_id = \"tess2020243183914-s0029-1-1-0193-s\"\n",
    "\n",
    "# filter for the product with the matching ID\n",
    "\n",
    "# Confirm we have the product we want\n",
    "filtered_image"
   ]
  },
  {
   "cell_type": "markdown",
   "id": "cf09de55-4b46-4bef-9a62-5def3f9b20ba",
   "metadata": {},
   "source": [
    "As expected, we have one result."
   ]
  },
  {
   "cell_type": "markdown",
   "id": "b4295d1e-10f9-4d8c-bb8d-9fe0c411adf2",
   "metadata": {},
   "source": [
    "## Step 3: Data Access\n",
    "\n",
    "Once you've identified your file(s) of interest, you must choose your access method."
   ]
  },
  {
   "cell_type": "markdown",
   "id": "7e91d82f-029f-4c30-9f4c-4324cbd5bca8",
   "metadata": {},
   "source": [
    "### Downloading\n",
    "\n",
    "We won't say much about this method, since it's not recommended to do this on the cloud. Just know that the option exists, both on TIKE and your local machine"
   ]
  },
  {
   "cell_type": "code",
   "execution_count": null,
   "id": "79536c5a-010a-4731-8452-98b4c4fa3dde",
   "metadata": {},
   "outputs": [],
   "source": [
    "# img_path = Observations.download_products(filtered_image)"
   ]
  },
  {
   "cell_type": "markdown",
   "id": "36559170-eee5-4f82-bc58-4efab2dc1992",
   "metadata": {},
   "source": [
    "### Streaming to Memory\n",
    "A downloaded file has a path on your computer (e.g. `Downloads/docs/copy-of-untitled1.txt`). We need to use the cloud equivalent of this. Fortunately, there's a function for that!"
   ]
  },
  {
   "cell_type": "code",
   "execution_count": null,
   "id": "17c92d67-053f-48c4-a3fc-ac14171ef038",
   "metadata": {},
   "outputs": [],
   "source": []
  },
  {
   "cell_type": "markdown",
   "id": "97abf457-2fe5-49e0-9e78-8489726bceed",
   "metadata": {},
   "source": [
    "Whether opening a file on the cloud, or on your local machine, it's best practice to close the file once you're done using it. This is most easily done using Python's `with/open` syntax, as we'll do below.\n",
    "\n",
    "**Note:** Code in the `with` statement should only be used to extract data from the file. Relatively slow computations and plot generation should go outside of this statement so that the file can close in a timely manner."
   ]
  },
  {
   "cell_type": "code",
   "execution_count": null,
   "id": "ada3600f-ff6d-4010-b89c-5908041f8ce7",
   "metadata": {},
   "outputs": [],
   "source": [
    "# Open the file in AWS: 'F' is the S3 file\n",
    "\n",
    "    # Now actually read in the FITS file \n",
    "\n",
    "# Preview the first ten lines of the header\n"
   ]
  },
  {
   "cell_type": "markdown",
   "id": "ddd0e203-1af5-4d91-81e3-008f0def5ce7",
   "metadata": {},
   "source": [
    "We can see that, in addition to the primary HDU, this file contains calibrated values and associated uncertainties. This is why we read in the "
   ]
  },
  {
   "cell_type": "markdown",
   "id": "24e84137-4f4a-41ec-99bf-e35d998a39db",
   "metadata": {},
   "source": [
    "### Display the Image\n",
    "\n",
    "Finally, let's plot our full frame image of Fomalhaut. "
   ]
  },
  {
   "cell_type": "code",
   "execution_count": null,
   "id": "de1b8fe3-f3a9-4a84-9789-b680a9af926a",
   "metadata": {},
   "outputs": [],
   "source": [
    "# Create a 12x12 figure\n",
    "\n",
    "\n",
    "# Use our WCS information to set the coordinates\n",
    "\n",
    "\n",
    "# Plot the image, adjusting some settings along the way\n",
    "\n",
    "\n",
    "# Create some labels for our axes\n"
   ]
  },
  {
   "cell_type": "markdown",
   "id": "1568d78e-a8a9-4f59-805d-0a6d17351ef3",
   "metadata": {},
   "source": [
    "There are three things we can notice in this image:\n",
    "- Fomalhaut is visible in the top left of the image; since it is a bright star, it suffers from charge bleed and has long vertical spikes.\n",
    "- The blotchy glowing patches in the lower left corner are likely caused by stars outside of the field of view.\n",
    "- The background is not totally dark. It is brightest near the top and gets dimmer near the bottom, likely due to scattered light from the Earth or the moon.\n",
    "\n",
    "For full details on how TESS collects and processes images, see the [TESS Instrument Handbook](https://archive.stsci.edu/missions/tess/doc/TESS_Instrument_Handbook_v0.1.pdf).\n",
    "\n",
    "Ok! With the image plotted, that's all for this lesson."
   ]
  },
  {
   "cell_type": "markdown",
   "id": "517f4aae-9478-488d-be3a-a60d5cf4742d",
   "metadata": {},
   "source": [
    "## Next time on \"MAST Summer Webinar\"...\n",
    "\n",
    "The next lesson, we will plot the light curve of an exoplanet. We'll talk more about the TESS mission, time series data, and how we detect exoplanets. Stay tuned!"
   ]
  },
  {
   "cell_type": "markdown",
   "id": "834ca9ff-571f-4323-873c-f9df69755d2a",
   "metadata": {},
   "source": [
    "## Additional Resources\n",
    "Can't get enough? Here are some links to more information!\n",
    "\n",
    "If you need an introduction (or a refresher!) to basic Python syntax, there are several great resources available online. [CodeAcademy](https://www.codecademy.com/learn/learn-python-3) is a great service with a totally free option for getting started with Python, note you will have to create an account to use it. Additionally, the Youtube channel FreeCodeCamp.org has a great [video tutorial](https://www.youtube.com/watch?v=rfscVS0vtbw) on everyting you need to get started programming in Python. Another good resource is the [Python 4 Everyone](https://www.py4e.com/) book. \n",
    "\n",
    "The full astropy documentation can be found [here](https://docs.astropy.org/en/stable/index.html).\n",
    "\n",
    "For more info on FITS files, here is a link to the [FITS NASA site](https://fits.gsfc.nasa.gov/). \n",
    "\n",
    "SIMBAD is a web-based query service from the University of Strausberg, it is a great resource for getting quick info on stars and other astronomical targets. Here is the link to [Fomalhaut's SIMBAD page](https://simbad.u-strasbg.fr/simbad/sim-id?Ident=fomalhaut&NbIdent=1&Radius=2&Radius.unit=arcmin&submit=submit+id)"
   ]
  },
  {
   "cell_type": "markdown",
   "id": "933fcb3f-4740-45aa-9db1-e248dae8e750",
   "metadata": {},
   "source": [
    "## Acknowldegements\n",
    "\n",
    "If you write a paper using TESS data from MAST, please acknowledge this using the following template:\n",
    "\n",
    "> This paper includes data collected with the TESS mission, obtained from the MAST data archive at the Space Telescope Science Institute (STScI). Funding for the TESS mission is provided by the NASA Explorer Program. STScI is operated by the Association of Universities for Research in Astronomy, Inc., under NASA contract NAS 5–26555.\n",
    "\n",
    "Any published work that uses Astroquery should include a citation which can be found at [this link](https://github.com/astropy/astroquery/blob/main/astroquery/CITATION), or can be printed out in a code cell with: `astroquery.__citation__` as long as the astroquery package is imported. "
   ]
  },
  {
   "cell_type": "markdown",
   "id": "f47b80dc-e84b-48a6-bf28-3920532776bb",
   "metadata": {},
   "source": [
    "### About this Notebook:\n",
    "If you have comments or questions on this notebook, please open a [GitHub issue on tike_content](https://github.com/spacetelescope/tike_content/issues/new) contact us through the [Archive Help Desk e-mail](mailto:archive@stsci.edu).\n",
    "\n",
    "**Authors:** Emma Lieb, Thomas Dutkiewicz\n",
    "\n",
    "**Last Updated:** May 2024\n",
    "\n",
    "[Top of Page](#top)\n",
    "\n",
    "<img style=float:right; src=\"https://raw.githubusercontent.com/spacetelescope/notebooks/master/assets/stsci_pri_combo_mark_horizonal_white_bkgd.png\" alt=\"Space Telescope Logo\" width=\"200px\"/> "
   ]
  }
 ],
 "metadata": {
  "kernelspec": {
   "display_name": "Python 3 (ipykernel)",
   "language": "python",
   "name": "python3"
  },
  "language_info": {
   "codemirror_mode": {
    "name": "ipython",
    "version": 3
   },
   "file_extension": ".py",
   "mimetype": "text/x-python",
   "name": "python",
   "nbconvert_exporter": "python",
   "pygments_lexer": "ipython3",
   "version": "3.11.9"
  }
 },
 "nbformat": 4,
 "nbformat_minor": 5
}
