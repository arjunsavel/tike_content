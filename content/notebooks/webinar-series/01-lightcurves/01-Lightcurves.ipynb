{
 "cells": [
  {
   "cell_type": "markdown",
   "id": "5560d3ad-f074-4220-88cd-5f772bc21e70",
   "metadata": {},
   "source": [
    "# Lesson 1: Timeseries Data and Exoplanets\n"
   ]
  },
  {
   "cell_type": "markdown",
   "id": "5cf410cf-6fd1-4315-b002-eb45c0565231",
   "metadata": {},
   "source": [
    "## Learning Goals: \n",
    "- Understand how missions like TESS and Kepler look for repeated changes in brightness to detect planets.\n",
    "- Learn to plot a light curve using mission-generated LC and TPF files\n",
    "- List common uses of timeseries data"
   ]
  },
  {
   "cell_type": "markdown",
   "id": "55110c01-4818-41fa-a2fd-b57b80c1b235",
   "metadata": {},
   "source": [
    "## How are exoplanets discovered?\n",
    "NASA has an excellent summary of the [five main techniques astronomers have used to discover exoplanets](https://exoplanets.nasa.gov/alien-worlds/ways-to-find-a-planet/). They are:\n",
    "- Transits (the method we'll discuss)\n",
    "- Microlensing\n",
    "- Astrometry\n",
    "- Radial velocity measurements\n",
    "- Direct imaging\n",
    "\n",
    "The TESS mission is optimized to look for planets using the transit method. It does this by \"staring\" at a 24x96 field for 27 days; this is referred to as a sector. NASA's Goddard Spaceflight Center has an incredible [video showing how TESS scanned the sky over its two year, primary mission](https://youtu.be/evHF_mnIdj4?feature=shared&t=26), which we've also embedded into the cell below:"
   ]
  },
  {
   "cell_type": "code",
   "execution_count": null,
   "id": "0fa634a3-6323-444c-8b6b-81fbc95f5b6e",
   "metadata": {},
   "outputs": [],
   "source": [
    "%%HTML\n",
    "<iframe width=\"560\" height=\"315\" src=\"https://www.youtube.com/embed/evHF_mnIdj4?si=UaPNulrr-ZZ_Mdop&amp;start=26\" title=\"YouTube video player\" frameborder=\"0\" allow=\"accelerometer; autoplay; clipboard-write; encrypted-media; gyroscope; picture-in-picture; web-share\" referrerpolicy=\"strict-origin-when-cross-origin\" allowfullscreen></iframe>"
   ]
  },
  {
   "cell_type": "markdown",
   "id": "abcef258-c58a-4480-a926-2b5a5dd50f18",
   "metadata": {},
   "source": [
    "### What is a transit? \n",
    "A transit occurs when a planet passes between a star and an observer. Transits reveal an exoplanet, not because we directly observe it from many light-years away, but because the planet passing in front of its host star slightly dims its light; we see the planet's \"shadow\". The dimming is most obvious in light curves: graphs showing the intensity of light over time. \n",
    "\n",
    "<img src=\"https://upload.wikimedia.org/wikipedia/commons/8/88/Exoplanet_transit_method.gif\" width=\"500\">\n",
    "\n",
    "In addition to exoplanets, TESS data are also useful when analyzing a variety of astronomical systems including binary stars, asteroseismic signals, and transient objects. These applications share the same fundamental need for a high-precision measurement of brightness, which TESS delivers."
   ]
  },
  {
   "cell_type": "markdown",
   "id": "129fec74-e9a9-45e7-b8fc-56413957aba6",
   "metadata": {},
   "source": [
    "## Discovering WASP-153b: Plotting a light curve\n",
    "\n",
    "Let's look for a transit of our own. [WASP-153b](https://exoplanetarchive.ipac.caltech.edu/overview/WASP-153%20b#planet_WASP-153-b_collapsible) is a gas giant exoplanet that orbits a G-type star. It has a mass of 0.39 Jupiters, and takes only 3.3 days to complete one orbit of its star; it's 0.048 AU from its star. Its discovery was announced in 2017. \n",
    "\n",
    "Given the planet's large size and proximity to its host star, it should be easy to spot the transit."
   ]
  },
  {
   "cell_type": "markdown",
   "id": "e9dddc43-a92c-4e23-a954-ec01e206f4bd",
   "metadata": {},
   "source": [
    "### Imports\n",
    "\n",
    "We'll use a \"standard\" suite of packages in this Notebook.\n",
    "\n",
    "* `astropy.io fits` to read in fits files\n",
    "* `matplotlib `to create plots\n",
    "* `numpy` has nice mathematical operators that are fast\n",
    "\n",
    "To access the cloud data, we need:\n",
    "\n",
    "* `astroquery.mast` to search for and select data\n",
    "* `s3fs` to access cloud files as though they were local"
   ]
  },
  {
   "cell_type": "code",
   "execution_count": null,
   "id": "bf68defa-94d5-4989-bdf5-d931d5c2540b",
   "metadata": {},
   "outputs": [],
   "source": [
    "import matplotlib.pyplot as plt\n",
    "import numpy as np\n",
    "import s3fs\n",
    "\n",
    "from astropy.io import fits\n",
    "from astroquery.mast import Observations\n",
    "from astropy.wcs import WCS"
   ]
  },
  {
   "cell_type": "markdown",
   "id": "25dc5237-88a7-485e-a9fd-f4f291994483",
   "metadata": {},
   "source": [
    "We also need to run the following to access cloud data:"
   ]
  },
  {
   "cell_type": "code",
   "execution_count": null,
   "id": "1744c146-722b-4597-b4f5-735197e1caed",
   "metadata": {},
   "outputs": [],
   "source": [
    "Observations.enable_cloud_dataset() # use cloud data when possible\n",
    "fs = s3fs.S3FileSystem(anon=True)   # read cloud data as though local"
   ]
  },
  {
   "cell_type": "markdown",
   "id": "36a92576-a48a-43be-a436-50c53f2c199e",
   "metadata": {},
   "source": [
    "### Query For Observations, Filter for Files\n",
    "\n",
    "We already know our target name: WASP-153. We need to add some additional filters to query to narrow things down:\n",
    "* Mission: we'll limit our search to data from the TESS mission.\n",
    "* Time series data: in the context of TESS, this will eliminate full-frame images from our results. This is helpful, as there as thousands of them per sector.\n",
    "* Sector: this is selected arbitrarily to narrow down the number of search results."
   ]
  },
  {
   "cell_type": "code",
   "execution_count": null,
   "id": "bad3b96e-fe6f-4c21-b14e-0630bd74ceb9",
   "metadata": {},
   "outputs": [],
   "source": [
    "# Query for TESS time series Observations of our target\n",
    "TESS_table = Observations.query_criteria(objectname=\"WASP-153\"\n",
    "                                         , obs_collection=\"TESS\"\n",
    "                                         , dataproduct_type='timeseries'\n",
    "                                         , sequence_number = 40\n",
    "                                         ) \n",
    "\n",
    "# Get associated science products for each Observation\n",
    "data_products = Observations.get_product_list(TESS_table) \n",
    "\n",
    "# Keep only the science products\n",
    "filtered = Observations.filter_products(data_products, productType=\"SCIENCE\")\n",
    "\n",
    "# Be selective about the columns we display\n",
    "cols = ['obs_id', 'description', 'productSubGroupDescription']\n",
    "filtered[cols]"
   ]
  },
  {
   "cell_type": "markdown",
   "id": "5eecebec-c6ba-4786-a29b-38bd684a3d44",
   "metadata": {},
   "source": [
    "Excellent, we've filtered down to three results. The data validation timeseries is product produced by TESS as part of the automated exoplanet detection routine.\n",
    "\n",
    "More of interest to us are the light curve and target pixel file. Let's focus on the target pixel file for now, since it will help us understand exactly how TESS data are generated. For later convenience, we'll prepare to open both files."
   ]
  },
  {
   "cell_type": "code",
   "execution_count": null,
   "id": "6be02853-3477-44d4-b6a1-aeb10209d782",
   "metadata": {},
   "outputs": [],
   "source": [
    "# Filter for the light curve files; we don't need this now\n",
    "lc_prod = Observations.filter_products(data_products\n",
    "                                      , productSubGroupDescription = \"LC\")\n",
    "\n",
    "# Filter for the target pixel files\n",
    "tp_prod = Observations.filter_products(data_products\n",
    "                                       , productSubGroupDescription = \"TP\")"
   ]
  },
  {
   "cell_type": "markdown",
   "id": "bfa641e5-4604-4c65-a0c8-7d71e8b0f2c6",
   "metadata": {},
   "source": [
    "One last step: convert these into cloud URIs. See the [previous notebook](../00-the-cloud.ipynb) in this series for more detail about cloud access."
   ]
  },
  {
   "cell_type": "code",
   "execution_count": null,
   "id": "e8568781-5806-4754-bd7f-5b9fdc324acc",
   "metadata": {},
   "outputs": [],
   "source": [
    "# Saving this for later\n",
    "lc_uri = Observations.get_cloud_uris(lc_prod)\n",
    "\n",
    "# We'll use this now; let's print it out to make sure it makes sense\n",
    "tp_uri = Observations.get_cloud_uris(tp_prod)\n",
    "tp_uri"
   ]
  },
  {
   "cell_type": "markdown",
   "id": "d8752d91-3b7b-4a0d-9bf1-f93231c63cbb",
   "metadata": {},
   "source": [
    "Great. We have the URI for the target pixel file. Now let's dive in and do some analysis!"
   ]
  },
  {
   "cell_type": "markdown",
   "id": "57f0eac1-990b-47fe-bbcb-6aadb63043b9",
   "metadata": {},
   "source": [
    "### Handling the Target Pixel File\n",
    "\n",
    "Before we actually read any data from this file, we should figure out what's stored in it. We'll do that by calling `fits.info()`. "
   ]
  },
  {
   "cell_type": "code",
   "execution_count": null,
   "id": "b0b36b98-2df3-4831-a3b0-03ba6d43498c",
   "metadata": {},
   "outputs": [],
   "source": [
    "with fs.open(tp_uri[0], \"rb\") as f:\n",
    "    with fits.open(f, \"readonly\") as hdulist:\n",
    "        hdulist.info()"
   ]
  },
  {
   "cell_type": "markdown",
   "id": "14371e68-4be2-4646-ad04-7123d0d8722c",
   "metadata": {},
   "source": [
    "The `APERTURE` HDU gives us information about the aperture used to process the image. The `PIXELS` HDU contains the actual brightness data we'll need to process our lightcurve. Again, for convenience, let's read in our data now."
   ]
  },
  {
   "cell_type": "code",
   "execution_count": null,
   "id": "ba26839d-e3f7-4b0d-8b23-f205584c87a1",
   "metadata": {},
   "outputs": [],
   "source": [
    "with fs.open(tp_uri[0], \"rb\") as f:\n",
    "    with fits.open(f, \"readonly\") as hdulist:\n",
    "        pixels = hdulist[1].data\n",
    "        aperture = hdulist[2].data"
   ]
  },
  {
   "cell_type": "markdown",
   "id": "7ccdf4b5-72e1-4fc6-8adb-ccf3084e125b",
   "metadata": {},
   "source": [
    "Let's take a look at the aperture first.\n",
    "\n",
    "#### Plotting the Aperture\n",
    "\n",
    "The output from `fits.open()` tells us that the dimensions of the aperture are 11x11. What exactly does the aperture tell us? Let's plot it to see if it makes sense:"
   ]
  },
  {
   "cell_type": "code",
   "execution_count": null,
   "id": "e034605b-28c9-42c3-a2c9-8ba97ba3b4de",
   "metadata": {},
   "outputs": [],
   "source": [
    "# Start figure and axis\n",
    "fig, ax = plt.subplots()\n",
    "\n",
    "# Display the pixels as an image\n",
    "cax = ax.imshow(aperture, origin=\"lower\")\n",
    "\n",
    "# Add a color bar\n",
    "cbar = fig.colorbar(cax)\n",
    "\n",
    "# Add a title to the plot\n",
    "fig.suptitle(\"WASP-53b Aperture: Sector 40\")\n",
    "plt.show()"
   ]
  },
  {
   "cell_type": "markdown",
   "id": "c4b191d7-8bbc-44e2-8d09-a759ccb76165",
   "metadata": {},
   "source": [
    "Hm. This doesn't look much like a star, so what's going on here?\n",
    "\n",
    "##### Exercise: what's going on here?\n",
    "\n",
    "Let's narrow the focus of this exercise to three questions:\n",
    "\n",
    "1. How many distinct values are used in the aperture?\n",
    "2. What are these distinct values?\n",
    "3.  The integer being displayed is part of a 9-digit binary number. [TESS Archive Manual's Chapter on Data Products](https://outerspace.stsci.edu/display/TESS/2.0+-+Data+Product+Overview), specifically the \"Aperture Mask Image Flags\", discusses what these values mean. Can you figure out what these values correspond to?"
   ]
  },
  {
   "cell_type": "code",
   "execution_count": null,
   "id": "de337b6a-1d48-41b4-91cb-220bc52f4b6b",
   "metadata": {},
   "outputs": [],
   "source": [
    "# TYPE YOUR ANSWER HERE"
   ]
  },
  {
   "cell_type": "code",
   "execution_count": null,
   "id": "cad72574-69ed-4a68-8d29-93a502ac3b40",
   "metadata": {},
   "outputs": [],
   "source": [
    "# hint for 1/2: there is a numpy function to get you here in one line\n",
    "# hint for 3: use np.binary_repr"
   ]
  },
  {
   "cell_type": "markdown",
   "id": "0eda2db7-a9a5-4bc9-9abc-2bc8e6984a36",
   "metadata": {},
   "source": [
    "The bright yellow region at center is the \"optimal aperture\", which is selected by cross-matching positions with the [Gaia mission](https://archive.stsci.edu/missions-and-data/gaia) and setting a brightness threshold. \n",
    "\n",
    "The seemingly random teal pixels around the star are the \"background pixels\". Since TESS is subjected to stray light, these pixels help to distinguish real changes in the target star's brightness.\n",
    "\n",
    "All other pixels have a value of 257, indicating they were collected by the spacecraft (1), from CCD output D (256)."
   ]
  },
  {
   "cell_type": "markdown",
   "id": "215eccf5-11d8-4873-996a-5de583c4b027",
   "metadata": {},
   "source": [
    "#### Pixel Data: Handling and Plotting\n",
    "\n",
    "Pixel data is slightly more complex, at least in terms of how it is structured. It contains many subgroups of data:"
   ]
  },
  {
   "cell_type": "code",
   "execution_count": null,
   "id": "8d0d6fff-f427-4d82-82c1-1783910cc644",
   "metadata": {},
   "outputs": [],
   "source": [
    "pixels.columns"
   ]
  },
  {
   "cell_type": "markdown",
   "id": "034e1cc8-aa82-484b-ae24-ea58fb7ce532",
   "metadata": {},
   "source": [
    "Notably among these columns are the `TIME` and `FLUX` keywords. Those are the two basic ingredients we need to create a time series plot!\n",
    "\n",
    "Some of the other columns have straightforward meanings; `FLUX_ERR`, for example, is the error in the measured flux. For details about the other columns, you can read the [TESS Science Data Products Description Document](https://archive.stsci.edu/missions/tess/doc/EXP-TESS-ARC-ICD-TM-0014.pdf#page=24). This manual is aimed at a more technical audience, and is therefore quite information dense.\n",
    "\n",
    "Let's extract the flux and time data."
   ]
  },
  {
   "cell_type": "code",
   "execution_count": null,
   "id": "81e01365-e965-4807-8bbe-453f3e6dc230",
   "metadata": {},
   "outputs": [],
   "source": [
    "# Grab the time and flux data\n",
    "times = pixels[\"TIME\"]\n",
    "fluxes = pixels[\"FLUX\"]\n",
    "\n",
    "# What is the shape (dimensions) of the flux data?\n",
    "np.shape(flux)"
   ]
  },
  {
   "cell_type": "markdown",
   "id": "645ef0bc-07b6-4a7e-a86e-c5e54c1ecf4b",
   "metadata": {},
   "source": [
    "The easiest way to think about the flux data is as a stack of 11x11 images, in this case 20309 of them. Let's start by examining the first image:"
   ]
  },
  {
   "cell_type": "code",
   "execution_count": null,
   "id": "e490ac4b-74cc-40e1-8945-e50fc13b48b8",
   "metadata": {},
   "outputs": [],
   "source": [
    "# extract the first image\n",
    "first = flux[0, :, :]\n",
    "\n",
    "\n",
    "# identical settings to plot above\n",
    "# Start figure and axis\n",
    "fig, ax = plt.subplots()\n",
    "\n",
    "# Display the pixels as an image: use the first image\n",
    "cax = ax.imshow(first, origin=\"lower\")\n",
    "\n",
    "# Add a color bar\n",
    "cbar = fig.colorbar(cax, label=\"e-/s\")\n",
    "\n",
    "# Add a title to the plot\n",
    "fig.suptitle(\"WASP-53b: Image 1\")\n",
    "plt.show()"
   ]
  },
  {
   "cell_type": "markdown",
   "id": "6726c50b-06fd-4733-9897-4bd3ec7a8cc9",
   "metadata": {},
   "source": [
    "As expected, our 11x11 image is not a particularly high resolution view of this star; this is the price paid for the enormous field of view of the detectors.\n",
    "\n",
    "It's worth noting that the brightness in this image is measured by electrons per second on each detector; TESS does not calibrate this to physical units.\n",
    "\n",
    "### The Tricky Part: Adding Up Brightnesses\n",
    "\n",
    "We have 20,000 images. How do we turn this into a graph of brightness of our target star over time?\n",
    "\n",
    "Fortunately, we have the solution: add up the all of the values that fall into the optimal aperture. In general, you would figure this out by identifying which pixels have the optimal aperture bit (`=2`) set. Since that involves parsing the binary representation, it's a bit complex for this lesson. Instead, we'll generate our mask by asking the simpler question: where does the aperture equal 267?\n",
    "\n",
    "**Caution:** this will fail 75% of the time!"
   ]
  },
  {
   "cell_type": "code",
   "execution_count": null,
   "id": "09f918a4-d18b-4a92-8eda-0fcb15a62ff7",
   "metadata": {},
   "outputs": [],
   "source": [
    "# set the optimal aperture\n",
    "optimal = aperture==267\n",
    "\n",
    "# plot: are we selecting the star?\n",
    "plt.imshow(optimal, origin=\"lower\")"
   ]
  },
  {
   "cell_type": "markdown",
   "id": "51986721-0dc5-453d-b58c-02ecfb3c2321",
   "metadata": {},
   "source": [
    "Excellent. We now have a way to \"slice\" each image with the optimal aperture. Adding up the flux in each slice will give us the brightness at that moment in time.\n",
    "\n",
    "`numpy` is a wonderful library that will make this summation quite easy for us by handling two important details:\n",
    "1. Ignoring `NaN` values in the flux\n",
    "2. Summing over each image, but not all of the data: we expect to get back 20000 results from this operation, not a final, collapsed sum. Setting `axis=1` is how we tell numpy to do this."
   ]
  },
  {
   "cell_type": "code",
   "execution_count": null,
   "id": "c98f667c-98fe-42be-95ec-94c2efa2c458",
   "metadata": {},
   "outputs": [],
   "source": [
    "# sum all 20000 images individually\n",
    "flux_sum = np.nansum(flux[:, optimal], axis=1)\n",
    "len(flux_sum)"
   ]
  },
  {
   "cell_type": "markdown",
   "id": "e39a26b9-7cbc-4caa-81eb-f74778efecc3",
   "metadata": {},
   "source": [
    "Great! We have our brightnesses."
   ]
  },
  {
   "cell_type": "markdown",
   "id": "d533cee7-6420-44d6-86d9-a538dac9d0d2",
   "metadata": {},
   "source": [
    "### Plot the Time Series and Compare\n",
    "\n",
    "We've already done all of the hard work. Now let's combine this brightness information with the timestamps.\n",
    "\n",
    "For additional clarity, let's normalize the data in our plot. Since we can't rule out outliers, median makes the most sense to use."
   ]
  },
  {
   "cell_type": "code",
   "execution_count": null,
   "id": "c75922d3-9656-4470-a000-788cfdbfbfc6",
   "metadata": {},
   "outputs": [],
   "source": [
    "# calculate the median flux\n",
    "med_flux = np.nanmedian(flux_sum)\n",
    "\n",
    "# normalize the flux\n",
    "norm_flux = flux_sum/med_flux\n",
    "\n",
    "# plot the flux vs. time with a point size of two, color blacK\n",
    "plt.scatter(times, norm_flux, s=2, alpha=0.3, c=\"k\")\n",
    "\n",
    "# outliers cloud the view, focus on relevant section of data\n",
    "plt.ylim(0.98, 1.05)\n",
    "\n",
    "# add labels\n",
    "plt.ylabel(\"Normalized flux\")\n",
    "plt.xlabel(\"TESS Barycentric Julian Date\")"
   ]
  },
  {
   "cell_type": "markdown",
   "id": "5954562f-b757-41ff-b9dc-4415c7b934fd",
   "metadata": {},
   "source": [
    "Wow! The regularly-spaced dips are an unmistakable sign of a transiting exoplanet. We've done it!"
   ]
  },
  {
   "cell_type": "markdown",
   "id": "0d43e05c-7096-4b33-a33d-d9f1d92bd312",
   "metadata": {},
   "source": [
    "## Discovering the Easier Way: LC Files\n",
    "\n",
    "Of course, this is rather tedious to do yourself each time. For selected targets (generally around 20000 per sector), the mission data processing pipeline produces light curves. Let's look at this now:"
   ]
  },
  {
   "cell_type": "code",
   "execution_count": null,
   "id": "f749ca6f-7568-4769-bc6f-4ab994f1f782",
   "metadata": {},
   "outputs": [],
   "source": [
    "with fs.open(lc_uri[0], \"rb\") as f:\n",
    "    with fits.open(f, \"readonly\") as hdulist:\n",
    "        hdulist.info()"
   ]
  },
  {
   "cell_type": "markdown",
   "id": "54457114-dc0a-4fb0-b012-fcf411dd8b6d",
   "metadata": {},
   "source": [
    "The aperture data in this file is identical to the aperture data from the target pixel file that we opened earlier. Let's extract the lightcurve data so we can make a comparison plot."
   ]
  },
  {
   "cell_type": "code",
   "execution_count": null,
   "id": "01991747-a1cc-49c1-a9c6-fb7b47aca8f3",
   "metadata": {},
   "outputs": [],
   "source": [
    "with fs.open(lc_uri[0], \"rb\") as f:\n",
    "    with fits.open(f, \"readonly\") as hdulist:\n",
    "        print(hdulist[1].columns)\n",
    "        sap_flux = hdulist[1].data[\"SAP_FLUX\"]\n",
    "        pdcsap_flux = hdulist[1].data[\"PDCSAP_FLUX\"]"
   ]
  },
  {
   "cell_type": "markdown",
   "id": "62725498-caa8-47a9-a76a-d2ccd8583e52",
   "metadata": {},
   "source": [
    "Of note here are the `SAP_FLUX` (simple aperture photometry) and `PDC_SAP_FLUX` (pre-search data conditioning) HDUs. We've actually just done our own SAP processing, by \"simply\" adding up the brightness within the aperture. In fact, if we plot the `SAP_FLUX`, we should see the same figure:"
   ]
  },
  {
   "cell_type": "code",
   "execution_count": null,
   "id": "ade479b5-3672-4bcf-a203-c83a9eb6b27b",
   "metadata": {},
   "outputs": [],
   "source": [
    "# set up the figure\n",
    "fig, ax = plt.subplots(2, figsize=(12,8))\n",
    "\n",
    "# FIRST PLOT\n",
    "ax[0].scatter(times, norm_flux, s=2, alpha=0.3, c=\"k\")\n",
    "ax[0].set_ylim(0.98, 1.02)\n",
    "ax[0].set_title(\"Manual SAP\")\n",
    "# add labels\n",
    "ax[0].set_ylabel(\"Normalized flux\")\n",
    "\n",
    "# SECOND PLOT: TESS DATA\n",
    "ax[1].set_title(\"SAP_FLUX: From TESS\")\n",
    "ax[1].set_ylim(0.98, 1.02)\n",
    "ax[1].scatter(times, sap_flux/np.nanmedian(sap_flux), s=2, alpha=0.3, c=\"k\")\n",
    "# add labels\n",
    "ax[1].set_ylabel(\"Normalized flux\")\n",
    "ax[1].set_xlabel(\"TESS Barycentric Julian Date\")"
   ]
  },
  {
   "cell_type": "markdown",
   "id": "dc5bf87c-8033-450b-97ec-7719dff75960",
   "metadata": {},
   "source": [
    "These figures are indistinguishable by eye, and indeed they are nearly$^*$ identical.\n",
    "\n",
    "$^*$ See the optional exercise at the end of this notebook."
   ]
  },
  {
   "cell_type": "markdown",
   "id": "c01ec0bf-9c37-4615-915e-3fa8d8c38729",
   "metadata": {},
   "source": [
    "## Higher Quality: PDC_SAP\n",
    "\n",
    "The highest quality data is actually stored in the `PDC_SAP` lightcurves. These are created by de-trending the detectors, using effects common to all stars on the CCD. In this way, systematic effects are removed from the signal."
   ]
  },
  {
   "cell_type": "code",
   "execution_count": null,
   "id": "dc0973cf-5b14-42d6-88f0-0e2ccc014785",
   "metadata": {},
   "outputs": [],
   "source": [
    "# calculate the normalized pdc_values\n",
    "pdc_norm = pdcsap_flux/np.nanmedian(pdcsap_flux)\n",
    "\n",
    "# start the figure\n",
    "plt.figure(figsize=(10, 6))\n",
    "\n",
    "# plot the normalized flux with the same limits and labels\n",
    "plt.scatter(times, pdc_norm, s=2, c=\"k\")\n",
    "plt.ylim(0.98, 1.02)\n",
    "plt.ylabel(\"Normalized flux\")\n",
    "plt.xlabel(\"TESS Barycentric Julian Date\")"
   ]
  },
  {
   "cell_type": "markdown",
   "id": "d72f1dcc-fb8d-4c67-9b57-86586c8ff3c5",
   "metadata": {},
   "source": [
    "Note the flatter profile of the PDC curve compared to the SAP curve. This level of noise reduction is especially helpful as you do a more thorough analysis of the data, particularly through fourier transforms."
   ]
  },
  {
   "cell_type": "markdown",
   "id": "31c7ab9a-9368-44fc-8c65-1e47676b0c91",
   "metadata": {},
   "source": [
    "## Next time on \"MAST Summer Webinar\"...\n",
    "The next lesson, we'll talk more about other uses for TESS timeseries data, and delve into processing interesting signals from noise. Stay tuned!"
   ]
  },
  {
   "cell_type": "markdown",
   "id": "5bc03854-58fa-4956-b0d1-7dac27d06857",
   "metadata": {},
   "source": [
    "## Optional Exercise: What is Going on Here? Part Two\n",
    "\n",
    "If you check our calculated values against the mission-generated SAP values, you'll find something puzzling. They aren't the same. "
   ]
  },
  {
   "cell_type": "code",
   "execution_count": null,
   "id": "434b4937-818b-4933-9f12-5f80ab8515e6",
   "metadata": {},
   "outputs": [],
   "source": [
    "plt.figure(figsize=(12, 6))\n",
    "plt.scatter(times, norm_flux-sap_flux/np.nanmedian(sap_flux), s=2, c=\"k\")\n",
    "plt.ylabel(\"$\\Delta$ normalized flux\")"
   ]
  },
  {
   "cell_type": "markdown",
   "id": "92d26b68-4606-47ef-b3f5-f0cbebc14503",
   "metadata": {},
   "source": [
    "There are many approaches you might take to solving this mystery, but you might find it helpful to work through these guiding questions:\n",
    "* What feature or pattern of this plot do you notice?\n",
    "* Does this pattern change in different parts of the plot? Where does it change?\n",
    "* Can you think of a better value to use for the y-axis?"
   ]
  },
  {
   "cell_type": "markdown",
   "id": "56dc3c07-d1e1-48c4-83e2-c5a187e80401",
   "metadata": {},
   "source": [
    "## Acknowldegements\n",
    "\n",
    "If you write a paper using TESS data from MAST, please acknowledge this using the following template:\n",
    "\n",
    "> This paper includes data collected with the TESS mission, obtained from the MAST data archive at the Space Telescope Science Institute (STScI). Funding for the TESS mission is provided by the NASA Explorer Program. STScI is operated by the Association of Universities for Research in Astronomy, Inc., under NASA contract NAS 5–26555.\n",
    "\n",
    "Any published work that uses Astroquery [should include a citation](https://github.com/astropy/astroquery/blob/main/astroquery/CITATION), or can be printed out in a code cell with: `astroquery.__citation__` as long as the astroquery package is imported. "
   ]
  },
  {
   "cell_type": "markdown",
   "id": "cccc0b7f-814b-4f38-bb93-964d54a3ac6a",
   "metadata": {},
   "source": [
    "### About this Notebook:\n",
    "If you have comments or questions on this notebook, please open a [GitHub issue on tike_content](https://github.com/spacetelescope/tike_content/issues/new) contact us through the [Archive Help Desk e-mail](mailto:archive@stsci.edu).\n",
    "\n",
    "**Authors:** Thomas Dutkiewicz, Emma Lieb, Scott Fleming\n",
    "\n",
    "**Last Updated:** May 2024\n",
    "\n",
    "[Top of Page](#top)\n",
    "\n",
    "<img style=float:right; src=\"https://raw.githubusercontent.com/spacetelescope/notebooks/master/assets/stsci_pri_combo_mark_horizonal_white_bkgd.png\" alt=\"Space Telescope Logo\" width=\"200px\"/> "
   ]
  }
 ],
 "metadata": {
  "kernelspec": {
   "display_name": "TESS Environment",
   "language": "python",
   "name": "tess"
  },
  "language_info": {
   "codemirror_mode": {
    "name": "ipython",
    "version": 3
   },
   "file_extension": ".py",
   "mimetype": "text/x-python",
   "name": "python",
   "nbconvert_exporter": "python",
   "pygments_lexer": "ipython3",
   "version": "3.11.0"
  }
 },
 "nbformat": 4,
 "nbformat_minor": 5
}
