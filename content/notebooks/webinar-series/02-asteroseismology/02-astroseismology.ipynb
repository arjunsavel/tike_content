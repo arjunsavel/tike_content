{
 "cells": [
  {
   "cell_type": "markdown",
   "id": "e752a349-565f-4c48-a173-c1d61e5c1677",
   "metadata": {},
   "source": [
    "<a id=\"top\"></a>\n",
    "# Lesson 03: Astroseismology and Other \"Spurious\" Signals\n",
    "***\n",
    "## Learning Goals\n",
    "By the end of this tutorial, you will be able to:\n",
    "- List possible non-planetary sources of periodic signals in light curves, like binary and variable stars.\n",
    "- Subtract a non-planetary signal from a periodogram to reveal the signal of a transiting exoplanet.\n",
    "- List possible sources of false transit positives, including the effects of TESS’s orbit and detector noise."
   ]
  },
  {
   "cell_type": "markdown",
   "id": "f0812055-3d26-4f8b-8925-53a0ed61e972",
   "metadata": {},
   "source": [
    "## Introduction\n",
    "\n",
    "Exoplanetary science is one of the newest and most rapidly growing fields of astrophysics, as people try to find and characterize planets beyond our solar system. One of the most common ways to detect the existence of an exoplanet is via the resulting, periodic dip in the light curve of its star as the planet passes in front. However, there are some other periodic signals that affect light curves that can appear similar to and could be mistaken for an exoplanet transit, such as transiting binaries. We'll take a look at both of these cases and how to properly interpret those signals.\n",
    "\n",
    "This Notebook assumes some familiarity with [binary stars](https://www.atnf.csiro.au/outreach/education/senior/astrophysics/binary_intro.html), [exoplanets and their transits](https://avanderburg.github.io/tutorial/tutorial.html), and [light curves](https://imagine.gsfc.nasa.gov/science/toolbox/timing1.html).\n",
    "\n",
    "### Why Would a Binary System Light Curve Look Similar to an Exoplanet Transit?\n",
    "There are several non-planetary sources, such as binary stars or variable stars (cepheids, RR Lyrae, etc.), that periodcally change brightness, and can appear similar to an exoplanet transit in front of a star.\n",
    "\n",
    "Let's look at the light curve of a binary star and compare it to that of a transiting planet.\n",
    "\n",
    "![Astroseismology Diagram.png](light_curves.png)\n",
    "\n",
    "Binary stars, by definition, orbit each other. If this orbit is aligned along the line-of-sight of the observer, periodic dimming in brightness will occur; critically, this can resemble an exoplanet transit. This resemblance between binary star eclipses and exoplanet transits is particularly strong when the two binary stars are of similar size and brightness, as then the 'dips' will be closer in size and look more like a repeated planet signal."
   ]
  },
  {
   "cell_type": "markdown",
   "id": "2ed3fcda-e359-4df1-9fd7-a96cd67c14d2",
   "metadata": {},
   "source": [
    "## Imports\n",
    "\n",
    "We'll be using the \"typical\" packages for the webinar. Of note:\n",
    "\n",
    "- `astroquery.mast` to query for Observations\n",
    "- `s3fs` to access cloud data\n",
    "- `lightkurve` to analyze light curves"
   ]
  },
  {
   "cell_type": "code",
   "execution_count": null,
   "id": "8f3fda55-deaa-4320-8dae-020b2bf02d2b",
   "metadata": {},
   "outputs": [],
   "source": [
    "%matplotlib inline\n",
    "\n",
    "import numpy as np\n",
    "import matplotlib.pyplot as plt\n",
    "import lightkurve as lk\n",
    "import s3fs\n",
    "import warnings\n",
    "\n",
    "from astropy.table import Table, Column\n",
    "from astroquery.mast import Mast\n",
    "from astroquery.mast import Observations\n",
    "from astropy.io import fits\n",
    "\n",
    "# Enable the cloud filesystem\n",
    "fs = s3fs.S3FileSystem(anon=True)\n",
    "Observations.enable_cloud_dataset()"
   ]
  },
  {
   "cell_type": "markdown",
   "id": "bd935cb0-284f-4223-8bf9-44fda5d27261",
   "metadata": {},
   "source": [
    "## Retrieving a Light Curve\n",
    "\n",
    "We'll start our query, as we have previously, by picking a target, filtering for files, then turning them into cloud URIs. Today's target is `V* V839 Cep`, which is a known binary star system. To speed up the search, we'll use its corresponding TIC ID. We'll also limit results to sectors 15, 16, and 17, both for future consistency and to further optimize this query."
   ]
  },
  {
   "cell_type": "code",
   "execution_count": null,
   "id": "0ddbc0f8-81a8-41fa-ac9e-192e5deaa65f",
   "metadata": {},
   "outputs": [],
   "source": [
    "# Retrieving the data directly using astroquery\n",
    "obs = Observations.query_criteria(target_name = \"375422201\"\n",
    "                                  , obs_collection=\"TESS\"\n",
    "                                  , dataproduct_type=\"timeseries\"\n",
    "                                  , sequence_number=[15, 16, 17])\n",
    "\n",
    "# Pick which products we want to retrieve\n",
    "data_prod = Observations.get_product_list(obs)\n",
    "filt_prod = Observations.filter_products(data_prod, description=\"Light curves\")\n",
    "\n",
    "c_uris = Observations.get_cloud_uris(filt_prod)\n",
    "c_uris"
   ]
  },
  {
   "cell_type": "markdown",
   "id": "093d81d4-7787-4487-86d2-b25f5ca87cf4",
   "metadata": {},
   "source": [
    "### Loading into the Lightkurve Package\n",
    "\n",
    "In this lesson, we'll use a new, open-source tool: [Lightkurve](https://docs.lightkurve.org). This software was specifically desgined for use with data from the Kepler and TESS missions. It contains a few handy features, like:\n",
    "- Automatic, flux-normalized stitching between sectors\n",
    "- Built-in phase-folded plotting\n",
    "- Convenient [fourier transforms](https://www.youtube.com/watch?v=spUNpyF58BY) to create periodograms and determine orbital periods\n",
    "\n",
    "Lightkurve is a wonderful tool. Unfortunately, it hasn't yet been updated to work in a cloud environment so our approach here will be a little clunky. We first initialize a lightcurve object, passing in the cloud file. Then, we can create a light curve collection of each subsequent file, and stitch them together.\n",
    "\n",
    "Let's start by opening and plotting just the first light curve."
   ]
  },
  {
   "cell_type": "code",
   "execution_count": null,
   "id": "5962926e-6750-4d46-b3a7-357076181b21",
   "metadata": {},
   "outputs": [],
   "source": [
    "# Initialize a TESS lightCurve in lightKurve\n",
    "with fs.open(c_uris[0], \"rb\") as f:\n",
    "    with fits.open(f, \"readonly\") as fts:\n",
    "        lc1 = lk.TessLightCurveFile(fts)\n",
    "\n",
    "# create a plot\n",
    "lc1.plot()"
   ]
  },
  {
   "cell_type": "markdown",
   "id": "7ddfc54e-a023-4c42-bfef-090dbf5b9ecb",
   "metadata": {},
   "source": [
    "Great. This is somewhere around 27 days of data, so we know we've plotted the first sector. At this point, we can also notice the characteristic dips of an eclipsing binary: there are two, equally-spaced peaks of varying depths. \n",
    "\n",
    "There is also something interesting happening at the top of this light curve. It's not flat, and it looks like we might even have a teriary transit? Let's add data from other sectors before we analyze further."
   ]
  },
  {
   "cell_type": "code",
   "execution_count": null,
   "id": "582be0a4-69fd-4880-aabd-5c2a0fec7a6d",
   "metadata": {},
   "outputs": [],
   "source": [
    "# Loop through the remaining lightcurves and stitch them\n",
    "for lc in c_uris[1:]:\n",
    "    with fs.open(lc, \"rb\") as f:\n",
    "        with fits.open(f, \"readonly\") as fts:\n",
    "            new_lc = lk.TessLightCurveFile(fts)\n",
    "            lc1 = lk.LightCurveCollection((lc1, new_lc)).stitch()\n",
    "\n",
    "# Create the plot of the new, combined light curve\n",
    "lc1.plot()"
   ]
  },
  {
   "cell_type": "markdown",
   "id": "1c9fc916-3e86-4ef2-bceb-2fb0301cc361",
   "metadata": {},
   "source": [
    "The patterns we noticed in the previous sector hold true when we add more data. That's good news! Something interesting is happening in this star system."
   ]
  },
  {
   "cell_type": "markdown",
   "id": "eb1b12ee-2cf7-4a59-aec3-2178fe9df8fd",
   "metadata": {},
   "source": [
    "## Creating a Periodogram\n",
    "\n",
    "A periodogram relies on [fourier transforms](https://www.youtube.com/watch?v=spUNpyF58BY) to turn our signal into its associated frequencies. The mathematics underlying this transformation is fascinating and applicable to a wide range of fields, from quantum mechanics to mixing music.\n",
    "\n",
    "In `lightkurve`'s implementation, we need to provide the range of frequencies in days. We also need to specify a method for computing the transformation; in this case, we'll use the box-least square method from astropy.\n",
    "\n",
    "![bls](https://docs.astropy.org/en/stable/_images/bls-1.png)\n",
    "\n",
    "This model should work well under these conditions. Let's try running it now. We'll save the period that is most likely, for later use."
   ]
  },
  {
   "cell_type": "code",
   "execution_count": null,
   "id": "5129fbd1-881e-474c-8823-e14a78a94d85",
   "metadata": {},
   "outputs": [],
   "source": [
    "# Using BLS to turn it into a periodogram\n",
    "period = np.linspace(1, 20, 10000)\n",
    "bls = lc1.to_periodogram(method='bls', period=period);\n",
    "bls.plot();\n",
    "\n",
    "# Calculating most likely parameters\n",
    "binary_period = bls.period_at_max_power\n",
    "binary_period"
   ]
  },
  {
   "cell_type": "markdown",
   "id": "8da93819-0ffa-4ee3-8c4f-3f605eed6839",
   "metadata": {},
   "source": [
    "The \"BLS Power\" represents the strength of the associated periods. A higher peak means that there is a stronger signal at that period of oscillation. There are also harmonics: integer multiples of the true period that show up in our graph.\n",
    "\n",
    "In this case, it looks like the highest period is 5 days, with harmonics at 10 (harmonic 2) and 2.5 (harmonic 1/2). To judge how well these values fit, we can [create a phase-folded light curve](https://www.youtube.com/watch?v=UyyNKuoHYcA). \"Folding\" the light curve is a natural way to look at periodic changes in brightness, since an accurate period will cause patterns to line up at each point in the phase.\n",
    "\n",
    "Let's try creating a folded light curve to see how well our value matches."
   ]
  },
  {
   "cell_type": "code",
   "execution_count": null,
   "id": "ad63f0bf-7191-4ade-9295-75e72db6cccc",
   "metadata": {},
   "outputs": [],
   "source": [
    "lc1.fold(period=binary_period).scatter()"
   ]
  },
  {
   "cell_type": "markdown",
   "id": "9a500f28-f70c-4b68-8037-4f9ac8046d8f",
   "metadata": {},
   "source": [
    "Oh no! Something is not quite right here. There are two deep transits of slightly similar depths, but they're nearly on top of each other.\n",
    "\n",
    "### Exercise: What's the real period?\n",
    "\n",
    "If we'd picked the correct value, we'd expect to see two separate transits: one for the primary eclipse, and another for the secondary. Thinking about the orbits of binary stars, what might be wrong with our calculated period? Can you find the right period and create a new phase-folded curve?"
   ]
  },
  {
   "cell_type": "code",
   "execution_count": null,
   "id": "3b0382b1-f9d1-42ce-8d95-7f1427237cca",
   "metadata": {},
   "outputs": [],
   "source": [
    "## type your answer here!\n",
    "\n",
    "# true_period = binary_period\n",
    "# lc1.fold(true_period).scatter()"
   ]
  },
  {
   "cell_type": "markdown",
   "id": "18625b15-a721-4f2d-a555-88ce5f3316c6",
   "metadata": {},
   "source": [
    "## Masking out the Stellar Transits\n",
    "\n",
    "There's definitely an even more interesting signal hiding in this data. To detect it, we'll need to first remove the signal from our binary stars. A good first approach to this might be to remove the data where it dips below a certain value."
   ]
  },
  {
   "cell_type": "code",
   "execution_count": null,
   "id": "e7364021-3018-4fb3-8d72-a46aac5688bc",
   "metadata": {},
   "outputs": [],
   "source": [
    "transiting = lc1['flux'] < 0.94\n",
    "lc1[transiting].scatter()"
   ]
  },
  {
   "cell_type": "markdown",
   "id": "f819f755-647e-4c98-8301-d6b136625c31",
   "metadata": {},
   "source": [
    "Unfortunately, this won't quite work. There's still the area of these transits between 0.94 and 1 that will contribute to the periodogram. Instead, let's work to estimate the duration of these transits, which will allow us to create a better mask for them.\n",
    "\n",
    "To start, let's get the times for the first and second transit."
   ]
  },
  {
   "cell_type": "code",
   "execution_count": null,
   "id": "42f08c58-e99f-4ed4-aa9e-d50b6ea69842",
   "metadata": {},
   "outputs": [],
   "source": [
    "# convert time and flux to arrays, so that they're easier to work with\n",
    "fluxes = lc1.flux.value\n",
    "time_series = lc1.time.value\n",
    "\n",
    "# identify the locations of the transits\n",
    "transits = time_series[np.where(fluxes < 0.95)]\n",
    "\n",
    "# identify the very first transit\n",
    "first = transits[transits < 1712]\n",
    "\n",
    "# identify the second transit\n",
    "second = transits[np.bitwise_and(transits<1718, transits>1716)]"
   ]
  },
  {
   "cell_type": "markdown",
   "id": "95754063-88d6-4896-a5e4-e3d1d7030590",
   "metadata": {},
   "source": [
    "Now, since we have rough estimates for when these transits occured, we can figure out the time (the \"middle\" of the transit) and duration (how long they last). Our duration will be a bit of an underestimate, so we'll need to correct for that later."
   ]
  },
  {
   "cell_type": "code",
   "execution_count": null,
   "id": "a56b28bb-a0ac-4fcc-b6ce-a46cca748959",
   "metadata": {},
   "outputs": [],
   "source": [
    "# Get the mean time for the first transit, calculate the duration\n",
    "t_time1 = np.mean(first)\n",
    "t_duration1 = first[-1] - first[0]\n",
    "\n",
    "# Get the mean time for the first transit, calculate the duration\n",
    "t_time2 = np.mean(second)\n",
    "t_duration2 = second[-1] - second[0]"
   ]
  },
  {
   "cell_type": "markdown",
   "id": "f0a1066d-9812-47d6-b85d-80547ebe4f70",
   "metadata": {},
   "source": [
    "With these values calculated, we can ask `lightkurve` to create a transit mask. This will mark of the locations that we belive contain a transit. We know that our duration is an underestimate, so let's add a fudge factor of 10 to make sure we get all of the data.\n",
    "\n",
    "For clarity, we'll plot both the transit we intend to remove and the resulting \"cleaned\" plot."
   ]
  },
  {
   "cell_type": "code",
   "execution_count": null,
   "id": "d2bffc3f-2005-4173-8678-630d8cca177b",
   "metadata": {},
   "outputs": [],
   "source": [
    "# Create the mask for the larger transit, multiplying the duration by ten\n",
    "mask1 = lc1.create_transit_mask(transit_time=t_time1, period=true_period, duration=t_duration1*10)\n",
    "\n",
    "# show the masked data that we'll remove\n",
    "lc1[mask1].scatter()\n",
    "plt.title(\"Transits to be removed\")\n",
    "\n",
    "# plot the cleaned data\n",
    "lc1[~mask1].scatter()\n",
    "plt.title(\"Cleaned flux\")"
   ]
  },
  {
   "cell_type": "markdown",
   "id": "51faec08-b347-4bf4-9a9a-dece468d0b32",
   "metadata": {},
   "source": [
    "Good! Our factor of 10 seems about right for this graph: some transits have additional signal on both sides, but we haven't removed too much data.\n",
    "\n",
    "Let's do the same for the secondary eclipse. Since we're capturing more of the transit in our intital estimate, our fudge factor will be a little bit lower."
   ]
  },
  {
   "cell_type": "code",
   "execution_count": null,
   "id": "5486b2d4-e507-44d2-b9a5-03fa403a8a39",
   "metadata": {},
   "outputs": [],
   "source": [
    "# Create the mask for the smaller transit, multiplying the duration by three\n",
    "mask2 = lc1.create_transit_mask(transit_time=t_time2, period=true_period, duration=t_duration2*3)\n",
    "\n",
    "# plot the transits we're removing\n",
    "lc1[mask2].scatter()\n",
    "plt.title(\"Transits to be removed\")\n",
    "\n",
    "# plot the cleaned data\n",
    "lc1[~mask2].scatter()\n",
    "plt.title(\"Cleaned flux\")"
   ]
  },
  {
   "cell_type": "markdown",
   "id": "93a48cf2-211d-47fb-934d-2abcc3cfddb5",
   "metadata": {},
   "source": [
    "Now that we've plotted each transit removed, we need to combine our results. Since we want to remove data anywhere there's a mask, we should use a bitwise `OR`."
   ]
  },
  {
   "cell_type": "code",
   "execution_count": null,
   "id": "9d0bfc16-2d84-46b6-b0aa-06df101ba2a1",
   "metadata": {},
   "outputs": [],
   "source": [
    "# combine our transit models\n",
    "combined_transit_mask = np.bitwise_or(mask1, mask2)\n",
    "\n",
    "# plot the flux with both transits removed\n",
    "no_binary = lc1[~combined_transit_mask]\n",
    "no_binary.scatter()"
   ]
  },
  {
   "cell_type": "markdown",
   "id": "dbdc1bec-612f-46bc-b4fa-d69b5e7a1932",
   "metadata": {},
   "source": [
    "Excellent. With the binary star transits removed, it's clear that we still have some signal remaining. Let's analyze this as well.\n",
    "\n",
    "## Looking for Additional Signals\n",
    "\n",
    "To figure out the period of the other signal, we'll once again use a periodogram. This time though, we'll run it on our cleaned data."
   ]
  },
  {
   "cell_type": "code",
   "execution_count": null,
   "id": "d3ead403-d213-4d1f-acab-74474a92b982",
   "metadata": {},
   "outputs": [],
   "source": [
    "# Using BLS to turn it into a periodogram\n",
    "periods = np.linspace(1, 20, 10000)\n",
    "bls = no_binary.to_periodogram(method='bls', period=periods, frequency_factor=500);\n",
    "bls.plot();\n",
    "\n",
    "# Calculating most likely parameters if there is an exoplanet from periodogram\n",
    "new_period = bls.period_at_max_power\n",
    "new_period"
   ]
  },
  {
   "cell_type": "markdown",
   "id": "3b0904e3-d009-4bb2-bcea-4320f9fc45da",
   "metadata": {},
   "source": [
    "Our new period is 4.07 days. Let's see how this looks when we fold it. For clarity, we'll add an epoch time of `1713.2` to better center the folded light curve."
   ]
  },
  {
   "cell_type": "code",
   "execution_count": null,
   "id": "3722d88f-9646-4a50-b54d-897c473e68a2",
   "metadata": {},
   "outputs": [],
   "source": [
    "no_binary.fold(period=new_period, epoch_time=1713.2).scatter()"
   ]
  },
  {
   "cell_type": "markdown",
   "id": "27f7cc53-bcc1-45b6-83f8-1097d36b2a95",
   "metadata": {},
   "source": [
    "The shape of the transit here is certainly suggestive. In fact, this was indentified as a candidate multiple system in [Eisner et al. 2020](https://doi.org/10.1093/mnras/staa3739). However, there has been no follow-up on this target since the paper was published, so the true identity of this object remains a mystery.\n",
    "\n",
    "We haven't discussed all of the features of this folded light curve yet. If you want to take this anaylsis a step further, you might investigate the variability of these stars. It's clear that there is some sort of intrinsic sinusodial pattern present in the data..."
   ]
  },
  {
   "cell_type": "markdown",
   "id": "a5cf434c-0d6e-47ed-ae65-3b32b4e7333b",
   "metadata": {},
   "source": [
    "## Next time, on MAST Summer Webinar...\n",
    "\n",
    "We'll look at transient phenomena that are observed by TESS. Get ready to hunt for supernovae!"
   ]
  },
  {
   "cell_type": "markdown",
   "id": "796a0381-ae34-4117-ac57-1a735da2262b",
   "metadata": {},
   "source": [
    "## Additional Resources\n",
    "\n",
    "Here are some additional resources to check out if you are interested in diving further in:\n",
    "\n",
    "- [Lightkurve documentation](https://docs.lightkurve.org)\n",
    "- [TESS Eclipsing Binaries](https://archive.stsci.edu/hlsp/tess-ebs)\n",
    "- [List of Kepler Binaries](https://archive.stsci.edu/kepler/eclipsing_binaries.html)\n",
    "- [NASA Exoplanet Archive](https://exoplanetarchive.ipac.caltech.edu/index.html): a queryable database of exoplanets\n",
    "- [ExoMAST](https://exo.mast.stsci.edu/), MAST's database of exoplanets"
   ]
  },
  {
   "cell_type": "markdown",
   "id": "949a3a8f-1486-4ce7-a14f-0584fa7fedd1",
   "metadata": {},
   "source": [
    "## About this Notebook\n",
    "\n",
    "**Author(s):** Thomas Dutkiewicz, Larom Segev <br>\n",
    "**Keyword(s):** TIKE, Cloud archive, Astroseismology, Binary stars, Exoplanet transits <br>\n",
    "**Last Updated:** June 2024 <br>\n",
    "***\n",
    "[Top of Page](#top)\n",
    "<img style=\"float: right;\" src=\"https://raw.githubusercontent.com/spacetelescope/notebooks/master/assets/stsci_pri_combo_mark_horizonal_white_bkgd.png\" alt=\"Space Telescope Logo\" width=\"200px\"/> "
   ]
  }
 ],
 "metadata": {
  "kernelspec": {
   "display_name": "TESS Environment",
   "language": "python",
   "name": "tess"
  },
  "language_info": {
   "codemirror_mode": {
    "name": "ipython",
    "version": 3
   },
   "file_extension": ".py",
   "mimetype": "text/x-python",
   "name": "python",
   "nbconvert_exporter": "python",
   "pygments_lexer": "ipython3",
   "version": "3.11.0"
  }
 },
 "nbformat": 4,
 "nbformat_minor": 5
}
