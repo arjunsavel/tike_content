{
 "cells": [
  {
   "cell_type": "markdown",
   "id": "difficult-technician",
   "metadata": {},
   "source": [
    "# How to use TESSCut in the cloud?\n",
    "\n",
    "[TESSCut](https://mast.stsci.edu/tesscut/) is an important data access service offered by the TESS data archive at MAST.  TESSCut enables users to request small cutouts from the large collection of TESS Full-Frame Images (FFI). The cutouts are created in the form of Target Pixel Files (TPF) that follow the same format as those produced by the TESS pipeline.\n",
    "\n",
    "The standard TESSCut service can be accessed either via a [web interface](https://mast.stsci.edu/tesscut/) in the browser or via the [astroquery package](https://astroquery.readthedocs.io/en/latest/mast/mast.html#tesscut) from a Python script or notebook.  These interfaces rely on MAST's servers to create cutouts and send them back to the user.\n",
    "\n",
    "While these traditional interfaces to TESSCut work fine in the cloud, they are not recommended for very data-intensive projects. Specifically, the MAST servers which power these interfaces do not currently support requesting cutouts for hundreds of objects at the same time, or requesting cutouts for areas larger than 10,000 pixels. Such requests would put an unreasonable load on the servers! The remainder of this notebook explains how you can circumvent this limitation by running the code that powers TESSCut in the cloud yourself.\n",
    "\n",
    "## So, how can I access large numbers of cutouts in the cloud?\n",
    "\n",
    "The TESSCut service works by extracting data from [pre-generated cubes of TESS pixel data](https://astrocut.readthedocs.io/en/latest/astrocut/index.html#tess-full-frame-image-cutouts). \n",
    "These cubes are stored in MAST's public folder on Amazon's cloud object storage service, called [AWS S3](https://aws.amazon.com/s3/), which allows them to be accessed very quickly (e.g., speeds of 10 Gbps or more can be achieved when making requests from virtual servers running in the Amazon cloud).\n",
    "\n",
    "Specifically, pre-generated data cubes for a given sector, camera, and ccd can be found at the following S3 URI:\n",
    "\n",
    "    s3://stpubdata/tess/public/mast/tess-s{sector:04d}-{camera}-{ccd}-cube.fits\n",
    "\n",
    "For example, the data cube containing all pixel flux values for sector 11, camera 4, ccd 1 is located at:\n",
    "\n",
    "    s3://stpubdata/tess/public/mast/tess-s0011-4-1-cube.fits\n",
    "\n",
    "Caution: these files are typically very large (>100GB). They are not intended to be downloaded in full.  Instead, MAST has created the [astrocut](https://astrocut.readthedocs.io) Python package which enables users to download the exact parts of the cubes that are required to create a Target Pixel File cutout."
   ]
  },
  {
   "cell_type": "markdown",
   "id": "metric-wiring",
   "metadata": {},
   "source": [
    "## Example: obtaining TESS cutouts from S3-hosted cubes using `astrocut`\n",
    "\n",
    "### Installing astrocut with S3 support enabled\n",
    "\n",
    "To obtain cutouts from the TESS cube files hosted in AWS S3, you will need to install an experimental branch of `astrocut` which has been designed to read data from the cloud.  This branch can be installed as follows:\n",
    "\n",
    "    !pip install git+https://github.com/spacetelescope/astrocut.git@s3-support\n",
    "\n",
    "If you are running a notebook in the TESS Environment kernel on the TIKE platform, you will need to replace the existing installation of `astrocut` as follows:"
   ]
  },
  {
   "cell_type": "code",
   "execution_count": null,
   "id": "intense-bible",
   "metadata": {},
   "outputs": [],
   "source": [
    "!rm -r /opt/conda/envs/tess/lib/python3.8/site-packages/astrocut\n",
    "!pip install git+https://github.com/spacetelescope/astrocut.git@s3-support \\\n",
    "    --target=/opt/conda/envs/tess/lib/python3.8/site-packages/ --quiet"
   ]
  },
  {
   "cell_type": "markdown",
   "id": "cultural-midwest",
   "metadata": {},
   "source": [
    "Don't worry, this command will only modify the TESS Environment temporarily. You can restore the environment into its original state at any time by restarting the virtual server that runs your personal instance of TIKE\n",
    "(via <span style=\"font-variant:small-caps;\">file \u203a hub control panel</span>). This will happen automatically after ~1 hour of inactivity. If you wish to create a custom environment that persists instead, see [how to install extra software](extra-software.md#Creating-a-new-Python-environment)."
   ]
  },
  {
   "cell_type": "markdown",
   "id": "processed-minority",
   "metadata": {},
   "source": [
    "You can verify success by checking the astrocut version number, which should show v0.10 or later:"
   ]
  },
  {
   "cell_type": "code",
   "execution_count": null,
   "id": "tribal-celebration",
   "metadata": {},
   "outputs": [],
   "source": [
    "import astrocut\n",
    "astrocut.__version__"
   ]
  },
  {
   "cell_type": "markdown",
   "id": "stuck-victim",
   "metadata": {},
   "source": [
    "### Obtaining a cutout\n",
    "\n",
    "First, we need to define an AstroPy SkyCoord object that defines the location of the cutout:"
   ]
  },
  {
   "cell_type": "code",
   "execution_count": null,
   "id": "primary-massage",
   "metadata": {},
   "outputs": [],
   "source": [
    "from astropy.coordinates import SkyCoord\n",
    "target_crd = SkyCoord.from_name(\"Pi Men\")"
   ]
  },
  {
   "cell_type": "markdown",
   "id": "accepted-thumb",
   "metadata": {},
   "source": [
    "We also need to define which astrocut cube we want to extract a cutout from:"
   ]
  },
  {
   "cell_type": "code",
   "execution_count": null,
   "id": "abandoned-assumption",
   "metadata": {},
   "outputs": [],
   "source": [
    "sector, camera, ccd = 27, 3, 3\n",
    "cube_file = f\"s3://stpubdata/tess/public/mast/tess-s{sector:04d}-{camera}-{ccd}-cube.fits\""
   ]
  },
  {
   "cell_type": "markdown",
   "id": "complimentary-found",
   "metadata": {},
   "source": [
    "Then, we can use the astrocut's `CutoutFactory` to create the cutout:"
   ]
  },
  {
   "cell_type": "code",
   "execution_count": null,
   "id": "hungarian-split",
   "metadata": {},
   "outputs": [],
   "source": [
    "# The S3 feature requires nest_asyncio to work in a notebook environment\n",
    "import nest_asyncio\n",
    "nest_asyncio.apply()\n",
    "\n",
    "from astrocut import CutoutFactory\n",
    "factory = CutoutFactory()\n",
    "factory.cube_cut(cube_file,\n",
    "                 coordinates=target_crd,\n",
    "                 cutout_size=11,\n",
    "                 target_pixel_file=\"astrocut-result.fits\")"
   ]
  },
  {
   "cell_type": "markdown",
   "id": "sustainable-message",
   "metadata": {},
   "source": [
    "Finally, we can plot or analyze the resulting Target Pixel File using Lightkurve as follows:"
   ]
  },
  {
   "cell_type": "code",
   "execution_count": null,
   "id": "boxed-romania",
   "metadata": {},
   "outputs": [],
   "source": [
    "import lightkurve as lk\n",
    "tpf = lk.read(\"astrocut-result.fits\")\n",
    "tpf.plot();"
   ]
  },
  {
   "cell_type": "markdown",
   "id": "wooden-blast",
   "metadata": {},
   "source": [
    "Success!\n",
    "\n",
    "## Why didn't you simply use TESSCut in this example?\n",
    "\n",
    "Although we could have obtained an identical cutout via the traditional TESSCut interfaces, the method demonstrated here can be used to request much larger numbers of cutouts at the same time. This is because the method demonstrated here reads the required pixel values directly from AWS S3 storage, rather than asking MAST's servers to do this for you. As a result, the number and the size of the cutouts that can be retrieved in this way is only limited by the performance of the server running this Python code, and its bandwidth to transfer data from AWS S3. When running this code in a large virtual machine in the Amazon cloud, e.g. using the TIKE platform, it is likely that hundreds of cutouts can be created in parallel."
   ]
  }
 ],
 "metadata": {
  "kernelspec": {
   "display_name": "TESS Environment",
   "language": "python",
   "name": "tess"
  },
  "language_info": {
   "codemirror_mode": {
    "name": "ipython",
    "version": 3
   },
   "file_extension": ".py",
   "mimetype": "text/x-python",
   "name": "python",
   "nbconvert_exporter": "python",
   "pygments_lexer": "ipython3",
   "version": "3.8.6"
  }
 },
 "nbformat": 4,
 "nbformat_minor": 5
}