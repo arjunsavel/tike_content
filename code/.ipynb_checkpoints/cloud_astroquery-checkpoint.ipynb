{
 "cells": [
  {
   "cell_type": "markdown",
   "metadata": {},
   "source": [
    "# Using Cloud-Hosted Data\n",
    "\n",
    "All of the TESS, Kepler and K2 science data are available in an S3 public bucket.  Astroquery allows you to easily change your code to first try to retrieve the data from the AWS cloud-hosted version before attempting to retrieve it from MAST.\n",
    "\n",
    "In this tutorial you will learn:\n",
    " - How to retrieve data from the public bucket using astroquery.\n",
    " - How to specify your AWS credentials.\n",
    " - How to retrieve the directory listing of the contents of the bucket."
   ]
  },
  {
   "cell_type": "markdown",
   "metadata": {},
   "source": [
    "## Enable Cloud Dataset\n",
    "To make astroquery retrieve data from the AWS public buckets, do the following:"
   ]
  },
  {
   "cell_type": "code",
   "execution_count": 2,
   "metadata": {},
   "outputs": [
    {
     "name": "stdout",
     "output_type": "stream",
     "text": [
      "INFO: Using the S3 STScI public dataset [astroquery.mast.core]\n",
      "INFO: See Request Pricing in https://aws.amazon.com/s3/pricing/ for details [astroquery.mast.core]\n",
      "INFO: If you have not configured boto3, follow the instructions here: https://boto3.readthedocs.io/en/latest/guide/configuration.html [astroquery.mast.core]\n"
     ]
    },
    {
     "name": "stderr",
     "output_type": "stream",
     "text": [
      "WARNING: Your AWS account will be charged for access to the S3 bucket [astroquery.mast.core]\n"
     ]
    }
   ],
   "source": [
    "from astroquery.mast import Observations\n",
    "Observations.enable_cloud_dataset(provider='AWS', profile='default')"
   ]
  },
  {
   "cell_type": "markdown",
   "metadata": {},
   "source": [
    "The `astroquery.mast.Observations` module contains a method called `enable_cloud_dataset`.  When this method is called, the code first attempts to retrieve the data from the cloud.\n",
    "\n",
    "Here is a full example to download a TESS light curve with Astroquery for Kepler-10. See the Astroquery notebooks for more details on finding MAST data with astroquery. "
   ]
  },
  {
   "cell_type": "code",
   "execution_count": 10,
   "metadata": {},
   "outputs": [
    {
     "name": "stdout",
     "output_type": "stream",
     "text": [
      "INFO: Using the S3 STScI public dataset [astroquery.mast.core]\n",
      "INFO: See Request Pricing in https://aws.amazon.com/s3/pricing/ for details [astroquery.mast.core]\n",
      "INFO: If you have not configured boto3, follow the instructions here: https://boto3.readthedocs.io/en/latest/guide/configuration.html [astroquery.mast.core]\n"
     ]
    },
    {
     "name": "stderr",
     "output_type": "stream",
     "text": [
      "WARNING: Your AWS account will be charged for access to the S3 bucket [astroquery.mast.core]\n"
     ]
    },
    {
     "name": "stdout",
     "output_type": "stream",
     "text": [
      "Downloading URL s3://stpubdata/tess/public/tid/s0014/0000/0003/7778/0790/tess2019198215352-s0014-0000000377780790-0150-s_lc.fits to ./mastDownload/TESS/tess2019198215352-s0014-0000000377780790-0150-s/tess2019198215352-s0014-0000000377780790-0150-s_lc.fits ... [Done]\n",
      "Downloading URL s3://stpubdata/tess/public/tid/s0014/0000/0003/7778/0790/tess2019198215352-s0014-0000000377780790-0150-s_tp.fits to ./mastDownload/TESS/tess2019198215352-s0014-0000000377780790-0150-s/tess2019198215352-s0014-0000000377780790-0150-s_tp.fits ... [Done]\n",
      "                                                         Local Path                                                         ...\n",
      "--------------------------------------------------------------------------------------------------------------------------- ...\n",
      "./mastDownload/TESS/tess2019198215352-s0014-0000000377780790-0150-s/tess2019198215352-s0014-0000000377780790-0150-s_lc.fits ...\n",
      "./mastDownload/TESS/tess2019198215352-s0014-0000000377780790-0150-s/tess2019198215352-s0014-0000000377780790-0150-s_tp.fits ...\n"
     ]
    }
   ],
   "source": [
    "from astroquery.mast import Observations\n",
    "Observations.enable_cloud_dataset(provider='AWS', profile='default')\n",
    "\n",
    "target = \"Kepler-10\"\n",
    "\n",
    "#Do a cone search and find the Kepler long cadence data for your target\n",
    "obs = Observations.query_object(target,radius=\"0s\")\n",
    "want = (obs['obs_collection'] == \"TESS\") & (obs['t_exptime'] ==120)\n",
    "\n",
    "#Get Product List for that observation\n",
    "data_prod = Observations.get_product_list(obs[want])\n",
    "\n",
    "#Move data from the S3 bucket to the default astroquery location. \n",
    "#cloud_only=True means that data will only be retrieved if available on AWS S3\n",
    "manifest = Observations.download_products(data_prod, cloud_only=True)\n",
    "\n",
    "print(manifest)"
   ]
  },
  {
   "cell_type": "code",
   "execution_count": 11,
   "metadata": {},
   "outputs": [
    {
     "ename": "AttributeError",
     "evalue": "'ObservationsClass' object has no attribute 'Observations'",
     "output_type": "error",
     "traceback": [
      "\u001b[0;31m---------------------------------------------------------------------------\u001b[0m",
      "\u001b[0;31mAttributeError\u001b[0m                            Traceback (most recent call last)",
      "\u001b[0;32m<ipython-input-11-42b14f54fba8>\u001b[0m in \u001b[0;36m<module>\u001b[0;34m()\u001b[0m\n\u001b[1;32m      1\u001b[0m \u001b[0;31m#Get cloud URIs\u001b[0m\u001b[0;34m\u001b[0m\u001b[0;34m\u001b[0m\u001b[0;34m\u001b[0m\u001b[0m\n\u001b[0;32m----> 2\u001b[0;31m \u001b[0mdata_uri\u001b[0m \u001b[0;34m=\u001b[0m \u001b[0mObservations\u001b[0m\u001b[0;34m.\u001b[0m\u001b[0mObservations\u001b[0m\u001b[0;34m.\u001b[0m\u001b[0mget_cloud_uris\u001b[0m\u001b[0;34m(\u001b[0m\u001b[0mdata_prod\u001b[0m\u001b[0;34m)\u001b[0m\u001b[0;34m\u001b[0m\u001b[0;34m\u001b[0m\u001b[0m\n\u001b[0m\u001b[1;32m      3\u001b[0m \u001b[0;34m\u001b[0m\u001b[0m\n\u001b[1;32m      4\u001b[0m \u001b[0mprint\u001b[0m\u001b[0;34m(\u001b[0m\u001b[0mdata_uri\u001b[0m\u001b[0;34m)\u001b[0m\u001b[0;34m\u001b[0m\u001b[0;34m\u001b[0m\u001b[0m\n",
      "\u001b[0;31mAttributeError\u001b[0m: 'ObservationsClass' object has no attribute 'Observations'"
     ]
    }
   ],
   "source": [
    "#Get cloud URIs\n",
    "data_uri = Observations.get_cloud_uris(data_prod)\n",
    "\n",
    "print(data_uri)"
   ]
  },
  {
   "cell_type": "markdown",
   "metadata": {},
   "source": [
    "## AWS Credentials\n",
    "You may specify which profile in your aws credentials file you would like to use in order to ensure the correct account is charged. When on the MAST platform you do not need to set the profile as all data is in the same region as the computer and so the access is free.\n",
    "\n",
    "You can also specify them using"
   ]
  },
  {
   "cell_type": "markdown",
   "metadata": {},
   "source": [
    "## Manifest Files\n",
    "\n",
    "Sometimes it is useful to be able to peruse the contents of the directories. S3 does not allow you to do that easily. The public buckets include a manifest. You can directly use the AWS module `boto3` to request the manifest file. \n",
    "\n",
    "Here is an example for TESS where it transfers the file to a file called tess-manifest.txt.gz. The manifest file in the bucket is called tess/public/manifest.txt.gz where 'stpubdata' is the name of the bucket. "
   ]
  },
  {
   "cell_type": "code",
   "execution_count": 8,
   "metadata": {},
   "outputs": [],
   "source": [
    "import boto3\n",
    "\n",
    "s3 = boto3.resource('s3')\n",
    "bucket = s3.Bucket('stpubdata')\n",
    "bucket.download_file(\"tess/public/manifest.txt.gz\", \"tess-manifest.txt.gz\", ExtraArgs = {\"RequestPayer\" : \"requester\"})"
   ]
  },
  {
   "cell_type": "code",
   "execution_count": null,
   "metadata": {},
   "outputs": [],
   "source": []
  },
  {
   "cell_type": "code",
   "execution_count": null,
   "metadata": {},
   "outputs": [],
   "source": []
  }
 ],
 "metadata": {
  "kernelspec": {
   "display_name": "Python 3",
   "language": "python",
   "name": "python3"
  },
  "language_info": {
   "codemirror_mode": {
    "name": "ipython",
    "version": 3
   },
   "file_extension": ".py",
   "mimetype": "text/x-python",
   "name": "python",
   "nbconvert_exporter": "python",
   "pygments_lexer": "ipython3",
   "version": "3.7.3"
  }
 },
 "nbformat": 4,
 "nbformat_minor": 4
}
