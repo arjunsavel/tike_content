{
 "cells": [
  {
   "cell_type": "markdown",
   "metadata": {},
   "source": [
    "# Introduction to STScI Data in AWS\n",
    "### This notebook shows how to locate and obtain data from STScI's AWS public datasets. These files are free to download and access, which does not require AWS credentials."
   ]
  },
  {
   "cell_type": "code",
   "execution_count": null,
   "metadata": {},
   "outputs": [],
   "source": [
    "import s3fs   #s3fs is a simple Python interface to the AWS S3 service.\n",
    "import astroquery   #Astroquery is a Python interface to multiple astronomical archives and data services, including MAST and MAST AWS Public Data"
   ]
  },
  {
   "cell_type": "markdown",
   "metadata": {},
   "source": [
    "### STScI's AWS public data are stored in AWS S3 buckets, which can be accessed with various client libraries depending on your preferred mode of searching for and obtaining files. See https://registry.opendata.aws/collab/stsci/ for more details.\n",
    "### First, we use S3FS to list the directories and files associated with the TESS mission data."
   ]
  },
  {
   "cell_type": "code",
   "execution_count": null,
   "metadata": {},
   "outputs": [],
   "source": [
    "fs = s3fs.S3FileSystem(anon=True)\n",
    "print(s3fs.__version__)\n",
    "fs.ls('s3://stpubdata/tess/public/',refresh=True)"
   ]
  },
  {
   "cell_type": "markdown",
   "metadata": {},
   "source": [
    "### TESS mission data are organized under a directory structure type/sector/year/day/camera-chip"
   ]
  },
  {
   "cell_type": "code",
   "execution_count": null,
   "metadata": {},
   "outputs": [],
   "source": [
    "#list data files\n",
    "fs.ls('s3://stpubdata/tess/public/ffi/s0010/2019/085/1-4/',refresh=True)"
   ]
  },
  {
   "cell_type": "code",
   "execution_count": null,
   "metadata": {},
   "outputs": [],
   "source": [
    "#last modified\n",
    "fs.modified('s3://stpubdata/tess/public/mast/tess-s0034-3-1-cube.fits',refresh=True)"
   ]
  },
  {
   "cell_type": "code",
   "execution_count": null,
   "metadata": {},
   "outputs": [],
   "source": [
    "#display file size in MB\n",
    "size=fs.du('s3://stpubdata/tess/public/ffi/s0031/2020/294/4-1/tess2020294194027-s0031-vrow-4-1-c-0198-a_fast-col.fits')/1024/1024\n",
    "print(size)"
   ]
  },
  {
   "cell_type": "code",
   "execution_count": null,
   "metadata": {},
   "outputs": [],
   "source": [
    "#Obtain a file locally\n",
    "f=fs.get('s3://stpubdata/tess/public/ffi/s0031/2020/294/4-1/tess2020294194027-s0031-vrow-4-1-c-0198-a_fast-col.fits','tess_test.fits')"
   ]
  },
  {
   "cell_type": "markdown",
   "metadata": {},
   "source": [
    "### Some auxiliary data is available, including cubes created by MAST for services such as TESScut "
   ]
  },
  {
   "cell_type": "code",
   "execution_count": null,
   "metadata": {},
   "outputs": [],
   "source": [
    "#list TESSCut Cube FITS files in AWS\n",
    "fs.ls('s3://stpubdata/tess/public/mast/',refresh=True)"
   ]
  },
  {
   "cell_type": "markdown",
   "metadata": {},
   "source": [
    "## We can also use astroquery.MAST to search and filter data products, return the S3 paths, and download them.\n",
    "## For astroquery >= 0.4.2, no AWS account is required."
   ]
  },
  {
   "cell_type": "code",
   "execution_count": null,
   "metadata": {},
   "outputs": [],
   "source": [
    "from astroquery.mast import Observations\n",
    "\n",
    "#Identify a few Sector 10 FFIs\n",
    "obsTable = Observations.query_criteria(obs_id=f\"tess-s0010-4-1\")\n",
    "products = Observations.get_product_list(obsTable)\n",
    "filtered = Observations.filter_products(products[0:10], \n",
    "                                        productSubGroupDescription=\"FFIC\",\n",
    "                                        mrp_only=False)\n",
    "f\"Found {len(filtered)} products\"\n"
   ]
  },
  {
   "cell_type": "code",
   "execution_count": null,
   "metadata": {},
   "outputs": [],
   "source": [
    "#Return the AWS S3 locations (URIs)\n",
    "Observations.enable_cloud_dataset(provider='AWS')\n",
    "uris = Observations.get_cloud_uris(filtered)\n",
    "print(uris[0])"
   ]
  },
  {
   "cell_type": "code",
   "execution_count": null,
   "metadata": {},
   "outputs": [],
   "source": [
    "#Download a few example products\n",
    "manifest = Observations.download_products(products[0:2], cloud_only=True)"
   ]
  },
  {
   "cell_type": "code",
   "execution_count": null,
   "metadata": {},
   "outputs": [],
   "source": [
    "#Print local file location\n",
    "print(manifest)"
   ]
  },
  {
   "cell_type": "code",
   "execution_count": null,
   "metadata": {},
   "outputs": [],
   "source": []
  }
 ],
 "metadata": {
  "kernelspec": {
   "display_name": "Python 3",
   "language": "python",
   "name": "python3"
  },
  "language_info": {
   "codemirror_mode": {
    "name": "ipython",
    "version": 3
   },
   "file_extension": ".py",
   "mimetype": "text/x-python",
   "name": "python",
   "nbconvert_exporter": "python",
   "pygments_lexer": "ipython3",
   "version": "3.6.12"
  }
 },
 "nbformat": 4,
 "nbformat_minor": 4
}
