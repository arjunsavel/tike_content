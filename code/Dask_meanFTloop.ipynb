{
 "cells": [
  {
   "cell_type": "markdown",
   "metadata": {},
   "source": [
    "# Using Dask to Parallelize Code\n",
    "This is a basic example using TESS data which shows how to use Dask to parallelize your code. In this case we want to do the same operation on the data for many target stars.  It is easy to parellelize because the operations on each target are independent of each other. Our function will obtain a light curve, take a periodogram, and return the average power (a value that correlates with the noise of the light curve).  For more information, see the [Dask documentation](https://docs.dask.org/).\n",
    "\n",
    "This example aims to teach:\n",
    "* The Dask Dashboard\n",
    "* Dask persist to execute a loop across 4 threads.\n",
    "\n",
    "This example relies on the following modules:\n",
    "* lightkurve to obtain the data and take a periodogram\n",
    "* astroquery to collect a series of targets\n",
    "* numpy for array operations\n",
    "* matplotlib to plot the results\n",
    "* Dask and Dask Client to paralellize the code"
   ]
  },
  {
   "cell_type": "code",
   "execution_count": 1,
   "metadata": {},
   "outputs": [],
   "source": [
    "import lightkurve as lk\n",
    "from astroquery.mast import Observations\n",
    "from astroquery.mast import Catalogs\n",
    "from astropy.io import fits\n",
    "import astropy.units as u\n",
    "import numpy as np\n",
    "import dask\n",
    "from dask.distributed import Client, progress\n"
   ]
  },
  {
   "cell_type": "markdown",
   "metadata": {},
   "source": [
    "## Dask Client\n",
    "The Dask client provides a dashboard in order to observe how far along it is processing your requests. After running the client, click on the dashboard url to load the dashboard."
   ]
  },
  {
   "cell_type": "code",
   "execution_count": 2,
   "metadata": {},
   "outputs": [
    {
     "name": "stderr",
     "output_type": "stream",
     "text": [
      "/Users/smullally/anaconda/envs/python37/lib/python3.7/site-packages/distributed/node.py:244: UserWarning: Port 8787 is already in use.\n",
      "Perhaps you already have a cluster running?\n",
      "Hosting the HTTP server on port 57035 instead\n",
      "  http_address[\"port\"], self.http_server.port\n"
     ]
    },
    {
     "data": {
      "text/html": [
       "<table style=\"border: 2px solid white;\">\n",
       "<tr>\n",
       "<td style=\"vertical-align: top; border: 0px solid white\">\n",
       "<h3 style=\"text-align: left;\">Client</h3>\n",
       "<ul style=\"text-align: left; list-style: none; margin: 0; padding: 0;\">\n",
       "  <li><b>Scheduler: </b>tcp://127.0.0.1:57036</li>\n",
       "  <li><b>Dashboard: </b><a href='http://127.0.0.1:57035/status' target='_blank'>http://127.0.0.1:57035/status</a></li>\n",
       "</ul>\n",
       "</td>\n",
       "<td style=\"vertical-align: top; border: 0px solid white\">\n",
       "<h3 style=\"text-align: left;\">Cluster</h3>\n",
       "<ul style=\"text-align: left; list-style:none; margin: 0; padding: 0;\">\n",
       "  <li><b>Workers: </b>1</li>\n",
       "  <li><b>Cores: </b>4</li>\n",
       "  <li><b>Memory: </b>17.18 GB</li>\n",
       "</ul>\n",
       "</td>\n",
       "</tr>\n",
       "</table>"
      ],
      "text/plain": [
       "<Client: 'tcp://127.0.0.1:57036' processes=1 threads=4, memory=17.18 GB>"
      ]
     },
     "execution_count": 2,
     "metadata": {},
     "output_type": "execute_result"
    }
   ],
   "source": [
    "client = Client(threads_per_worker=4, n_workers=1)\n",
    "client"
   ]
  },
  {
   "cell_type": "markdown",
   "metadata": {},
   "source": [
    "## Define the Function\n",
    "Our function gets the average of the periodogram between 200 and 400 microHertz after flattening the TESS PDC light curve. The function also gets the TESS magnitude of the star from the TIC. Both values are returned by the function."
   ]
  },
  {
   "cell_type": "code",
   "execution_count": 3,
   "metadata": {},
   "outputs": [],
   "source": [
    "\n",
    "def get_avgFT_tmag(obs):\n",
    "    \n",
    "    ticid = obs['target_name']\n",
    "    sector = obs['sequence_number']\n",
    "    try:\n",
    "        lc = lk.search_lightcurvefile(\"TIC %u\"%int(ticid), sector=sector).download().PDCSAP_FLUX.remove_nans().remove_outliers()\n",
    "        flat = lc.flatten(window_length=121,return_trend=False).normalize()\n",
    "        pg = flat.to_periodogram(freq_unit=u.microHertz, maximum_frequency=400, minimum_frequency=200)\n",
    "        avg = np.mean(pg.power)\n",
    "        target = Catalogs.query_object(\"TIC %u\"%int(ticid), radius=0.01, catalog=\"TIC\")\n",
    "        tmag = target[0]['Tmag']\n",
    "    except:\n",
    "        avg = -99\n",
    "        tmag = -99\n",
    "        \n",
    "\n",
    "    return avg, tmag"
   ]
  },
  {
   "cell_type": "markdown",
   "metadata": {},
   "source": [
    "## Get a List of Targets\n",
    "Get a list of TIC IDs with 2 minute data in one sector. There sHould be 20,000 of these. `query_criteria` is an astroquery call that returns observations from MAST. Here we ask for those from sector 14 with time series data."
   ]
  },
  {
   "cell_type": "code",
   "execution_count": 4,
   "metadata": {},
   "outputs": [
    {
     "data": {
      "text/plain": [
       "20000"
      ]
     },
     "execution_count": 4,
     "metadata": {},
     "output_type": "execute_result"
    }
   ],
   "source": [
    "obs = Observations.query_criteria(obs_collection='TESS', sequence_number=[14], dataproduct_type=\"timeseries\")\n",
    "len(obs)"
   ]
  },
  {
   "cell_type": "markdown",
   "metadata": {},
   "source": [
    "Run the function on one target and time it.\n"
   ]
  },
  {
   "cell_type": "code",
   "execution_count": 5,
   "metadata": {},
   "outputs": [
    {
     "name": "stdout",
     "output_type": "stream",
     "text": [
      "CPU times: user 1.25 s, sys: 88.5 ms, total: 1.34 s\n",
      "Wall time: 2.99 s\n"
     ]
    }
   ],
   "source": [
    "%%time\n",
    "\n",
    "avg_power,tmag = get_avgFT_tmag(obs[1])"
   ]
  },
  {
   "cell_type": "code",
   "execution_count": 6,
   "metadata": {},
   "outputs": [
    {
     "name": "stdout",
     "output_type": "stream",
     "text": [
      "4.309347457860918e-05 11.8808\n"
     ]
    }
   ],
   "source": [
    "print(avg_power,tmag)"
   ]
  },
  {
   "cell_type": "markdown",
   "metadata": {},
   "source": [
    "## Dask Delayed\n",
    "Here we setup Dask by telling it what we want to run. By using `dask.delayed(function_name)(input)` we just are putting together a list of the instructions we want to run. Nothing runs here. The variable lazy_results is a list containing the output of `dask.delayed`."
   ]
  },
  {
   "cell_type": "code",
   "execution_count": 7,
   "metadata": {},
   "outputs": [],
   "source": [
    "lazy_results = []\n",
    "\n",
    "for aobs in obs[0:10]:\n",
    "    result = dask.delayed(get_avgFT_tmag)(aobs)\n",
    "    lazy_results.append(result)"
   ]
  },
  {
   "cell_type": "code",
   "execution_count": 8,
   "metadata": {},
   "outputs": [
    {
     "name": "stdout",
     "output_type": "stream",
     "text": [
      "[Delayed('get_avgFT_tmag-fea63348-efb9-4914-aeb6-255ddae0b4f3'), Delayed('get_avgFT_tmag-119b4c05-ea26-4e54-9e4b-3f53e30eff95')]\n"
     ]
    }
   ],
   "source": [
    "#lazy_results just contains the instructions of what to run\n",
    "print(lazy_results[0:2])"
   ]
  },
  {
   "cell_type": "markdown",
   "metadata": {},
   "source": [
    "### Dask Persist and Visit Dashboard\n",
    "The next line computes the function in the background using `dask.persist`.  \n",
    "Execute the line and then check on the Dashboard to see how far along it is. Status shows you what your workers are doing and Graph give you a sense as to how far along in the process you are. When they all turn red, it is done running."
   ]
  },
  {
   "cell_type": "code",
   "execution_count": 9,
   "metadata": {},
   "outputs": [],
   "source": [
    "futures = dask.persist(lazy_results)  #Triggers computation in the background"
   ]
  },
  {
   "cell_type": "markdown",
   "metadata": {},
   "source": [
    "If on the cloud and have more workers available, you might consider adding the line:\n",
    "`client.cluster.scale(10)`"
   ]
  },
  {
   "cell_type": "markdown",
   "metadata": {},
   "source": [
    "### Dask Compute\n",
    "Finally to get the answers out use `dask.compute`\n",
    "The python functions map and lambda help us loop over the answers to store them into a list of values for each variable returned by our function."
   ]
  },
  {
   "cell_type": "code",
   "execution_count": 10,
   "metadata": {},
   "outputs": [],
   "source": [
    "answers = dask.compute(*futures)"
   ]
  },
  {
   "cell_type": "code",
   "execution_count": 11,
   "metadata": {},
   "outputs": [],
   "source": [
    "avg_pk = list (map (lambda x : x[0], answers[0] ) )\n",
    "tmags = list (map (lambda x : x[1], answers[0] ) )"
   ]
  },
  {
   "cell_type": "markdown",
   "metadata": {},
   "source": [
    "## Plot Results\n",
    "Then we can plot our restuls.\n",
    "If satisfied and have the time you could compute this across all 20,000.\n",
    "On my laptop it took about 1 minute to run 100 across the 4 workers. About a factor of four improvement in time."
   ]
  },
  {
   "cell_type": "code",
   "execution_count": 12,
   "metadata": {},
   "outputs": [
    {
     "data": {
      "text/plain": [
       "Text(0, 0.5, 'Log10 Average FT Amplitude')"
      ]
     },
     "execution_count": 12,
     "metadata": {},
     "output_type": "execute_result"
    },
    {
     "data": {
      "image/png": "[encoded data removed]",
      "text/plain": [
       "<Figure size 432x288 with 1 Axes>"
      ]
     },
     "metadata": {
      "needs_background": "light"
     },
     "output_type": "display_data"
    }
   ],
   "source": [
    "import matplotlib.pyplot as plt\n",
    "plt.figure()\n",
    "plt.plot(tmags,np.log10(avg_pk),'o')\n",
    "plt.xlabel('TESS Magnitudes')\n",
    "plt.ylabel('Log10 Average FT Amplitude')\n",
    "#plt.ylim(0,.002)"
   ]
  },
  {
   "cell_type": "markdown",
   "metadata": {},
   "source": [
    "You should see that the majority of stars follow a curve with larger average FT amplitude for larger TESS magnitude."
   ]
  },
  {
   "cell_type": "markdown",
   "metadata": {},
   "source": [
    "----"
   ]
  },
  {
   "cell_type": "markdown",
   "metadata": {},
   "source": [
    "author: Susan E. Mullally\n",
    "\n",
    "Date: May 7, 2020"
   ]
  },
  {
   "cell_type": "markdown",
   "metadata": {},
   "source": [
    "Think about what the function is doing"
   ]
  }
 ],
 "metadata": {
  "kernelspec": {
   "display_name": "Python 3",
   "language": "python",
   "name": "python3"
  },
  "language_info": {
   "codemirror_mode": {
    "name": "ipython",
    "version": 3
   },
   "file_extension": ".py",
   "mimetype": "text/x-python",
   "name": "python",
   "nbconvert_exporter": "python",
   "pygments_lexer": "ipython3",
   "version": "3.7.7"
  }
 },
 "nbformat": 4,
 "nbformat_minor": 4
}
